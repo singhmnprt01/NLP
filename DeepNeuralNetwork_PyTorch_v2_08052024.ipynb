{
 "cells": [
  {
   "cell_type": "code",
   "execution_count": 1,
   "metadata": {},
   "outputs": [],
   "source": [
    "# One Reference:\n",
    "#     https://github.com/Bjarten/early-stopping-pytorch/blob/master/MNIST_Early_Stopping_example.ipynb"
   ]
  },
  {
   "cell_type": "code",
   "execution_count": 1,
   "metadata": {},
   "outputs": [],
   "source": [
    "import torch\n",
    "import pandas  as pd\n",
    "import numpy as np\n",
    "\n",
    "from sklearn.model_selection import train_test_split\n"
   ]
  },
  {
   "cell_type": "code",
   "execution_count": 2,
   "metadata": {},
   "outputs": [
    {
     "data": {
      "text/plain": [
       "'c:\\\\Users\\\\manpresingh\\\\OneDrive - Microsoft\\\\Personal\\\\PyTorch_and_Advanced NLP'"
      ]
     },
     "execution_count": 2,
     "metadata": {},
     "output_type": "execute_result"
    }
   ],
   "source": [
    "import os\n",
    "os.getcwd()\n",
    "\n"
   ]
  },
  {
   "cell_type": "code",
   "execution_count": 3,
   "metadata": {},
   "outputs": [],
   "source": [
    "import pandas as pd\n",
    "\n",
    "data = pd.read_csv(\"c://Users/manpresingh/OneDrive - Microsoft/Personal/PyTorch_and_Advanced NLP/creditcard.csv\")"
   ]
  },
  {
   "cell_type": "code",
   "execution_count": 4,
   "metadata": {},
   "outputs": [
    {
     "data": {
      "text/plain": [
       "(284807, 31)"
      ]
     },
     "execution_count": 4,
     "metadata": {},
     "output_type": "execute_result"
    }
   ],
   "source": [
    "data.shape"
   ]
  },
  {
   "cell_type": "code",
   "execution_count": 5,
   "metadata": {},
   "outputs": [
    {
     "data": {
      "text/html": [
       "<div>\n",
       "<style scoped>\n",
       "    .dataframe tbody tr th:only-of-type {\n",
       "        vertical-align: middle;\n",
       "    }\n",
       "\n",
       "    .dataframe tbody tr th {\n",
       "        vertical-align: top;\n",
       "    }\n",
       "\n",
       "    .dataframe thead th {\n",
       "        text-align: right;\n",
       "    }\n",
       "</style>\n",
       "<table border=\"1\" class=\"dataframe\">\n",
       "  <thead>\n",
       "    <tr style=\"text-align: right;\">\n",
       "      <th></th>\n",
       "      <th>Time</th>\n",
       "      <th>V1</th>\n",
       "      <th>V2</th>\n",
       "      <th>V3</th>\n",
       "      <th>V4</th>\n",
       "      <th>V5</th>\n",
       "      <th>V6</th>\n",
       "      <th>V7</th>\n",
       "      <th>V8</th>\n",
       "      <th>V9</th>\n",
       "      <th>...</th>\n",
       "      <th>V21</th>\n",
       "      <th>V22</th>\n",
       "      <th>V23</th>\n",
       "      <th>V24</th>\n",
       "      <th>V25</th>\n",
       "      <th>V26</th>\n",
       "      <th>V27</th>\n",
       "      <th>V28</th>\n",
       "      <th>Amount</th>\n",
       "      <th>Class</th>\n",
       "    </tr>\n",
       "  </thead>\n",
       "  <tbody>\n",
       "    <tr>\n",
       "      <th>0</th>\n",
       "      <td>0.0</td>\n",
       "      <td>-1.359807</td>\n",
       "      <td>-0.072781</td>\n",
       "      <td>2.536347</td>\n",
       "      <td>1.378155</td>\n",
       "      <td>-0.338321</td>\n",
       "      <td>0.462388</td>\n",
       "      <td>0.239599</td>\n",
       "      <td>0.098698</td>\n",
       "      <td>0.363787</td>\n",
       "      <td>...</td>\n",
       "      <td>-0.018307</td>\n",
       "      <td>0.277838</td>\n",
       "      <td>-0.110474</td>\n",
       "      <td>0.066928</td>\n",
       "      <td>0.128539</td>\n",
       "      <td>-0.189115</td>\n",
       "      <td>0.133558</td>\n",
       "      <td>-0.021053</td>\n",
       "      <td>149.62</td>\n",
       "      <td>0</td>\n",
       "    </tr>\n",
       "    <tr>\n",
       "      <th>1</th>\n",
       "      <td>0.0</td>\n",
       "      <td>1.191857</td>\n",
       "      <td>0.266151</td>\n",
       "      <td>0.166480</td>\n",
       "      <td>0.448154</td>\n",
       "      <td>0.060018</td>\n",
       "      <td>-0.082361</td>\n",
       "      <td>-0.078803</td>\n",
       "      <td>0.085102</td>\n",
       "      <td>-0.255425</td>\n",
       "      <td>...</td>\n",
       "      <td>-0.225775</td>\n",
       "      <td>-0.638672</td>\n",
       "      <td>0.101288</td>\n",
       "      <td>-0.339846</td>\n",
       "      <td>0.167170</td>\n",
       "      <td>0.125895</td>\n",
       "      <td>-0.008983</td>\n",
       "      <td>0.014724</td>\n",
       "      <td>2.69</td>\n",
       "      <td>0</td>\n",
       "    </tr>\n",
       "    <tr>\n",
       "      <th>2</th>\n",
       "      <td>1.0</td>\n",
       "      <td>-1.358354</td>\n",
       "      <td>-1.340163</td>\n",
       "      <td>1.773209</td>\n",
       "      <td>0.379780</td>\n",
       "      <td>-0.503198</td>\n",
       "      <td>1.800499</td>\n",
       "      <td>0.791461</td>\n",
       "      <td>0.247676</td>\n",
       "      <td>-1.514654</td>\n",
       "      <td>...</td>\n",
       "      <td>0.247998</td>\n",
       "      <td>0.771679</td>\n",
       "      <td>0.909412</td>\n",
       "      <td>-0.689281</td>\n",
       "      <td>-0.327642</td>\n",
       "      <td>-0.139097</td>\n",
       "      <td>-0.055353</td>\n",
       "      <td>-0.059752</td>\n",
       "      <td>378.66</td>\n",
       "      <td>0</td>\n",
       "    </tr>\n",
       "    <tr>\n",
       "      <th>3</th>\n",
       "      <td>1.0</td>\n",
       "      <td>-0.966272</td>\n",
       "      <td>-0.185226</td>\n",
       "      <td>1.792993</td>\n",
       "      <td>-0.863291</td>\n",
       "      <td>-0.010309</td>\n",
       "      <td>1.247203</td>\n",
       "      <td>0.237609</td>\n",
       "      <td>0.377436</td>\n",
       "      <td>-1.387024</td>\n",
       "      <td>...</td>\n",
       "      <td>-0.108300</td>\n",
       "      <td>0.005274</td>\n",
       "      <td>-0.190321</td>\n",
       "      <td>-1.175575</td>\n",
       "      <td>0.647376</td>\n",
       "      <td>-0.221929</td>\n",
       "      <td>0.062723</td>\n",
       "      <td>0.061458</td>\n",
       "      <td>123.50</td>\n",
       "      <td>0</td>\n",
       "    </tr>\n",
       "    <tr>\n",
       "      <th>4</th>\n",
       "      <td>2.0</td>\n",
       "      <td>-1.158233</td>\n",
       "      <td>0.877737</td>\n",
       "      <td>1.548718</td>\n",
       "      <td>0.403034</td>\n",
       "      <td>-0.407193</td>\n",
       "      <td>0.095921</td>\n",
       "      <td>0.592941</td>\n",
       "      <td>-0.270533</td>\n",
       "      <td>0.817739</td>\n",
       "      <td>...</td>\n",
       "      <td>-0.009431</td>\n",
       "      <td>0.798278</td>\n",
       "      <td>-0.137458</td>\n",
       "      <td>0.141267</td>\n",
       "      <td>-0.206010</td>\n",
       "      <td>0.502292</td>\n",
       "      <td>0.219422</td>\n",
       "      <td>0.215153</td>\n",
       "      <td>69.99</td>\n",
       "      <td>0</td>\n",
       "    </tr>\n",
       "  </tbody>\n",
       "</table>\n",
       "<p>5 rows × 31 columns</p>\n",
       "</div>"
      ],
      "text/plain": [
       "   Time        V1        V2        V3        V4        V5        V6        V7  \\\n",
       "0   0.0 -1.359807 -0.072781  2.536347  1.378155 -0.338321  0.462388  0.239599   \n",
       "1   0.0  1.191857  0.266151  0.166480  0.448154  0.060018 -0.082361 -0.078803   \n",
       "2   1.0 -1.358354 -1.340163  1.773209  0.379780 -0.503198  1.800499  0.791461   \n",
       "3   1.0 -0.966272 -0.185226  1.792993 -0.863291 -0.010309  1.247203  0.237609   \n",
       "4   2.0 -1.158233  0.877737  1.548718  0.403034 -0.407193  0.095921  0.592941   \n",
       "\n",
       "         V8        V9  ...       V21       V22       V23       V24       V25  \\\n",
       "0  0.098698  0.363787  ... -0.018307  0.277838 -0.110474  0.066928  0.128539   \n",
       "1  0.085102 -0.255425  ... -0.225775 -0.638672  0.101288 -0.339846  0.167170   \n",
       "2  0.247676 -1.514654  ...  0.247998  0.771679  0.909412 -0.689281 -0.327642   \n",
       "3  0.377436 -1.387024  ... -0.108300  0.005274 -0.190321 -1.175575  0.647376   \n",
       "4 -0.270533  0.817739  ... -0.009431  0.798278 -0.137458  0.141267 -0.206010   \n",
       "\n",
       "        V26       V27       V28  Amount  Class  \n",
       "0 -0.189115  0.133558 -0.021053  149.62      0  \n",
       "1  0.125895 -0.008983  0.014724    2.69      0  \n",
       "2 -0.139097 -0.055353 -0.059752  378.66      0  \n",
       "3 -0.221929  0.062723  0.061458  123.50      0  \n",
       "4  0.502292  0.219422  0.215153   69.99      0  \n",
       "\n",
       "[5 rows x 31 columns]"
      ]
     },
     "execution_count": 5,
     "metadata": {},
     "output_type": "execute_result"
    }
   ],
   "source": [
    "data.head()"
   ]
  },
  {
   "cell_type": "code",
   "execution_count": 6,
   "metadata": {},
   "outputs": [],
   "source": [
    "features = ['V1', 'V2', 'V3', 'V4', 'V5', 'V6', 'V7', 'V8', 'V9', 'V10',\n",
    "       'V11', 'V12', 'V13', 'V14', 'V15', 'V16', 'V17', 'V18', 'V19', 'V20',\n",
    "       'V21', 'V22', 'V23', 'V24', 'V25', 'V26', 'V27', 'V28', 'Amount']\n",
    "target = ['Class']"
   ]
  },
  {
   "cell_type": "code",
   "execution_count": 7,
   "metadata": {},
   "outputs": [],
   "source": [
    "X = data[features]\n",
    "y = data[target]"
   ]
  },
  {
   "cell_type": "code",
   "execution_count": 8,
   "metadata": {},
   "outputs": [],
   "source": [
    "X_train, X_test, y_train, y_test = train_test_split(X, y, stratify=y, random_state=100, test_size=.3)"
   ]
  },
  {
   "cell_type": "code",
   "execution_count": 9,
   "metadata": {},
   "outputs": [
    {
     "data": {
      "text/plain": [
       "((199364, 29), (199364, 1))"
      ]
     },
     "execution_count": 9,
     "metadata": {},
     "output_type": "execute_result"
    }
   ],
   "source": [
    "X_train.shape, y_train.shape"
   ]
  },
  {
   "cell_type": "code",
   "execution_count": 10,
   "metadata": {},
   "outputs": [
    {
     "data": {
      "text/plain": [
       "Class\n",
       "0        199020\n",
       "1           344\n",
       "Name: count, dtype: int64"
      ]
     },
     "execution_count": 10,
     "metadata": {},
     "output_type": "execute_result"
    }
   ],
   "source": [
    "y_train.value_counts()"
   ]
  },
  {
   "cell_type": "code",
   "execution_count": 11,
   "metadata": {},
   "outputs": [
    {
     "data": {
      "text/plain": [
       "Class\n",
       "0        85295\n",
       "1          148\n",
       "Name: count, dtype: int64"
      ]
     },
     "execution_count": 11,
     "metadata": {},
     "output_type": "execute_result"
    }
   ],
   "source": [
    "y_test.value_counts()"
   ]
  },
  {
   "cell_type": "code",
   "execution_count": 12,
   "metadata": {},
   "outputs": [],
   "source": [
    "X_train.reset_index(drop=True, inplace=True)\n",
    "X_test.reset_index(drop=True, inplace=True)\n",
    "y_train.reset_index(drop=True, inplace=True)\n",
    "y_test.reset_index(drop=True, inplace=True)"
   ]
  },
  {
   "cell_type": "code",
   "execution_count": 50,
   "metadata": {},
   "outputs": [],
   "source": [
    "X_train_torch = torch.tensor(X_train.values, dtype=torch.float32)\n",
    "X_test_torch = torch.tensor(X_test.values, dtype=torch.float32)\n",
    "\n",
    "y_train_torch = torch.tensor(y_train.values, dtype=torch.float32)\n",
    "y_test_torch = torch.tensor(y_test.values, dtype=torch.float32)"
   ]
  },
  {
   "cell_type": "code",
   "execution_count": 51,
   "metadata": {},
   "outputs": [
    {
     "data": {
      "text/plain": [
       "(tensor([[0.],\n",
       "         [0.],\n",
       "         [0.],\n",
       "         ...,\n",
       "         [0.],\n",
       "         [0.],\n",
       "         [0.]]),\n",
       " tensor([[ 2.0535e+00, -1.4988e-01, -1.0922e+00,  ..., -7.5806e-02,\n",
       "          -6.3325e-02,  1.2900e+00],\n",
       "         [ 1.4948e-01,  1.1120e+00, -3.9154e-01,  ...,  2.2917e-01,\n",
       "           8.6294e-02,  2.6900e+00],\n",
       "         [ 2.1454e+00,  2.1524e-01, -2.2216e+00,  ..., -8.3225e-02,\n",
       "          -6.9468e-02,  4.5500e+00],\n",
       "         ...,\n",
       "         [ 9.8429e-01, -9.5187e-01,  7.6085e-01,  ...,  4.5741e-02,\n",
       "           6.1764e-02,  1.7000e+02],\n",
       "         [ 6.9952e-01, -1.5581e+00,  2.8675e-01,  ..., -6.5344e-02,\n",
       "           7.5715e-02,  3.3840e+02],\n",
       "         [-3.5129e-01,  1.1838e+00,  5.3079e-01,  ..., -3.7212e-02,\n",
       "          -4.7996e-01,  1.7900e+00]]))"
      ]
     },
     "execution_count": 51,
     "metadata": {},
     "output_type": "execute_result"
    }
   ],
   "source": [
    "y_train_torch, X_train_torch"
   ]
  },
  {
   "cell_type": "code",
   "execution_count": null,
   "metadata": {},
   "outputs": [],
   "source": []
  },
  {
   "cell_type": "code",
   "execution_count": 52,
   "metadata": {},
   "outputs": [],
   "source": [
    "train_dataset = torch.utils.data.TensorDataset(X_train_torch, y_train_torch)\n",
    "# or\n",
    "# This is method2:\n",
    "train_dataset2= list(zip(X_train_torch, y_train_torch))\n",
    "\n",
    "test_dataset = torch.utils.data.TensorDataset(X_test_torch, y_test_torch)"
   ]
  },
  {
   "cell_type": "code",
   "execution_count": 53,
   "metadata": {},
   "outputs": [],
   "source": [
    "train_sampler = torch.utils.data.sampler.SubsetRandomSampler(list(X_train.index))\n",
    "\n",
    "\n",
    "test_sampler = torch.utils.data.sampler.SubsetRandomSampler(list(X_test.index))"
   ]
  },
  {
   "cell_type": "code",
   "execution_count": 54,
   "metadata": {},
   "outputs": [],
   "source": [
    "train_dataloader = torch.utils.data.DataLoader(train_dataset2, batch_size=128,\n",
    "                                               sampler=train_sampler,\n",
    "                                               num_workers=0)\n",
    "\n",
    "test_dataloader = torch.utils.data.DataLoader(test_dataset, batch_size=128,\n",
    "                                              sampler=test_sampler,\n",
    "                                              num_workers=0)"
   ]
  },
  {
   "cell_type": "code",
   "execution_count": 55,
   "metadata": {},
   "outputs": [
    {
     "data": {
      "text/plain": [
       "torch.Size([199364, 29])"
      ]
     },
     "execution_count": 55,
     "metadata": {},
     "output_type": "execute_result"
    }
   ],
   "source": [
    "X_train_torch.shape"
   ]
  },
  {
   "cell_type": "code",
   "execution_count": 56,
   "metadata": {},
   "outputs": [
    {
     "data": {
      "text/plain": [
       "<torch.utils.data.dataset.Dataset at 0x231ccadadc0>"
      ]
     },
     "execution_count": 56,
     "metadata": {},
     "output_type": "execute_result"
    }
   ],
   "source": [
    "torch.utils.data.Dataset()"
   ]
  },
  {
   "cell_type": "code",
   "execution_count": 57,
   "metadata": {},
   "outputs": [],
   "source": [
    "class MyNetwork(torch.nn.Module):\n",
    "    def __init__(self, num_of_features, dropout_rate):\n",
    "        super(MyNetwork, self).__init__() \n",
    "        \n",
    "        self.linear1 = torch.nn.Linear(num_of_features, 256)\n",
    "        # self.batchnorm1 = torch.nn.BatchNorm1d(256)\n",
    "        self.relu1 = torch.nn.ReLU()\n",
    "        self.dropout1 = torch.nn.Dropout(dropout_rate/2)\n",
    "        \n",
    "        self.linear2 = torch.nn.Linear(256, 128)\n",
    "        # self.batchnorm2 = torch.nn.BatchNorm1d(128)\n",
    "        self.relu2 = torch.nn.ReLU()\n",
    "        self.dropout2 = torch.nn.Dropout(dropout_rate)\n",
    "        \n",
    "        # self.linear3 = torch.nn.Linear(512,256)        \n",
    "        # self.relu3 = torch.nn.ReLU()\n",
    "        # self.dropout3 = torch.nn.Dropout(dropout_rate) \n",
    "        \n",
    "        self.final_layer = torch.nn.Linear(128,1)\n",
    "\n",
    "    def forward(self,x_train):\n",
    "        x = self.linear1(x_train)\n",
    "        # x = self.batchnorm1(x)\n",
    "        x = self.relu1(x)\n",
    "        x = self.dropout1(x)\n",
    "        x = self.linear2(x)\n",
    "        # x = self.batchnorm1(x)\n",
    "        x = self.relu2(x)\n",
    "        x = self.relu2(x)\n",
    "        # x = self.linear3(x)\n",
    "        # x = self.relu3(x)\n",
    "        # x = self.dropout3(x)\n",
    "        x=self.final_layer(x)\n",
    "        pred = torch.sigmoid(x)\n",
    "        return pred\n"
   ]
  },
  {
   "cell_type": "code",
   "execution_count": 88,
   "metadata": {},
   "outputs": [],
   "source": [
    "mymodel = MyNetwork(29, .5)"
   ]
  },
  {
   "cell_type": "code",
   "execution_count": 89,
   "metadata": {},
   "outputs": [
    {
     "data": {
      "text/plain": [
       "MyNetwork(\n",
       "  (linear1): Linear(in_features=29, out_features=256, bias=True)\n",
       "  (relu1): ReLU()\n",
       "  (dropout1): Dropout(p=0.25, inplace=False)\n",
       "  (linear2): Linear(in_features=256, out_features=128, bias=True)\n",
       "  (relu2): ReLU()\n",
       "  (dropout2): Dropout(p=0.5, inplace=False)\n",
       "  (final_layer): Linear(in_features=128, out_features=1, bias=True)\n",
       ")"
      ]
     },
     "execution_count": 89,
     "metadata": {},
     "output_type": "execute_result"
    }
   ],
   "source": [
    "mymodel"
   ]
  },
  {
   "cell_type": "code",
   "execution_count": 90,
   "metadata": {},
   "outputs": [],
   "source": [
    "criterion = torch.nn.BCELoss()\n",
    "optim = torch.optim.Adam(mymodel.parameters(), lr=.001)"
   ]
  },
  {
   "cell_type": "code",
   "execution_count": 91,
   "metadata": {},
   "outputs": [
    {
     "data": {
      "text/plain": [
       "1558"
      ]
     },
     "execution_count": 91,
     "metadata": {},
     "output_type": "execute_result"
    }
   ],
   "source": [
    "n_total_steps = len(train_dataloader)\n",
    "n_total_steps"
   ]
  },
  {
   "cell_type": "code",
   "execution_count": 92,
   "metadata": {},
   "outputs": [],
   "source": [
    "import copy"
   ]
  },
  {
   "cell_type": "code",
   "execution_count": 93,
   "metadata": {},
   "outputs": [],
   "source": [
    "best_loss = float('inf')"
   ]
  },
  {
   "cell_type": "code",
   "execution_count": 96,
   "metadata": {},
   "outputs": [
    {
     "name": "stdout",
     "output_type": "stream",
     "text": [
      "1 of 10 ; step: 200 of 1558 ; Trainloss = 0.0008\n",
      "1 of 10 ; step: 400 of 1558 ; Trainloss = 0.0050\n",
      "1 of 10 ; step: 600 of 1558 ; Trainloss = 0.0001\n",
      "1 of 10 ; step: 800 of 1558 ; Trainloss = 0.0002\n",
      "1 of 10 ; step: 1000 of 1558 ; Trainloss = 0.2630\n",
      "1 of 10 ; step: 1200 of 1558 ; Trainloss = 0.0004\n",
      "1 of 10 ; step: 1400 of 1558 ; Trainloss = 0.0000\n",
      "========= Complete TestLoss = 0.0048\n",
      "\n",
      "========= Complete TestLoss = 0.0244\n",
      "\n",
      "2 of 10 ; step: 200 of 1558 ; Trainloss = 0.0003\n",
      "2 of 10 ; step: 400 of 1558 ; Trainloss = 0.0001\n",
      "2 of 10 ; step: 600 of 1558 ; Trainloss = 0.0003\n",
      "2 of 10 ; step: 800 of 1558 ; Trainloss = 0.0002\n",
      "2 of 10 ; step: 1000 of 1558 ; Trainloss = 0.0006\n",
      "2 of 10 ; step: 1200 of 1558 ; Trainloss = 0.0000\n",
      "2 of 10 ; step: 1400 of 1558 ; Trainloss = 0.0007\n",
      "========= Complete TestLoss = 0.0244\n",
      "\n",
      "========= Complete TestLoss = 0.0082\n",
      "\n",
      "3 of 10 ; step: 200 of 1558 ; Trainloss = 0.0001\n",
      "3 of 10 ; step: 400 of 1558 ; Trainloss = 0.0001\n",
      "3 of 10 ; step: 600 of 1558 ; Trainloss = 0.0001\n",
      "3 of 10 ; step: 800 of 1558 ; Trainloss = 0.0005\n",
      "3 of 10 ; step: 1000 of 1558 ; Trainloss = 0.0035\n",
      "3 of 10 ; step: 1200 of 1558 ; Trainloss = 0.0001\n",
      "3 of 10 ; step: 1400 of 1558 ; Trainloss = 0.0006\n",
      "========= Complete TestLoss = 0.0082\n",
      "\n",
      "========= Complete TestLoss = 0.0073\n",
      "\n",
      "4 of 10 ; step: 200 of 1558 ; Trainloss = 0.0000\n",
      "4 of 10 ; step: 400 of 1558 ; Trainloss = 0.0001\n",
      "4 of 10 ; step: 600 of 1558 ; Trainloss = 0.0003\n",
      "4 of 10 ; step: 800 of 1558 ; Trainloss = 0.0001\n",
      "4 of 10 ; step: 1000 of 1558 ; Trainloss = 0.0003\n",
      "4 of 10 ; step: 1200 of 1558 ; Trainloss = 0.0021\n",
      "4 of 10 ; step: 1400 of 1558 ; Trainloss = 0.0001\n",
      "========= Complete TestLoss = 0.0073\n",
      "\n",
      "========= Complete TestLoss = 0.0074\n",
      "\n",
      "5 of 10 ; step: 200 of 1558 ; Trainloss = 0.0003\n",
      "5 of 10 ; step: 400 of 1558 ; Trainloss = 0.0012\n",
      "5 of 10 ; step: 600 of 1558 ; Trainloss = 0.0002\n",
      "5 of 10 ; step: 800 of 1558 ; Trainloss = 0.0003\n",
      "5 of 10 ; step: 1000 of 1558 ; Trainloss = 0.0001\n",
      "5 of 10 ; step: 1200 of 1558 ; Trainloss = 0.0125\n",
      "5 of 10 ; step: 1400 of 1558 ; Trainloss = 0.0002\n",
      "========= Complete TestLoss = 0.0074\n",
      "\n",
      "========= Complete TestLoss = 0.0066\n",
      "\n",
      "6 of 10 ; step: 200 of 1558 ; Trainloss = 0.0002\n",
      "6 of 10 ; step: 400 of 1558 ; Trainloss = 0.0001\n",
      "6 of 10 ; step: 600 of 1558 ; Trainloss = 0.0000\n",
      "6 of 10 ; step: 800 of 1558 ; Trainloss = 0.7817\n",
      "6 of 10 ; step: 1000 of 1558 ; Trainloss = 0.0002\n",
      "6 of 10 ; step: 1200 of 1558 ; Trainloss = 0.0003\n",
      "6 of 10 ; step: 1400 of 1558 ; Trainloss = 0.0000\n",
      "========= Complete TestLoss = 0.0066\n",
      "\n",
      "========= Complete TestLoss = 0.0071\n",
      "\n",
      "7 of 10 ; step: 200 of 1558 ; Trainloss = 0.0000\n",
      "7 of 10 ; step: 400 of 1558 ; Trainloss = 0.0178\n",
      "7 of 10 ; step: 600 of 1558 ; Trainloss = 0.0032\n",
      "7 of 10 ; step: 800 of 1558 ; Trainloss = 0.0004\n",
      "7 of 10 ; step: 1000 of 1558 ; Trainloss = 0.0001\n",
      "7 of 10 ; step: 1200 of 1558 ; Trainloss = 0.0002\n",
      "7 of 10 ; step: 1400 of 1558 ; Trainloss = 0.0001\n",
      "========= Complete TestLoss = 0.0071\n",
      "\n",
      "========= Complete TestLoss = 0.0079\n",
      "\n",
      "8 of 10 ; step: 200 of 1558 ; Trainloss = 0.0002\n",
      "8 of 10 ; step: 400 of 1558 ; Trainloss = 0.0001\n",
      "8 of 10 ; step: 600 of 1558 ; Trainloss = 0.0001\n",
      "8 of 10 ; step: 800 of 1558 ; Trainloss = 0.0000\n",
      "8 of 10 ; step: 1000 of 1558 ; Trainloss = 0.0000\n",
      "8 of 10 ; step: 1200 of 1558 ; Trainloss = 0.0001\n",
      "8 of 10 ; step: 1400 of 1558 ; Trainloss = 0.0018\n",
      "========= Complete TestLoss = 0.0079\n",
      "\n",
      "========= Complete TestLoss = 0.0070\n",
      "\n",
      "9 of 10 ; step: 200 of 1558 ; Trainloss = 0.0004\n",
      "9 of 10 ; step: 400 of 1558 ; Trainloss = 0.0002\n",
      "9 of 10 ; step: 600 of 1558 ; Trainloss = 0.0002\n",
      "9 of 10 ; step: 800 of 1558 ; Trainloss = 0.0000\n",
      "9 of 10 ; step: 1000 of 1558 ; Trainloss = 0.0001\n",
      "9 of 10 ; step: 1200 of 1558 ; Trainloss = 0.0000\n",
      "9 of 10 ; step: 1400 of 1558 ; Trainloss = 0.0009\n",
      "========= Complete TestLoss = 0.0070\n",
      "\n",
      "========= Complete TestLoss = 0.0120\n",
      "\n",
      "10 of 10 ; step: 200 of 1558 ; Trainloss = 0.0000\n",
      "10 of 10 ; step: 400 of 1558 ; Trainloss = 0.0001\n",
      "10 of 10 ; step: 600 of 1558 ; Trainloss = 0.0001\n",
      "10 of 10 ; step: 800 of 1558 ; Trainloss = 0.0001\n",
      "10 of 10 ; step: 1000 of 1558 ; Trainloss = 0.0004\n",
      "10 of 10 ; step: 1200 of 1558 ; Trainloss = 0.0007\n",
      "10 of 10 ; step: 1400 of 1558 ; Trainloss = 0.0057\n",
      "========= Complete TestLoss = 0.0120\n",
      "\n",
      "========= Complete TestLoss = 0.0041\n",
      "\n"
     ]
    }
   ],
   "source": [
    "loss_dict={\n",
    "        'train_loss':[],\n",
    "        'test_loss':[]\n",
    "}\n",
    "num_epochs=10\n",
    "for epoch in range(num_epochs):\n",
    "        for i, (x_data, y) in enumerate(train_dataloader):\n",
    "                mymodel.train()\n",
    "                pred = mymodel(x_data)\n",
    "                \n",
    "                loss = criterion(pred, y)\n",
    "                \n",
    "                optim.zero_grad()\n",
    "                \n",
    "                loss.backward()\n",
    "                \n",
    "                optim.step()\n",
    "                \n",
    "                if (i+1)%200 == 0:\n",
    "                        print(f'{epoch+1} of {num_epochs} ; step: {i+1} of {n_total_steps} ; Trainloss = {loss.item():.4f}')\n",
    "     \n",
    "        \n",
    "        \n",
    "        with torch.no_grad():\n",
    "                output = mymodel(X_train_torch)\n",
    "                trainloss = criterion(output, y_train_torch)\n",
    "        print(f\"========= Complete TestLoss = {val_loss.item():.4f}\\n\")\n",
    "        \n",
    "        loss_dict['train_loss'].append(trainloss.item())\n",
    "        \n",
    "        mymodel.eval()\n",
    "        with torch.no_grad():\n",
    "                val_output = mymodel(X_test_torch)\n",
    "                val_loss = criterion(val_output, y_test_torch)\n",
    "        print(f\"========= Complete TestLoss = {val_loss.item():.4f}\\n\")\n",
    "        loss_dict['test_loss'].append(val_loss.item())\n",
    "         \n",
    "         \n",
    "        # Early Stopping Code        \n",
    "        if val_loss < best_loss:\n",
    "                best_loss=val_loss\n",
    "                best_model_weights = copy.deepcopy(mymodel.state_dict())\n",
    "                patience = 10 \n",
    "        else:\n",
    "                patience=-1\n",
    "                if patience==0:\n",
    "                        break;  \n",
    "                 \n",
    "    "
   ]
  },
  {
   "cell_type": "code",
   "execution_count": 101,
   "metadata": {},
   "outputs": [
    {
     "data": {
      "text/plain": [
       "10"
      ]
     },
     "execution_count": 101,
     "metadata": {},
     "output_type": "execute_result"
    }
   ],
   "source": [
    "len(loss_dict['train_loss'])"
   ]
  },
  {
   "cell_type": "code",
   "execution_count": 98,
   "metadata": {},
   "outputs": [],
   "source": [
    "import matplotlib.pyplot as plt"
   ]
  },
  {
   "cell_type": "code",
   "execution_count": null,
   "metadata": {},
   "outputs": [],
   "source": [
    "range(1, len(loss_))"
   ]
  },
  {
   "cell_type": "code",
   "execution_count": 106,
   "metadata": {},
   "outputs": [
    {
     "data": {
      "image/png": "[encoded data removed]",
      "text/plain": [
       "<Figure size 1000x800 with 1 Axes>"
      ]
     },
     "metadata": {},
     "output_type": "display_data"
    }
   ],
   "source": [
    "fig = plt.figure(figsize=(10,8))\n",
    "plt.plot(range(1,len(loss_dict['train_loss'])+1),loss_dict['train_loss'], label='Training Loss')\n",
    "plt.plot(range(1,len(loss_dict['test_loss'])+1),loss_dict['test_loss'],label='Validation Loss')\n",
    "\n",
    "# find position of lowest validation loss\n",
    "minposs = loss_dict['test_loss'].index(min(loss_dict['test_loss']))+1 \n",
    "plt.axvline(minposs, linestyle='--', color='r',label='Early Stopping Checkpoint')\n",
    "\n",
    "plt.xlabel('epochs')\n",
    "plt.ylabel('loss')\n",
    "plt.ylim(0, 0.03) # consistent scale\n",
    "plt.xlim(0, len(loss_dict['train_loss'])+1) # consistent scale\n",
    "plt.grid(True)\n",
    "plt.legend()\n",
    "plt.tight_layout()\n",
    "plt.show()\n",
    "fig.savefig('loss_plot.png', bbox_inches='tight')"
   ]
  },
  {
   "cell_type": "code",
   "execution_count": 107,
   "metadata": {},
   "outputs": [],
   "source": [
    "pred_test = mymodel(X_test_torch)"
   ]
  },
  {
   "cell_type": "code",
   "execution_count": 108,
   "metadata": {},
   "outputs": [
    {
     "data": {
      "text/html": [
       "<div>\n",
       "<style scoped>\n",
       "    .dataframe tbody tr th:only-of-type {\n",
       "        vertical-align: middle;\n",
       "    }\n",
       "\n",
       "    .dataframe tbody tr th {\n",
       "        vertical-align: top;\n",
       "    }\n",
       "\n",
       "    .dataframe thead th {\n",
       "        text-align: right;\n",
       "    }\n",
       "</style>\n",
       "<table border=\"1\" class=\"dataframe\">\n",
       "  <thead>\n",
       "    <tr style=\"text-align: right;\">\n",
       "      <th></th>\n",
       "      <th>0</th>\n",
       "    </tr>\n",
       "  </thead>\n",
       "  <tbody>\n",
       "    <tr>\n",
       "      <th>0</th>\n",
       "      <td>1.099458e-03</td>\n",
       "    </tr>\n",
       "    <tr>\n",
       "      <th>1</th>\n",
       "      <td>3.668611e-05</td>\n",
       "    </tr>\n",
       "    <tr>\n",
       "      <th>2</th>\n",
       "      <td>1.887054e-08</td>\n",
       "    </tr>\n",
       "    <tr>\n",
       "      <th>3</th>\n",
       "      <td>2.322685e-07</td>\n",
       "    </tr>\n",
       "    <tr>\n",
       "      <th>4</th>\n",
       "      <td>2.372441e-03</td>\n",
       "    </tr>\n",
       "    <tr>\n",
       "      <th>...</th>\n",
       "      <td>...</td>\n",
       "    </tr>\n",
       "    <tr>\n",
       "      <th>85438</th>\n",
       "      <td>2.916290e-06</td>\n",
       "    </tr>\n",
       "    <tr>\n",
       "      <th>85439</th>\n",
       "      <td>3.285426e-06</td>\n",
       "    </tr>\n",
       "    <tr>\n",
       "      <th>85440</th>\n",
       "      <td>1.751034e-05</td>\n",
       "    </tr>\n",
       "    <tr>\n",
       "      <th>85441</th>\n",
       "      <td>3.538383e-04</td>\n",
       "    </tr>\n",
       "    <tr>\n",
       "      <th>85442</th>\n",
       "      <td>3.971104e-10</td>\n",
       "    </tr>\n",
       "  </tbody>\n",
       "</table>\n",
       "<p>85443 rows × 1 columns</p>\n",
       "</div>"
      ],
      "text/plain": [
       "                  0\n",
       "0      1.099458e-03\n",
       "1      3.668611e-05\n",
       "2      1.887054e-08\n",
       "3      2.322685e-07\n",
       "4      2.372441e-03\n",
       "...             ...\n",
       "85438  2.916290e-06\n",
       "85439  3.285426e-06\n",
       "85440  1.751034e-05\n",
       "85441  3.538383e-04\n",
       "85442  3.971104e-10\n",
       "\n",
       "[85443 rows x 1 columns]"
      ]
     },
     "execution_count": 108,
     "metadata": {},
     "output_type": "execute_result"
    }
   ],
   "source": [
    "pd.DataFrame(pred_test.detach().numpy())"
   ]
  },
  {
   "cell_type": "code",
   "execution_count": 109,
   "metadata": {},
   "outputs": [
    {
     "data": {
      "text/html": [
       "<div>\n",
       "<style scoped>\n",
       "    .dataframe tbody tr th:only-of-type {\n",
       "        vertical-align: middle;\n",
       "    }\n",
       "\n",
       "    .dataframe tbody tr th {\n",
       "        vertical-align: top;\n",
       "    }\n",
       "\n",
       "    .dataframe thead th {\n",
       "        text-align: right;\n",
       "    }\n",
       "</style>\n",
       "<table border=\"1\" class=\"dataframe\">\n",
       "  <thead>\n",
       "    <tr style=\"text-align: right;\">\n",
       "      <th></th>\n",
       "      <th>Class</th>\n",
       "    </tr>\n",
       "  </thead>\n",
       "  <tbody>\n",
       "    <tr>\n",
       "      <th>0</th>\n",
       "      <td>0</td>\n",
       "    </tr>\n",
       "    <tr>\n",
       "      <th>1</th>\n",
       "      <td>0</td>\n",
       "    </tr>\n",
       "    <tr>\n",
       "      <th>2</th>\n",
       "      <td>0</td>\n",
       "    </tr>\n",
       "    <tr>\n",
       "      <th>3</th>\n",
       "      <td>0</td>\n",
       "    </tr>\n",
       "    <tr>\n",
       "      <th>4</th>\n",
       "      <td>0</td>\n",
       "    </tr>\n",
       "    <tr>\n",
       "      <th>...</th>\n",
       "      <td>...</td>\n",
       "    </tr>\n",
       "    <tr>\n",
       "      <th>85438</th>\n",
       "      <td>0</td>\n",
       "    </tr>\n",
       "    <tr>\n",
       "      <th>85439</th>\n",
       "      <td>0</td>\n",
       "    </tr>\n",
       "    <tr>\n",
       "      <th>85440</th>\n",
       "      <td>0</td>\n",
       "    </tr>\n",
       "    <tr>\n",
       "      <th>85441</th>\n",
       "      <td>0</td>\n",
       "    </tr>\n",
       "    <tr>\n",
       "      <th>85442</th>\n",
       "      <td>0</td>\n",
       "    </tr>\n",
       "  </tbody>\n",
       "</table>\n",
       "<p>85443 rows × 1 columns</p>\n",
       "</div>"
      ],
      "text/plain": [
       "       Class\n",
       "0          0\n",
       "1          0\n",
       "2          0\n",
       "3          0\n",
       "4          0\n",
       "...      ...\n",
       "85438      0\n",
       "85439      0\n",
       "85440      0\n",
       "85441      0\n",
       "85442      0\n",
       "\n",
       "[85443 rows x 1 columns]"
      ]
     },
     "execution_count": 109,
     "metadata": {},
     "output_type": "execute_result"
    }
   ],
   "source": [
    "y_test"
   ]
  },
  {
   "cell_type": "code",
   "execution_count": 110,
   "metadata": {},
   "outputs": [],
   "source": [
    "from sklearn.metrics import roc_auc_score"
   ]
  },
  {
   "cell_type": "code",
   "execution_count": 111,
   "metadata": {},
   "outputs": [
    {
     "data": {
      "text/plain": [
       "0.9606552299412373"
      ]
     },
     "execution_count": 111,
     "metadata": {},
     "output_type": "execute_result"
    }
   ],
   "source": [
    "roc_auc_score(y_test, pd.DataFrame(pred_test.detach().numpy()))"
   ]
  },
  {
   "cell_type": "code",
   "execution_count": null,
   "metadata": {},
   "outputs": [],
   "source": []
  },
  {
   "cell_type": "code",
   "execution_count": null,
   "metadata": {},
   "outputs": [],
   "source": []
  }
 ],
 "metadata": {
  "kernelspec": {
   "display_name": "python38",
   "language": "python",
   "name": "python3"
  },
  "language_info": {
   "codemirror_mode": {
    "name": "ipython",
    "version": 3
   },
   "file_extension": ".py",
   "mimetype": "text/x-python",
   "name": "python",
   "nbconvert_exporter": "python",
   "pygments_lexer": "ipython3",
   "version": "3.8.18"
  }
 },
 "nbformat": 4,
 "nbformat_minor": 2
}

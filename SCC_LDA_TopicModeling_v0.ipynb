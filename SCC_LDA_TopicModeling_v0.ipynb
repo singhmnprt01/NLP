{
 "cells": [
  {
   "cell_type": "code",
   "execution_count": 1,
   "id": "0b68230f-f498-478e-9b8e-ef71436f9f1a",
   "metadata": {},
   "outputs": [],
   "source": [
    "## Topic Modeling with LDA "
   ]
  },
  {
   "cell_type": "code",
   "execution_count": null,
   "id": "cec7858d-856e-4dcc-aede-d90e37ad93a5",
   "metadata": {},
   "outputs": [],
   "source": [
    "import pandas as pd\n",
    "import numpy as np\n",
    "\n",
    "#gensim\n",
    "import gensim\n",
    "from gensim import corpora ## this is giving error\n",
    "from gensim.utils import simple_preprocess\n",
    "from gensim.models import CoherenceModel,TfidfModel\n",
    "\n",
    "\n",
    "#spacy\n",
    "import spacy\n",
    "\n",
    "## visupyLDAvisze LDA\n",
    "import pyLDAvis\n",
    "import pyLDAvis.gensim_models\n",
    "\n",
    "import matplotlib.pyplot as plt\n",
    "\n",
    "#nltk\n",
    "import nltk\n",
    "from nltk.corpus import stopwords\n",
    "from nltk.stem import WordNetLemmatizer\n",
    "from nltk.tokenize.treebank import TreebankWordTokenizer, TreebankWordDetokenizer\n",
    "from nltk import word_tokenize\n",
    "\n",
    "import sklearn\n",
    "\n",
    "from wordcloud import WordCloud\n",
    "\n",
    "from platform import python_version\n",
    "\n",
    "import warnings\n",
    "warnings.filterwarnings(\"ignore\")"
   ]
  },
  {
   "cell_type": "code",
   "execution_count": 3,
   "id": "768e6185-b8cf-47ce-8cef-01e665bb55ab",
   "metadata": {},
   "outputs": [
    {
     "data": {
      "text/plain": [
       "'3.8.13'"
      ]
     },
     "execution_count": 3,
     "metadata": {},
     "output_type": "execute_result"
    }
   ],
   "source": [
    "python_version()"
   ]
  },
  {
   "cell_type": "code",
   "execution_count": 388,
   "id": "438f7754-2a36-4dce-a7ed-54c3a7334123",
   "metadata": {},
   "outputs": [],
   "source": [
    "pd.options.display.max_columns=100\n",
    "pd.options.display.max_rows=100"
   ]
  },
  {
   "cell_type": "code",
   "execution_count": 389,
   "id": "70f67368-ec63-488c-ae62-aa86156a9d79",
   "metadata": {},
   "outputs": [],
   "source": [
    "## Load the Data"
   ]
  },
  {
   "cell_type": "code",
   "execution_count": 390,
   "id": "20757c27-a294-4045-97dc-712d58390c81",
   "metadata": {},
   "outputs": [],
   "source": [
    "data = pd.read_excel('11210322Migrationsupportcases_copy.xlsx',sheet_name='Cases')\n",
    "data.drop(columns=['Unnamed: 0'],inplace=True)"
   ]
  },
  {
   "cell_type": "code",
   "execution_count": 391,
   "id": "0f5edc92-7d18-4cc2-95ca-9eea9a4eaf6e",
   "metadata": {},
   "outputs": [
    {
     "data": {
      "text/html": [
       "<div>\n",
       "<style scoped>\n",
       "    .dataframe tbody tr th:only-of-type {\n",
       "        vertical-align: middle;\n",
       "    }\n",
       "\n",
       "    .dataframe tbody tr th {\n",
       "        vertical-align: top;\n",
       "    }\n",
       "\n",
       "    .dataframe thead th {\n",
       "        text-align: right;\n",
       "    }\n",
       "</style>\n",
       "<table border=\"1\" class=\"dataframe\">\n",
       "  <thead>\n",
       "    <tr style=\"text-align: right;\">\n",
       "      <th></th>\n",
       "      <th>createdDateTime</th>\n",
       "      <th>createDay</th>\n",
       "      <th>closedDateTime</th>\n",
       "      <th>closedDay</th>\n",
       "      <th>incidentID</th>\n",
       "      <th>ICM</th>\n",
       "      <th>category</th>\n",
       "      <th>title</th>\n",
       "      <th>cause</th>\n",
       "      <th>resolution</th>\n",
       "      <th>labourMinutes</th>\n",
       "      <th>sub category</th>\n",
       "      <th>theme</th>\n",
       "      <th>manualTags</th>\n",
       "      <th>pmComments</th>\n",
       "      <th>initialSupportPath</th>\n",
       "      <th>initialSupportPathCorrect</th>\n",
       "      <th>selfHelpExists</th>\n",
       "      <th>engrComments</th>\n",
       "      <th>supportPath</th>\n",
       "      <th>rootSupportPath</th>\n",
       "      <th>region</th>\n",
       "      <th>subRegion</th>\n",
       "    </tr>\n",
       "  </thead>\n",
       "  <tbody>\n",
       "    <tr>\n",
       "      <th>0</th>\n",
       "      <td>2021-10-15</td>\n",
       "      <td>15-10-2021</td>\n",
       "      <td>2021-11-01</td>\n",
       "      <td>01-11-2021</td>\n",
       "      <td>2109130010001915</td>\n",
       "      <td>NO ICM</td>\n",
       "      <td>SERVER MIGRATION</td>\n",
       "      <td>Linux VM not booting after Migration</td>\n",
       "      <td>PG found that it's failing due to the label of...</td>\n",
       "      <td>Had to manually prep the server and move over ...</td>\n",
       "      <td>2527.0</td>\n",
       "      <td>POST MIGRATION</td>\n",
       "      <td>Boot issue</td>\n",
       "      <td>Linux, \\x, escape character</td>\n",
       "      <td>NaN</td>\n",
       "      <td>Routing Azure Migrate\\Migrating VMware VMs (ag...</td>\n",
       "      <td>NaN</td>\n",
       "      <td>NaN</td>\n",
       "      <td>NaN</td>\n",
       "      <td>Routing Azure Migrate\\Migrating VMware VMs (ag...</td>\n",
       "      <td>Root Cause - Azure Migrate\\VMware agentless to...</td>\n",
       "      <td>North America</td>\n",
       "      <td>United States</td>\n",
       "    </tr>\n",
       "    <tr>\n",
       "      <th>1</th>\n",
       "      <td>2021-10-15</td>\n",
       "      <td>15-10-2021</td>\n",
       "      <td>2021-11-01</td>\n",
       "      <td>01-11-2021</td>\n",
       "      <td>2107280060003266</td>\n",
       "      <td>NO ICM</td>\n",
       "      <td>SERVER MIGRATION</td>\n",
       "      <td>Azure site recovery About the matter that the ...</td>\n",
       "      <td>NaN</td>\n",
       "      <td>Regarding this matter, we received a lot of ti...</td>\n",
       "      <td>1710.0</td>\n",
       "      <td>REPLICATION</td>\n",
       "      <td>Slow or stuck process</td>\n",
       "      <td>Network bandwidth, limit set</td>\n",
       "      <td>NaN</td>\n",
       "      <td>Routing Azure Site Recovery V2\\I am trying to ...</td>\n",
       "      <td>NaN</td>\n",
       "      <td>NaN</td>\n",
       "      <td>NaN</td>\n",
       "      <td>Routing Azure Migrate\\Migrating physical serve...</td>\n",
       "      <td>Root Cause - Azure Migrate\\Outage</td>\n",
       "      <td>LatAm</td>\n",
       "      <td>Argentina &amp; Uruguay</td>\n",
       "    </tr>\n",
       "    <tr>\n",
       "      <th>2</th>\n",
       "      <td>2021-10-15</td>\n",
       "      <td>15-10-2021</td>\n",
       "      <td>2021-11-01</td>\n",
       "      <td>01-11-2021</td>\n",
       "      <td>2109200060001693</td>\n",
       "      <td>NO ICM</td>\n",
       "      <td>SERVER MIGRATION</td>\n",
       "      <td>Azure Migrate - Linux RH 6</td>\n",
       "      <td>Findings:  1. From the command output share I ...</td>\n",
       "      <td>You confirmed to us that your customer has opt...</td>\n",
       "      <td>451.0</td>\n",
       "      <td>POST MIGRATION</td>\n",
       "      <td>Hydration issue</td>\n",
       "      <td>NaN</td>\n",
       "      <td>NaN</td>\n",
       "      <td>Routing Azure Vmware Solution\\VMware Issues\\vC...</td>\n",
       "      <td>NaN</td>\n",
       "      <td>NaN</td>\n",
       "      <td>NaN</td>\n",
       "      <td>Routing Azure Migrate\\Migrating VMware VMs (ag...</td>\n",
       "      <td>Root Cause - Azure Migrate\\Physical servers, o...</td>\n",
       "      <td>North America</td>\n",
       "      <td>Canada</td>\n",
       "    </tr>\n",
       "  </tbody>\n",
       "</table>\n",
       "</div>"
      ],
      "text/plain": [
       "  createdDateTime   createDay closedDateTime   closedDay        incidentID  \\\n",
       "0      2021-10-15  15-10-2021     2021-11-01  01-11-2021  2109130010001915   \n",
       "1      2021-10-15  15-10-2021     2021-11-01  01-11-2021  2107280060003266   \n",
       "2      2021-10-15  15-10-2021     2021-11-01  01-11-2021  2109200060001693   \n",
       "\n",
       "      ICM          category  \\\n",
       "0  NO ICM  SERVER MIGRATION   \n",
       "1  NO ICM  SERVER MIGRATION   \n",
       "2  NO ICM  SERVER MIGRATION   \n",
       "\n",
       "                                               title  \\\n",
       "0               Linux VM not booting after Migration   \n",
       "1  Azure site recovery About the matter that the ...   \n",
       "2                         Azure Migrate - Linux RH 6   \n",
       "\n",
       "                                               cause  \\\n",
       "0  PG found that it's failing due to the label of...   \n",
       "1                                                NaN   \n",
       "2  Findings:  1. From the command output share I ...   \n",
       "\n",
       "                                          resolution  labourMinutes  \\\n",
       "0  Had to manually prep the server and move over ...         2527.0   \n",
       "1  Regarding this matter, we received a lot of ti...         1710.0   \n",
       "2  You confirmed to us that your customer has opt...          451.0   \n",
       "\n",
       "     sub category                  theme                    manualTags  \\\n",
       "0  POST MIGRATION             Boot issue   Linux, \\x, escape character   \n",
       "1     REPLICATION  Slow or stuck process  Network bandwidth, limit set   \n",
       "2  POST MIGRATION        Hydration issue                           NaN   \n",
       "\n",
       "   pmComments                                 initialSupportPath  \\\n",
       "0         NaN  Routing Azure Migrate\\Migrating VMware VMs (ag...   \n",
       "1         NaN  Routing Azure Site Recovery V2\\I am trying to ...   \n",
       "2         NaN  Routing Azure Vmware Solution\\VMware Issues\\vC...   \n",
       "\n",
       "  initialSupportPathCorrect selfHelpExists  engrComments  \\\n",
       "0                       NaN            NaN           NaN   \n",
       "1                       NaN            NaN           NaN   \n",
       "2                       NaN            NaN           NaN   \n",
       "\n",
       "                                         supportPath  \\\n",
       "0  Routing Azure Migrate\\Migrating VMware VMs (ag...   \n",
       "1  Routing Azure Migrate\\Migrating physical serve...   \n",
       "2  Routing Azure Migrate\\Migrating VMware VMs (ag...   \n",
       "\n",
       "                                     rootSupportPath         region  \\\n",
       "0  Root Cause - Azure Migrate\\VMware agentless to...  North America   \n",
       "1                  Root Cause - Azure Migrate\\Outage          LatAm   \n",
       "2  Root Cause - Azure Migrate\\Physical servers, o...  North America   \n",
       "\n",
       "             subRegion  \n",
       "0        United States  \n",
       "1  Argentina & Uruguay  \n",
       "2               Canada  "
      ]
     },
     "execution_count": 391,
     "metadata": {},
     "output_type": "execute_result"
    }
   ],
   "source": [
    "data.head(3)"
   ]
  },
  {
   "cell_type": "code",
   "execution_count": 392,
   "id": "b6bd2497-f1cc-4a96-b73b-71e0804e1e76",
   "metadata": {},
   "outputs": [],
   "source": [
    "data['title'].fillna(value=\"\",inplace=True)\n",
    "data['cause'].fillna(value=\"\",inplace=True)\n",
    "data['resolution'].fillna(value=\"\",inplace=True)"
   ]
  },
  {
   "cell_type": "code",
   "execution_count": 393,
   "id": "08295a9c-774b-48e6-b936-9d31f86410cc",
   "metadata": {},
   "outputs": [],
   "source": [
    "# data['title'] = data['title'].astype('str')\n",
    "# data['cause'] = data['cause'].astype('str')\n",
    "# data['resolution'] = data['resolution'].astype('str')"
   ]
  },
  {
   "cell_type": "code",
   "execution_count": 394,
   "id": "68891c90-65d8-4b14-8453-61d6d36cbe44",
   "metadata": {},
   "outputs": [],
   "source": [
    "class TextPreprocessing:\n",
    "    def __init__(self):\n",
    "        nltk.download('stopwords')\n",
    "        nltk.download('wordnet')\n",
    "        nltk.download('omw-1.4')\n",
    "        nltk.download('punkt')\n",
    "        self.lemm = WordNetLemmatizer()\n",
    "        self.detok = TreebankWordDetokenizer()\n",
    "        self.tok= TreebankWordTokenizer()\n",
    "        self.nlp = spacy.load('en_core_web_sm', disable=[\"parser\",\"ner\"])\n",
    "        #pass;\n",
    "        \n",
    "    def simple_prep_process(self, data): ## lowercases, tokenizes, and de-accents the text\n",
    "        return data.apply(lambda x:  gensim.utils.simple_preprocess(x, deacc=True)) ## deacc is true to de-accent\n",
    "\n",
    "    \n",
    "    def stopwords_removal(self, text): ## Remove stop words\n",
    "        text = [word for word in text if word not in stopwords.words('english')]\n",
    "        return text\n",
    "\n",
    "    \n",
    "    def lemmatizer(self,text): ## lemmatizes the words in the text\n",
    "        #return self.tokenize(' '.join([self.lemm.lemmatize(w) for w in text])) ## nltk lemmatizer\n",
    "        allowed_postags=[\"NOUN\",\"VERB\",\"ADV\",\"ADJ\",\"PROPN\"]\n",
    "        text = \" \".join([x for x in text])\n",
    "        doc = self.nlp(text) ## spacy lemmatizer\n",
    "        return [token.lemma_ for token in doc if token.pos_ in allowed_postags]\n",
    "    \n",
    "    def detokenize(self,text):\n",
    "        return self.detok.detokenize(text)\n",
    "\n",
    "    def tokenize(self,text):\n",
    "        return self.tok.tokenize(text)"
   ]
  },
  {
   "cell_type": "code",
   "execution_count": null,
   "id": "d0d7f171-7118-4c2d-bb2c-b0eebe79f23a",
   "metadata": {},
   "outputs": [],
   "source": []
  },
  {
   "cell_type": "code",
   "execution_count": 395,
   "id": "126967b7-41e0-4bfb-bb30-9951aef378d8",
   "metadata": {},
   "outputs": [
    {
     "name": "stderr",
     "output_type": "stream",
     "text": [
      "[nltk_data] Downloading package stopwords to\n",
      "[nltk_data]     C:\\Users\\manpresingh\\AppData\\Roaming\\nltk_data...\n",
      "[nltk_data]   Package stopwords is already up-to-date!\n",
      "[nltk_data] Downloading package wordnet to\n",
      "[nltk_data]     C:\\Users\\manpresingh\\AppData\\Roaming\\nltk_data...\n",
      "[nltk_data]   Package wordnet is already up-to-date!\n",
      "[nltk_data] Downloading package omw-1.4 to\n",
      "[nltk_data]     C:\\Users\\manpresingh\\AppData\\Roaming\\nltk_data...\n",
      "[nltk_data]   Package omw-1.4 is already up-to-date!\n",
      "[nltk_data] Downloading package punkt to\n",
      "[nltk_data]     C:\\Users\\manpresingh\\AppData\\Roaming\\nltk_data...\n",
      "[nltk_data]   Package punkt is already up-to-date!\n"
     ]
    }
   ],
   "source": [
    "tp = TextPreprocessing()"
   ]
  },
  {
   "cell_type": "code",
   "execution_count": 396,
   "id": "9ccd9529-fe60-4558-9941-bc7f68649788",
   "metadata": {},
   "outputs": [
    {
     "name": "stdout",
     "output_type": "stream",
     "text": [
      "CPU times: total: 172 ms\n",
      "Wall time: 161 ms\n"
     ]
    }
   ],
   "source": [
    "%%time\n",
    "## Simple Preprocessing using Gensim:\n",
    "data['title_SP'] = tp.simple_prep_process(data['title'])\n",
    "data['cause_SP'] = tp.simple_prep_process(data['cause']) \n",
    "data['resolution_SP'] = tp.simple_prep_process(data['resolution']) "
   ]
  },
  {
   "cell_type": "code",
   "execution_count": 397,
   "id": "8a72dfe7-b423-435e-b9d1-e6723fcc2d7f",
   "metadata": {
    "tags": []
   },
   "outputs": [
    {
     "name": "stdout",
     "output_type": "stream",
     "text": [
      "CPU times: total: 5.61 s\n",
      "Wall time: 5.6 s\n"
     ]
    }
   ],
   "source": [
    "%%time\n",
    "## Lemmatization\n",
    "data['title_SP_lemmatized']=data['title_SP'].apply(lambda x : tp.lemmatizer(x))\n",
    "data['cause_SP_lemmatized']=data['cause_SP'].apply(lambda x : tp.lemmatizer(x))\n",
    "data['resolution_SP_lemmatized']=data['resolution_SP'].apply(lambda x : tp.lemmatizer(x))"
   ]
  },
  {
   "cell_type": "code",
   "execution_count": 398,
   "id": "ba2dc1cc-df0a-4201-a4ed-23140ba1fab3",
   "metadata": {},
   "outputs": [
    {
     "name": "stdout",
     "output_type": "stream",
     "text": [
      "CPU times: total: 5.5 s\n",
      "Wall time: 5.5 s\n"
     ]
    }
   ],
   "source": [
    "%%time\n",
    "## Remove stopwords\n",
    "data['title_SP_lemmatized_SW']=data['title_SP_lemmatized'].apply(lambda x : tp.stopwords_removal(x))\n",
    "data['cause_SP_lemmatized_SW']=data['cause_SP_lemmatized'].apply(lambda x : tp.stopwords_removal(x))\n",
    "data['resolution_SP_lemmatized_SW']=data['resolution_SP_lemmatized'].apply(lambda x : tp.stopwords_removal(x))"
   ]
  },
  {
   "cell_type": "code",
   "execution_count": 399,
   "id": "c8bba1b9-1eae-46ff-85a1-91f79d05006e",
   "metadata": {},
   "outputs": [
    {
     "name": "stdout",
     "output_type": "stream",
     "text": [
      "CPU times: total: 156 ms\n",
      "Wall time: 157 ms\n"
     ]
    }
   ],
   "source": [
    "%%time\n",
    "## detokenize\n",
    "data['title_SP_lemmatized_SW_detok']=data['title_SP_lemmatized_SW'].apply(lambda x : tp.detokenize(x))\n",
    "data['cause_SP_lemmatized_SW_detok']=data['cause_SP_lemmatized_SW'].apply(lambda x : tp.detokenize(x))\n",
    "data['resolution_SP_lemmatized_SW_detok']=data['resolution_SP_lemmatized_SW'].apply(lambda x : tp.detokenize(x))"
   ]
  },
  {
   "cell_type": "code",
   "execution_count": 400,
   "id": "981c5d84-ec3a-4595-b203-aebef2c2d301",
   "metadata": {},
   "outputs": [
    {
     "data": {
      "text/html": [
       "<div>\n",
       "<style scoped>\n",
       "    .dataframe tbody tr th:only-of-type {\n",
       "        vertical-align: middle;\n",
       "    }\n",
       "\n",
       "    .dataframe tbody tr th {\n",
       "        vertical-align: top;\n",
       "    }\n",
       "\n",
       "    .dataframe thead th {\n",
       "        text-align: right;\n",
       "    }\n",
       "</style>\n",
       "<table border=\"1\" class=\"dataframe\">\n",
       "  <thead>\n",
       "    <tr style=\"text-align: right;\">\n",
       "      <th></th>\n",
       "      <th>createdDateTime</th>\n",
       "      <th>createDay</th>\n",
       "      <th>closedDateTime</th>\n",
       "      <th>closedDay</th>\n",
       "      <th>incidentID</th>\n",
       "      <th>ICM</th>\n",
       "      <th>category</th>\n",
       "      <th>title</th>\n",
       "      <th>cause</th>\n",
       "      <th>resolution</th>\n",
       "      <th>labourMinutes</th>\n",
       "      <th>sub category</th>\n",
       "      <th>theme</th>\n",
       "      <th>manualTags</th>\n",
       "      <th>pmComments</th>\n",
       "      <th>initialSupportPath</th>\n",
       "      <th>initialSupportPathCorrect</th>\n",
       "      <th>selfHelpExists</th>\n",
       "      <th>engrComments</th>\n",
       "      <th>supportPath</th>\n",
       "      <th>rootSupportPath</th>\n",
       "      <th>region</th>\n",
       "      <th>subRegion</th>\n",
       "      <th>title_SP</th>\n",
       "      <th>cause_SP</th>\n",
       "      <th>resolution_SP</th>\n",
       "      <th>title_SP_lemmatized</th>\n",
       "      <th>cause_SP_lemmatized</th>\n",
       "      <th>resolution_SP_lemmatized</th>\n",
       "      <th>title_SP_lemmatized_SW</th>\n",
       "      <th>cause_SP_lemmatized_SW</th>\n",
       "      <th>resolution_SP_lemmatized_SW</th>\n",
       "      <th>title_SP_lemmatized_SW_detok</th>\n",
       "      <th>cause_SP_lemmatized_SW_detok</th>\n",
       "      <th>resolution_SP_lemmatized_SW_detok</th>\n",
       "    </tr>\n",
       "  </thead>\n",
       "  <tbody>\n",
       "    <tr>\n",
       "      <th>0</th>\n",
       "      <td>2021-10-15</td>\n",
       "      <td>15-10-2021</td>\n",
       "      <td>2021-11-01</td>\n",
       "      <td>01-11-2021</td>\n",
       "      <td>2109130010001915</td>\n",
       "      <td>NO ICM</td>\n",
       "      <td>SERVER MIGRATION</td>\n",
       "      <td>Linux VM not booting after Migration</td>\n",
       "      <td>PG found that it's failing due to the label of...</td>\n",
       "      <td>Had to manually prep the server and move over ...</td>\n",
       "      <td>2527.0</td>\n",
       "      <td>POST MIGRATION</td>\n",
       "      <td>Boot issue</td>\n",
       "      <td>Linux, \\x, escape character</td>\n",
       "      <td>NaN</td>\n",
       "      <td>Routing Azure Migrate\\Migrating VMware VMs (ag...</td>\n",
       "      <td>NaN</td>\n",
       "      <td>NaN</td>\n",
       "      <td>NaN</td>\n",
       "      <td>Routing Azure Migrate\\Migrating VMware VMs (ag...</td>\n",
       "      <td>Root Cause - Azure Migrate\\VMware agentless to...</td>\n",
       "      <td>North America</td>\n",
       "      <td>United States</td>\n",
       "      <td>[linux, vm, not, booting, after, migration]</td>\n",
       "      <td>[pg, found, that, it, failing, due, to, the, l...</td>\n",
       "      <td>[had, to, manually, prep, the, server, and, mo...</td>\n",
       "      <td>[linux, vm, boot, migration]</td>\n",
       "      <td>[pg, find, fail, label, disk, have, name, actu...</td>\n",
       "      <td>[manually, prep, server, move, datum, disk, do...</td>\n",
       "      <td>[linux, vm, boot, migration]</td>\n",
       "      <td>[pg, find, fail, label, disk, name, actually, ...</td>\n",
       "      <td>[manually, prep, server, move, datum, disk, av...</td>\n",
       "      <td>linux vm boot migration</td>\n",
       "      <td>pg find fail label disk name actually escape c...</td>\n",
       "      <td>manually prep server move datum disk avoid dis...</td>\n",
       "    </tr>\n",
       "    <tr>\n",
       "      <th>1</th>\n",
       "      <td>2021-10-15</td>\n",
       "      <td>15-10-2021</td>\n",
       "      <td>2021-11-01</td>\n",
       "      <td>01-11-2021</td>\n",
       "      <td>2107280060003266</td>\n",
       "      <td>NO ICM</td>\n",
       "      <td>SERVER MIGRATION</td>\n",
       "      <td>Azure site recovery About the matter that the ...</td>\n",
       "      <td></td>\n",
       "      <td>Regarding this matter, we received a lot of ti...</td>\n",
       "      <td>1710.0</td>\n",
       "      <td>REPLICATION</td>\n",
       "      <td>Slow or stuck process</td>\n",
       "      <td>Network bandwidth, limit set</td>\n",
       "      <td>NaN</td>\n",
       "      <td>Routing Azure Site Recovery V2\\I am trying to ...</td>\n",
       "      <td>NaN</td>\n",
       "      <td>NaN</td>\n",
       "      <td>NaN</td>\n",
       "      <td>Routing Azure Migrate\\Migrating physical serve...</td>\n",
       "      <td>Root Cause - Azure Migrate\\Outage</td>\n",
       "      <td>LatAm</td>\n",
       "      <td>Argentina &amp; Uruguay</td>\n",
       "      <td>[azure, site, recovery, about, the, matter, th...</td>\n",
       "      <td>[]</td>\n",
       "      <td>[regarding, this, matter, we, received, lot, o...</td>\n",
       "      <td>[azure, site, recovery, matter, bandwidth, con...</td>\n",
       "      <td>[]</td>\n",
       "      <td>[regard, matter, receive, lot, time, cooperati...</td>\n",
       "      <td>[azure, site, recovery, matter, bandwidth, con...</td>\n",
       "      <td>[]</td>\n",
       "      <td>[regard, matter, receive, lot, time, cooperati...</td>\n",
       "      <td>azure site recovery matter bandwidth control p...</td>\n",
       "      <td></td>\n",
       "      <td>regard matter receive lot time cooperation con...</td>\n",
       "    </tr>\n",
       "  </tbody>\n",
       "</table>\n",
       "</div>"
      ],
      "text/plain": [
       "  createdDateTime   createDay closedDateTime   closedDay        incidentID  \\\n",
       "0      2021-10-15  15-10-2021     2021-11-01  01-11-2021  2109130010001915   \n",
       "1      2021-10-15  15-10-2021     2021-11-01  01-11-2021  2107280060003266   \n",
       "\n",
       "      ICM          category  \\\n",
       "0  NO ICM  SERVER MIGRATION   \n",
       "1  NO ICM  SERVER MIGRATION   \n",
       "\n",
       "                                               title  \\\n",
       "0               Linux VM not booting after Migration   \n",
       "1  Azure site recovery About the matter that the ...   \n",
       "\n",
       "                                               cause  \\\n",
       "0  PG found that it's failing due to the label of...   \n",
       "1                                                      \n",
       "\n",
       "                                          resolution  labourMinutes  \\\n",
       "0  Had to manually prep the server and move over ...         2527.0   \n",
       "1  Regarding this matter, we received a lot of ti...         1710.0   \n",
       "\n",
       "     sub category                  theme                    manualTags  \\\n",
       "0  POST MIGRATION             Boot issue   Linux, \\x, escape character   \n",
       "1     REPLICATION  Slow or stuck process  Network bandwidth, limit set   \n",
       "\n",
       "   pmComments                                 initialSupportPath  \\\n",
       "0         NaN  Routing Azure Migrate\\Migrating VMware VMs (ag...   \n",
       "1         NaN  Routing Azure Site Recovery V2\\I am trying to ...   \n",
       "\n",
       "  initialSupportPathCorrect selfHelpExists  engrComments  \\\n",
       "0                       NaN            NaN           NaN   \n",
       "1                       NaN            NaN           NaN   \n",
       "\n",
       "                                         supportPath  \\\n",
       "0  Routing Azure Migrate\\Migrating VMware VMs (ag...   \n",
       "1  Routing Azure Migrate\\Migrating physical serve...   \n",
       "\n",
       "                                     rootSupportPath         region  \\\n",
       "0  Root Cause - Azure Migrate\\VMware agentless to...  North America   \n",
       "1                  Root Cause - Azure Migrate\\Outage          LatAm   \n",
       "\n",
       "             subRegion                                           title_SP  \\\n",
       "0        United States        [linux, vm, not, booting, after, migration]   \n",
       "1  Argentina & Uruguay  [azure, site, recovery, about, the, matter, th...   \n",
       "\n",
       "                                            cause_SP  \\\n",
       "0  [pg, found, that, it, failing, due, to, the, l...   \n",
       "1                                                 []   \n",
       "\n",
       "                                       resolution_SP  \\\n",
       "0  [had, to, manually, prep, the, server, and, mo...   \n",
       "1  [regarding, this, matter, we, received, lot, o...   \n",
       "\n",
       "                                 title_SP_lemmatized  \\\n",
       "0                       [linux, vm, boot, migration]   \n",
       "1  [azure, site, recovery, matter, bandwidth, con...   \n",
       "\n",
       "                                 cause_SP_lemmatized  \\\n",
       "0  [pg, find, fail, label, disk, have, name, actu...   \n",
       "1                                                 []   \n",
       "\n",
       "                            resolution_SP_lemmatized  \\\n",
       "0  [manually, prep, server, move, datum, disk, do...   \n",
       "1  [regard, matter, receive, lot, time, cooperati...   \n",
       "\n",
       "                              title_SP_lemmatized_SW  \\\n",
       "0                       [linux, vm, boot, migration]   \n",
       "1  [azure, site, recovery, matter, bandwidth, con...   \n",
       "\n",
       "                              cause_SP_lemmatized_SW  \\\n",
       "0  [pg, find, fail, label, disk, name, actually, ...   \n",
       "1                                                 []   \n",
       "\n",
       "                         resolution_SP_lemmatized_SW  \\\n",
       "0  [manually, prep, server, move, datum, disk, av...   \n",
       "1  [regard, matter, receive, lot, time, cooperati...   \n",
       "\n",
       "                        title_SP_lemmatized_SW_detok  \\\n",
       "0                            linux vm boot migration   \n",
       "1  azure site recovery matter bandwidth control p...   \n",
       "\n",
       "                        cause_SP_lemmatized_SW_detok  \\\n",
       "0  pg find fail label disk name actually escape c...   \n",
       "1                                                      \n",
       "\n",
       "                   resolution_SP_lemmatized_SW_detok  \n",
       "0  manually prep server move datum disk avoid dis...  \n",
       "1  regard matter receive lot time cooperation con...  "
      ]
     },
     "execution_count": 400,
     "metadata": {},
     "output_type": "execute_result"
    }
   ],
   "source": [
    "data.head(2)"
   ]
  },
  {
   "cell_type": "code",
   "execution_count": null,
   "id": "df6d221c-0f6a-47be-bce9-3d2d9daf9986",
   "metadata": {},
   "outputs": [],
   "source": []
  },
  {
   "cell_type": "code",
   "execution_count": 401,
   "id": "65fe9798-a10b-4aeb-985b-ee5c7ad5f259",
   "metadata": {},
   "outputs": [],
   "source": [
    "## concatenate title + cause & detokenize"
   ]
  },
  {
   "cell_type": "code",
   "execution_count": 402,
   "id": "7a3ab17a-610f-481f-9a0f-88da53a0f6ba",
   "metadata": {},
   "outputs": [],
   "source": [
    "data['concatenated_text_detok']= data['title_SP_lemmatized_SW_detok'] + \" \" + data['cause_SP_lemmatized_SW_detok']\n",
    "\n",
    "data['concatenated_text_tok']= data['concatenated_text_detok'].apply(lambda x: tp.tokenize(x))"
   ]
  },
  {
   "cell_type": "code",
   "execution_count": 403,
   "id": "fdb69b95-d409-499a-baf1-3516273c1ae0",
   "metadata": {},
   "outputs": [
    {
     "data": {
      "text/html": [
       "<div>\n",
       "<style scoped>\n",
       "    .dataframe tbody tr th:only-of-type {\n",
       "        vertical-align: middle;\n",
       "    }\n",
       "\n",
       "    .dataframe tbody tr th {\n",
       "        vertical-align: top;\n",
       "    }\n",
       "\n",
       "    .dataframe thead th {\n",
       "        text-align: right;\n",
       "    }\n",
       "</style>\n",
       "<table border=\"1\" class=\"dataframe\">\n",
       "  <thead>\n",
       "    <tr style=\"text-align: right;\">\n",
       "      <th></th>\n",
       "      <th>createdDateTime</th>\n",
       "      <th>createDay</th>\n",
       "      <th>closedDateTime</th>\n",
       "      <th>closedDay</th>\n",
       "      <th>incidentID</th>\n",
       "      <th>ICM</th>\n",
       "      <th>category</th>\n",
       "      <th>title</th>\n",
       "      <th>cause</th>\n",
       "      <th>resolution</th>\n",
       "      <th>labourMinutes</th>\n",
       "      <th>sub category</th>\n",
       "      <th>theme</th>\n",
       "      <th>manualTags</th>\n",
       "      <th>pmComments</th>\n",
       "      <th>initialSupportPath</th>\n",
       "      <th>initialSupportPathCorrect</th>\n",
       "      <th>selfHelpExists</th>\n",
       "      <th>engrComments</th>\n",
       "      <th>supportPath</th>\n",
       "      <th>rootSupportPath</th>\n",
       "      <th>region</th>\n",
       "      <th>subRegion</th>\n",
       "      <th>title_SP</th>\n",
       "      <th>cause_SP</th>\n",
       "      <th>resolution_SP</th>\n",
       "      <th>title_SP_lemmatized</th>\n",
       "      <th>cause_SP_lemmatized</th>\n",
       "      <th>resolution_SP_lemmatized</th>\n",
       "      <th>title_SP_lemmatized_SW</th>\n",
       "      <th>cause_SP_lemmatized_SW</th>\n",
       "      <th>resolution_SP_lemmatized_SW</th>\n",
       "      <th>title_SP_lemmatized_SW_detok</th>\n",
       "      <th>cause_SP_lemmatized_SW_detok</th>\n",
       "      <th>resolution_SP_lemmatized_SW_detok</th>\n",
       "      <th>concatenated_text_detok</th>\n",
       "      <th>concatenated_text_tok</th>\n",
       "    </tr>\n",
       "  </thead>\n",
       "  <tbody>\n",
       "    <tr>\n",
       "      <th>0</th>\n",
       "      <td>2021-10-15</td>\n",
       "      <td>15-10-2021</td>\n",
       "      <td>2021-11-01</td>\n",
       "      <td>01-11-2021</td>\n",
       "      <td>2109130010001915</td>\n",
       "      <td>NO ICM</td>\n",
       "      <td>SERVER MIGRATION</td>\n",
       "      <td>Linux VM not booting after Migration</td>\n",
       "      <td>PG found that it's failing due to the label of...</td>\n",
       "      <td>Had to manually prep the server and move over ...</td>\n",
       "      <td>2527.0</td>\n",
       "      <td>POST MIGRATION</td>\n",
       "      <td>Boot issue</td>\n",
       "      <td>Linux, \\x, escape character</td>\n",
       "      <td>NaN</td>\n",
       "      <td>Routing Azure Migrate\\Migrating VMware VMs (ag...</td>\n",
       "      <td>NaN</td>\n",
       "      <td>NaN</td>\n",
       "      <td>NaN</td>\n",
       "      <td>Routing Azure Migrate\\Migrating VMware VMs (ag...</td>\n",
       "      <td>Root Cause - Azure Migrate\\VMware agentless to...</td>\n",
       "      <td>North America</td>\n",
       "      <td>United States</td>\n",
       "      <td>[linux, vm, not, booting, after, migration]</td>\n",
       "      <td>[pg, found, that, it, failing, due, to, the, l...</td>\n",
       "      <td>[had, to, manually, prep, the, server, and, mo...</td>\n",
       "      <td>[linux, vm, boot, migration]</td>\n",
       "      <td>[pg, find, fail, label, disk, have, name, actu...</td>\n",
       "      <td>[manually, prep, server, move, datum, disk, do...</td>\n",
       "      <td>[linux, vm, boot, migration]</td>\n",
       "      <td>[pg, find, fail, label, disk, name, actually, ...</td>\n",
       "      <td>[manually, prep, server, move, datum, disk, av...</td>\n",
       "      <td>linux vm boot migration</td>\n",
       "      <td>pg find fail label disk name actually escape c...</td>\n",
       "      <td>manually prep server move datum disk avoid dis...</td>\n",
       "      <td>linux vm boot migration pg find fail label dis...</td>\n",
       "      <td>[linux, vm, boot, migration, pg, find, fail, l...</td>\n",
       "    </tr>\n",
       "    <tr>\n",
       "      <th>1</th>\n",
       "      <td>2021-10-15</td>\n",
       "      <td>15-10-2021</td>\n",
       "      <td>2021-11-01</td>\n",
       "      <td>01-11-2021</td>\n",
       "      <td>2107280060003266</td>\n",
       "      <td>NO ICM</td>\n",
       "      <td>SERVER MIGRATION</td>\n",
       "      <td>Azure site recovery About the matter that the ...</td>\n",
       "      <td></td>\n",
       "      <td>Regarding this matter, we received a lot of ti...</td>\n",
       "      <td>1710.0</td>\n",
       "      <td>REPLICATION</td>\n",
       "      <td>Slow or stuck process</td>\n",
       "      <td>Network bandwidth, limit set</td>\n",
       "      <td>NaN</td>\n",
       "      <td>Routing Azure Site Recovery V2\\I am trying to ...</td>\n",
       "      <td>NaN</td>\n",
       "      <td>NaN</td>\n",
       "      <td>NaN</td>\n",
       "      <td>Routing Azure Migrate\\Migrating physical serve...</td>\n",
       "      <td>Root Cause - Azure Migrate\\Outage</td>\n",
       "      <td>LatAm</td>\n",
       "      <td>Argentina &amp; Uruguay</td>\n",
       "      <td>[azure, site, recovery, about, the, matter, th...</td>\n",
       "      <td>[]</td>\n",
       "      <td>[regarding, this, matter, we, received, lot, o...</td>\n",
       "      <td>[azure, site, recovery, matter, bandwidth, con...</td>\n",
       "      <td>[]</td>\n",
       "      <td>[regard, matter, receive, lot, time, cooperati...</td>\n",
       "      <td>[azure, site, recovery, matter, bandwidth, con...</td>\n",
       "      <td>[]</td>\n",
       "      <td>[regard, matter, receive, lot, time, cooperati...</td>\n",
       "      <td>azure site recovery matter bandwidth control p...</td>\n",
       "      <td></td>\n",
       "      <td>regard matter receive lot time cooperation con...</td>\n",
       "      <td>azure site recovery matter bandwidth control p...</td>\n",
       "      <td>[azure, site, recovery, matter, bandwidth, con...</td>\n",
       "    </tr>\n",
       "  </tbody>\n",
       "</table>\n",
       "</div>"
      ],
      "text/plain": [
       "  createdDateTime   createDay closedDateTime   closedDay        incidentID  \\\n",
       "0      2021-10-15  15-10-2021     2021-11-01  01-11-2021  2109130010001915   \n",
       "1      2021-10-15  15-10-2021     2021-11-01  01-11-2021  2107280060003266   \n",
       "\n",
       "      ICM          category  \\\n",
       "0  NO ICM  SERVER MIGRATION   \n",
       "1  NO ICM  SERVER MIGRATION   \n",
       "\n",
       "                                               title  \\\n",
       "0               Linux VM not booting after Migration   \n",
       "1  Azure site recovery About the matter that the ...   \n",
       "\n",
       "                                               cause  \\\n",
       "0  PG found that it's failing due to the label of...   \n",
       "1                                                      \n",
       "\n",
       "                                          resolution  labourMinutes  \\\n",
       "0  Had to manually prep the server and move over ...         2527.0   \n",
       "1  Regarding this matter, we received a lot of ti...         1710.0   \n",
       "\n",
       "     sub category                  theme                    manualTags  \\\n",
       "0  POST MIGRATION             Boot issue   Linux, \\x, escape character   \n",
       "1     REPLICATION  Slow or stuck process  Network bandwidth, limit set   \n",
       "\n",
       "   pmComments                                 initialSupportPath  \\\n",
       "0         NaN  Routing Azure Migrate\\Migrating VMware VMs (ag...   \n",
       "1         NaN  Routing Azure Site Recovery V2\\I am trying to ...   \n",
       "\n",
       "  initialSupportPathCorrect selfHelpExists  engrComments  \\\n",
       "0                       NaN            NaN           NaN   \n",
       "1                       NaN            NaN           NaN   \n",
       "\n",
       "                                         supportPath  \\\n",
       "0  Routing Azure Migrate\\Migrating VMware VMs (ag...   \n",
       "1  Routing Azure Migrate\\Migrating physical serve...   \n",
       "\n",
       "                                     rootSupportPath         region  \\\n",
       "0  Root Cause - Azure Migrate\\VMware agentless to...  North America   \n",
       "1                  Root Cause - Azure Migrate\\Outage          LatAm   \n",
       "\n",
       "             subRegion                                           title_SP  \\\n",
       "0        United States        [linux, vm, not, booting, after, migration]   \n",
       "1  Argentina & Uruguay  [azure, site, recovery, about, the, matter, th...   \n",
       "\n",
       "                                            cause_SP  \\\n",
       "0  [pg, found, that, it, failing, due, to, the, l...   \n",
       "1                                                 []   \n",
       "\n",
       "                                       resolution_SP  \\\n",
       "0  [had, to, manually, prep, the, server, and, mo...   \n",
       "1  [regarding, this, matter, we, received, lot, o...   \n",
       "\n",
       "                                 title_SP_lemmatized  \\\n",
       "0                       [linux, vm, boot, migration]   \n",
       "1  [azure, site, recovery, matter, bandwidth, con...   \n",
       "\n",
       "                                 cause_SP_lemmatized  \\\n",
       "0  [pg, find, fail, label, disk, have, name, actu...   \n",
       "1                                                 []   \n",
       "\n",
       "                            resolution_SP_lemmatized  \\\n",
       "0  [manually, prep, server, move, datum, disk, do...   \n",
       "1  [regard, matter, receive, lot, time, cooperati...   \n",
       "\n",
       "                              title_SP_lemmatized_SW  \\\n",
       "0                       [linux, vm, boot, migration]   \n",
       "1  [azure, site, recovery, matter, bandwidth, con...   \n",
       "\n",
       "                              cause_SP_lemmatized_SW  \\\n",
       "0  [pg, find, fail, label, disk, name, actually, ...   \n",
       "1                                                 []   \n",
       "\n",
       "                         resolution_SP_lemmatized_SW  \\\n",
       "0  [manually, prep, server, move, datum, disk, av...   \n",
       "1  [regard, matter, receive, lot, time, cooperati...   \n",
       "\n",
       "                        title_SP_lemmatized_SW_detok  \\\n",
       "0                            linux vm boot migration   \n",
       "1  azure site recovery matter bandwidth control p...   \n",
       "\n",
       "                        cause_SP_lemmatized_SW_detok  \\\n",
       "0  pg find fail label disk name actually escape c...   \n",
       "1                                                      \n",
       "\n",
       "                   resolution_SP_lemmatized_SW_detok  \\\n",
       "0  manually prep server move datum disk avoid dis...   \n",
       "1  regard matter receive lot time cooperation con...   \n",
       "\n",
       "                             concatenated_text_detok  \\\n",
       "0  linux vm boot migration pg find fail label dis...   \n",
       "1  azure site recovery matter bandwidth control p...   \n",
       "\n",
       "                               concatenated_text_tok  \n",
       "0  [linux, vm, boot, migration, pg, find, fail, l...  \n",
       "1  [azure, site, recovery, matter, bandwidth, con...  "
      ]
     },
     "execution_count": 403,
     "metadata": {},
     "output_type": "execute_result"
    }
   ],
   "source": [
    "data.head(2)"
   ]
  },
  {
   "cell_type": "code",
   "execution_count": 404,
   "id": "82a490b4-69b7-4652-982a-f0e287ad427a",
   "metadata": {},
   "outputs": [
    {
     "data": {
      "image/png": "[encoded data removed]",
      "text/plain": [
       "<PIL.Image.Image image mode=RGB size=400x200 at 0x248E78A0670>"
      ]
     },
     "execution_count": 404,
     "metadata": {},
     "output_type": "execute_result"
    }
   ],
   "source": [
    "WordCloud().generate(\" \".join(data['concatenated_text_detok'].tolist())).to_image()"
   ]
  },
  {
   "cell_type": "code",
   "execution_count": 405,
   "id": "b29575b1-0597-4d95-942b-790678f00200",
   "metadata": {},
   "outputs": [
    {
     "data": {
      "text/plain": [
       "[('server', 1),\n",
       " ('stick', 1),\n",
       " ('migration', 1),\n",
       " ('ir', 1),\n",
       " ('occupy', 1),\n",
       " ('bandwidth', 1),\n",
       " ('get', 1),\n",
       " ('auto', 1),\n",
       " ('resolve', 1),\n",
       " ('later', 1)]"
      ]
     },
     "execution_count": 405,
     "metadata": {},
     "output_type": "execute_result"
    }
   ],
   "source": [
    "from collections import Counter\n",
    "Counter(data.concatenated_text_detok[8].split()).most_common()"
   ]
  },
  {
   "cell_type": "code",
   "execution_count": 406,
   "id": "d1669d81-15ec-4c51-bc2a-2af81ed8770c",
   "metadata": {
    "collapsed": true,
    "jupyter": {
     "outputs_hidden": true
    },
    "tags": []
   },
   "outputs": [
    {
     "data": {
      "text/plain": [
       "manual             1\n",
       "hkhs               1\n",
       "kms                1\n",
       "alwayson           1\n",
       "speak              1\n",
       "storflt            1\n",
       "wms                1\n",
       "systemroot         1\n",
       "incomplete         1\n",
       "interrupted        1\n",
       "vddk               1\n",
       "library            1\n",
       "official           1\n",
       "fs                 1\n",
       "red                1\n",
       "edition            1\n",
       "assignment         1\n",
       "artifact           1\n",
       "rdm                1\n",
       "secure             1\n",
       "outdated           1\n",
       "recalculation      1\n",
       "mysql              1\n",
       "acquisition        1\n",
       "much               1\n",
       "produce            1\n",
       "nslookup           1\n",
       "your_vault_name    1\n",
       "aur                1\n",
       "bpm                1\n",
       "permiite           1\n",
       "achieve            1\n",
       "residual           1\n",
       "behind             1\n",
       "sso                1\n",
       "obvious            1\n",
       "migarte            1\n",
       "vdi                1\n",
       "waagent            1\n",
       "opening            1\n",
       "thing              1\n",
       "abrs               1\n",
       "concern            1\n",
       "hat                1\n",
       "exclusion          1\n",
       "chroot             1\n",
       "ivirtualmachine    1\n",
       "oneway             1\n",
       "timespan           1\n",
       "invokeservice      1\n",
       "methodcall         1\n",
       "reqmsg             1\n",
       "retmsg             1\n",
       "privateinvoke      1\n",
       "messagedata        1\n",
       "msgdata            1\n",
       "vim                1\n",
       "vimporttype        1\n",
       "vmview             1\n",
       "proxyrpc           1\n",
       "guestauth          1\n",
       "envvariable        1\n",
       "existence          1\n",
       "whole              1\n",
       "tnc                1\n",
       "pic                1\n",
       "green              1\n",
       "important          1\n",
       "prefix             1\n",
       "gwsa               1\n",
       "hit                1\n",
       "rpc                1\n",
       "handlereply        1\n",
       "jx                 1\n",
       "around             1\n",
       "import             1\n",
       "containerized      1\n",
       "automate           1\n",
       "prerequisite       1\n",
       "kanafure           1\n",
       "jbcc               1\n",
       "mr                 1\n",
       "nishimura          1\n",
       "awareness          1\n",
       "background         1\n",
       "beginning          1\n",
       "train              1\n",
       "variable           1\n",
       "dependencymap      1\n",
       "appsandrole        1\n",
       "vmsignatureid      1\n",
       "da                 1\n",
       "df                 1\n",
       "discoverystatus    1\n",
       "metric             1\n",
       "unexpected         1\n",
       "hostview           1\n",
       "datacenterview     1\n",
       "environmental      1\n",
       "submit             1\n",
       "dtype: int64"
      ]
     },
     "execution_count": 406,
     "metadata": {},
     "output_type": "execute_result"
    }
   ],
   "source": [
    "data.concatenated_text_detok.str.split(expand=True).stack().value_counts().tail(100)"
   ]
  },
  {
   "cell_type": "code",
   "execution_count": null,
   "id": "34b47527-5b00-4bbc-b952-fd5250e113d5",
   "metadata": {},
   "outputs": [],
   "source": []
  },
  {
   "cell_type": "code",
   "execution_count": 407,
   "id": "564e747a-9307-4a34-a80e-e272c8255143",
   "metadata": {},
   "outputs": [],
   "source": [
    "## Bigrams and Trigrams"
   ]
  },
  {
   "cell_type": "code",
   "execution_count": 408,
   "id": "7bb8a5cc-81ba-4ba1-90c9-dd1b5cac0273",
   "metadata": {},
   "outputs": [],
   "source": [
    "# bigram_phrases = gensim.models.Phrases(data['concatenated_text_tok'], min_count=2, threshold=50)\n",
    "# trigram_phrases = gensim.models.Phrases(bigram_phrases[data['concatenated_text_tok']], min_count=2, threshold=50)\n",
    "\n",
    "# bigram = gensim.models.phrases.Phraser(bigram_phrases)\n",
    "# trigram = gensim.models.phrases.Phraser(trigram_phrases)\n",
    "\n",
    "# def make_bigrams(texts):\n",
    "#     return (bigram[doc] for doc in texts)\n",
    "\n",
    "# def make_trigrams(texts):\n",
    "#     return (trigram[bigram[doc]] for doc in texts)          \n",
    "\n",
    "\n",
    "# data_bigrams = make_bigrams(data['concatenated_text_tok'])\n",
    "# data_bigrams_trigrams = make_trigrams(data_bigrams)\n"
   ]
  },
  {
   "cell_type": "code",
   "execution_count": 409,
   "id": "1b7fcc54-0943-40e9-8991-26842b30ce1b",
   "metadata": {},
   "outputs": [],
   "source": [
    "#next(data_bigrams)"
   ]
  },
  {
   "cell_type": "code",
   "execution_count": null,
   "id": "b56a63d5-f04d-41a1-8da7-efb3c875473e",
   "metadata": {},
   "outputs": [],
   "source": []
  },
  {
   "cell_type": "code",
   "execution_count": 410,
   "id": "20575c1a-1b09-4e48-bbe8-402d853d8f82",
   "metadata": {},
   "outputs": [],
   "source": [
    "## Verification of how corpus and id2word work\n",
    "\n",
    "# id2word = corpora.Dictionary([['My', 'Name', 'is', 'Sahil', 'and', 'I', 'am', 'Sahil', 'Singh'],['I','am','Manpreet']])\n",
    "\n",
    "# print(id2word)\n",
    "\n",
    "# [id2word.doc2bow(text) for text in [['My', 'Name', 'is', 'Sahil', 'and', 'I', 'am', 'Sahil', 'Singh'],['I','am','Manpreet']]]"
   ]
  },
  {
   "cell_type": "code",
   "execution_count": null,
   "id": "c634d83a-3457-4532-905a-f401662b118f",
   "metadata": {},
   "outputs": [],
   "source": []
  },
  {
   "cell_type": "code",
   "execution_count": 411,
   "id": "32a85458-6f4a-45b6-9ed9-c484549d387d",
   "metadata": {},
   "outputs": [],
   "source": [
    "## "
   ]
  },
  {
   "cell_type": "code",
   "execution_count": 412,
   "id": "420273d4-db9d-45b6-874b-0d72c8dc5423",
   "metadata": {},
   "outputs": [],
   "source": [
    "word_df = pd.DataFrame(data.concatenated_text_detok.str.split(expand=True).stack().value_counts())\n",
    "word_df.reset_index(inplace=True)\n",
    "word_df.rename(columns={'index':'word',0:'Frequency'},inplace=True)"
   ]
  },
  {
   "cell_type": "code",
   "execution_count": 413,
   "id": "2ff72c9d-cec1-404a-819f-6d5f792d6e40",
   "metadata": {},
   "outputs": [
    {
     "data": {
      "text/plain": [
       "(1703, 2)"
      ]
     },
     "execution_count": 413,
     "metadata": {},
     "output_type": "execute_result"
    }
   ],
   "source": [
    "word_df.shape"
   ]
  },
  {
   "cell_type": "code",
   "execution_count": 414,
   "id": "e26f7b6f-fbca-4ae3-bb00-f905ed93040e",
   "metadata": {},
   "outputs": [
    {
     "data": {
      "text/html": [
       "<div>\n",
       "<style scoped>\n",
       "    .dataframe tbody tr th:only-of-type {\n",
       "        vertical-align: middle;\n",
       "    }\n",
       "\n",
       "    .dataframe tbody tr th {\n",
       "        vertical-align: top;\n",
       "    }\n",
       "\n",
       "    .dataframe thead th {\n",
       "        text-align: right;\n",
       "    }\n",
       "</style>\n",
       "<table border=\"1\" class=\"dataframe\">\n",
       "  <thead>\n",
       "    <tr style=\"text-align: right;\">\n",
       "      <th></th>\n",
       "      <th>word</th>\n",
       "      <th>Frequency</th>\n",
       "    </tr>\n",
       "  </thead>\n",
       "  <tbody>\n",
       "    <tr>\n",
       "      <th>0</th>\n",
       "      <td>azure</td>\n",
       "      <td>447</td>\n",
       "    </tr>\n",
       "    <tr>\n",
       "      <th>1</th>\n",
       "      <td>migrate</td>\n",
       "      <td>401</td>\n",
       "    </tr>\n",
       "    <tr>\n",
       "      <th>2</th>\n",
       "      <td>migration</td>\n",
       "      <td>277</td>\n",
       "    </tr>\n",
       "    <tr>\n",
       "      <th>3</th>\n",
       "      <td>replication</td>\n",
       "      <td>257</td>\n",
       "    </tr>\n",
       "    <tr>\n",
       "      <th>4</th>\n",
       "      <td>vm</td>\n",
       "      <td>225</td>\n",
       "    </tr>\n",
       "  </tbody>\n",
       "</table>\n",
       "</div>"
      ],
      "text/plain": [
       "          word  Frequency\n",
       "0        azure        447\n",
       "1      migrate        401\n",
       "2    migration        277\n",
       "3  replication        257\n",
       "4           vm        225"
      ]
     },
     "execution_count": 414,
     "metadata": {},
     "output_type": "execute_result"
    }
   ],
   "source": [
    "word_df.head()"
   ]
  },
  {
   "cell_type": "code",
   "execution_count": 415,
   "id": "563257f8-65b6-430f-8450-ff6d49a3ac12",
   "metadata": {},
   "outputs": [],
   "source": [
    "def word_count(text):\n",
    "    return data.concatenated_text_detok.str.contains(text).sum()"
   ]
  },
  {
   "cell_type": "code",
   "execution_count": 416,
   "id": "59de900b-6272-491b-815d-79cfb4fe5c52",
   "metadata": {},
   "outputs": [],
   "source": [
    "word_df['Doc_Presence_Count']=word_df['word'].apply(lambda x: word_count(x))"
   ]
  },
  {
   "cell_type": "code",
   "execution_count": 417,
   "id": "5698e9ab-e729-4416-8637-8b5ac9eef610",
   "metadata": {},
   "outputs": [],
   "source": [
    "word_df_2= word_df[(word_df.Frequency>3) & (word_df.Doc_Presence_Count<int(len(data)*.6))]"
   ]
  },
  {
   "cell_type": "code",
   "execution_count": 418,
   "id": "7316e25c-8644-4fbe-8399-7289cee2f5bd",
   "metadata": {},
   "outputs": [
    {
     "data": {
      "text/plain": [
       "(543, 3)"
      ]
     },
     "execution_count": 418,
     "metadata": {},
     "output_type": "execute_result"
    }
   ],
   "source": [
    "word_df_2.shape"
   ]
  },
  {
   "cell_type": "code",
   "execution_count": 419,
   "id": "ae4d2232-ba77-4d35-83b2-09c1b9579e89",
   "metadata": {},
   "outputs": [
    {
     "data": {
      "text/html": [
       "<div>\n",
       "<style scoped>\n",
       "    .dataframe tbody tr th:only-of-type {\n",
       "        vertical-align: middle;\n",
       "    }\n",
       "\n",
       "    .dataframe tbody tr th {\n",
       "        vertical-align: top;\n",
       "    }\n",
       "\n",
       "    .dataframe thead th {\n",
       "        text-align: right;\n",
       "    }\n",
       "</style>\n",
       "<table border=\"1\" class=\"dataframe\">\n",
       "  <thead>\n",
       "    <tr style=\"text-align: right;\">\n",
       "      <th></th>\n",
       "      <th>word</th>\n",
       "      <th>Frequency</th>\n",
       "      <th>Doc_Presence_Count</th>\n",
       "    </tr>\n",
       "  </thead>\n",
       "  <tbody>\n",
       "    <tr>\n",
       "      <th>0</th>\n",
       "      <td>azure</td>\n",
       "      <td>447</td>\n",
       "      <td>294</td>\n",
       "    </tr>\n",
       "    <tr>\n",
       "      <th>1</th>\n",
       "      <td>migrate</td>\n",
       "      <td>401</td>\n",
       "      <td>266</td>\n",
       "    </tr>\n",
       "    <tr>\n",
       "      <th>2</th>\n",
       "      <td>migration</td>\n",
       "      <td>277</td>\n",
       "      <td>198</td>\n",
       "    </tr>\n",
       "    <tr>\n",
       "      <th>3</th>\n",
       "      <td>replication</td>\n",
       "      <td>257</td>\n",
       "      <td>185</td>\n",
       "    </tr>\n",
       "    <tr>\n",
       "      <th>4</th>\n",
       "      <td>vm</td>\n",
       "      <td>225</td>\n",
       "      <td>229</td>\n",
       "    </tr>\n",
       "  </tbody>\n",
       "</table>\n",
       "</div>"
      ],
      "text/plain": [
       "          word  Frequency  Doc_Presence_Count\n",
       "0        azure        447                 294\n",
       "1      migrate        401                 266\n",
       "2    migration        277                 198\n",
       "3  replication        257                 185\n",
       "4           vm        225                 229"
      ]
     },
     "execution_count": 419,
     "metadata": {},
     "output_type": "execute_result"
    }
   ],
   "source": [
    "word_df_2.head()"
   ]
  },
  {
   "cell_type": "code",
   "execution_count": 420,
   "id": "6aeb9c5a-b9ea-4ed1-be4a-057a0b88e288",
   "metadata": {
    "tags": []
   },
   "outputs": [],
   "source": [
    "#[word for word in data.concatenated_text_tok[0]]"
   ]
  },
  {
   "cell_type": "code",
   "execution_count": 421,
   "id": "bc53b288-b000-4654-87c3-9bd24bcfa594",
   "metadata": {},
   "outputs": [],
   "source": [
    "mylambdafunc = lambda i: [word for word in data.concatenated_text_tok[i] if word_df_2.word.str.contains(word).any() ]"
   ]
  },
  {
   "cell_type": "code",
   "execution_count": 422,
   "id": "73e22a85-efdc-43a9-baa9-9a6cd15ff1b4",
   "metadata": {},
   "outputs": [],
   "source": [
    "data['concatenated_text_tok_wordcount']=[mylambdafunc(i) for i in range(0,len(data))]"
   ]
  },
  {
   "cell_type": "code",
   "execution_count": 423,
   "id": "734535a9-d81c-40ba-b89c-9c0314b629bd",
   "metadata": {},
   "outputs": [
    {
     "data": {
      "text/html": [
       "<div>\n",
       "<style scoped>\n",
       "    .dataframe tbody tr th:only-of-type {\n",
       "        vertical-align: middle;\n",
       "    }\n",
       "\n",
       "    .dataframe tbody tr th {\n",
       "        vertical-align: top;\n",
       "    }\n",
       "\n",
       "    .dataframe thead th {\n",
       "        text-align: right;\n",
       "    }\n",
       "</style>\n",
       "<table border=\"1\" class=\"dataframe\">\n",
       "  <thead>\n",
       "    <tr style=\"text-align: right;\">\n",
       "      <th></th>\n",
       "      <th>createdDateTime</th>\n",
       "      <th>createDay</th>\n",
       "      <th>closedDateTime</th>\n",
       "      <th>closedDay</th>\n",
       "      <th>incidentID</th>\n",
       "      <th>ICM</th>\n",
       "      <th>category</th>\n",
       "      <th>title</th>\n",
       "      <th>cause</th>\n",
       "      <th>resolution</th>\n",
       "      <th>labourMinutes</th>\n",
       "      <th>sub category</th>\n",
       "      <th>theme</th>\n",
       "      <th>manualTags</th>\n",
       "      <th>pmComments</th>\n",
       "      <th>initialSupportPath</th>\n",
       "      <th>initialSupportPathCorrect</th>\n",
       "      <th>selfHelpExists</th>\n",
       "      <th>engrComments</th>\n",
       "      <th>supportPath</th>\n",
       "      <th>rootSupportPath</th>\n",
       "      <th>region</th>\n",
       "      <th>subRegion</th>\n",
       "      <th>title_SP</th>\n",
       "      <th>cause_SP</th>\n",
       "      <th>resolution_SP</th>\n",
       "      <th>title_SP_lemmatized</th>\n",
       "      <th>cause_SP_lemmatized</th>\n",
       "      <th>resolution_SP_lemmatized</th>\n",
       "      <th>title_SP_lemmatized_SW</th>\n",
       "      <th>cause_SP_lemmatized_SW</th>\n",
       "      <th>resolution_SP_lemmatized_SW</th>\n",
       "      <th>title_SP_lemmatized_SW_detok</th>\n",
       "      <th>cause_SP_lemmatized_SW_detok</th>\n",
       "      <th>resolution_SP_lemmatized_SW_detok</th>\n",
       "      <th>concatenated_text_detok</th>\n",
       "      <th>concatenated_text_tok</th>\n",
       "      <th>concatenated_text_tok_wordcount</th>\n",
       "    </tr>\n",
       "  </thead>\n",
       "  <tbody>\n",
       "    <tr>\n",
       "      <th>0</th>\n",
       "      <td>2021-10-15</td>\n",
       "      <td>15-10-2021</td>\n",
       "      <td>2021-11-01</td>\n",
       "      <td>01-11-2021</td>\n",
       "      <td>2109130010001915</td>\n",
       "      <td>NO ICM</td>\n",
       "      <td>SERVER MIGRATION</td>\n",
       "      <td>Linux VM not booting after Migration</td>\n",
       "      <td>PG found that it's failing due to the label of...</td>\n",
       "      <td>Had to manually prep the server and move over ...</td>\n",
       "      <td>2527.0</td>\n",
       "      <td>POST MIGRATION</td>\n",
       "      <td>Boot issue</td>\n",
       "      <td>Linux, \\x, escape character</td>\n",
       "      <td>NaN</td>\n",
       "      <td>Routing Azure Migrate\\Migrating VMware VMs (ag...</td>\n",
       "      <td>NaN</td>\n",
       "      <td>NaN</td>\n",
       "      <td>NaN</td>\n",
       "      <td>Routing Azure Migrate\\Migrating VMware VMs (ag...</td>\n",
       "      <td>Root Cause - Azure Migrate\\VMware agentless to...</td>\n",
       "      <td>North America</td>\n",
       "      <td>United States</td>\n",
       "      <td>[linux, vm, not, booting, after, migration]</td>\n",
       "      <td>[pg, found, that, it, failing, due, to, the, l...</td>\n",
       "      <td>[had, to, manually, prep, the, server, and, mo...</td>\n",
       "      <td>[linux, vm, boot, migration]</td>\n",
       "      <td>[pg, find, fail, label, disk, have, name, actu...</td>\n",
       "      <td>[manually, prep, server, move, datum, disk, do...</td>\n",
       "      <td>[linux, vm, boot, migration]</td>\n",
       "      <td>[pg, find, fail, label, disk, name, actually, ...</td>\n",
       "      <td>[manually, prep, server, move, datum, disk, av...</td>\n",
       "      <td>linux vm boot migration</td>\n",
       "      <td>pg find fail label disk name actually escape c...</td>\n",
       "      <td>manually prep server move datum disk avoid dis...</td>\n",
       "      <td>linux vm boot migration pg find fail label dis...</td>\n",
       "      <td>[linux, vm, boot, migration, pg, find, fail, l...</td>\n",
       "      <td>[linux, vm, boot, migration, pg, find, fail, d...</td>\n",
       "    </tr>\n",
       "  </tbody>\n",
       "</table>\n",
       "</div>"
      ],
      "text/plain": [
       "  createdDateTime   createDay closedDateTime   closedDay        incidentID  \\\n",
       "0      2021-10-15  15-10-2021     2021-11-01  01-11-2021  2109130010001915   \n",
       "\n",
       "      ICM          category                                 title  \\\n",
       "0  NO ICM  SERVER MIGRATION  Linux VM not booting after Migration   \n",
       "\n",
       "                                               cause  \\\n",
       "0  PG found that it's failing due to the label of...   \n",
       "\n",
       "                                          resolution  labourMinutes  \\\n",
       "0  Had to manually prep the server and move over ...         2527.0   \n",
       "\n",
       "     sub category       theme                   manualTags  pmComments  \\\n",
       "0  POST MIGRATION  Boot issue  Linux, \\x, escape character         NaN   \n",
       "\n",
       "                                  initialSupportPath  \\\n",
       "0  Routing Azure Migrate\\Migrating VMware VMs (ag...   \n",
       "\n",
       "  initialSupportPathCorrect selfHelpExists  engrComments  \\\n",
       "0                       NaN            NaN           NaN   \n",
       "\n",
       "                                         supportPath  \\\n",
       "0  Routing Azure Migrate\\Migrating VMware VMs (ag...   \n",
       "\n",
       "                                     rootSupportPath         region  \\\n",
       "0  Root Cause - Azure Migrate\\VMware agentless to...  North America   \n",
       "\n",
       "       subRegion                                     title_SP  \\\n",
       "0  United States  [linux, vm, not, booting, after, migration]   \n",
       "\n",
       "                                            cause_SP  \\\n",
       "0  [pg, found, that, it, failing, due, to, the, l...   \n",
       "\n",
       "                                       resolution_SP  \\\n",
       "0  [had, to, manually, prep, the, server, and, mo...   \n",
       "\n",
       "            title_SP_lemmatized  \\\n",
       "0  [linux, vm, boot, migration]   \n",
       "\n",
       "                                 cause_SP_lemmatized  \\\n",
       "0  [pg, find, fail, label, disk, have, name, actu...   \n",
       "\n",
       "                            resolution_SP_lemmatized  \\\n",
       "0  [manually, prep, server, move, datum, disk, do...   \n",
       "\n",
       "         title_SP_lemmatized_SW  \\\n",
       "0  [linux, vm, boot, migration]   \n",
       "\n",
       "                              cause_SP_lemmatized_SW  \\\n",
       "0  [pg, find, fail, label, disk, name, actually, ...   \n",
       "\n",
       "                         resolution_SP_lemmatized_SW  \\\n",
       "0  [manually, prep, server, move, datum, disk, av...   \n",
       "\n",
       "  title_SP_lemmatized_SW_detok  \\\n",
       "0      linux vm boot migration   \n",
       "\n",
       "                        cause_SP_lemmatized_SW_detok  \\\n",
       "0  pg find fail label disk name actually escape c...   \n",
       "\n",
       "                   resolution_SP_lemmatized_SW_detok  \\\n",
       "0  manually prep server move datum disk avoid dis...   \n",
       "\n",
       "                             concatenated_text_detok  \\\n",
       "0  linux vm boot migration pg find fail label dis...   \n",
       "\n",
       "                               concatenated_text_tok  \\\n",
       "0  [linux, vm, boot, migration, pg, find, fail, l...   \n",
       "\n",
       "                     concatenated_text_tok_wordcount  \n",
       "0  [linux, vm, boot, migration, pg, find, fail, d...  "
      ]
     },
     "execution_count": 423,
     "metadata": {},
     "output_type": "execute_result"
    }
   ],
   "source": [
    "data.head(1)"
   ]
  },
  {
   "cell_type": "code",
   "execution_count": null,
   "id": "92df6cd5-2fa9-460b-a9d2-7ec5b023e253",
   "metadata": {},
   "outputs": [],
   "source": []
  },
  {
   "cell_type": "code",
   "execution_count": 424,
   "id": "6257e3f9-e2b8-4192-9be4-05c738d768de",
   "metadata": {},
   "outputs": [],
   "source": [
    "text_data=data['concatenated_text_tok_wordcount']"
   ]
  },
  {
   "cell_type": "code",
   "execution_count": 425,
   "id": "0200f04c-4af5-4df5-94fa-03776149a42c",
   "metadata": {},
   "outputs": [],
   "source": [
    "def func_dict(text_data):\n",
    "    id2word = corpora.Dictionary(text_data)\n",
    "    \n",
    "    corpus = [id2word.doc2bow(text) for text in text_data]\n",
    "    ## corpus is baically x,y representation of the tokens in the given data\n",
    "    \n",
    "    return id2word, corpus"
   ]
  },
  {
   "cell_type": "code",
   "execution_count": 426,
   "id": "9cf23aca-884a-4145-a74d-27ddd584039a",
   "metadata": {},
   "outputs": [],
   "source": [
    "id2word, corpus =func_dict(text_data)"
   ]
  },
  {
   "cell_type": "code",
   "execution_count": 427,
   "id": "51a2efb1-7452-4208-a34d-0d6c00f5d20f",
   "metadata": {},
   "outputs": [],
   "source": [
    "tfidf = TfidfModel(corpus=corpus, id2word=id2word)"
   ]
  },
  {
   "cell_type": "code",
   "execution_count": 428,
   "id": "35e367e3-c496-4365-8554-3821a2d8bb60",
   "metadata": {
    "tags": []
   },
   "outputs": [
    {
     "data": {
      "text/plain": [
       "['linux',\n",
       " 'vm',\n",
       " 'boot',\n",
       " 'migration',\n",
       " 'pg',\n",
       " 'find',\n",
       " 'fail',\n",
       " 'disk',\n",
       " 'name',\n",
       " 'character',\n",
       " 'cause',\n",
       " 'script',\n",
       " 'stop',\n",
       " 'finish',\n",
       " 'https',\n",
       " 'redact',\n",
       " 'imp',\n",
       " 'incident',\n",
       " 'detail']"
      ]
     },
     "execution_count": 428,
     "metadata": {},
     "output_type": "execute_result"
    }
   ],
   "source": [
    "text_data[0]\n",
    "#Here we have the word \"actually\" at 9th position, but in id2word dictionary this word is the the first word with index as 0.\n",
    "#Hence, x is 0 in the first x,y pair of corpus[0][0:5]\n",
    "\n",
    "#Then for y, we check the frequence of this word in this sentence, which is data['concatenated_text_tok'][0]. We see it's 1. hence, y is 1\n",
    "\n",
    "#There we have x,y as 0,1 as printed in the next cell"
   ]
  },
  {
   "cell_type": "code",
   "execution_count": 429,
   "id": "d55bdcdd-3292-4875-bf69-dc9dfe27192a",
   "metadata": {
    "tags": []
   },
   "outputs": [
    {
     "data": {
      "text/plain": [
       "[(0, 1),\n",
       " (1, 1),\n",
       " (2, 1),\n",
       " (3, 1),\n",
       " (4, 1),\n",
       " (5, 1),\n",
       " (6, 1),\n",
       " (7, 1),\n",
       " (8, 1),\n",
       " (9, 1),\n",
       " (10, 1),\n",
       " (11, 1),\n",
       " (12, 1),\n",
       " (13, 1),\n",
       " (14, 1),\n",
       " (15, 1),\n",
       " (16, 1),\n",
       " (17, 1),\n",
       " (18, 1)]"
      ]
     },
     "execution_count": 429,
     "metadata": {},
     "output_type": "execute_result"
    }
   ],
   "source": [
    "corpus[0] ##(x,y):  is the index-number of the word as per the id2word dictionary . y is the frequency i.e. how many times that word has occured"
   ]
  },
  {
   "cell_type": "code",
   "execution_count": 430,
   "id": "07d3d964-8a0f-42da-9451-d7b30f17b423",
   "metadata": {
    "tags": []
   },
   "outputs": [
    {
     "data": {
      "text/html": [
       "<div>\n",
       "<style scoped>\n",
       "    .dataframe tbody tr th:only-of-type {\n",
       "        vertical-align: middle;\n",
       "    }\n",
       "\n",
       "    .dataframe tbody tr th {\n",
       "        vertical-align: top;\n",
       "    }\n",
       "\n",
       "    .dataframe thead th {\n",
       "        text-align: right;\n",
       "    }\n",
       "</style>\n",
       "<table border=\"1\" class=\"dataframe\">\n",
       "  <thead>\n",
       "    <tr style=\"text-align: right;\">\n",
       "      <th></th>\n",
       "      <th>Index_Position</th>\n",
       "      <th>TF-IDF_value</th>\n",
       "    </tr>\n",
       "  </thead>\n",
       "  <tbody>\n",
       "    <tr>\n",
       "      <th>boot</th>\n",
       "      <td>0</td>\n",
       "      <td>0.213768</td>\n",
       "    </tr>\n",
       "    <tr>\n",
       "      <th>cause</th>\n",
       "      <td>1</td>\n",
       "      <td>0.149595</td>\n",
       "    </tr>\n",
       "    <tr>\n",
       "      <th>character</th>\n",
       "      <td>2</td>\n",
       "      <td>0.306448</td>\n",
       "    </tr>\n",
       "    <tr>\n",
       "      <th>detail</th>\n",
       "      <td>3</td>\n",
       "      <td>0.225003</td>\n",
       "    </tr>\n",
       "    <tr>\n",
       "      <th>disk</th>\n",
       "      <td>4</td>\n",
       "      <td>0.148398</td>\n",
       "    </tr>\n",
       "    <tr>\n",
       "      <th>fail</th>\n",
       "      <td>5</td>\n",
       "      <td>0.111265</td>\n",
       "    </tr>\n",
       "    <tr>\n",
       "      <th>find</th>\n",
       "      <td>6</td>\n",
       "      <td>0.198664</td>\n",
       "    </tr>\n",
       "    <tr>\n",
       "      <th>finish</th>\n",
       "      <td>7</td>\n",
       "      <td>0.306448</td>\n",
       "    </tr>\n",
       "    <tr>\n",
       "      <th>https</th>\n",
       "      <td>8</td>\n",
       "      <td>0.196041</td>\n",
       "    </tr>\n",
       "    <tr>\n",
       "      <th>imp</th>\n",
       "      <td>9</td>\n",
       "      <td>0.391869</td>\n",
       "    </tr>\n",
       "    <tr>\n",
       "      <th>incident</th>\n",
       "      <td>10</td>\n",
       "      <td>0.324174</td>\n",
       "    </tr>\n",
       "    <tr>\n",
       "      <th>linux</th>\n",
       "      <td>11</td>\n",
       "      <td>0.207276</td>\n",
       "    </tr>\n",
       "    <tr>\n",
       "      <th>migration</th>\n",
       "      <td>12</td>\n",
       "      <td>0.066325</td>\n",
       "    </tr>\n",
       "    <tr>\n",
       "      <th>name</th>\n",
       "      <td>13</td>\n",
       "      <td>0.225003</td>\n",
       "    </tr>\n",
       "    <tr>\n",
       "      <th>pg</th>\n",
       "      <td>14</td>\n",
       "      <td>0.281463</td>\n",
       "    </tr>\n",
       "    <tr>\n",
       "      <th>redact</th>\n",
       "      <td>15</td>\n",
       "      <td>0.176419</td>\n",
       "    </tr>\n",
       "    <tr>\n",
       "      <th>script</th>\n",
       "      <td>16</td>\n",
       "      <td>0.263737</td>\n",
       "    </tr>\n",
       "    <tr>\n",
       "      <th>stop</th>\n",
       "      <td>17</td>\n",
       "      <td>0.196041</td>\n",
       "    </tr>\n",
       "    <tr>\n",
       "      <th>vm</th>\n",
       "      <td>18</td>\n",
       "      <td>0.078759</td>\n",
       "    </tr>\n",
       "  </tbody>\n",
       "</table>\n",
       "</div>"
      ],
      "text/plain": [
       "           Index_Position  TF-IDF_value\n",
       "boot                    0      0.213768\n",
       "cause                   1      0.149595\n",
       "character               2      0.306448\n",
       "detail                  3      0.225003\n",
       "disk                    4      0.148398\n",
       "fail                    5      0.111265\n",
       "find                    6      0.198664\n",
       "finish                  7      0.306448\n",
       "https                   8      0.196041\n",
       "imp                     9      0.391869\n",
       "incident               10      0.324174\n",
       "linux                  11      0.207276\n",
       "migration              12      0.066325\n",
       "name                   13      0.225003\n",
       "pg                     14      0.281463\n",
       "redact                 15      0.176419\n",
       "script                 16      0.263737\n",
       "stop                   17      0.196041\n",
       "vm                     18      0.078759"
      ]
     },
     "execution_count": 430,
     "metadata": {},
     "output_type": "execute_result"
    }
   ],
   "source": [
    "pd.DataFrame(tfidf[corpus[0]],[id2word[id] for id,value in corpus[0]], columns=['Index_Position','TF-IDF_value'])"
   ]
  },
  {
   "cell_type": "code",
   "execution_count": null,
   "id": "717ea883-e576-4baa-a166-397fdcb6b838",
   "metadata": {},
   "outputs": [],
   "source": []
  },
  {
   "cell_type": "code",
   "execution_count": 431,
   "id": "53d8e0f8-f1a4-4bcb-9161-5e94a0d31ae0",
   "metadata": {},
   "outputs": [
    {
     "data": {
      "text/plain": [
       "19"
      ]
     },
     "execution_count": 431,
     "metadata": {},
     "output_type": "execute_result"
    }
   ],
   "source": [
    "len(corpus[0])"
   ]
  },
  {
   "cell_type": "code",
   "execution_count": 432,
   "id": "74749cd1-f81f-4e20-9bf4-338683e5822e",
   "metadata": {},
   "outputs": [
    {
     "data": {
      "text/plain": [
       "19"
      ]
     },
     "execution_count": 432,
     "metadata": {},
     "output_type": "execute_result"
    }
   ],
   "source": [
    "len(text_data[0])"
   ]
  },
  {
   "cell_type": "code",
   "execution_count": 433,
   "id": "b2226f5b-60b8-4931-879e-4288284a8b5b",
   "metadata": {},
   "outputs": [
    {
     "data": {
      "text/plain": [
       "'boot'"
      ]
     },
     "execution_count": 433,
     "metadata": {},
     "output_type": "execute_result"
    }
   ],
   "source": [
    "id2word[0] ## word at 0th index is \"actually\" and this word has occured only once in the given text, which hereb is data['cause_SP_lemmatized_SW'][0]"
   ]
  },
  {
   "cell_type": "code",
   "execution_count": 434,
   "id": "b2d6ac8d-d154-48bc-8abe-49627672bf93",
   "metadata": {},
   "outputs": [],
   "source": [
    "def func_tfidf_imp_words(corpus, id2word,cut_off=.2):\n",
    "    \n",
    "    corpus = corpus\n",
    "    id2word=id2word\n",
    "    low_value = cut_off\n",
    "    words = []\n",
    "    words_missing_in_tfidf=[]\n",
    "    \n",
    "    tfidf = TfidfModel(corpus=corpus, id2word=id2word)\n",
    "    \n",
    "    for i in range(0, len(corpus)):\n",
    "        bow = corpus[i]\n",
    "        low_value_words = []\n",
    "        tfidf_ids = [id for id,value in tfidf[bow]]\n",
    "        bow_ids = [id for id,value in bow]\n",
    "        low_value_words = [id for id,value in tfidf[bow] if value < low_value] ## add a condition to preserve some important words from a predefined dictionary - SlD (Support Language Dictionary)\n",
    "        drops = low_value_words + words_missing_in_tfidf\n",
    "        for item in drops:\n",
    "            words.append(id2word[item])\n",
    "        words_missing_in_tfidf = [id for id in bow_ids if id not in tfidf_ids] \n",
    "    \n",
    "        new_bow = [b for b in bow if b[0] not in low_value_words and b[0] not in words_missing_in_tfidf] ## b[0] is the index of the word\n",
    "        corpus[i] = new_bow\n",
    "    return corpus"
   ]
  },
  {
   "cell_type": "code",
   "execution_count": 435,
   "id": "6c6276b0-4a39-431f-96a1-556774255a60",
   "metadata": {},
   "outputs": [],
   "source": [
    "corpus = func_tfidf_imp_words(corpus, id2word, cut_off=.1)"
   ]
  },
  {
   "cell_type": "code",
   "execution_count": 436,
   "id": "5fd24662-a55e-4c1f-acda-2c30367f7500",
   "metadata": {},
   "outputs": [
    {
     "data": {
      "text/plain": [
       "[(0, 0.21491040042560283),\n",
       " (1, 0.1503943353140093),\n",
       " (2, 0.30808510322202304),\n",
       " (3, 0.22620487031396605),\n",
       " (4, 0.14919142223088697),\n",
       " (5, 0.11185945586288781),\n",
       " (6, 0.19972553545462246),\n",
       " (7, 0.30808510322202304),\n",
       " (8, 0.19708904917200107),\n",
       " (9, 0.39396337342443893),\n",
       " (10, 0.32590645447562483),\n",
       " (11, 0.2083835190603643),\n",
       " (13, 0.22620487031396605),\n",
       " (14, 0.2829673193744169),\n",
       " (15, 0.17736145282956753),\n",
       " (16, 0.26514596812081515),\n",
       " (17, 0.19708904917200107)]"
      ]
     },
     "execution_count": 436,
     "metadata": {},
     "output_type": "execute_result"
    }
   ],
   "source": [
    "tfidf[corpus[0]]"
   ]
  },
  {
   "cell_type": "code",
   "execution_count": 437,
   "id": "add7e221-9c99-413f-aa38-f39c71554b08",
   "metadata": {},
   "outputs": [
    {
     "data": {
      "text/plain": [
       "[0, 1, 2, 3, 4, 5, 6, 7, 8, 9, 10, 11, 13, 14, 15, 16, 17]"
      ]
     },
     "execution_count": 437,
     "metadata": {},
     "output_type": "execute_result"
    }
   ],
   "source": [
    "[id for id,value in corpus[0]]"
   ]
  },
  {
   "cell_type": "code",
   "execution_count": 438,
   "id": "8ef4e254-2888-4177-83a9-86936c68386e",
   "metadata": {},
   "outputs": [
    {
     "data": {
      "text/plain": [
       "['boot',\n",
       " 'cause',\n",
       " 'character',\n",
       " 'detail',\n",
       " 'disk',\n",
       " 'fail',\n",
       " 'find',\n",
       " 'finish',\n",
       " 'https',\n",
       " 'imp',\n",
       " 'incident',\n",
       " 'linux',\n",
       " 'name',\n",
       " 'pg',\n",
       " 'redact',\n",
       " 'script',\n",
       " 'stop']"
      ]
     },
     "execution_count": 438,
     "metadata": {},
     "output_type": "execute_result"
    }
   ],
   "source": [
    "[id2word[id] for id,value in corpus[0]]"
   ]
  },
  {
   "cell_type": "code",
   "execution_count": 439,
   "id": "cbcc0c81-31b2-4277-82ea-1f56802ec648",
   "metadata": {},
   "outputs": [
    {
     "data": {
      "text/plain": [
       "17"
      ]
     },
     "execution_count": 439,
     "metadata": {},
     "output_type": "execute_result"
    }
   ],
   "source": [
    "len(corpus[0]) ### 22 reduced to 5"
   ]
  },
  {
   "cell_type": "code",
   "execution_count": 440,
   "id": "a55c770d-adaa-4a93-a604-f287a8b086d6",
   "metadata": {
    "tags": []
   },
   "outputs": [
    {
     "data": {
      "text/plain": [
       "[(0, 0.21491040042560283),\n",
       " (1, 0.1503943353140093),\n",
       " (2, 0.30808510322202304),\n",
       " (3, 0.22620487031396605),\n",
       " (4, 0.14919142223088697),\n",
       " (5, 0.11185945586288781),\n",
       " (6, 0.19972553545462246),\n",
       " (7, 0.30808510322202304),\n",
       " (8, 0.19708904917200107),\n",
       " (9, 0.39396337342443893),\n",
       " (10, 0.32590645447562483),\n",
       " (11, 0.2083835190603643),\n",
       " (13, 0.22620487031396605),\n",
       " (14, 0.2829673193744169),\n",
       " (15, 0.17736145282956753),\n",
       " (16, 0.26514596812081515),\n",
       " (17, 0.19708904917200107)]"
      ]
     },
     "execution_count": 440,
     "metadata": {},
     "output_type": "execute_result"
    }
   ],
   "source": [
    "tfidf[corpus[0]]"
   ]
  },
  {
   "cell_type": "code",
   "execution_count": 441,
   "id": "903b0deb-d064-425b-beef-71ac65fe0747",
   "metadata": {},
   "outputs": [
    {
     "data": {
      "text/plain": [
       "578"
      ]
     },
     "execution_count": 441,
     "metadata": {},
     "output_type": "execute_result"
    }
   ],
   "source": [
    "len(corpus)"
   ]
  },
  {
   "cell_type": "code",
   "execution_count": 442,
   "id": "703a8b76-0cf2-4399-8fcf-061af6490bdf",
   "metadata": {},
   "outputs": [],
   "source": [
    "## Elbow Curve to optimize the nujmber of topics"
   ]
  },
  {
   "cell_type": "code",
   "execution_count": 470,
   "id": "b23ce1c7-89aa-43b3-bf22-06831df48b03",
   "metadata": {},
   "outputs": [],
   "source": [
    "def my_lda_model(num_topics=5,id2word=id2word, corpus=corpus):\n",
    "    lda_model = gensim.models.ldamodel.LdaModel(\n",
    "                                            corpus = corpus,\n",
    "                                            id2word=id2word,\n",
    "                                            num_topics=num_topics,\n",
    "                                            random_state=100,\n",
    "                                            update_every=1,\n",
    "                                            chunksize=80,\n",
    "                                            passes=30,\n",
    "                                            alpha=\"auto\" ,\n",
    "                                            iterations=30\n",
    "                                            )\n",
    "    \n",
    "    return lda_model"
   ]
  },
  {
   "cell_type": "code",
   "execution_count": 471,
   "id": "86b4d4c4-4198-40a3-8d77-4503417b84b9",
   "metadata": {},
   "outputs": [
    {
     "data": {
      "text/plain": [
       "0.5005734914173521"
      ]
     },
     "execution_count": 471,
     "metadata": {},
     "output_type": "execute_result"
    }
   ],
   "source": [
    "# final_model= my_lda_model(num_topics=4,id2word=id2word, corpus=corpus)\n",
    "# cm = CoherenceModel(model=final_model, texts=text_data, dictionary=id2word, coherence='c_v')\n",
    "# cm.get_coherence()"
   ]
  },
  {
   "cell_type": "code",
   "execution_count": 212,
   "id": "788867d0-4c76-4400-bfe2-34da43c8238e",
   "metadata": {},
   "outputs": [],
   "source": [
    "#lda_model.log_perplexity(corpus)"
   ]
  },
  {
   "cell_type": "code",
   "execution_count": 472,
   "id": "2fdde03e-fe06-4f91-9073-fc92718c7278",
   "metadata": {},
   "outputs": [],
   "source": [
    "def func_topic_modelling(id2word, corpus, texts, min_topics=5, max_num_topics=30, topic_step=2):\n",
    "    coherence_values, model_list,num_topics = [],[],[]\n",
    "    for topic in range(min_topics, max_num_topics, topic_step):\n",
    "        #print(topic)\n",
    "        model = my_lda_model(num_topics=topic,id2word=id2word, corpus=corpus)\n",
    "        model_list.append(model)\n",
    "        cm = CoherenceModel(model=model, texts=texts, dictionary=id2word, coherence='c_v')\n",
    "        coherence_values.append(round(cm.get_coherence(),2))\n",
    "        num_topics.append(topic)\n",
    "    coherence_dict = {\"Num_Topics\":num_topics,\"Coherence_value\":coherence_values,\"Model\":model_list}    \n",
    "    return model_list, coherence_values, coherence_dict    "
   ]
  },
  {
   "cell_type": "code",
   "execution_count": 473,
   "id": "45e284b1-5537-4ebf-a1f8-0d813831fcb7",
   "metadata": {},
   "outputs": [
    {
     "name": "stdout",
     "output_type": "stream",
     "text": [
      "CPU times: total: 52.2 s\n",
      "Wall time: 1min 44s\n"
     ]
    }
   ],
   "source": [
    "%%time\n",
    "min_topics, max_num_topics, topic_step = 2,21,1\n",
    "model_list, coherence_values,coherence_dict = func_topic_modelling(id2word=id2word, \n",
    "                                                    corpus=corpus, \n",
    "                                                    texts=text_data, \n",
    "                                                    min_topics=min_topics, \n",
    "                                                    max_num_topics=max_num_topics, \n",
    "                                                    topic_step=topic_step)"
   ]
  },
  {
   "cell_type": "code",
   "execution_count": 474,
   "id": "f702cf5c-dc61-477f-82ac-6f4d4f8758bc",
   "metadata": {},
   "outputs": [
    {
     "data": {
      "image/png": "[encoded data removed]",
      "text/plain": [
       "<Figure size 432x288 with 1 Axes>"
      ]
     },
     "metadata": {
      "needs_background": "light"
     },
     "output_type": "display_data"
    }
   ],
   "source": [
    "x = range(min_topics, max_num_topics, topic_step)\n",
    "plt.plot(x, coherence_values)\n",
    "plt.xlabel(\"Num Topics\")\n",
    "plt.ylabel(\"Coherence score\")\n",
    "plt.legend((\"coherence_values\"), loc='best')\n",
    "plt.show()"
   ]
  },
  {
   "cell_type": "code",
   "execution_count": 475,
   "id": "ea68df6f-f6b6-4fa2-a536-07ad92b85db5",
   "metadata": {},
   "outputs": [],
   "source": [
    "coherence_df = pd.DataFrame(coherence_dict)\n",
    "coherence_df.sort_values(by='Coherence_value',ascending=False,inplace=True)\n",
    "coherence_df.reset_index(drop=True,inplace=True)"
   ]
  },
  {
   "cell_type": "code",
   "execution_count": 476,
   "id": "2e526def-a412-43f6-8405-b9e7ee317aa0",
   "metadata": {},
   "outputs": [
    {
     "data": {
      "text/html": [
       "<div>\n",
       "<style scoped>\n",
       "    .dataframe tbody tr th:only-of-type {\n",
       "        vertical-align: middle;\n",
       "    }\n",
       "\n",
       "    .dataframe tbody tr th {\n",
       "        vertical-align: top;\n",
       "    }\n",
       "\n",
       "    .dataframe thead th {\n",
       "        text-align: right;\n",
       "    }\n",
       "</style>\n",
       "<table border=\"1\" class=\"dataframe\">\n",
       "  <thead>\n",
       "    <tr style=\"text-align: right;\">\n",
       "      <th></th>\n",
       "      <th>Num_Topics</th>\n",
       "      <th>Coherence_value</th>\n",
       "      <th>Model</th>\n",
       "    </tr>\n",
       "  </thead>\n",
       "  <tbody>\n",
       "    <tr>\n",
       "      <th>0</th>\n",
       "      <td>4</td>\n",
       "      <td>0.50</td>\n",
       "      <td>LdaModel(num_terms=672, num_topics=4, decay=0....</td>\n",
       "    </tr>\n",
       "    <tr>\n",
       "      <th>1</th>\n",
       "      <td>17</td>\n",
       "      <td>0.45</td>\n",
       "      <td>LdaModel(num_terms=672, num_topics=17, decay=0...</td>\n",
       "    </tr>\n",
       "    <tr>\n",
       "      <th>2</th>\n",
       "      <td>11</td>\n",
       "      <td>0.44</td>\n",
       "      <td>LdaModel(num_terms=672, num_topics=11, decay=0...</td>\n",
       "    </tr>\n",
       "    <tr>\n",
       "      <th>3</th>\n",
       "      <td>19</td>\n",
       "      <td>0.44</td>\n",
       "      <td>LdaModel(num_terms=672, num_topics=19, decay=0...</td>\n",
       "    </tr>\n",
       "  </tbody>\n",
       "</table>\n",
       "</div>"
      ],
      "text/plain": [
       "   Num_Topics  Coherence_value  \\\n",
       "0           4             0.50   \n",
       "1          17             0.45   \n",
       "2          11             0.44   \n",
       "3          19             0.44   \n",
       "\n",
       "                                               Model  \n",
       "0  LdaModel(num_terms=672, num_topics=4, decay=0....  \n",
       "1  LdaModel(num_terms=672, num_topics=17, decay=0...  \n",
       "2  LdaModel(num_terms=672, num_topics=11, decay=0...  \n",
       "3  LdaModel(num_terms=672, num_topics=19, decay=0...  "
      ]
     },
     "execution_count": 476,
     "metadata": {},
     "output_type": "execute_result"
    }
   ],
   "source": [
    "coherence_df.head(4)"
   ]
  },
  {
   "cell_type": "code",
   "execution_count": 511,
   "id": "c17fb7a8-6607-4c9f-a154-102a610b90fd",
   "metadata": {},
   "outputs": [],
   "source": [
    "final_model = coherence_df['Model'][2]"
   ]
  },
  {
   "cell_type": "code",
   "execution_count": 512,
   "id": "32ddf8c4-10a0-4da4-a81b-b88d2a649c76",
   "metadata": {},
   "outputs": [
    {
     "data": {
      "text/plain": [
       "<gensim.models.ldamodel.LdaModel at 0x248f15928b0>"
      ]
     },
     "execution_count": 512,
     "metadata": {},
     "output_type": "execute_result"
    }
   ],
   "source": [
    "final_model"
   ]
  },
  {
   "cell_type": "code",
   "execution_count": 513,
   "id": "ca6f789f-86aa-4f3b-a408-11f8f44ddf8c",
   "metadata": {},
   "outputs": [
    {
     "data": {
      "text/plain": [
       "<bound method LdaModel.top_topics of <gensim.models.ldamodel.LdaModel object at 0x00000248F15928B0>>"
      ]
     },
     "execution_count": 513,
     "metadata": {},
     "output_type": "execute_result"
    }
   ],
   "source": [
    "final_model.top_topics"
   ]
  },
  {
   "cell_type": "code",
   "execution_count": 514,
   "id": "9069e07c-19eb-44a8-b2be-607bd6e907f0",
   "metadata": {
    "collapsed": true,
    "jupyter": {
     "outputs_hidden": true
    },
    "tags": []
   },
   "outputs": [
    {
     "data": {
      "text/html": [
       "\n",
       "<link rel=\"stylesheet\" type=\"text/css\" href=\"https://cdn.jsdelivr.net/gh/bmabey/pyLDAvis@3.3.1/pyLDAvis/js/ldavis.v1.0.0.css\">\n",
       "\n",
       "\n",
       "<div id=\"ldavis_el2705225106728308644447712893\"></div>\n",
       "<script type=\"text/javascript\">\n",
       "\n",
       "var ldavis_el2705225106728308644447712893_data = {\"mdsDat\": {\"x\": [0.26889271328927733, 0.4170780783745275, 0.36356839905483895, 0.10043752254913252, -0.0061556479888690025, -0.4012107573078202, -0.2791867211800065, -0.2708138675654967, -0.21923108709774244, 0.05051496674854392, -0.023893598876385366], \"y\": [-0.30170690894995256, -0.07504508630115626, 0.2033675047634636, 0.41611650144669493, -0.4135579613295063, -0.03545250701726613, -0.28861092650893305, 0.12398776539972291, 0.34705205795151867, 0.14879841023854287, -0.12494884969312871], \"topics\": [1, 2, 3, 4, 5, 6, 7, 8, 9, 10, 11], \"cluster\": [1, 1, 1, 1, 1, 1, 1, 1, 1, 1, 1], \"Freq\": [22.47737459951295, 16.360696918332586, 12.164237965864523, 8.095203472721286, 7.75880199823866, 6.745604957210932, 6.6439476637157835, 5.448766832729569, 5.3511214186472085, 4.648662588659648, 4.305581584366854]}, \"tinfo\": {\"Term\": [\"azure\", \"migrate\", \"migration\", \"issue\", \"fail\", \"replication\", \"appliance\", \"vm\", \"use\", \"error\", \"replication\", \"server\", \"vmware\", \"replicate\", \"machine\", \"get\", \"unable\", \"virtual\", \"port\", \"try\", \"cause\", \"error\", \"vm\", \"azure\", \"migrate\", \"microsoft\", \"com\", \"support\", \"advisory\", \"doc\", \"https\", \"hyper\", \"prem\", \"migration\", \"cx\", \"test\", \"complete\", \"customer\", \"resolve\", \"find\", \"os\", \"create\", \"delete\", \"vm\", \"issue\", \"appliance\", \"use\", \"vcenter\", \"move\", \"instal\", \"kernel\", \"database\", \"add\", \"know\", \"work\", \"vms\", \"change\", \"perform\", \"host\", \"need\", \"miss\", \"application\", \"boot\", \"ip\", \"storage\", \"message\", \"user\", \"gateway\", \"log\", \"also\", \"cycle\", \"cluster\", \"associate\", \"clientrequestid\", \"account\", \"error\", \"set\", \"redact\", \"policy\", \"configure\", \"queue\", \"availability\", \"key\", \"vault\", \"_\", \"fip\", \"system\", \"fail\", \"resource\", \"windows\", \"initial\", \"process\", \"hydration\", \"console\", \"properly\", \"serial\", \"cbt\", \"service\", \"error\", \"private\", \"government\", \"block\", \"endpoint\", \"access\", \"project\", \"ja\", \"jp\", \"tracking\", \"configuration\", \"connection\", \"operation\", \"permission\", \"expressroute\", \"state\", \"prepare\", \"uuid\", \"var\", \"peer\", \"queued\", \"sdb\", \"account\", \"asr\", \"local\", \"version\", \"memory\", \"dev\", \"environment\", \"show\", \"internet\", \"usr\", \"bin\", \"disk\"], \"Freq\": [202.0, 176.0, 149.0, 113.0, 83.0, 162.0, 87.0, 155.0, 80.0, 141.0, 161.38824982053424, 114.09053988578188, 99.1569206114679, 73.71250307401398, 73.2269327593941, 48.807550182895774, 43.92786589453228, 37.39553726563681, 36.52470777363791, 33.68855674134472, 51.01371963361559, 98.40568218191298, 61.07689664451146, 201.3354038448331, 175.89370524228863, 48.90150554794423, 43.75217079730554, 35.66038246195972, 28.598092392397433, 28.33776352372321, 26.210073150336804, 24.649934378664305, 24.58411007759952, 148.3979814286265, 47.54042226405658, 37.43320166048692, 33.645015597296435, 31.23608793186207, 30.30535829105194, 29.39771333893908, 24.23937220511614, 21.639483347122994, 20.43286930620202, 93.70137244506971, 112.78134957501258, 86.54449345832657, 79.98728364294684, 21.097987517558312, 16.113066757073515, 12.720696053102571, 11.494167206785646, 10.880173423120366, 10.49053604187485, 9.705085323470042, 40.41797312275312, 38.924773661515154, 28.956840854349696, 27.23454844228607, 26.99975446863556, 24.81526605929896, 19.155349376611234, 16.29680180070922, 16.247853291513202, 15.261653009538934, 30.956112929500456, 28.696434078173883, 22.799351398728817, 20.441243385915783, 19.583453823312052, 19.393792395632637, 16.236510542161255, 11.645380148703552, 11.173068851390024, 10.945901915732009, 19.521383147258707, 32.97538548324563, 35.704371387751806, 35.46473589750865, 33.78333019586588, 26.00074794253431, 20.41643096488836, 16.77083888724583, 15.990180769174444, 14.45461596567343, 14.125723978373781, 12.740932071426792, 19.348205152370426, 83.02331976982417, 17.74875368615195, 17.55816967526326, 16.5756432340445, 13.88432456650074, 11.72078132018969, 10.500756201141693, 9.083590473931666, 9.06240865659994, 8.728568828028179, 25.98238317219806, 9.063156443697721, 32.77570921040547, 28.156137561852592, 22.76560279974723, 20.529909206346122, 18.200986744621474, 17.975845945538804, 10.520807436106526, 10.520807436106526, 9.358475191043663, 9.299487082602793, 12.80743953003271, 32.23329769147829, 28.934376866944344, 22.971208959613747, 20.451807815137897, 11.200318500195905, 11.070244374769327, 9.413115430456546, 9.319788374689411, 8.65061517048048, 6.612512660958522, 14.934097406172052, 22.84935624778125, 21.3445290684327, 18.32207706894061, 17.46839678408845, 15.119996017096963, 15.001488137917045, 14.423183443594297, 10.996488373394744, 10.86749562311564, 9.456435477989672, 16.65479229543157], \"Total\": [202.0, 176.0, 149.0, 113.0, 83.0, 162.0, 87.0, 155.0, 80.0, 141.0, 162.25710822648296, 114.95940656200034, 100.07864946299355, 74.58135068672163, 74.09579343616143, 49.67642189832784, 44.79672517226146, 38.26438905362277, 37.393703860586534, 34.55741862647663, 57.25882898321995, 141.14338772451455, 155.55779780266548, 202.21113676828207, 176.76943676902147, 49.77728189672006, 44.62792743812236, 36.536118440893716, 29.473825767127547, 29.21356373334764, 27.08581301813508, 25.525682664870164, 25.45991394494427, 149.2674030462476, 48.40987575633846, 38.30261418024515, 34.51444660277104, 32.10552542814867, 31.174789323236453, 30.267142357252904, 25.108807300663283, 22.50891153215205, 21.302327523280667, 155.55779780266548, 113.65803432486567, 87.42118264754232, 80.86398995959952, 21.974697875230795, 16.989775092654646, 13.59737843827389, 12.37085043281073, 11.756964187775186, 11.367278637135742, 10.581776766137162, 41.286983401742944, 39.84388665573925, 29.82583082636551, 28.10357110763319, 27.868753887742002, 25.684256072134428, 20.024375071512235, 17.16580003222285, 17.116843392121446, 16.130662587536523, 31.831286088799086, 29.571598274905405, 23.674495710628957, 21.316387850518833, 20.45863616792173, 20.26894251062286, 17.111677113886273, 12.520503195027297, 12.048265883946902, 11.821051431615727, 35.252630139995986, 141.14338772451455, 36.56787846003005, 36.328249076999946, 34.646869870072535, 26.86433496208096, 21.27997515429174, 17.63434151797218, 16.853673966118123, 15.31811937791802, 14.989197309703188, 13.604466394059763, 21.686115163605027, 83.89596069983962, 18.621411750178382, 18.43082027851814, 17.44829203082569, 14.75698054918924, 12.59340734045329, 11.373377255555225, 9.956263854401966, 9.93502694025864, 9.601217652185316, 44.85236438131639, 141.14338772451455, 33.65382417103358, 29.034309108666914, 23.643726605646297, 21.408018819171886, 19.079142500276895, 18.853986855841782, 11.398931070066366, 11.398931070066366, 10.236587752358384, 10.177613799967489, 17.104243909279937, 33.11405179045713, 29.81512159843109, 23.851951907047336, 21.33255981869639, 12.081103203427164, 11.950987073428273, 10.293836774243905, 10.200538775248363, 9.531369259986544, 7.493234509720874, 35.252630139995986, 23.706969012780533, 22.202194173461884, 19.179715942347087, 18.326025983855786, 15.977639475950678, 15.859147380647855, 15.280841151214139, 11.854213449636108, 11.725093007346228, 10.314031003781123, 66.14551414677763], \"Category\": [\"Default\", \"Default\", \"Default\", \"Default\", \"Default\", \"Default\", \"Default\", \"Default\", \"Default\", \"Default\", \"Topic1\", \"Topic1\", \"Topic1\", \"Topic1\", \"Topic1\", \"Topic1\", \"Topic1\", \"Topic1\", \"Topic1\", \"Topic1\", \"Topic1\", \"Topic1\", \"Topic1\", \"Topic2\", \"Topic2\", \"Topic2\", \"Topic2\", \"Topic2\", \"Topic2\", \"Topic2\", \"Topic2\", \"Topic2\", \"Topic2\", \"Topic3\", \"Topic3\", \"Topic3\", \"Topic3\", \"Topic3\", \"Topic3\", \"Topic3\", \"Topic3\", \"Topic3\", \"Topic3\", \"Topic3\", \"Topic4\", \"Topic4\", \"Topic4\", \"Topic4\", \"Topic4\", \"Topic4\", \"Topic4\", \"Topic4\", \"Topic4\", \"Topic4\", \"Topic5\", \"Topic5\", \"Topic5\", \"Topic5\", \"Topic5\", \"Topic5\", \"Topic5\", \"Topic5\", \"Topic5\", \"Topic5\", \"Topic6\", \"Topic6\", \"Topic6\", \"Topic6\", \"Topic6\", \"Topic6\", \"Topic6\", \"Topic6\", \"Topic6\", \"Topic6\", \"Topic6\", \"Topic6\", \"Topic7\", \"Topic7\", \"Topic7\", \"Topic7\", \"Topic7\", \"Topic7\", \"Topic7\", \"Topic7\", \"Topic7\", \"Topic7\", \"Topic7\", \"Topic8\", \"Topic8\", \"Topic8\", \"Topic8\", \"Topic8\", \"Topic8\", \"Topic8\", \"Topic8\", \"Topic8\", \"Topic8\", \"Topic8\", \"Topic8\", \"Topic9\", \"Topic9\", \"Topic9\", \"Topic9\", \"Topic9\", \"Topic9\", \"Topic9\", \"Topic9\", \"Topic9\", \"Topic9\", \"Topic9\", \"Topic10\", \"Topic10\", \"Topic10\", \"Topic10\", \"Topic10\", \"Topic10\", \"Topic10\", \"Topic10\", \"Topic10\", \"Topic10\", \"Topic10\", \"Topic11\", \"Topic11\", \"Topic11\", \"Topic11\", \"Topic11\", \"Topic11\", \"Topic11\", \"Topic11\", \"Topic11\", \"Topic11\", \"Topic11\"], \"logprob\": [10.0, 9.0, 8.0, 7.0, 6.0, 5.0, 4.0, 3.0, 2.0, 1.0, -2.3284, -2.6752, -2.8155, -3.1121, -3.1187, -3.5244, -3.6297, -3.7907, -3.8143, -3.8951, -3.4801, -2.8231, -3.3001, -1.7896, -1.9247, -3.2048, -3.3161, -3.5206, -3.7413, -3.7504, -3.8285, -3.8898, -3.8925, -1.7983, -2.9367, -3.1757, -3.2824, -3.3567, -3.3869, -3.4173, -3.6103, -3.7237, -3.7811, -2.2581, -1.6656, -1.9303, -2.0091, -3.3418, -3.6114, -3.8478, -3.9492, -4.0041, -4.0405, -4.1184, -2.6493, -2.6869, -2.9828, -3.0441, -3.0527, -3.1371, -3.396, -3.5576, -3.5606, -3.6232, -2.7761, -2.8518, -3.0819, -3.1911, -3.2339, -3.2437, -3.4214, -3.7537, -3.7951, -3.8157, -3.2371, -2.7129, -2.6182, -2.6249, -2.6735, -2.9353, -3.1771, -3.3738, -3.4215, -3.5224, -3.5454, -3.6486, -3.2308, -1.576, -3.1188, -3.1296, -3.1872, -3.3644, -3.5338, -3.6437, -3.7887, -3.791, -3.8285, -2.7377, -3.7909, -2.4873, -2.6393, -2.8518, -2.9552, -3.0756, -3.088, -3.6237, -3.6237, -3.7408, -3.7471, -3.427, -2.3633, -2.4713, -2.7021, -2.8182, -3.4204, -3.4321, -3.5942, -3.6042, -3.6787, -3.9473, -3.1327, -2.6307, -2.6988, -2.8515, -2.8993, -3.0436, -3.0515, -3.0908, -3.3621, -3.3739, -3.5129, -2.9469], \"loglift\": [10.0, 9.0, 8.0, 7.0, 6.0, 5.0, 4.0, 3.0, 2.0, 1.0, 1.4873, 1.4851, 1.4834, 1.4809, 1.4809, 1.475, 1.4731, 1.4697, 1.4691, 1.4672, 1.3772, 1.132, 0.5578, 1.8059, 1.8053, 1.7925, 1.7905, 1.786, 1.7801, 1.7799, 1.7774, 1.7754, 1.7753, 2.1008, 2.0885, 2.0837, 2.0812, 2.0792, 2.0784, 2.0775, 2.0714, 2.0673, 2.065, 1.5998, 2.5062, 2.5038, 2.503, 2.4732, 2.4609, 2.4473, 2.4404, 2.4364, 2.4336, 2.4274, 2.5351, 2.533, 2.5268, 2.5249, 2.5247, 2.5219, 2.512, 2.5044, 2.5042, 2.501, 2.6684, 2.6662, 2.6586, 2.6544, 2.6526, 2.6521, 2.6438, 2.6238, 2.6209, 2.6194, 2.1052, 1.2423, 2.6876, 2.6874, 2.6862, 2.6788, 2.67, 2.6613, 2.6589, 2.6534, 2.6521, 2.6459, 2.5974, 2.8993, 2.8618, 2.8613, 2.8585, 2.8488, 2.838, 2.83, 2.818, 2.8178, 2.8145, 2.3638, 0.1642, 2.9014, 2.8972, 2.89, 2.886, 2.8807, 2.8802, 2.8477, 2.8477, 2.8382, 2.8376, 2.6386, 3.0416, 3.0386, 3.031, 3.0264, 2.9929, 2.992, 2.9791, 2.9783, 2.9716, 2.9436, 2.2097, 3.1084, 3.1059, 3.0995, 3.0973, 3.0901, 3.0897, 3.0875, 3.0702, 3.0693, 3.0584, 1.7661]}, \"token.table\": {\"Topic\": [7, 9, 6, 10, 4, 2, 6, 4, 5, 11, 6, 7, 2, 11, 9, 5, 1, 4, 8, 5, 6, 6, 2, 3, 9, 7, 6, 9, 8, 3, 3, 3, 6, 4, 3, 11, 1, 2, 3, 11, 2, 9, 11, 1, 6, 8, 10, 8, 3, 7, 6, 1, 9, 5, 2, 8, 2, 8, 4, 11, 5, 4, 9, 9, 4, 7, 4, 11, 6, 1, 11, 6, 2, 2, 3, 5, 4, 5, 10, 3, 10, 5, 10, 7, 1, 2, 10, 9, 8, 9, 8, 7, 10, 7, 1, 1, 3, 8, 10, 8, 1, 2, 8, 7, 11, 10, 6, 2, 7, 8, 3, 9, 1, 1, 4, 6, 11, 10, 10, 7, 4, 11, 1, 1, 3, 5, 1, 8, 5], \"Freq\": [0.9340059851595365, 0.9434386267484908, 0.5673335555553041, 0.42550016666647805, 0.879718032716381, 0.9839238458260817, 0.9373947353218939, 0.9951821442494044, 0.9320858899652528, 0.9701788527922147, 0.9129944596140088, 0.9640280575645148, 0.9940105338032398, 0.8725977260200789, 0.97277389404881, 0.9347517900037862, 0.890692333490541, 0.0873227777931903, 0.9373811037344337, 0.9723115566780627, 0.930543282349673, 0.9584279332132576, 0.9859297199272138, 0.9850947457251209, 0.8842937231543163, 0.9678259311722784, 0.23386008883033954, 0.7600452886986034, 0.9671709425295946, 0.977390664518579, 0.9655658827131547, 0.9915332202379223, 0.9350340059312984, 0.9356156763186987, 0.9388645432355975, 0.9388120205477031, 0.37795457972440466, 0.1058272823228333, 0.25700911421259515, 0.25700911421259515, 0.9584588944907689, 0.9809408417183151, 0.9458263827161206, 0.6943293736953349, 0.2338047891014903, 0.06376494248222463, 0.9642816692584553, 0.9893205740495045, 0.9581347210682657, 0.9555685334101971, 0.9382452665174793, 0.986383441631278, 0.9643763140773972, 0.9688269561229244, 0.9599121127577717, 0.9528795246265789, 0.9794057353226585, 0.9743073975358907, 0.9560666461564099, 0.9279400988293889, 0.9299060047037288, 0.9942104020294349, 0.9650027649422356, 0.9650027649422356, 0.8891870498106681, 0.9493479007702231, 0.94502088080341, 0.9458524610644629, 0.9775822706774144, 0.9852111248784247, 0.9276424695117239, 0.9806707006638032, 0.9843848063393096, 0.9956472296168095, 0.9915091773529755, 0.9488435934777527, 0.9417428961091683, 0.9733589296800075, 0.9663571284629632, 0.9558399056002157, 0.8823063367827714, 0.9607319972466613, 0.9726607991270448, 0.9813296302812251, 0.9894713863581323, 0.9819357620006568, 0.9105128740957633, 0.9805720690846084, 0.9487035612288024, 0.9547052375515378, 0.9039535443830998, 0.9398507213936481, 0.9442504801259485, 0.9634375696394109, 0.9922051467106892, 0.9922523688470508, 0.962316046114839, 0.9666291815832692, 0.934176021172031, 0.9058858173328418, 0.9916543883559201, 0.40131663621947306, 0.5796795856503499, 0.9844705658642253, 0.9161799315535474, 0.9375339935749999, 0.9738846213602534, 0.9853263437997383, 0.8761366365833457, 0.09222490911403639, 0.9659915071562666, 0.8791992231910004, 0.9838697840107317, 0.9822146558883996, 0.9893155165849326, 0.9715096059965437, 0.938158869452726, 0.9204260645932176, 0.8743095696367364, 0.9139503129987244, 0.9556445380607738, 0.9384914799628299, 0.9669565074761578, 0.3921372047024104, 0.6042770039676488, 0.9788201722630467, 0.9892219822231673, 0.9766250078939634, 0.9688283498646546], \"Term\": [\"_\", \"access\", \"account\", \"account\", \"add\", \"advisory\", \"also\", \"appliance\", \"application\", \"asr\", \"associate\", \"availability\", \"azure\", \"bin\", \"block\", \"boot\", \"cause\", \"cause\", \"cbt\", \"change\", \"clientrequestid\", \"cluster\", \"com\", \"complete\", \"configuration\", \"configure\", \"connection\", \"connection\", \"console\", \"create\", \"customer\", \"cx\", \"cycle\", \"database\", \"delete\", \"dev\", \"disk\", \"disk\", \"disk\", \"disk\", \"doc\", \"endpoint\", \"environment\", \"error\", \"error\", \"error\", \"expressroute\", \"fail\", \"find\", \"fip\", \"gateway\", \"get\", \"government\", \"host\", \"https\", \"hydration\", \"hyper\", \"initial\", \"instal\", \"internet\", \"ip\", \"issue\", \"ja\", \"jp\", \"kernel\", \"key\", \"know\", \"local\", \"log\", \"machine\", \"memory\", \"message\", \"microsoft\", \"migrate\", \"migration\", \"miss\", \"move\", \"need\", \"operation\", \"os\", \"peer\", \"perform\", \"permission\", \"policy\", \"port\", \"prem\", \"prepare\", \"private\", \"process\", \"project\", \"properly\", \"queue\", \"queued\", \"redact\", \"replicate\", \"replication\", \"resolve\", \"resource\", \"sdb\", \"serial\", \"server\", \"service\", \"service\", \"set\", \"show\", \"state\", \"storage\", \"support\", \"system\", \"system\", \"test\", \"tracking\", \"try\", \"unable\", \"use\", \"user\", \"usr\", \"uuid\", \"var\", \"vault\", \"vcenter\", \"version\", \"virtual\", \"vm\", \"vm\", \"vms\", \"vmware\", \"windows\", \"work\"]}, \"R\": 10, \"lambda.step\": 0.01, \"plot.opts\": {\"xlab\": \"PC1\", \"ylab\": \"PC2\"}, \"topic.order\": [2, 11, 9, 1, 3, 8, 10, 5, 4, 6, 7]};\n",
       "\n",
       "function LDAvis_load_lib(url, callback){\n",
       "  var s = document.createElement('script');\n",
       "  s.src = url;\n",
       "  s.async = true;\n",
       "  s.onreadystatechange = s.onload = callback;\n",
       "  s.onerror = function(){console.warn(\"failed to load library \" + url);};\n",
       "  document.getElementsByTagName(\"head\")[0].appendChild(s);\n",
       "}\n",
       "\n",
       "if(typeof(LDAvis) !== \"undefined\"){\n",
       "   // already loaded: just create the visualization\n",
       "   !function(LDAvis){\n",
       "       new LDAvis(\"#\" + \"ldavis_el2705225106728308644447712893\", ldavis_el2705225106728308644447712893_data);\n",
       "   }(LDAvis);\n",
       "}else if(typeof define === \"function\" && define.amd){\n",
       "   // require.js is available: use it to load d3/LDAvis\n",
       "   require.config({paths: {d3: \"https://d3js.org/d3.v5\"}});\n",
       "   require([\"d3\"], function(d3){\n",
       "      window.d3 = d3;\n",
       "      LDAvis_load_lib(\"https://cdn.jsdelivr.net/gh/bmabey/pyLDAvis@3.3.1/pyLDAvis/js/ldavis.v3.0.0.js\", function(){\n",
       "        new LDAvis(\"#\" + \"ldavis_el2705225106728308644447712893\", ldavis_el2705225106728308644447712893_data);\n",
       "      });\n",
       "    });\n",
       "}else{\n",
       "    // require.js not available: dynamically load d3 & LDAvis\n",
       "    LDAvis_load_lib(\"https://d3js.org/d3.v5.js\", function(){\n",
       "         LDAvis_load_lib(\"https://cdn.jsdelivr.net/gh/bmabey/pyLDAvis@3.3.1/pyLDAvis/js/ldavis.v3.0.0.js\", function(){\n",
       "                 new LDAvis(\"#\" + \"ldavis_el2705225106728308644447712893\", ldavis_el2705225106728308644447712893_data);\n",
       "            })\n",
       "         });\n",
       "}\n",
       "</script>"
      ],
      "text/plain": [
       "PreparedData(topic_coordinates=              x         y  topics  cluster       Freq\n",
       "topic                                                \n",
       "1      0.268893 -0.301707       1        1  22.477375\n",
       "10     0.417078 -0.075045       2        1  16.360697\n",
       "8      0.363568  0.203368       3        1  12.164238\n",
       "0      0.100438  0.416117       4        1   8.095203\n",
       "2     -0.006156 -0.413558       5        1   7.758802\n",
       "7     -0.401211 -0.035453       6        1   6.745605\n",
       "9     -0.279187 -0.288611       7        1   6.643948\n",
       "4     -0.270814  0.123988       8        1   5.448767\n",
       "3     -0.219231  0.347052       9        1   5.351121\n",
       "5      0.050515  0.148798      10        1   4.648663\n",
       "6     -0.023894 -0.124949      11        1   4.305582, topic_info=          Term        Freq       Total Category  logprob  loglift\n",
       "19       azure  202.000000  202.000000  Default  10.0000  10.0000\n",
       "61     migrate  176.000000  176.000000  Default   9.0000   9.0000\n",
       "12   migration  149.000000  149.000000  Default   8.0000   8.0000\n",
       "56       issue  113.000000  113.000000  Default   7.0000   7.0000\n",
       "5         fail   83.000000   83.000000  Default   6.0000   6.0000\n",
       "..         ...         ...         ...      ...      ...      ...\n",
       "85        show   14.423183   15.280841  Topic11  -3.0908   3.0875\n",
       "301   internet   10.996488   11.854213  Topic11  -3.3621   3.0702\n",
       "102        usr   10.867496   11.725093  Topic11  -3.3739   3.0693\n",
       "32         bin    9.456435   10.314031  Topic11  -3.5129   3.0584\n",
       "4         disk   16.654792   66.145514  Topic11  -2.9469   1.7661\n",
       "\n",
       "[132 rows x 6 columns], token_table=      Topic      Freq     Term\n",
       "term                          \n",
       "413       7  0.934006        _\n",
       "393       9  0.943439   access\n",
       "211       6  0.567334  account\n",
       "211      10  0.425500  account\n",
       "26        4  0.879718      add\n",
       "...     ...       ...      ...\n",
       "18        3  0.604277       vm\n",
       "104       5  0.978820      vms\n",
       "105       1  0.989222   vmware\n",
       "195       8  0.976625  windows\n",
       "25        5  0.968828     work\n",
       "\n",
       "[129 rows x 3 columns], R=10, lambda_step=0.01, plot_opts={'xlab': 'PC1', 'ylab': 'PC2'}, topic_order=[2, 11, 9, 1, 3, 8, 10, 5, 4, 6, 7])"
      ]
     },
     "execution_count": 514,
     "metadata": {},
     "output_type": "execute_result"
    }
   ],
   "source": [
    "pyLDAvis.enable_notebook()\n",
    "vis = pyLDAvis.gensim_models.prepare(final_model,corpus,id2word, mds=\"mmds\", R=10)\n",
    "vis\n"
   ]
  },
  {
   "cell_type": "code",
   "execution_count": 515,
   "id": "7708d355-b0bf-4ffa-83f9-fb5b01141e94",
   "metadata": {},
   "outputs": [
    {
     "data": {
      "text/plain": [
       "[(0,\n",
       "  '0.189*\"issue\" + 0.145*\"appliance\" + 0.134*\"use\" + 0.035*\"vcenter\" + 0.027*\"move\" + 0.021*\"instal\" + 0.019*\"kernel\" + 0.018*\"database\" + 0.018*\"add\" + 0.016*\"know\"'),\n",
       " (1,\n",
       "  '0.097*\"replication\" + 0.069*\"server\" + 0.060*\"vmware\" + 0.059*\"error\" + 0.045*\"replicate\" + 0.044*\"machine\" + 0.037*\"vm\" + 0.031*\"cause\" + 0.029*\"get\" + 0.027*\"unable\"'),\n",
       " (2,\n",
       "  '0.071*\"work\" + 0.068*\"vms\" + 0.051*\"change\" + 0.048*\"perform\" + 0.047*\"host\" + 0.043*\"need\" + 0.034*\"miss\" + 0.029*\"application\" + 0.028*\"boot\" + 0.027*\"ip\"'),\n",
       " (3,\n",
       "  '0.083*\"private\" + 0.071*\"government\" + 0.058*\"block\" + 0.052*\"endpoint\" + 0.046*\"access\" + 0.046*\"project\" + 0.032*\"connection\" + 0.027*\"ja\" + 0.027*\"jp\" + 0.024*\"tracking\"'),\n",
       " (4,\n",
       "  '0.207*\"fail\" + 0.065*\"service\" + 0.044*\"resource\" + 0.044*\"windows\" + 0.041*\"initial\" + 0.035*\"process\" + 0.029*\"hydration\" + 0.026*\"console\" + 0.023*\"properly\" + 0.023*\"error\"'),\n",
       " (5,\n",
       "  '0.094*\"operation\" + 0.084*\"permission\" + 0.067*\"expressroute\" + 0.060*\"state\" + 0.044*\"account\" + 0.033*\"prepare\" + 0.032*\"uuid\" + 0.027*\"var\" + 0.027*\"peer\" + 0.025*\"queued\"'),\n",
       " (6,\n",
       "  '0.072*\"asr\" + 0.067*\"local\" + 0.058*\"version\" + 0.055*\"memory\" + 0.052*\"disk\" + 0.048*\"dev\" + 0.047*\"environment\" + 0.045*\"show\" + 0.035*\"internet\" + 0.034*\"usr\"'),\n",
       " (7,\n",
       "  '0.066*\"error\" + 0.062*\"storage\" + 0.058*\"message\" + 0.046*\"user\" + 0.041*\"gateway\" + 0.039*\"log\" + 0.039*\"account\" + 0.039*\"also\" + 0.033*\"cycle\" + 0.023*\"cluster\"'),\n",
       " (8,\n",
       "  '0.166*\"migration\" + 0.105*\"vm\" + 0.053*\"cx\" + 0.042*\"test\" + 0.038*\"complete\" + 0.035*\"customer\" + 0.034*\"resolve\" + 0.033*\"find\" + 0.027*\"os\" + 0.024*\"create\"'),\n",
       " (9,\n",
       "  '0.073*\"set\" + 0.072*\"redact\" + 0.069*\"policy\" + 0.053*\"configure\" + 0.042*\"queue\" + 0.040*\"system\" + 0.034*\"availability\" + 0.033*\"key\" + 0.030*\"vault\" + 0.029*\"_\"'),\n",
       " (10,\n",
       "  '0.167*\"azure\" + 0.146*\"migrate\" + 0.041*\"microsoft\" + 0.036*\"com\" + 0.030*\"support\" + 0.024*\"advisory\" + 0.024*\"doc\" + 0.022*\"https\" + 0.020*\"hyper\" + 0.020*\"prem\"')]"
      ]
     },
     "execution_count": 515,
     "metadata": {},
     "output_type": "execute_result"
    }
   ],
   "source": [
    "final_model.print_topics()"
   ]
  },
  {
   "cell_type": "code",
   "execution_count": 582,
   "id": "098fb6a8-cb4b-48bb-b695-74df9f42b832",
   "metadata": {},
   "outputs": [
    {
     "data": {
      "text/plain": [
       "[(0, ['issue', 'appliance', 'use', 'vcenter', 'move']),\n",
       " (1, ['replication', 'server', 'vmware', 'error', 'replicate']),\n",
       " (2, ['work', 'vms', 'change', 'perform', 'host']),\n",
       " (3, ['private', 'government', 'block', 'endpoint', 'access']),\n",
       " (4, ['fail', 'service', 'resource', 'windows', 'initial']),\n",
       " (5, ['operation', 'permission', 'expressroute', 'state', 'account']),\n",
       " (6, ['asr', 'local', 'version', 'memory', 'disk']),\n",
       " (7, ['error', 'storage', 'message', 'user', 'gateway']),\n",
       " (8, ['migration', 'vm', 'cx', 'test', 'complete']),\n",
       " (9, ['set', 'redact', 'policy', 'configure', 'queue']),\n",
       " (10, ['azure', 'migrate', 'microsoft', 'com', 'support'])]"
      ]
     },
     "execution_count": 582,
     "metadata": {},
     "output_type": "execute_result"
    }
   ],
   "source": [
    "topics = final_model.show_topics(num_topics=11,num_words=5,formatted=False)\n",
    "topics_words = [(tp[0], [wd[0] for wd in tp[1]]) for tp in topics]\n",
    "topics_words"
   ]
  },
  {
   "cell_type": "code",
   "execution_count": null,
   "id": "35aa9ee2-d567-4754-81b5-04341f9eba04",
   "metadata": {},
   "outputs": [],
   "source": [
    "from operator import itemgetter"
   ]
  },
  {
   "cell_type": "code",
   "execution_count": 650,
   "id": "b00a47b0-8868-40c7-9d8d-c5c1b2efd6ae",
   "metadata": {},
   "outputs": [],
   "source": [
    "index = 210"
   ]
  },
  {
   "cell_type": "code",
   "execution_count": 651,
   "id": "1c2fa3f9-d83d-42e7-9293-3eb827689c0f",
   "metadata": {},
   "outputs": [],
   "source": [
    "test_data = data.concatenated_text_tok_wordcount[index]"
   ]
  },
  {
   "cell_type": "code",
   "execution_count": 652,
   "id": "cc25da4d-f893-4be6-aff0-f1ef646616e4",
   "metadata": {},
   "outputs": [
    {
     "data": {
      "text/plain": [
       "'Windows server 2008'"
      ]
     },
     "execution_count": 652,
     "metadata": {},
     "output_type": "execute_result"
    }
   ],
   "source": [
    "data.manualTags[index]"
   ]
  },
  {
   "cell_type": "code",
   "execution_count": 653,
   "id": "cbe28a64-b7b1-43f7-98d9-7ad704fa8791",
   "metadata": {},
   "outputs": [
    {
     "data": {
      "text/plain": [
       "'Test migration fails'"
      ]
     },
     "execution_count": 653,
     "metadata": {},
     "output_type": "execute_result"
    }
   ],
   "source": [
    "data.title[index]"
   ]
  },
  {
   "cell_type": "code",
   "execution_count": 654,
   "id": "3bd8d6b8-92bb-4186-b32a-2dbe6c370ff5",
   "metadata": {},
   "outputs": [
    {
     "data": {
      "text/plain": [
       "'In general speaking, after we apply the Windows Server 2008 Service pack 2 on a Windows Server 2008, all the system drive files (s3cap.sys, storflt.sys, wms3cap.sys, vmstorfl.sys) will still exist under the path \"%systemroot%\\\\System32\\\\Drivers\" on Windows Server 2008 SP2-based virtual machine. These drive files won’t be removed after applying Windows Server 2008 Service Pack 2. And the possible reason why the drive files are lost may result from the incomplete or interrupted application of SP2.'"
      ]
     },
     "execution_count": 654,
     "metadata": {},
     "output_type": "execute_result"
    }
   ],
   "source": [
    "data.cause[index]"
   ]
  },
  {
   "cell_type": "code",
   "execution_count": 655,
   "id": "08961307-7242-43ab-82f6-2c4f4276c016",
   "metadata": {},
   "outputs": [
    {
     "data": {
      "text/plain": [
       "'Re-apply the Windows Server 2008 Service pack 2 on the problematic server.  Copy the files from a working machine to the non-working machine. This can take you 5 minutes or less. You need to find a working server 2008 SP2 and copy the missing files from C:\\\\Windows\\\\System32\\\\Drivers into the non-working server under the same location C:\\\\Windows\\\\System32\\\\Drivers.  *** If you do not have permissions to paste the files under C:\\\\Windows\\\\System32\\\\Drivers, you just need to take ownership and full permission of C:\\\\Windows\\\\System32\\\\Drivers folder.'"
      ]
     },
     "execution_count": 655,
     "metadata": {},
     "output_type": "execute_result"
    }
   ],
   "source": [
    "data.resolution[index]"
   ]
  },
  {
   "cell_type": "code",
   "execution_count": 656,
   "id": "e929de90-bb96-4756-bfb9-8402eda29a92",
   "metadata": {},
   "outputs": [
    {
     "data": {
      "text/plain": [
       "[['replication', 'server'], ['fail', 'service'], ['azure', 'migrate']]"
      ]
     },
     "execution_count": 656,
     "metadata": {},
     "output_type": "execute_result"
    }
   ],
   "source": [
    "x = final_model[id2word.doc2bow(test_data)]\n",
    "val = [value for id,value in final_model[id2word.doc2bow(test_data)]]\n",
    "val.sort(reverse=True)\n",
    "\n",
    "## Getting top 3 topics and their top 2 words\n",
    "ids = [id for id,value in x if value > val[3]] \n",
    "[topics_words[id][1][0:2] for id in ids]"
   ]
  },
  {
   "cell_type": "code",
   "execution_count": null,
   "id": "fd01768c-ba33-4ef6-8e6a-5426f3fc1809",
   "metadata": {},
   "outputs": [],
   "source": []
  },
  {
   "cell_type": "code",
   "execution_count": 648,
   "id": "5132baa6-e016-4a1d-850b-44686d2fb0e6",
   "metadata": {},
   "outputs": [
    {
     "data": {
      "text/plain": [
       "0.113138214"
      ]
     },
     "execution_count": 648,
     "metadata": {},
     "output_type": "execute_result"
    }
   ],
   "source": []
  },
  {
   "cell_type": "code",
   "execution_count": 609,
   "id": "f5fb63a0-c162-48f5-b132-4264cd51306c",
   "metadata": {},
   "outputs": [
    {
     "data": {
      "text/plain": [
       "[['replication', 'server'], ['operation', 'permission'], ['migration', 'vm']]"
      ]
     },
     "execution_count": 609,
     "metadata": {},
     "output_type": "execute_result"
    }
   ],
   "source": []
  },
  {
   "cell_type": "code",
   "execution_count": 572,
   "id": "bb48b359-7cda-4c90-b107-85f8467287d6",
   "metadata": {},
   "outputs": [],
   "source": [
    "# x=final_model[id2word.doc2bow(test_data)]\n",
    "# id_max = max(x, key=itemgetter(1))[0]\n",
    "# value_max = max(x, key=itemgetter(1))[1]"
   ]
  },
  {
   "cell_type": "code",
   "execution_count": 576,
   "id": "30e50a32-5939-4bee-8347-08d2e1d70ffc",
   "metadata": {},
   "outputs": [
    {
     "data": {
      "text/plain": [
       "['prepare',\n",
       " 'test',\n",
       " 'migration',\n",
       " 'migration',\n",
       " 'virtual',\n",
       " 'machine',\n",
       " 'fail',\n",
       " 'azure',\n",
       " 'platform',\n",
       " 'error',\n",
       " 'customer',\n",
       " 'policy',\n",
       " 'place',\n",
       " 'require',\n",
       " 'vnet',\n",
       " 'create',\n",
       " 'need',\n",
       " 'protection',\n",
       " 'plan',\n",
       " 'enable',\n",
       " 'customer',\n",
       " 'account',\n",
       " 'permission',\n",
       " 'assign',\n",
       " 'protection',\n",
       " 'plan']"
      ]
     },
     "execution_count": 576,
     "metadata": {},
     "output_type": "execute_result"
    }
   ],
   "source": [
    "test_data"
   ]
  },
  {
   "cell_type": "code",
   "execution_count": 517,
   "id": "da23ed49-23ea-44da-a3f0-fe0e9c61c8d8",
   "metadata": {},
   "outputs": [
    {
     "data": {
      "text/html": [
       "<div>\n",
       "<style scoped>\n",
       "    .dataframe tbody tr th:only-of-type {\n",
       "        vertical-align: middle;\n",
       "    }\n",
       "\n",
       "    .dataframe tbody tr th {\n",
       "        vertical-align: top;\n",
       "    }\n",
       "\n",
       "    .dataframe thead th {\n",
       "        text-align: right;\n",
       "    }\n",
       "</style>\n",
       "<table border=\"1\" class=\"dataframe\">\n",
       "  <thead>\n",
       "    <tr style=\"text-align: right;\">\n",
       "      <th></th>\n",
       "      <th>Index_Position</th>\n",
       "      <th>TF-IDF_value</th>\n",
       "    </tr>\n",
       "  </thead>\n",
       "  <tbody>\n",
       "    <tr>\n",
       "      <th>migration</th>\n",
       "      <td>12</td>\n",
       "      <td>0.107040</td>\n",
       "    </tr>\n",
       "    <tr>\n",
       "      <th>create</th>\n",
       "      <td>39</td>\n",
       "      <td>0.148784</td>\n",
       "    </tr>\n",
       "    <tr>\n",
       "      <th>need</th>\n",
       "      <td>62</td>\n",
       "      <td>0.136670</td>\n",
       "    </tr>\n",
       "    <tr>\n",
       "      <th>test</th>\n",
       "      <td>96</td>\n",
       "      <td>0.116960</td>\n",
       "    </tr>\n",
       "    <tr>\n",
       "      <th>customer</th>\n",
       "      <td>122</td>\n",
       "      <td>0.260736</td>\n",
       "    </tr>\n",
       "    <tr>\n",
       "      <th>machine</th>\n",
       "      <td>184</td>\n",
       "      <td>0.102882</td>\n",
       "    </tr>\n",
       "    <tr>\n",
       "      <th>virtual</th>\n",
       "      <td>194</td>\n",
       "      <td>0.135344</td>\n",
       "    </tr>\n",
       "    <tr>\n",
       "      <th>enable</th>\n",
       "      <td>200</td>\n",
       "      <td>0.138033</td>\n",
       "    </tr>\n",
       "    <tr>\n",
       "      <th>plan</th>\n",
       "      <td>204</td>\n",
       "      <td>0.438918</td>\n",
       "    </tr>\n",
       "    <tr>\n",
       "      <th>account</th>\n",
       "      <td>211</td>\n",
       "      <td>0.150529</td>\n",
       "    </tr>\n",
       "    <tr>\n",
       "      <th>assign</th>\n",
       "      <td>212</td>\n",
       "      <td>0.227124</td>\n",
       "    </tr>\n",
       "    <tr>\n",
       "      <th>permission</th>\n",
       "      <td>213</td>\n",
       "      <td>0.169809</td>\n",
       "    </tr>\n",
       "    <tr>\n",
       "      <th>place</th>\n",
       "      <td>214</td>\n",
       "      <td>0.236189</td>\n",
       "    </tr>\n",
       "    <tr>\n",
       "      <th>platform</th>\n",
       "      <td>215</td>\n",
       "      <td>0.261589</td>\n",
       "    </tr>\n",
       "    <tr>\n",
       "      <th>policy</th>\n",
       "      <td>216</td>\n",
       "      <td>0.164833</td>\n",
       "    </tr>\n",
       "    <tr>\n",
       "      <th>prepare</th>\n",
       "      <td>217</td>\n",
       "      <td>0.196985</td>\n",
       "    </tr>\n",
       "    <tr>\n",
       "      <th>protection</th>\n",
       "      <td>218</td>\n",
       "      <td>0.494569</td>\n",
       "    </tr>\n",
       "    <tr>\n",
       "      <th>require</th>\n",
       "      <td>219</td>\n",
       "      <td>0.178354</td>\n",
       "    </tr>\n",
       "    <tr>\n",
       "      <th>vnet</th>\n",
       "      <td>220</td>\n",
       "      <td>0.236189</td>\n",
       "    </tr>\n",
       "  </tbody>\n",
       "</table>\n",
       "</div>"
      ],
      "text/plain": [
       "            Index_Position  TF-IDF_value\n",
       "migration               12      0.107040\n",
       "create                  39      0.148784\n",
       "need                    62      0.136670\n",
       "test                    96      0.116960\n",
       "customer               122      0.260736\n",
       "machine                184      0.102882\n",
       "virtual                194      0.135344\n",
       "enable                 200      0.138033\n",
       "plan                   204      0.438918\n",
       "account                211      0.150529\n",
       "assign                 212      0.227124\n",
       "permission             213      0.169809\n",
       "place                  214      0.236189\n",
       "platform               215      0.261589\n",
       "policy                 216      0.164833\n",
       "prepare                217      0.196985\n",
       "protection             218      0.494569\n",
       "require                219      0.178354\n",
       "vnet                   220      0.236189"
      ]
     },
     "execution_count": 517,
     "metadata": {},
     "output_type": "execute_result"
    }
   ],
   "source": [
    "pd.DataFrame(tfidf[corpus[23]],[id2word[id] for id,value in corpus[23]], columns=['Index_Position','TF-IDF_value'])"
   ]
  },
  {
   "cell_type": "code",
   "execution_count": 500,
   "id": "3bd84074-341c-4823-85d7-7b86245fe917",
   "metadata": {},
   "outputs": [
    {
     "data": {
      "text/plain": [
       "'Azure VNet policy'"
      ]
     },
     "execution_count": 500,
     "metadata": {},
     "output_type": "execute_result"
    }
   ],
   "source": [
    "data.manualTags[23]"
   ]
  },
  {
   "cell_type": "code",
   "execution_count": 502,
   "id": "64191f9f-ae23-4f89-9a29-33cde9a7cefc",
   "metadata": {
    "tags": []
   },
   "outputs": [
    {
     "data": {
      "text/plain": [
       "'Permission issue'"
      ]
     },
     "execution_count": 502,
     "metadata": {},
     "output_type": "execute_result"
    }
   ],
   "source": [
    "data['theme'][23]"
   ]
  },
  {
   "cell_type": "code",
   "execution_count": 510,
   "id": "bbf58f3d-882b-4176-a9b6-a403fd0a03a8",
   "metadata": {},
   "outputs": [
    {
     "data": {
      "text/plain": [
       "['prepare',\n",
       " 'test',\n",
       " 'migration',\n",
       " 'migration',\n",
       " 'virtual',\n",
       " 'machine',\n",
       " 'fail',\n",
       " 'azure',\n",
       " 'platform',\n",
       " 'error',\n",
       " 'customer',\n",
       " 'policy',\n",
       " 'place',\n",
       " 'require',\n",
       " 'vnet',\n",
       " 'create',\n",
       " 'need',\n",
       " 'ddo',\n",
       " 'protection',\n",
       " 'plan',\n",
       " 'enable',\n",
       " 'customer',\n",
       " 'account',\n",
       " 'permission',\n",
       " 'assign',\n",
       " 'ddos',\n",
       " 'protection',\n",
       " 'plan']"
      ]
     },
     "execution_count": 510,
     "metadata": {},
     "output_type": "execute_result"
    }
   ],
   "source": [
    "data.concatenated_text_tok[23]"
   ]
  },
  {
   "cell_type": "code",
   "execution_count": 507,
   "id": "e0fc1ea0-a903-4647-9c4b-2fe33e4ec4b8",
   "metadata": {},
   "outputs": [
    {
     "data": {
      "text/plain": [
       "['customer',\n",
       " 'policy',\n",
       " 'place',\n",
       " 'require',\n",
       " 'vnet',\n",
       " 'create',\n",
       " 'need',\n",
       " 'ddo',\n",
       " 'protection',\n",
       " 'plan',\n",
       " 'enable',\n",
       " 'customer',\n",
       " 'account',\n",
       " 'permission',\n",
       " 'assign',\n",
       " 'ddos',\n",
       " 'protection',\n",
       " 'plan']"
      ]
     },
     "execution_count": 507,
     "metadata": {},
     "output_type": "execute_result"
    }
   ],
   "source": [
    "nlp = spacy.load('en_core_web_sm', disable=[\"parser\",\"ner\"])\n",
    "allowed_postags=[\"NOUN\",\"VERB\",\"ADV\",\"ADJ\",\"PROPN\"]\n",
    "text = \" \".join([x for x in data.cause_SP[23]])\n",
    "doc = nlp(text) ## spacy lemmatizer\n",
    "[token.lemma_ for token in doc if token.pos_ in allowed_postags]"
   ]
  },
  {
   "cell_type": "code",
   "execution_count": 385,
   "id": "6f12a8ae-78e6-43b2-8e94-62aec3f72fd2",
   "metadata": {},
   "outputs": [
    {
     "data": {
      "text/plain": [
       "['VERB',\n",
       " 'NOUN',\n",
       " 'NOUN',\n",
       " 'ADP',\n",
       " 'NOUN',\n",
       " 'NOUN',\n",
       " 'NOUN',\n",
       " 'CCONJ',\n",
       " 'PART',\n",
       " 'ADJ',\n",
       " 'PART',\n",
       " 'VERB',\n",
       " 'NOUN']"
      ]
     },
     "execution_count": 385,
     "metadata": {},
     "output_type": "execute_result"
    }
   ],
   "source": [
    "[token.pos_ for token in doc]"
   ]
  },
  {
   "cell_type": "code",
   "execution_count": 504,
   "id": "c4e427c0-add1-4021-8e57-57b27ce2c287",
   "metadata": {},
   "outputs": [
    {
     "data": {
      "text/plain": [
       "preparing for test migration migration for the virtual machine failed because of an azure platform error"
      ]
     },
     "execution_count": 504,
     "metadata": {},
     "output_type": "execute_result"
    }
   ],
   "source": [
    "doc"
   ]
  },
  {
   "cell_type": "code",
   "execution_count": 329,
   "id": "45578d70-ee6e-414d-9d7b-0fbac7e8c8f7",
   "metadata": {},
   "outputs": [
    {
     "data": {
      "text/plain": [
       "['azure',\n",
       " 'site',\n",
       " 'recovery',\n",
       " 'about',\n",
       " 'the',\n",
       " 'matter',\n",
       " 'that',\n",
       " 'the',\n",
       " 'bandwidth',\n",
       " 'control',\n",
       " 'of',\n",
       " 'the',\n",
       " 'provider',\n",
       " 'does',\n",
       " 'not',\n",
       " 'work']"
      ]
     },
     "execution_count": 329,
     "metadata": {},
     "output_type": "execute_result"
    }
   ],
   "source": [
    "data.title_SP[1]"
   ]
  },
  {
   "cell_type": "code",
   "execution_count": 324,
   "id": "db0ffa6f-dc6c-44d9-8a92-be33201c123e",
   "metadata": {},
   "outputs": [
    {
     "data": {
      "text/html": [
       "<div>\n",
       "<style scoped>\n",
       "    .dataframe tbody tr th:only-of-type {\n",
       "        vertical-align: middle;\n",
       "    }\n",
       "\n",
       "    .dataframe tbody tr th {\n",
       "        vertical-align: top;\n",
       "    }\n",
       "\n",
       "    .dataframe thead th {\n",
       "        text-align: right;\n",
       "    }\n",
       "</style>\n",
       "<table border=\"1\" class=\"dataframe\">\n",
       "  <thead>\n",
       "    <tr style=\"text-align: right;\">\n",
       "      <th></th>\n",
       "      <th>createdDateTime</th>\n",
       "      <th>createDay</th>\n",
       "      <th>closedDateTime</th>\n",
       "      <th>closedDay</th>\n",
       "      <th>incidentID</th>\n",
       "      <th>ICM</th>\n",
       "      <th>category</th>\n",
       "      <th>title</th>\n",
       "      <th>cause</th>\n",
       "      <th>resolution</th>\n",
       "      <th>labourMinutes</th>\n",
       "      <th>sub category</th>\n",
       "      <th>theme</th>\n",
       "      <th>manualTags</th>\n",
       "      <th>pmComments</th>\n",
       "      <th>initialSupportPath</th>\n",
       "      <th>initialSupportPathCorrect</th>\n",
       "      <th>selfHelpExists</th>\n",
       "      <th>engrComments</th>\n",
       "      <th>supportPath</th>\n",
       "      <th>rootSupportPath</th>\n",
       "      <th>region</th>\n",
       "      <th>subRegion</th>\n",
       "      <th>title_SP</th>\n",
       "      <th>cause_SP</th>\n",
       "      <th>resolution_SP</th>\n",
       "      <th>title_SP_lemmatized</th>\n",
       "      <th>cause_SP_lemmatized</th>\n",
       "      <th>resolution_SP_lemmatized</th>\n",
       "      <th>title_SP_lemmatized_SW</th>\n",
       "      <th>cause_SP_lemmatized_SW</th>\n",
       "      <th>resolution_SP_lemmatized_SW</th>\n",
       "      <th>title_SP_lemmatized_SW_detok</th>\n",
       "      <th>cause_SP_lemmatized_SW_detok</th>\n",
       "      <th>resolution_SP_lemmatized_SW_detok</th>\n",
       "      <th>concatenated_text_detok</th>\n",
       "      <th>concatenated_text_tok</th>\n",
       "      <th>concatenated_text_tok_wordcount</th>\n",
       "    </tr>\n",
       "  </thead>\n",
       "  <tbody>\n",
       "    <tr>\n",
       "      <th>0</th>\n",
       "      <td>2021-10-15</td>\n",
       "      <td>15-10-2021</td>\n",
       "      <td>2021-11-01</td>\n",
       "      <td>01-11-2021</td>\n",
       "      <td>2109130010001915</td>\n",
       "      <td>NO ICM</td>\n",
       "      <td>SERVER MIGRATION</td>\n",
       "      <td>Linux VM not booting after Migration</td>\n",
       "      <td>PG found that it's failing due to the label of...</td>\n",
       "      <td>Had to manually prep the server and move over ...</td>\n",
       "      <td>2527.0</td>\n",
       "      <td>POST MIGRATION</td>\n",
       "      <td>Boot issue</td>\n",
       "      <td>Linux, \\x, escape character</td>\n",
       "      <td>NaN</td>\n",
       "      <td>Routing Azure Migrate\\Migrating VMware VMs (ag...</td>\n",
       "      <td>NaN</td>\n",
       "      <td>NaN</td>\n",
       "      <td>NaN</td>\n",
       "      <td>Routing Azure Migrate\\Migrating VMware VMs (ag...</td>\n",
       "      <td>Root Cause - Azure Migrate\\VMware agentless to...</td>\n",
       "      <td>North America</td>\n",
       "      <td>United States</td>\n",
       "      <td>[linux, vm, not, booting, after, migration]</td>\n",
       "      <td>[pg, found, that, it, failing, due, to, the, l...</td>\n",
       "      <td>[had, to, manually, prep, the, server, and, mo...</td>\n",
       "      <td>[linux, boot, migration]</td>\n",
       "      <td>[find, fail, label, disk, have, name, actually...</td>\n",
       "      <td>[manually, prep, server, move, datum, disk, do...</td>\n",
       "      <td>[linux, boot, migration]</td>\n",
       "      <td>[find, fail, label, disk, name, actually, esca...</td>\n",
       "      <td>[manually, prep, server, move, datum, disk, av...</td>\n",
       "      <td>linux boot migration</td>\n",
       "      <td>find fail label disk name actually escape char...</td>\n",
       "      <td>manually prep server move datum disk avoid dis...</td>\n",
       "      <td>linux boot migration find fail label disk name...</td>\n",
       "      <td>[linux, boot, migration, find, fail, label, di...</td>\n",
       "      <td>[linux, boot, migration, find, fail, disk, nam...</td>\n",
       "    </tr>\n",
       "    <tr>\n",
       "      <th>1</th>\n",
       "      <td>2021-10-15</td>\n",
       "      <td>15-10-2021</td>\n",
       "      <td>2021-11-01</td>\n",
       "      <td>01-11-2021</td>\n",
       "      <td>2107280060003266</td>\n",
       "      <td>NO ICM</td>\n",
       "      <td>SERVER MIGRATION</td>\n",
       "      <td>Azure site recovery About the matter that the ...</td>\n",
       "      <td></td>\n",
       "      <td>Regarding this matter, we received a lot of ti...</td>\n",
       "      <td>1710.0</td>\n",
       "      <td>REPLICATION</td>\n",
       "      <td>Slow or stuck process</td>\n",
       "      <td>Network bandwidth, limit set</td>\n",
       "      <td>NaN</td>\n",
       "      <td>Routing Azure Site Recovery V2\\I am trying to ...</td>\n",
       "      <td>NaN</td>\n",
       "      <td>NaN</td>\n",
       "      <td>NaN</td>\n",
       "      <td>Routing Azure Migrate\\Migrating physical serve...</td>\n",
       "      <td>Root Cause - Azure Migrate\\Outage</td>\n",
       "      <td>LatAm</td>\n",
       "      <td>Argentina &amp; Uruguay</td>\n",
       "      <td>[azure, site, recovery, about, the, matter, th...</td>\n",
       "      <td>[]</td>\n",
       "      <td>[regarding, this, matter, we, received, lot, o...</td>\n",
       "      <td>[site, recovery, matter, control, provider, work]</td>\n",
       "      <td>[]</td>\n",
       "      <td>[regard, matter, receive, lot, time, cooperati...</td>\n",
       "      <td>[site, recovery, matter, control, provider, work]</td>\n",
       "      <td>[]</td>\n",
       "      <td>[regard, matter, receive, lot, time, cooperati...</td>\n",
       "      <td>site recovery matter control provider work</td>\n",
       "      <td></td>\n",
       "      <td>regard matter receive lot time cooperation con...</td>\n",
       "      <td>site recovery matter control provider work</td>\n",
       "      <td>[site, recovery, matter, control, provider, work]</td>\n",
       "      <td>[site, recovery, control, provider, work]</td>\n",
       "    </tr>\n",
       "  </tbody>\n",
       "</table>\n",
       "</div>"
      ],
      "text/plain": [
       "  createdDateTime   createDay closedDateTime   closedDay        incidentID  \\\n",
       "0      2021-10-15  15-10-2021     2021-11-01  01-11-2021  2109130010001915   \n",
       "1      2021-10-15  15-10-2021     2021-11-01  01-11-2021  2107280060003266   \n",
       "\n",
       "      ICM          category  \\\n",
       "0  NO ICM  SERVER MIGRATION   \n",
       "1  NO ICM  SERVER MIGRATION   \n",
       "\n",
       "                                               title  \\\n",
       "0               Linux VM not booting after Migration   \n",
       "1  Azure site recovery About the matter that the ...   \n",
       "\n",
       "                                               cause  \\\n",
       "0  PG found that it's failing due to the label of...   \n",
       "1                                                      \n",
       "\n",
       "                                          resolution  labourMinutes  \\\n",
       "0  Had to manually prep the server and move over ...         2527.0   \n",
       "1  Regarding this matter, we received a lot of ti...         1710.0   \n",
       "\n",
       "     sub category                  theme                    manualTags  \\\n",
       "0  POST MIGRATION             Boot issue   Linux, \\x, escape character   \n",
       "1     REPLICATION  Slow or stuck process  Network bandwidth, limit set   \n",
       "\n",
       "   pmComments                                 initialSupportPath  \\\n",
       "0         NaN  Routing Azure Migrate\\Migrating VMware VMs (ag...   \n",
       "1         NaN  Routing Azure Site Recovery V2\\I am trying to ...   \n",
       "\n",
       "  initialSupportPathCorrect selfHelpExists  engrComments  \\\n",
       "0                       NaN            NaN           NaN   \n",
       "1                       NaN            NaN           NaN   \n",
       "\n",
       "                                         supportPath  \\\n",
       "0  Routing Azure Migrate\\Migrating VMware VMs (ag...   \n",
       "1  Routing Azure Migrate\\Migrating physical serve...   \n",
       "\n",
       "                                     rootSupportPath         region  \\\n",
       "0  Root Cause - Azure Migrate\\VMware agentless to...  North America   \n",
       "1                  Root Cause - Azure Migrate\\Outage          LatAm   \n",
       "\n",
       "             subRegion                                           title_SP  \\\n",
       "0        United States        [linux, vm, not, booting, after, migration]   \n",
       "1  Argentina & Uruguay  [azure, site, recovery, about, the, matter, th...   \n",
       "\n",
       "                                            cause_SP  \\\n",
       "0  [pg, found, that, it, failing, due, to, the, l...   \n",
       "1                                                 []   \n",
       "\n",
       "                                       resolution_SP  \\\n",
       "0  [had, to, manually, prep, the, server, and, mo...   \n",
       "1  [regarding, this, matter, we, received, lot, o...   \n",
       "\n",
       "                                 title_SP_lemmatized  \\\n",
       "0                           [linux, boot, migration]   \n",
       "1  [site, recovery, matter, control, provider, work]   \n",
       "\n",
       "                                 cause_SP_lemmatized  \\\n",
       "0  [find, fail, label, disk, have, name, actually...   \n",
       "1                                                 []   \n",
       "\n",
       "                            resolution_SP_lemmatized  \\\n",
       "0  [manually, prep, server, move, datum, disk, do...   \n",
       "1  [regard, matter, receive, lot, time, cooperati...   \n",
       "\n",
       "                              title_SP_lemmatized_SW  \\\n",
       "0                           [linux, boot, migration]   \n",
       "1  [site, recovery, matter, control, provider, work]   \n",
       "\n",
       "                              cause_SP_lemmatized_SW  \\\n",
       "0  [find, fail, label, disk, name, actually, esca...   \n",
       "1                                                 []   \n",
       "\n",
       "                         resolution_SP_lemmatized_SW  \\\n",
       "0  [manually, prep, server, move, datum, disk, av...   \n",
       "1  [regard, matter, receive, lot, time, cooperati...   \n",
       "\n",
       "                 title_SP_lemmatized_SW_detok  \\\n",
       "0                        linux boot migration   \n",
       "1  site recovery matter control provider work   \n",
       "\n",
       "                        cause_SP_lemmatized_SW_detok  \\\n",
       "0  find fail label disk name actually escape char...   \n",
       "1                                                      \n",
       "\n",
       "                   resolution_SP_lemmatized_SW_detok  \\\n",
       "0  manually prep server move datum disk avoid dis...   \n",
       "1  regard matter receive lot time cooperation con...   \n",
       "\n",
       "                             concatenated_text_detok  \\\n",
       "0  linux boot migration find fail label disk name...   \n",
       "1        site recovery matter control provider work    \n",
       "\n",
       "                               concatenated_text_tok  \\\n",
       "0  [linux, boot, migration, find, fail, label, di...   \n",
       "1  [site, recovery, matter, control, provider, work]   \n",
       "\n",
       "                     concatenated_text_tok_wordcount  \n",
       "0  [linux, boot, migration, find, fail, disk, nam...  \n",
       "1          [site, recovery, control, provider, work]  "
      ]
     },
     "execution_count": 324,
     "metadata": {},
     "output_type": "execute_result"
    }
   ],
   "source": [
    "data.head(2)"
   ]
  },
  {
   "cell_type": "code",
   "execution_count": null,
   "id": "caacf3ee-04a3-4cee-9c32-fcc7023a85fb",
   "metadata": {},
   "outputs": [],
   "source": []
  }
 ],
 "metadata": {
  "kernelspec": {
   "display_name": "Python 3 (ipykernel)",
   "language": "python",
   "name": "python3"
  },
  "language_info": {
   "codemirror_mode": {
    "name": "ipython",
    "version": 3
   },
   "file_extension": ".py",
   "mimetype": "text/x-python",
   "name": "python",
   "nbconvert_exporter": "python",
   "pygments_lexer": "ipython3",
   "version": "3.8.13"
  }
 },
 "nbformat": 4,
 "nbformat_minor": 5
}

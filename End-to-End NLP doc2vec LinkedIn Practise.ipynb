{
 "cells": [
  {
   "cell_type": "code",
   "execution_count": 1,
   "metadata": {},
   "outputs": [],
   "source": [
    "import gensim\n",
    "import pandas as pd\n",
    "import numpy as np\n",
    "from sklearn.model_selection import train_test_split\n",
    "from sklearn.ensemble import RandomForestClassifier\n",
    "from sklearn.metrics import roc_auc_score, precision_score, recall_score\n",
    "import warnings\n",
    "warnings.filterwarnings('ignore')"
   ]
  },
  {
   "cell_type": "code",
   "execution_count": 2,
   "metadata": {},
   "outputs": [],
   "source": [
    "data = pd.read_csv('SMSSpamCollection.tsv',sep='\\t',header=None)"
   ]
  },
  {
   "cell_type": "code",
   "execution_count": 3,
   "metadata": {},
   "outputs": [],
   "source": [
    "data.rename(columns = {0:'target',1:'text'},inplace=True)"
   ]
  },
  {
   "cell_type": "code",
   "execution_count": 4,
   "metadata": {},
   "outputs": [
    {
     "data": {
      "text/html": [
       "<div>\n",
       "<style scoped>\n",
       "    .dataframe tbody tr th:only-of-type {\n",
       "        vertical-align: middle;\n",
       "    }\n",
       "\n",
       "    .dataframe tbody tr th {\n",
       "        vertical-align: top;\n",
       "    }\n",
       "\n",
       "    .dataframe thead th {\n",
       "        text-align: right;\n",
       "    }\n",
       "</style>\n",
       "<table border=\"1\" class=\"dataframe\">\n",
       "  <thead>\n",
       "    <tr style=\"text-align: right;\">\n",
       "      <th></th>\n",
       "      <th>target</th>\n",
       "      <th>text</th>\n",
       "    </tr>\n",
       "  </thead>\n",
       "  <tbody>\n",
       "    <tr>\n",
       "      <th>0</th>\n",
       "      <td>ham</td>\n",
       "      <td>I've been searching for the right words to tha...</td>\n",
       "    </tr>\n",
       "    <tr>\n",
       "      <th>1</th>\n",
       "      <td>spam</td>\n",
       "      <td>Free entry in 2 a wkly comp to win FA Cup fina...</td>\n",
       "    </tr>\n",
       "    <tr>\n",
       "      <th>2</th>\n",
       "      <td>ham</td>\n",
       "      <td>Nah I don't think he goes to usf, he lives aro...</td>\n",
       "    </tr>\n",
       "    <tr>\n",
       "      <th>3</th>\n",
       "      <td>ham</td>\n",
       "      <td>Even my brother is not like to speak with me. ...</td>\n",
       "    </tr>\n",
       "    <tr>\n",
       "      <th>4</th>\n",
       "      <td>ham</td>\n",
       "      <td>I HAVE A DATE ON SUNDAY WITH WILL!!</td>\n",
       "    </tr>\n",
       "  </tbody>\n",
       "</table>\n",
       "</div>"
      ],
      "text/plain": [
       "  target                                               text\n",
       "0    ham  I've been searching for the right words to tha...\n",
       "1   spam  Free entry in 2 a wkly comp to win FA Cup fina...\n",
       "2    ham  Nah I don't think he goes to usf, he lives aro...\n",
       "3    ham  Even my brother is not like to speak with me. ...\n",
       "4    ham                I HAVE A DATE ON SUNDAY WITH WILL!!"
      ]
     },
     "execution_count": 4,
     "metadata": {},
     "output_type": "execute_result"
    }
   ],
   "source": [
    "data.head()"
   ]
  },
  {
   "cell_type": "code",
   "execution_count": 5,
   "metadata": {},
   "outputs": [],
   "source": [
    "data['clean_text']= data['text'].apply(lambda x : gensim.utils.simple_preprocess(x))"
   ]
  },
  {
   "cell_type": "code",
   "execution_count": 6,
   "metadata": {},
   "outputs": [
    {
     "data": {
      "text/html": [
       "<div>\n",
       "<style scoped>\n",
       "    .dataframe tbody tr th:only-of-type {\n",
       "        vertical-align: middle;\n",
       "    }\n",
       "\n",
       "    .dataframe tbody tr th {\n",
       "        vertical-align: top;\n",
       "    }\n",
       "\n",
       "    .dataframe thead th {\n",
       "        text-align: right;\n",
       "    }\n",
       "</style>\n",
       "<table border=\"1\" class=\"dataframe\">\n",
       "  <thead>\n",
       "    <tr style=\"text-align: right;\">\n",
       "      <th></th>\n",
       "      <th>target</th>\n",
       "      <th>text</th>\n",
       "      <th>clean_text</th>\n",
       "    </tr>\n",
       "  </thead>\n",
       "  <tbody>\n",
       "    <tr>\n",
       "      <th>0</th>\n",
       "      <td>ham</td>\n",
       "      <td>I've been searching for the right words to tha...</td>\n",
       "      <td>[ve, been, searching, for, the, right, words, ...</td>\n",
       "    </tr>\n",
       "    <tr>\n",
       "      <th>1</th>\n",
       "      <td>spam</td>\n",
       "      <td>Free entry in 2 a wkly comp to win FA Cup fina...</td>\n",
       "      <td>[free, entry, in, wkly, comp, to, win, fa, cup...</td>\n",
       "    </tr>\n",
       "    <tr>\n",
       "      <th>2</th>\n",
       "      <td>ham</td>\n",
       "      <td>Nah I don't think he goes to usf, he lives aro...</td>\n",
       "      <td>[nah, don, think, he, goes, to, usf, he, lives...</td>\n",
       "    </tr>\n",
       "    <tr>\n",
       "      <th>3</th>\n",
       "      <td>ham</td>\n",
       "      <td>Even my brother is not like to speak with me. ...</td>\n",
       "      <td>[even, my, brother, is, not, like, to, speak, ...</td>\n",
       "    </tr>\n",
       "    <tr>\n",
       "      <th>4</th>\n",
       "      <td>ham</td>\n",
       "      <td>I HAVE A DATE ON SUNDAY WITH WILL!!</td>\n",
       "      <td>[have, date, on, sunday, with, will]</td>\n",
       "    </tr>\n",
       "  </tbody>\n",
       "</table>\n",
       "</div>"
      ],
      "text/plain": [
       "  target                                               text  \\\n",
       "0    ham  I've been searching for the right words to tha...   \n",
       "1   spam  Free entry in 2 a wkly comp to win FA Cup fina...   \n",
       "2    ham  Nah I don't think he goes to usf, he lives aro...   \n",
       "3    ham  Even my brother is not like to speak with me. ...   \n",
       "4    ham                I HAVE A DATE ON SUNDAY WITH WILL!!   \n",
       "\n",
       "                                          clean_text  \n",
       "0  [ve, been, searching, for, the, right, words, ...  \n",
       "1  [free, entry, in, wkly, comp, to, win, fa, cup...  \n",
       "2  [nah, don, think, he, goes, to, usf, he, lives...  \n",
       "3  [even, my, brother, is, not, like, to, speak, ...  \n",
       "4               [have, date, on, sunday, with, will]  "
      ]
     },
     "execution_count": 6,
     "metadata": {},
     "output_type": "execute_result"
    }
   ],
   "source": [
    "data.head()"
   ]
  },
  {
   "cell_type": "code",
   "execution_count": 7,
   "metadata": {},
   "outputs": [],
   "source": [
    "data['target']=data['target'].apply(lambda x : 1 if x=='spam' else 0)"
   ]
  },
  {
   "cell_type": "code",
   "execution_count": 8,
   "metadata": {},
   "outputs": [
    {
     "data": {
      "text/html": [
       "<div>\n",
       "<style scoped>\n",
       "    .dataframe tbody tr th:only-of-type {\n",
       "        vertical-align: middle;\n",
       "    }\n",
       "\n",
       "    .dataframe tbody tr th {\n",
       "        vertical-align: top;\n",
       "    }\n",
       "\n",
       "    .dataframe thead th {\n",
       "        text-align: right;\n",
       "    }\n",
       "</style>\n",
       "<table border=\"1\" class=\"dataframe\">\n",
       "  <thead>\n",
       "    <tr style=\"text-align: right;\">\n",
       "      <th></th>\n",
       "      <th>target</th>\n",
       "      <th>text</th>\n",
       "      <th>clean_text</th>\n",
       "    </tr>\n",
       "  </thead>\n",
       "  <tbody>\n",
       "    <tr>\n",
       "      <th>0</th>\n",
       "      <td>0</td>\n",
       "      <td>I've been searching for the right words to tha...</td>\n",
       "      <td>[ve, been, searching, for, the, right, words, ...</td>\n",
       "    </tr>\n",
       "    <tr>\n",
       "      <th>1</th>\n",
       "      <td>1</td>\n",
       "      <td>Free entry in 2 a wkly comp to win FA Cup fina...</td>\n",
       "      <td>[free, entry, in, wkly, comp, to, win, fa, cup...</td>\n",
       "    </tr>\n",
       "    <tr>\n",
       "      <th>2</th>\n",
       "      <td>0</td>\n",
       "      <td>Nah I don't think he goes to usf, he lives aro...</td>\n",
       "      <td>[nah, don, think, he, goes, to, usf, he, lives...</td>\n",
       "    </tr>\n",
       "    <tr>\n",
       "      <th>3</th>\n",
       "      <td>0</td>\n",
       "      <td>Even my brother is not like to speak with me. ...</td>\n",
       "      <td>[even, my, brother, is, not, like, to, speak, ...</td>\n",
       "    </tr>\n",
       "    <tr>\n",
       "      <th>4</th>\n",
       "      <td>0</td>\n",
       "      <td>I HAVE A DATE ON SUNDAY WITH WILL!!</td>\n",
       "      <td>[have, date, on, sunday, with, will]</td>\n",
       "    </tr>\n",
       "  </tbody>\n",
       "</table>\n",
       "</div>"
      ],
      "text/plain": [
       "   target                                               text  \\\n",
       "0       0  I've been searching for the right words to tha...   \n",
       "1       1  Free entry in 2 a wkly comp to win FA Cup fina...   \n",
       "2       0  Nah I don't think he goes to usf, he lives aro...   \n",
       "3       0  Even my brother is not like to speak with me. ...   \n",
       "4       0                I HAVE A DATE ON SUNDAY WITH WILL!!   \n",
       "\n",
       "                                          clean_text  \n",
       "0  [ve, been, searching, for, the, right, words, ...  \n",
       "1  [free, entry, in, wkly, comp, to, win, fa, cup...  \n",
       "2  [nah, don, think, he, goes, to, usf, he, lives...  \n",
       "3  [even, my, brother, is, not, like, to, speak, ...  \n",
       "4               [have, date, on, sunday, with, will]  "
      ]
     },
     "execution_count": 8,
     "metadata": {},
     "output_type": "execute_result"
    }
   ],
   "source": [
    "data.head()"
   ]
  },
  {
   "cell_type": "code",
   "execution_count": 9,
   "metadata": {},
   "outputs": [],
   "source": [
    "x_train,x_test,y_train,y_test=train_test_split(data['clean_text'],data['target'],test_size=.2,stratify=data['target'])\n"
   ]
  },
  {
   "cell_type": "code",
   "execution_count": 10,
   "metadata": {},
   "outputs": [
    {
     "data": {
      "text/plain": [
       "4891                       [convey, my, regards, to, him]\n",
       "3921                         [how, izzit, still, raining]\n",
       "1039     [easy, ah, sen, got, selected, means, its, good]\n",
       "1744                    [think, have, the, wrong, number]\n",
       "2560    [also, fine, when, will, you, complete, the, c...\n",
       "                              ...                        \n",
       "2763    [married, local, women, looking, for, discreet...\n",
       "3463    [actually, fuck, that, just, do, whatever, do,...\n",
       "3575    [they, said, dun, haf, passport, or, smth, lik...\n",
       "2469    [final, chance, claim, ur, worth, of, discount...\n",
       "2608    [knock, knock, txt, whose, there, to, to, ente...\n",
       "Name: clean_text, Length: 4454, dtype: object"
      ]
     },
     "execution_count": 10,
     "metadata": {},
     "output_type": "execute_result"
    }
   ],
   "source": [
    "x_train"
   ]
  },
  {
   "cell_type": "code",
   "execution_count": 11,
   "metadata": {},
   "outputs": [],
   "source": [
    "## Create tags for doc2vec\n",
    "x_train_tag = [gensim.models.doc2vec.TaggedDocument(v,[i]) for i,v in enumerate(x_train)]\n",
    "x_test_tag = [gensim.models.doc2vec.TaggedDocument(v,[i]) for i,v in enumerate(x_test)]"
   ]
  },
  {
   "cell_type": "code",
   "execution_count": 12,
   "metadata": {},
   "outputs": [
    {
     "data": {
      "text/plain": [
       "list"
      ]
     },
     "execution_count": 12,
     "metadata": {},
     "output_type": "execute_result"
    }
   ],
   "source": [
    "type(x_train_tag)"
   ]
  },
  {
   "cell_type": "code",
   "execution_count": 13,
   "metadata": {},
   "outputs": [
    {
     "data": {
      "text/plain": [
       "[TaggedDocument(words=['convey', 'my', 'regards', 'to', 'him'], tags=[0]),\n",
       " TaggedDocument(words=['how', 'izzit', 'still', 'raining'], tags=[1]),\n",
       " TaggedDocument(words=['easy', 'ah', 'sen', 'got', 'selected', 'means', 'its', 'good'], tags=[2]),\n",
       " TaggedDocument(words=['think', 'have', 'the', 'wrong', 'number'], tags=[3])]"
      ]
     },
     "execution_count": 13,
     "metadata": {},
     "output_type": "execute_result"
    }
   ],
   "source": [
    "x_train_tag[0:4]"
   ]
  },
  {
   "cell_type": "code",
   "execution_count": 53,
   "metadata": {},
   "outputs": [],
   "source": [
    "## input is a tagged sentence (Tokenized)\n",
    "\n",
    "d2v_model = gensim.models.Doc2Vec(x_train_tag,vector_size=300,window=7,min_count=2)"
   ]
  },
  {
   "cell_type": "code",
   "execution_count": 54,
   "metadata": {},
   "outputs": [
    {
     "data": {
      "text/plain": [
       "<gensim.models.doc2vec.Doc2Vec at 0x7fc688062e10>"
      ]
     },
     "execution_count": 54,
     "metadata": {},
     "output_type": "execute_result"
    }
   ],
   "source": [
    "d2v_model"
   ]
  },
  {
   "cell_type": "code",
   "execution_count": 55,
   "metadata": {},
   "outputs": [
    {
     "data": {
      "text/plain": [
       "array([ 8.3593035e-04, -1.1307865e-03,  4.9551734e-04,  5.1871687e-04,\n",
       "        1.2362729e-03, -2.5805749e-04, -2.8533326e-03,  1.8625248e-03,\n",
       "       -2.7508932e-04,  4.1242549e-03,  2.4943845e-04, -3.1732905e-03,\n",
       "       -1.4246483e-03,  2.1703569e-03,  1.6573903e-03,  2.0310064e-03,\n",
       "       -2.5676871e-03, -2.1009329e-03,  1.2339117e-03, -1.4682449e-03,\n",
       "        2.4065534e-03,  1.3484266e-03,  1.5538665e-03,  1.4943494e-03,\n",
       "        4.0867561e-03, -1.9621878e-04, -1.5910048e-03,  2.2449753e-04,\n",
       "       -2.6633225e-03,  6.8015826e-04, -9.6130396e-05,  3.7614398e-03,\n",
       "        1.5108391e-03,  2.7931395e-03,  2.7198521e-03, -9.1674406e-04,\n",
       "        1.3492510e-04, -2.1685541e-03, -1.1514629e-03,  1.0709256e-03,\n",
       "        2.0055931e-04, -1.9819068e-03, -3.7105955e-04,  1.6843779e-03,\n",
       "        1.2345868e-03,  2.6607409e-04, -6.5664609e-04,  1.5882093e-04,\n",
       "       -2.3795965e-03,  1.2785771e-03, -4.5578472e-05,  1.2444291e-03,\n",
       "       -3.2604251e-03,  2.5253324e-03, -1.7642049e-03,  2.3631849e-04,\n",
       "        7.8959821e-04,  3.2856502e-03,  2.4103082e-03,  1.3412997e-03,\n",
       "       -2.8826302e-04,  4.2169117e-03, -9.7347039e-04,  1.0245986e-03,\n",
       "        1.1634434e-03,  5.6917313e-04,  1.0208556e-03,  1.3711589e-03,\n",
       "       -7.8317149e-05, -2.6759226e-03, -1.0369881e-03, -1.8403807e-03,\n",
       "        4.2288937e-04, -5.0053798e-04, -2.3039600e-03,  2.2491207e-03,\n",
       "        1.3552454e-03, -2.1523519e-03, -1.0660827e-03, -2.5116941e-03,\n",
       "       -1.9849357e-03, -2.1751547e-04,  1.1755904e-03, -1.3001488e-03,\n",
       "       -1.7597666e-05, -3.9428049e-03, -3.4041915e-03,  2.1703246e-03,\n",
       "        1.8695989e-04, -1.7323560e-03, -5.3184712e-04,  3.2601086e-04,\n",
       "        1.5402285e-03, -2.0961498e-03, -3.7370744e-04, -6.6410599e-04,\n",
       "        1.3372969e-03, -3.3854702e-04,  4.2757910e-04, -2.4393495e-04,\n",
       "        1.1690685e-03,  1.6603981e-03,  2.0849462e-04,  2.5606712e-03,\n",
       "        4.8149581e-04, -2.1986407e-03,  6.6895061e-04,  3.6568154e-04,\n",
       "       -1.5108377e-03, -2.3457571e-03,  8.8987459e-04,  6.0756051e-04,\n",
       "       -2.5508783e-03, -3.9059736e-04, -3.5684454e-04, -8.1849867e-04,\n",
       "       -1.0169969e-03, -2.2334297e-04, -3.2226424e-04, -1.4989098e-03,\n",
       "       -3.6713844e-03,  9.0099830e-04, -2.3274715e-03,  1.4932313e-03,\n",
       "       -3.4421270e-03, -2.1262423e-03, -8.6352875e-04, -9.6183975e-04,\n",
       "       -2.5870046e-03,  6.4656069e-04, -2.4880294e-03, -1.0215080e-03,\n",
       "       -1.9066491e-03,  1.4669969e-03,  1.4634441e-03, -2.2976164e-04,\n",
       "       -2.9807951e-04,  6.9914421e-04, -1.3601041e-03,  2.1365455e-03,\n",
       "        3.3108020e-04, -2.7925053e-03, -1.3760783e-03, -1.3188551e-04,\n",
       "        4.3330077e-04, -1.8674446e-03,  5.9151545e-04, -7.7200995e-05,\n",
       "       -1.4909370e-03,  1.0828595e-03,  9.1472734e-04,  9.1088557e-04,\n",
       "       -8.8438025e-04, -1.6187041e-03,  1.1633345e-03,  7.5170927e-04,\n",
       "       -3.6105113e-03, -1.8119990e-03,  1.5786748e-03, -1.6821984e-03,\n",
       "        3.8352613e-05,  1.3512911e-03, -1.7373433e-03,  2.1616786e-03,\n",
       "        2.9460649e-04, -2.2301455e-03,  8.1213092e-04,  4.5969852e-04,\n",
       "        2.5260265e-03,  1.2404006e-03, -8.5692521e-04,  3.5204496e-03,\n",
       "       -2.9693311e-03,  1.4463076e-03, -2.5244264e-03,  4.5122006e-03,\n",
       "       -1.7492998e-03,  1.8133242e-03,  2.1849100e-03, -2.2644702e-04,\n",
       "        8.9153415e-04,  2.1754229e-03,  1.4425849e-03, -1.5670204e-03,\n",
       "       -3.2829980e-03, -1.5587613e-03,  3.5376383e-03,  4.0851848e-04,\n",
       "        1.7950098e-03, -2.0723718e-03,  2.3435940e-04, -7.6041772e-04,\n",
       "        7.4089348e-04, -5.6218525e-04,  2.1409162e-03,  2.6556494e-05,\n",
       "        5.1175957e-05, -1.2910203e-03, -2.2860069e-03, -2.5813961e-03,\n",
       "       -8.4185864e-05,  1.8204743e-03, -3.6860683e-03,  1.8025443e-04,\n",
       "        1.4975837e-03, -2.2422097e-04,  4.5780375e-04, -1.3327507e-03,\n",
       "       -1.5888996e-03, -4.2134780e-04, -3.3566658e-03, -1.5784947e-03,\n",
       "        2.2973807e-03,  1.3313888e-04, -2.5872160e-03, -1.9723480e-03,\n",
       "        3.1919626e-04, -1.0771062e-03,  1.7113064e-03,  2.4685855e-03,\n",
       "        2.3441543e-04,  3.9973208e-03, -3.1420314e-03,  1.3441091e-03,\n",
       "        2.6866565e-03, -2.0298390e-03, -9.1285852e-04,  1.7642685e-03,\n",
       "        2.1507181e-03, -6.9164194e-04, -3.4750369e-03,  1.7407341e-03,\n",
       "        8.7561604e-04, -1.6257315e-04,  7.2955264e-04,  2.6785014e-03,\n",
       "        1.1246401e-03,  1.8744580e-03,  2.1618246e-03,  1.2576616e-03,\n",
       "       -1.9036107e-03,  4.0020328e-03, -6.9759182e-05, -1.6545234e-03,\n",
       "        1.6278174e-03,  4.2090251e-04, -4.0195539e-04,  1.1197529e-03,\n",
       "       -6.9080642e-04, -8.1066083e-04, -7.6305424e-04,  2.1415937e-03,\n",
       "       -1.9974320e-04,  1.5190566e-03,  2.9200742e-03,  8.6602505e-04,\n",
       "        1.5692253e-03,  1.0472387e-03,  3.4162632e-04,  3.3642342e-03,\n",
       "        1.4179818e-04,  7.3312578e-04,  1.9420729e-03,  6.5787695e-05,\n",
       "       -2.7285183e-03,  3.0925777e-04,  1.5673066e-03,  1.3268692e-03,\n",
       "       -1.9771515e-03,  1.9931120e-03,  1.4524704e-03, -1.4388715e-03,\n",
       "       -1.0196355e-03, -3.5139816e-03,  1.1972877e-03,  3.6580721e-04,\n",
       "       -4.6335478e-04,  5.2699988e-04,  2.7580869e-03,  7.8494096e-04,\n",
       "        4.2221923e-03,  1.7864443e-04, -2.0167693e-03,  1.8747238e-03,\n",
       "        2.4391143e-03, -8.9177862e-04, -1.1369287e-03, -3.0290761e-03,\n",
       "       -2.3245234e-03,  3.2985857e-04, -1.3833262e-03,  3.0000613e-03,\n",
       "       -9.0100593e-04, -9.8095566e-04,  4.6283728e-04, -2.5853796e-03,\n",
       "        1.6278367e-03,  2.9487230e-03,  1.1892729e-03, -2.1773314e-05],\n",
       "      dtype=float32)"
      ]
     },
     "execution_count": 55,
     "metadata": {},
     "output_type": "execute_result"
    }
   ],
   "source": [
    "## model generating vector of an unseen sentence\n",
    "\n",
    "d2v_model.infer_vector(['My','name','is','Batman']) "
   ]
  },
  {
   "cell_type": "code",
   "execution_count": 56,
   "metadata": {},
   "outputs": [
    {
     "data": {
      "text/plain": [
       "['convey', 'my', 'regards', 'to', 'him']"
      ]
     },
     "execution_count": 56,
     "metadata": {},
     "output_type": "execute_result"
    }
   ],
   "source": [
    "x_train_tag[0].words"
   ]
  },
  {
   "cell_type": "code",
   "execution_count": 57,
   "metadata": {},
   "outputs": [],
   "source": [
    "x_train_vector = [d2v_model.infer_vector(v.words) for v in x_train_tag]\n",
    "x_test_vector = [d2v_model.infer_vector(v.words) for v in x_test_tag]"
   ]
  },
  {
   "cell_type": "code",
   "execution_count": 58,
   "metadata": {},
   "outputs": [
    {
     "data": {
      "text/plain": [
       "[array([-1.74489268e-03, -4.54734953e-04, -2.04657693e-03,  2.57067778e-03,\n",
       "         3.31424992e-03,  1.02076493e-03, -3.71570559e-03,  5.51030599e-03,\n",
       "         2.62131705e-03,  8.02996662e-03, -8.68789502e-04, -4.77889134e-03,\n",
       "         8.96295009e-04,  3.81821278e-03,  7.30178086e-04,  6.62578037e-04,\n",
       "        -1.00892000e-02, -6.46034535e-03, -1.81929080e-03, -1.55918405e-03,\n",
       "         2.87509337e-03,  4.93583083e-03,  4.83064726e-03,  4.46677394e-03,\n",
       "         7.45631196e-03, -2.61607557e-03, -2.27962784e-03,  6.40177168e-03,\n",
       "        -4.37194062e-03,  9.97150782e-04, -9.31084563e-04,  1.13205090e-02,\n",
       "        -5.33366925e-04,  4.96078236e-03,  5.23082307e-03, -3.76676419e-03,\n",
       "        -7.25382706e-05, -5.14470972e-03, -6.39987178e-03, -1.95052405e-03,\n",
       "         1.37822644e-03, -6.30762847e-03,  2.83576502e-03,  3.61302635e-04,\n",
       "        -6.31209230e-04, -2.61341128e-03, -3.08233127e-03,  1.27335417e-03,\n",
       "        -3.22323479e-03,  5.23877752e-05, -2.15634634e-03, -1.93642522e-03,\n",
       "        -3.11969849e-03,  6.77095959e-03, -9.94001422e-03,  2.88898381e-03,\n",
       "         1.68038881e-03,  8.43325630e-03,  1.39160675e-03, -2.76976905e-04,\n",
       "        -8.67443916e-04,  8.68044421e-03,  1.36368757e-03, -8.06075928e-04,\n",
       "         2.93303560e-03, -4.25794395e-04,  1.58207913e-04,  3.51991528e-03,\n",
       "         1.90593291e-03, -8.00236035e-03,  7.10936729e-04, -4.01732652e-03,\n",
       "         1.91857375e-03, -1.98941561e-03, -9.69365705e-03,  6.60185423e-03,\n",
       "         3.21341190e-03, -6.14862470e-03,  1.19611993e-03, -3.68641270e-03,\n",
       "        -1.67568773e-03, -7.07355444e-04,  7.06859719e-05, -2.68179720e-04,\n",
       "         4.83167963e-03, -8.82364810e-03, -7.89002888e-03,  2.74289050e-03,\n",
       "         5.71230230e-05, -1.90243311e-03, -4.29647695e-03,  3.01541807e-03,\n",
       "         1.40715134e-03, -5.87842707e-03, -4.77212807e-03,  6.89321896e-04,\n",
       "         4.17093560e-03,  7.93466985e-04,  8.23841430e-04,  2.10089888e-03,\n",
       "        -5.89813513e-04,  1.24486265e-04,  3.48075363e-03,  8.38555675e-03,\n",
       "         5.16628567e-03, -1.49176770e-03,  2.30946415e-03,  3.33644147e-03,\n",
       "        -2.24935170e-03, -6.02756906e-03,  2.26239394e-03, -7.78937188e-04,\n",
       "        -4.58866544e-03,  7.92195322e-04,  2.91110878e-03,  1.12105079e-03,\n",
       "        -3.96283949e-03,  6.45641470e-04, -1.23743463e-04, -3.93050117e-03,\n",
       "        -5.84640540e-03,  4.32629371e-03, -4.15288098e-03,  4.44262382e-03,\n",
       "        -7.23815197e-03, -7.03424565e-04, -4.87517053e-03,  1.58311916e-03,\n",
       "        -1.07693914e-02, -2.10599182e-03, -6.02207030e-04,  7.16942013e-04,\n",
       "        -3.32744257e-03,  1.60084676e-03,  4.63095820e-03, -1.35262543e-03,\n",
       "        -1.05280615e-03,  1.98522583e-03, -3.12232156e-03,  7.73427216e-03,\n",
       "         3.02472920e-03, -8.14059749e-03, -5.90610038e-03,  2.59222789e-03,\n",
       "         3.35162447e-04, -6.52846834e-03, -3.14177456e-03, -1.23669580e-03,\n",
       "        -1.94673717e-03, -1.79401890e-04,  7.41767278e-03,  1.46087026e-03,\n",
       "        -2.99371639e-03, -3.01904837e-03, -1.99443335e-03,  4.71597677e-03,\n",
       "        -7.00566499e-03, -1.72354386e-03,  1.72235048e-03, -6.01779437e-03,\n",
       "         1.49114011e-03,  1.48313364e-03, -2.34076870e-03,  3.34300334e-03,\n",
       "         6.50650880e-04, -1.54121569e-03, -5.98083017e-04,  6.98702876e-04,\n",
       "         4.63435939e-03,  1.11171394e-03,  1.86090241e-03,  6.47258712e-03,\n",
       "        -3.11888219e-03,  4.90215374e-03, -5.02561778e-03,  8.02053232e-03,\n",
       "        -2.38694018e-03,  6.20420976e-03,  2.86089303e-03, -8.21087393e-04,\n",
       "         1.13065378e-03,  5.29132038e-03,  5.21459291e-03, -5.43899415e-03,\n",
       "        -4.16666875e-03, -4.72506322e-03,  8.34682118e-03,  4.83362610e-03,\n",
       "         1.80108706e-03, -3.48185236e-03, -5.70147298e-04, -4.10702918e-03,\n",
       "        -1.26152986e-03,  1.65057846e-03,  3.51309078e-03,  4.40466357e-03,\n",
       "        -2.71637575e-03, -3.91481631e-03, -3.19555728e-03, -3.08084558e-03,\n",
       "         1.02651597e-03,  1.23295363e-03, -9.53153800e-03, -1.33758073e-03,\n",
       "         4.46735462e-03, -2.51886901e-03, -3.45564331e-03, -1.86306261e-03,\n",
       "        -5.37715794e-04, -5.45366248e-03, -4.85998252e-03, -1.21905876e-03,\n",
       "         1.38165103e-03,  1.42702903e-03, -3.83196771e-03, -1.30636932e-03,\n",
       "         2.69538257e-03, -4.10533836e-03,  2.46470154e-04,  3.52520240e-03,\n",
       "         2.02574627e-03,  7.81176193e-03, -5.73871005e-03,  1.64366269e-03,\n",
       "         4.96221194e-03, -1.37729303e-03, -1.94901472e-03,  2.19442230e-03,\n",
       "         7.93409161e-03, -5.70290489e-03, -6.89211022e-03,  1.68611572e-04,\n",
       "        -2.00059824e-03, -2.60036462e-03, -8.09494755e-04,  1.21083600e-03,\n",
       "         4.52802575e-04,  5.07457973e-03,  5.08782314e-03,  4.04898124e-03,\n",
       "        -4.09229752e-03,  4.84241219e-03, -3.05216265e-04, -9.23811676e-05,\n",
       "        -1.38613163e-03,  1.17308274e-03,  1.95299170e-03,  5.03755687e-03,\n",
       "        -1.06773153e-03, -6.46805950e-03,  1.58503058e-03,  4.27824538e-03,\n",
       "         3.49367410e-03,  2.26308778e-03,  2.36809999e-03, -2.48619402e-03,\n",
       "         6.81471685e-03, -3.00041807e-04,  6.10223273e-03,  6.31060125e-03,\n",
       "         3.49721685e-03,  3.44063039e-03,  5.03560645e-04,  1.27377326e-03,\n",
       "        -3.88601585e-03,  3.60246678e-03,  1.19809015e-03,  1.74931425e-03,\n",
       "        -1.63533550e-03,  1.39321084e-03,  3.84449423e-03, -4.63064108e-03,\n",
       "        -4.94050561e-04, -5.31807449e-03, -2.28604084e-04,  1.35203393e-03,\n",
       "        -3.00063915e-03, -2.74394616e-03,  5.23235649e-03, -6.52289425e-04,\n",
       "         1.25436215e-02, -3.98102589e-03, -3.24335112e-03,  5.51507995e-03,\n",
       "         3.63067281e-03, -3.96183087e-03, -4.57399804e-03, -6.37398427e-03,\n",
       "        -2.60327873e-03,  9.09931696e-05, -6.30100723e-03,  3.18466779e-03,\n",
       "         1.52047700e-03, -3.11978278e-03,  2.39252532e-03, -4.51158313e-03,\n",
       "         3.28644901e-03,  6.19607139e-03,  3.16485157e-03,  7.54681183e-04],\n",
       "       dtype=float32)]"
      ]
     },
     "execution_count": 58,
     "metadata": {},
     "output_type": "execute_result"
    }
   ],
   "source": [
    "x_train_vector[0:1]"
   ]
  },
  {
   "cell_type": "code",
   "execution_count": null,
   "metadata": {},
   "outputs": [],
   "source": []
  },
  {
   "cell_type": "markdown",
   "metadata": {},
   "source": [
    "### RanndomForest Classifier"
   ]
  },
  {
   "cell_type": "code",
   "execution_count": 60,
   "metadata": {},
   "outputs": [],
   "source": [
    "rf = RandomForestClassifier(n_estimators=500,max_depth=100,n_jobs=-1 )"
   ]
  },
  {
   "cell_type": "code",
   "execution_count": 61,
   "metadata": {},
   "outputs": [],
   "source": [
    "rf_model = rf.fit(x_train_vector,np.ravel(y_train))"
   ]
  },
  {
   "cell_type": "code",
   "execution_count": 62,
   "metadata": {},
   "outputs": [],
   "source": [
    "pred_proba = rf_model.predict_proba(x_test_vector)[:,1]"
   ]
  },
  {
   "cell_type": "code",
   "execution_count": 63,
   "metadata": {},
   "outputs": [
    {
     "data": {
      "text/plain": [
       "array([0.098, 0.076, 0.054, ..., 0.1  , 0.066, 0.006])"
      ]
     },
     "execution_count": 63,
     "metadata": {},
     "output_type": "execute_result"
    }
   ],
   "source": [
    "pred_proba"
   ]
  },
  {
   "cell_type": "code",
   "execution_count": 64,
   "metadata": {},
   "outputs": [],
   "source": [
    "pred = rf_model.predict(x_test_vector)"
   ]
  },
  {
   "cell_type": "code",
   "execution_count": 65,
   "metadata": {},
   "outputs": [
    {
     "data": {
      "text/plain": [
       "0.8874221928573912"
      ]
     },
     "execution_count": 65,
     "metadata": {},
     "output_type": "execute_result"
    }
   ],
   "source": [
    "roc_auc_score(y_test,pred_proba)"
   ]
  },
  {
   "cell_type": "code",
   "execution_count": 66,
   "metadata": {},
   "outputs": [
    {
     "data": {
      "text/plain": [
       "0.9666666666666667"
      ]
     },
     "execution_count": 66,
     "metadata": {},
     "output_type": "execute_result"
    }
   ],
   "source": [
    "precision_score(y_test,pred)"
   ]
  },
  {
   "cell_type": "code",
   "execution_count": 67,
   "metadata": {},
   "outputs": [
    {
     "data": {
      "text/plain": [
       "0.19463087248322147"
      ]
     },
     "execution_count": 67,
     "metadata": {},
     "output_type": "execute_result"
    }
   ],
   "source": [
    "recall_score(y_test,pred)"
   ]
  },
  {
   "cell_type": "code",
   "execution_count": 44,
   "metadata": {},
   "outputs": [],
   "source": [
    "## We can see doc2vec model is better than word2vec model(in End-to-End word2vec NLP LinkedIn Practise.ipynb) ##"
   ]
  },
  {
   "cell_type": "code",
   "execution_count": null,
   "metadata": {},
   "outputs": [],
   "source": []
  }
 ],
 "metadata": {
  "kernelspec": {
   "display_name": "Python 3",
   "language": "python",
   "name": "python3"
  },
  "language_info": {
   "codemirror_mode": {
    "name": "ipython",
    "version": 3
   },
   "file_extension": ".py",
   "mimetype": "text/x-python",
   "name": "python",
   "nbconvert_exporter": "python",
   "pygments_lexer": "ipython3",
   "version": "3.6.10"
  }
 },
 "nbformat": 4,
 "nbformat_minor": 4
}

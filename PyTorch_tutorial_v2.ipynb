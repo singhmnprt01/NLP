{
 "cells": [
  {
   "cell_type": "markdown",
   "metadata": {},
   "source": [
    "## PyTorch\n",
    "* Tensors are a specialized data structure that are very similar to arrays and matrices.\n",
    "* A tensor is a number, vector, matrix, or any n-dimensional array\n",
    "* They are similar to NumPy’s ndarrays, except that tensors can run on GPUs or other specialized hardware to accelerate computing\n",
    "* In PyTorch, model's inputs, outputs, and learning weights are all in tensors.i.e., everything is based on tensors\n",
    "* List of available tensor operations: https://pytorch.org/docs/stable/torch.html"
   ]
  },
  {
   "cell_type": "markdown",
   "metadata": {},
   "source": [
    "### Tensors"
   ]
  },
  {
   "cell_type": "code",
   "execution_count": 3,
   "metadata": {},
   "outputs": [],
   "source": [
    "import torch\n",
    "import numpy as np"
   ]
  },
  {
   "cell_type": "code",
   "execution_count": 3,
   "metadata": {},
   "outputs": [
    {
     "data": {
      "text/plain": [
       "tensor([[0., 0., 0.],\n",
       "        [0., 0., 0.]])"
      ]
     },
     "execution_count": 3,
     "metadata": {},
     "output_type": "execute_result"
    }
   ],
   "source": [
    "# Create an empty/ unitialised tensor\n",
    "x = torch.empty(2,3)\n",
    "x"
   ]
  },
  {
   "cell_type": "code",
   "execution_count": 4,
   "metadata": {},
   "outputs": [
    {
     "data": {
      "text/plain": [
       "torch.Tensor"
      ]
     },
     "execution_count": 4,
     "metadata": {},
     "output_type": "execute_result"
    }
   ],
   "source": [
    "type(x)"
   ]
  },
  {
   "cell_type": "code",
   "execution_count": 5,
   "metadata": {},
   "outputs": [],
   "source": [
    "t1 = torch.tensor([1,2,3]) # 1-D\n",
    "t2 = torch.tensor([[1,2,3],[4,5,6]]) # 2-D\n",
    "t3 = torch.tensor([[[1,2,3],[4,5,6]],[[7,8,9],[10,11,12]]]) # 3-D"
   ]
  },
  {
   "cell_type": "code",
   "execution_count": 6,
   "metadata": {},
   "outputs": [
    {
     "data": {
      "text/plain": [
       "(tensor([1, 2, 3]),\n",
       " tensor([[1, 2, 3],\n",
       "         [4, 5, 6]]),\n",
       " tensor([[[ 1,  2,  3],\n",
       "          [ 4,  5,  6]],\n",
       " \n",
       "         [[ 7,  8,  9],\n",
       "          [10, 11, 12]]]))"
      ]
     },
     "execution_count": 6,
     "metadata": {},
     "output_type": "execute_result"
    }
   ],
   "source": [
    "t1, t2, t3"
   ]
  },
  {
   "cell_type": "code",
   "execution_count": 4,
   "metadata": {},
   "outputs": [
    {
     "data": {
      "text/plain": [
       "tensor(4)"
      ]
     },
     "execution_count": 4,
     "metadata": {},
     "output_type": "execute_result"
    }
   ],
   "source": [
    "torch.tensor(4)"
   ]
  },
  {
   "cell_type": "code",
   "execution_count": 5,
   "metadata": {},
   "outputs": [
    {
     "data": {
      "text/plain": [
       "torch.Tensor"
      ]
     },
     "execution_count": 5,
     "metadata": {},
     "output_type": "execute_result"
    }
   ],
   "source": [
    "type(torch.tensor(4))"
   ]
  },
  {
   "cell_type": "code",
   "execution_count": 6,
   "metadata": {},
   "outputs": [
    {
     "data": {
      "text/plain": [
       "4"
      ]
     },
     "execution_count": 6,
     "metadata": {},
     "output_type": "execute_result"
    }
   ],
   "source": [
    "int(torch.tensor(4))"
   ]
  },
  {
   "cell_type": "code",
   "execution_count": 7,
   "metadata": {},
   "outputs": [
    {
     "data": {
      "text/plain": [
       "['122']"
      ]
     },
     "execution_count": 7,
     "metadata": {},
     "output_type": "execute_result"
    }
   ],
   "source": [
    "[\"122\"]"
   ]
  },
  {
   "cell_type": "code",
   "execution_count": 8,
   "metadata": {},
   "outputs": [
    {
     "ename": "ValueError",
     "evalue": "too many dimensions 'str'",
     "output_type": "error",
     "traceback": [
      "\u001b[1;31m---------------------------------------------------------------------------\u001b[0m",
      "\u001b[1;31mValueError\u001b[0m                                Traceback (most recent call last)",
      "Cell \u001b[1;32mIn[8], line 2\u001b[0m\n\u001b[0;32m      1\u001b[0m \u001b[38;5;66;03m# We can't create a str tensor\u001b[39;00m\n\u001b[1;32m----> 2\u001b[0m \u001b[43mtorch\u001b[49m\u001b[38;5;241;43m.\u001b[39;49m\u001b[43mtensor\u001b[49m\u001b[43m(\u001b[49m\u001b[43m[\u001b[49m\u001b[38;5;124;43m'\u001b[39;49m\u001b[38;5;124;43m1\u001b[39;49m\u001b[38;5;124;43m'\u001b[39;49m\u001b[43m,\u001b[49m\u001b[38;5;124;43m'\u001b[39;49m\u001b[38;5;124;43m2\u001b[39;49m\u001b[38;5;124;43m'\u001b[39;49m\u001b[43m]\u001b[49m\u001b[43m)\u001b[49m\n",
      "\u001b[1;31mValueError\u001b[0m: too many dimensions 'str'"
     ]
    }
   ],
   "source": [
    "# We can't create a str tensor\n",
    "torch.tensor(['1','2'])"
   ]
  },
  {
   "cell_type": "code",
   "execution_count": 11,
   "metadata": {},
   "outputs": [
    {
     "data": {
      "text/plain": [
       "tensor([[0.3008, 0.0623],\n",
       "        [0.0577, 0.6313]])"
      ]
     },
     "execution_count": 11,
     "metadata": {},
     "output_type": "execute_result"
    }
   ],
   "source": [
    "# Create a 2d tensor with random variable\n",
    "# The numbers are drawn from a uniform distribution over the interval [0, 1)\n",
    "t_rand = torch.rand(2,2)\n",
    "t_rand"
   ]
  },
  {
   "cell_type": "code",
   "execution_count": 12,
   "metadata": {},
   "outputs": [
    {
     "data": {
      "text/plain": [
       "array([[0.84967438, 0.81380831],\n",
       "       [0.9388913 , 0.7339237 ]])"
      ]
     },
     "execution_count": 12,
     "metadata": {},
     "output_type": "execute_result"
    }
   ],
   "source": [
    "# numpy equivalent\n",
    "np_rand = np.random.rand(2,2)\n",
    "np_rand"
   ]
  },
  {
   "cell_type": "code",
   "execution_count": 13,
   "metadata": {},
   "outputs": [
    {
     "data": {
      "text/plain": [
       "tensor([[0., 0.],\n",
       "        [0., 0.]])"
      ]
     },
     "execution_count": 13,
     "metadata": {},
     "output_type": "execute_result"
    }
   ],
   "source": [
    "# zero tensor\n",
    "t_zero = torch.zeros(2,2)\n",
    "t_zero"
   ]
  },
  {
   "cell_type": "code",
   "execution_count": 14,
   "metadata": {},
   "outputs": [
    {
     "data": {
      "text/plain": [
       "tensor([[1., 1.],\n",
       "        [1., 1.]])"
      ]
     },
     "execution_count": 14,
     "metadata": {},
     "output_type": "execute_result"
    }
   ],
   "source": [
    "# ones tensor\n",
    "t_one = torch.ones(2,2)\n",
    "t_one"
   ]
  },
  {
   "cell_type": "code",
   "execution_count": null,
   "metadata": {},
   "outputs": [],
   "source": []
  },
  {
   "cell_type": "code",
   "execution_count": 16,
   "metadata": {},
   "outputs": [
    {
     "data": {
      "text/plain": [
       "tensor([[1, 1],\n",
       "        [1, 1]], dtype=torch.int32)"
      ]
     },
     "execution_count": 16,
     "metadata": {},
     "output_type": "execute_result"
    }
   ],
   "source": [
    "# Create a tenosr of a different datatype i.e int ?\n",
    "torch.ones(2, 2, dtype=torch.int)"
   ]
  },
  {
   "cell_type": "code",
   "execution_count": 17,
   "metadata": {},
   "outputs": [
    {
     "data": {
      "text/plain": [
       "tensor([[1., 1.],\n",
       "        [1., 1.]])"
      ]
     },
     "execution_count": 17,
     "metadata": {},
     "output_type": "execute_result"
    }
   ],
   "source": [
    "torch.ones(2, 2, dtype=torch.float32)"
   ]
  },
  {
   "cell_type": "code",
   "execution_count": 21,
   "metadata": {},
   "outputs": [
    {
     "data": {
      "text/plain": [
       "tensor([[1., 1.],\n",
       "        [1., 1.]], dtype=torch.float16)"
      ]
     },
     "execution_count": 21,
     "metadata": {},
     "output_type": "execute_result"
    }
   ],
   "source": [
    "torch.ones(2, 2, dtype=torch.float16)"
   ]
  },
  {
   "cell_type": "code",
   "execution_count": 8,
   "metadata": {},
   "outputs": [
    {
     "data": {
      "text/plain": [
       "[[1, 2, 3], [1, 2, 3]]"
      ]
     },
     "execution_count": 8,
     "metadata": {},
     "output_type": "execute_result"
    }
   ],
   "source": [
    "[[1,2,3],[1,2,3]]"
   ]
  },
  {
   "cell_type": "code",
   "execution_count": 9,
   "metadata": {},
   "outputs": [
    {
     "data": {
      "text/plain": [
       "list"
      ]
     },
     "execution_count": 9,
     "metadata": {},
     "output_type": "execute_result"
    }
   ],
   "source": [
    "type([[1,2,3],[1,2,3]])"
   ]
  },
  {
   "cell_type": "code",
   "execution_count": 11,
   "metadata": {},
   "outputs": [
    {
     "data": {
      "text/plain": [
       "array([[0.48928461, 0.06540415, 0.8517364 ],\n",
       "       [0.20748009, 0.14769705, 0.61246385]])"
      ]
     },
     "execution_count": 11,
     "metadata": {},
     "output_type": "execute_result"
    }
   ],
   "source": [
    "np.random.rand(2,3)"
   ]
  },
  {
   "cell_type": "code",
   "execution_count": 22,
   "metadata": {},
   "outputs": [
    {
     "data": {
      "text/plain": [
       "tensor([1, 2, 3, 4, 5])"
      ]
     },
     "execution_count": 22,
     "metadata": {},
     "output_type": "execute_result"
    }
   ],
   "source": [
    "# create a tensor from a List \n",
    "mylist = [1,2,3,4,5]\n",
    "torch.tensor(mylist)"
   ]
  },
  {
   "cell_type": "markdown",
   "metadata": {},
   "source": [
    "### Basic Tensor Operations"
   ]
  },
  {
   "cell_type": "markdown",
   "metadata": {},
   "source": [
    "#### Arithmetic operations"
   ]
  },
  {
   "cell_type": "code",
   "execution_count": 32,
   "metadata": {},
   "outputs": [
    {
     "name": "stdout",
     "output_type": "stream",
     "text": [
      "tensor([[0.7417, 1.3585],\n",
      "        [0.4339, 0.9540]], dtype=torch.float64)\n",
      "tensor([[0.7417, 1.3585],\n",
      "        [0.4339, 0.9540]], dtype=torch.float64)\n"
     ]
    }
   ],
   "source": [
    "\n",
    "t_1 = torch.rand(2,2, dtype=torch.float32)\n",
    "t_2 = torch.rand(2,2, dtype=torch.float64)\n",
    "\n",
    "sum_1 = t_1+t_2 # method 1\n",
    "\n",
    "print(sum_1)\n",
    "\n",
    "sum_2 = torch.add(t_1, t_2)\n",
    "print(sum_2)\n"
   ]
  },
  {
   "cell_type": "markdown",
   "metadata": {},
   "source": [
    "##### STOP and THINK!\n",
    "\n",
    "* Add two tensors of different dtypes ? What will be the output of this ?\n",
    "\n",
    "```python\n",
    "t_1 = torch.rand(2,2, dtype=torch.float32)\n",
    "t_2 = torch.rand(2,2, dtype=torch.int64)\n",
    "\n",
    "sum_2 = torch.add(t_1, t_2)\n",
    "print(sum_2)"
   ]
  },
  {
   "cell_type": "code",
   "execution_count": 18,
   "metadata": {},
   "outputs": [
    {
     "ename": "RuntimeError",
     "evalue": "\"check_uniform_bounds\" not implemented for 'Int'",
     "output_type": "error",
     "traceback": [
      "\u001b[1;31m---------------------------------------------------------------------------\u001b[0m",
      "\u001b[1;31mRuntimeError\u001b[0m                              Traceback (most recent call last)",
      "Cell \u001b[1;32mIn[18], line 1\u001b[0m\n\u001b[1;32m----> 1\u001b[0m t_1 \u001b[38;5;241m=\u001b[39m \u001b[43mtorch\u001b[49m\u001b[38;5;241;43m.\u001b[39;49m\u001b[43mrand\u001b[49m\u001b[43m(\u001b[49m\u001b[38;5;241;43m2\u001b[39;49m\u001b[43m,\u001b[49m\u001b[38;5;241;43m2\u001b[39;49m\u001b[43m,\u001b[49m\u001b[43m \u001b[49m\u001b[43mdtype\u001b[49m\u001b[38;5;241;43m=\u001b[39;49m\u001b[43mtorch\u001b[49m\u001b[38;5;241;43m.\u001b[39;49m\u001b[43mint\u001b[49m\u001b[43m)\u001b[49m\n\u001b[0;32m      2\u001b[0m t_2 \u001b[38;5;241m=\u001b[39m torch\u001b[38;5;241m.\u001b[39mrand(\u001b[38;5;241m2\u001b[39m,\u001b[38;5;241m2\u001b[39m, dtype\u001b[38;5;241m=\u001b[39mtorch\u001b[38;5;241m.\u001b[39mint)\n\u001b[0;32m      3\u001b[0m t_1 \u001b[38;5;241m+\u001b[39m t_2\n",
      "\u001b[1;31mRuntimeError\u001b[0m: \"check_uniform_bounds\" not implemented for 'Int'"
     ]
    }
   ],
   "source": [
    "t_1 = torch.rand(2,2, dtype=torch.int)\n",
    "t_2 = torch.rand(2,2, dtype=torch.int)\n",
    "t_1 + t_2"
   ]
  },
  {
   "cell_type": "code",
   "execution_count": 17,
   "metadata": {},
   "outputs": [
    {
     "ename": "RuntimeError",
     "evalue": "\"check_uniform_bounds\" not implemented for 'Int'",
     "output_type": "error",
     "traceback": [
      "\u001b[1;31m---------------------------------------------------------------------------\u001b[0m",
      "\u001b[1;31mRuntimeError\u001b[0m                              Traceback (most recent call last)",
      "Cell \u001b[1;32mIn[17], line 1\u001b[0m\n\u001b[1;32m----> 1\u001b[0m t_1 \u001b[38;5;241m=\u001b[39m \u001b[43mtorch\u001b[49m\u001b[38;5;241;43m.\u001b[39;49m\u001b[43mrand\u001b[49m\u001b[43m(\u001b[49m\u001b[38;5;241;43m2\u001b[39;49m\u001b[43m,\u001b[49m\u001b[38;5;241;43m2\u001b[39;49m\u001b[43m,\u001b[49m\u001b[43m \u001b[49m\u001b[43mdtype\u001b[49m\u001b[38;5;241;43m=\u001b[39;49m\u001b[43mtorch\u001b[49m\u001b[38;5;241;43m.\u001b[39;49m\u001b[43mint\u001b[49m\u001b[43m)\u001b[49m\n\u001b[0;32m      2\u001b[0m t_2 \u001b[38;5;241m=\u001b[39m torch\u001b[38;5;241m.\u001b[39mrand(\u001b[38;5;241m2\u001b[39m,\u001b[38;5;241m2\u001b[39m, dtype\u001b[38;5;241m=\u001b[39mtorch\u001b[38;5;241m.\u001b[39mint)\n\u001b[0;32m      4\u001b[0m sum_2 \u001b[38;5;241m=\u001b[39m torch\u001b[38;5;241m.\u001b[39madd(t_1, t_2)\n",
      "\u001b[1;31mRuntimeError\u001b[0m: \"check_uniform_bounds\" not implemented for 'Int'"
     ]
    }
   ],
   "source": [
    "t_1 = torch.rand(2,2, dtype=torch.int)\n",
    "t_2 = torch.rand(2,2, dtype=torch.int)\n",
    "\n",
    "sum_2 = torch.add(t_1, t_2)\n",
    "print(sum_2)"
   ]
  },
  {
   "cell_type": "code",
   "execution_count": null,
   "metadata": {},
   "outputs": [],
   "source": []
  },
  {
   "cell_type": "code",
   "execution_count": 33,
   "metadata": {},
   "outputs": [
    {
     "data": {
      "text/plain": [
       "tensor([[0.7417, 1.3585],\n",
       "        [0.4339, 0.9540]])"
      ]
     },
     "execution_count": 33,
     "metadata": {},
     "output_type": "execute_result"
    }
   ],
   "source": [
    "# Add and store the answer in one of the tensors \n",
    "t_1.add_(t_2) # this will add t_1 + t_2 and store the result in t_1"
   ]
  },
  {
   "cell_type": "code",
   "execution_count": 34,
   "metadata": {},
   "outputs": [
    {
     "data": {
      "text/plain": [
       "(tensor([[0.7417, 1.3585],\n",
       "         [0.4339, 0.9540]]),\n",
       " tensor([[0.5978, 0.6307],\n",
       "         [0.3409, 0.8006]], dtype=torch.float64))"
      ]
     },
     "execution_count": 34,
     "metadata": {},
     "output_type": "execute_result"
    }
   ],
   "source": [
    "t_1, t_2"
   ]
  },
  {
   "cell_type": "code",
   "execution_count": null,
   "metadata": {},
   "outputs": [],
   "source": [
    "# same for mul_ , sub_ , div_ "
   ]
  },
  {
   "cell_type": "markdown",
   "metadata": {},
   "source": [
    "#### Slicing"
   ]
  },
  {
   "cell_type": "code",
   "execution_count": 19,
   "metadata": {},
   "outputs": [
    {
     "name": "stdout",
     "output_type": "stream",
     "text": [
      "tensor([[0.5777, 0.7704, 0.3228],\n",
      "        [0.8461, 0.8383, 0.8489],\n",
      "        [0.3381, 0.6643, 0.1106],\n",
      "        [0.3934, 0.0503, 0.1186],\n",
      "        [0.1694, 0.3786, 0.6680]])\n"
     ]
    }
   ],
   "source": [
    "t1 = torch.rand(5,3, dtype=torch.float32)  ## 5 rows and 3 columns\n",
    "print(t1)"
   ]
  },
  {
   "cell_type": "code",
   "execution_count": 20,
   "metadata": {},
   "outputs": [
    {
     "data": {
      "text/plain": [
       "tensor([0.5777, 0.8461, 0.3381, 0.3934, 0.1694])"
      ]
     },
     "execution_count": 20,
     "metadata": {},
     "output_type": "execute_result"
    }
   ],
   "source": [
    "# get all rows for 1st columns\n",
    "t1[:,0]"
   ]
  },
  {
   "cell_type": "code",
   "execution_count": 26,
   "metadata": {},
   "outputs": [
    {
     "data": {
      "text/plain": [
       "tensor([[0.5777, 0.7704, 0.3228],\n",
       "        [0.8461, 0.8383, 0.8489]])"
      ]
     },
     "execution_count": 26,
     "metadata": {},
     "output_type": "execute_result"
    }
   ],
   "source": [
    "t1[:2,:]"
   ]
  },
  {
   "cell_type": "code",
   "execution_count": 25,
   "metadata": {},
   "outputs": [
    {
     "data": {
      "text/plain": [
       "tensor([[0.8461, 0.8383, 0.8489]])"
      ]
     },
     "execution_count": 25,
     "metadata": {},
     "output_type": "execute_result"
    }
   ],
   "source": [
    "# get all columns for 2nd row\n",
    "t1[1:2,]"
   ]
  },
  {
   "cell_type": "code",
   "execution_count": 24,
   "metadata": {},
   "outputs": [
    {
     "data": {
      "text/plain": [
       "tensor(0.8383)"
      ]
     },
     "execution_count": 24,
     "metadata": {},
     "output_type": "execute_result"
    }
   ],
   "source": [
    "# get a specific cell value\n",
    "t1[1,1]"
   ]
  },
  {
   "cell_type": "code",
   "execution_count": 27,
   "metadata": {},
   "outputs": [
    {
     "data": {
      "text/plain": [
       "0.8383046984672546"
      ]
     },
     "execution_count": 27,
     "metadata": {},
     "output_type": "execute_result"
    }
   ],
   "source": [
    "# get its value without tensor\n",
    "t1[1,1].item()"
   ]
  },
  {
   "cell_type": "code",
   "execution_count": 44,
   "metadata": {},
   "outputs": [
    {
     "data": {
      "text/plain": [
       "0.81689453125"
      ]
     },
     "execution_count": 44,
     "metadata": {},
     "output_type": "execute_result"
    }
   ],
   "source": [
    "t1 = torch.rand(5,3, dtype=torch.float16) # float16 has less precision thant 32 hence occupy less memory\n",
    "t1[1,1].item()"
   ]
  },
  {
   "cell_type": "code",
   "execution_count": 46,
   "metadata": {},
   "outputs": [
    {
     "data": {
      "text/plain": [
       "0.8178758192141287"
      ]
     },
     "execution_count": 46,
     "metadata": {},
     "output_type": "execute_result"
    }
   ],
   "source": [
    "t1 = torch.rand(5,3, dtype=torch.float64)\n",
    "t1[1,1].item()"
   ]
  },
  {
   "cell_type": "code",
   "execution_count": null,
   "metadata": {},
   "outputs": [],
   "source": [
    "# float32: Single precision 32 bit\n",
    "# float64: Double precision 64 bit\n",
    "# float16: half-precision 16 bit\n"
   ]
  },
  {
   "cell_type": "markdown",
   "metadata": {},
   "source": [
    "#### Reshaping"
   ]
  },
  {
   "cell_type": "code",
   "execution_count": 48,
   "metadata": {},
   "outputs": [
    {
     "data": {
      "text/plain": [
       "tensor([[0.8430, 0.2842, 0.7690, 0.0953],\n",
       "        [0.3395, 0.0348, 0.0975, 0.7434],\n",
       "        [0.7029, 0.4323, 0.3144, 0.9249],\n",
       "        [0.2463, 0.2493, 0.1550, 0.8346]])"
      ]
     },
     "execution_count": 48,
     "metadata": {},
     "output_type": "execute_result"
    }
   ],
   "source": [
    "t1 = torch.rand(4,4)\n",
    "t1"
   ]
  },
  {
   "cell_type": "code",
   "execution_count": 49,
   "metadata": {},
   "outputs": [
    {
     "data": {
      "text/plain": [
       "tensor([0.8430, 0.2842, 0.7690, 0.0953, 0.3395, 0.0348, 0.0975, 0.7434, 0.7029,\n",
       "        0.4323, 0.3144, 0.9249, 0.2463, 0.2493, 0.1550, 0.8346])"
      ]
     },
     "execution_count": 49,
     "metadata": {},
     "output_type": "execute_result"
    }
   ],
   "source": [
    "t1.view(16) ## converting 2d into 1d"
   ]
  },
  {
   "cell_type": "code",
   "execution_count": 50,
   "metadata": {},
   "outputs": [
    {
     "data": {
      "text/plain": [
       "tensor([[0.8430, 0.2842, 0.7690, 0.0953, 0.3395, 0.0348, 0.0975, 0.7434],\n",
       "        [0.7029, 0.4323, 0.3144, 0.9249, 0.2463, 0.2493, 0.1550, 0.8346]])"
      ]
     },
     "execution_count": 50,
     "metadata": {},
     "output_type": "execute_result"
    }
   ],
   "source": [
    "t1.view(2,8) ## converting 2d into different shape of 2d"
   ]
  },
  {
   "cell_type": "code",
   "execution_count": null,
   "metadata": {},
   "outputs": [],
   "source": [
    "# # Other methods:\n",
    "# 1. reshape  t1.reshape([2,8])\n",
    "# 2. flatten"
   ]
  },
  {
   "cell_type": "markdown",
   "metadata": {},
   "source": [
    "#### Tensor <-> numpy <-> pandas"
   ]
  },
  {
   "cell_type": "markdown",
   "metadata": {},
   "source": [
    "* You can't convert GPU tensor to numpy. Only CPU tensors can be converted."
   ]
  },
  {
   "cell_type": "code",
   "execution_count": 31,
   "metadata": {},
   "outputs": [],
   "source": [
    "# torch.device"
   ]
  },
  {
   "cell_type": "markdown",
   "metadata": {},
   "source": [
    "##### tensor to numpy"
   ]
  },
  {
   "cell_type": "code",
   "execution_count": 32,
   "metadata": {},
   "outputs": [
    {
     "name": "stdout",
     "output_type": "stream",
     "text": [
      "tensor([1., 1., 1., 1., 1.])\n"
     ]
    }
   ],
   "source": [
    "a = torch.ones(5)\n",
    "print(a)"
   ]
  },
  {
   "cell_type": "code",
   "execution_count": 33,
   "metadata": {},
   "outputs": [
    {
     "name": "stdout",
     "output_type": "stream",
     "text": [
      "[1. 1. 1. 1. 1.]\n"
     ]
    }
   ],
   "source": [
    "# Creating  numpy from torch\n",
    "b = a.numpy()\n",
    "print(b)"
   ]
  },
  {
   "cell_type": "code",
   "execution_count": 34,
   "metadata": {},
   "outputs": [
    {
     "data": {
      "text/plain": [
       "numpy.ndarray"
      ]
     },
     "execution_count": 34,
     "metadata": {},
     "output_type": "execute_result"
    }
   ],
   "source": [
    "type(b)"
   ]
  },
  {
   "cell_type": "code",
   "execution_count": 60,
   "metadata": {},
   "outputs": [
    {
     "data": {
      "text/plain": [
       "tensor([2., 2., 2., 2., 2.])"
      ]
     },
     "execution_count": 60,
     "metadata": {},
     "output_type": "execute_result"
    }
   ],
   "source": [
    "a.add_(1)"
   ]
  },
  {
   "cell_type": "code",
   "execution_count": 61,
   "metadata": {},
   "outputs": [
    {
     "data": {
      "text/plain": [
       "array([2., 2., 2., 2., 2.], dtype=float32)"
      ]
     },
     "execution_count": 61,
     "metadata": {},
     "output_type": "execute_result"
    }
   ],
   "source": [
    "b ## because both a and b points to the same memory location"
   ]
  },
  {
   "cell_type": "code",
   "execution_count": null,
   "metadata": {},
   "outputs": [],
   "source": [
    "# shallow copy and deep copy"
   ]
  },
  {
   "cell_type": "code",
   "execution_count": 35,
   "metadata": {},
   "outputs": [],
   "source": [
    "from copy import deepcopy"
   ]
  },
  {
   "cell_type": "code",
   "execution_count": 62,
   "metadata": {},
   "outputs": [
    {
     "data": {
      "text/plain": [
       "array([2., 2., 2., 2., 2.], dtype=float32)"
      ]
     },
     "execution_count": 62,
     "metadata": {},
     "output_type": "execute_result"
    }
   ],
   "source": [
    "c = a.numpy().copy()\n",
    "c"
   ]
  },
  {
   "cell_type": "code",
   "execution_count": 63,
   "metadata": {},
   "outputs": [
    {
     "data": {
      "text/plain": [
       "tensor([3., 3., 3., 3., 3.])"
      ]
     },
     "execution_count": 63,
     "metadata": {},
     "output_type": "execute_result"
    }
   ],
   "source": [
    "a.add_(1)"
   ]
  },
  {
   "cell_type": "code",
   "execution_count": 66,
   "metadata": {},
   "outputs": [
    {
     "data": {
      "text/plain": [
       "array([3., 3., 3., 3., 3.], dtype=float32)"
      ]
     },
     "execution_count": 66,
     "metadata": {},
     "output_type": "execute_result"
    }
   ],
   "source": [
    "b"
   ]
  },
  {
   "cell_type": "code",
   "execution_count": 65,
   "metadata": {},
   "outputs": [
    {
     "data": {
      "text/plain": [
       "array([2., 2., 2., 2., 2.], dtype=float32)"
      ]
     },
     "execution_count": 65,
     "metadata": {},
     "output_type": "execute_result"
    }
   ],
   "source": [
    "c ## Since a and c do not share same memory location"
   ]
  },
  {
   "cell_type": "markdown",
   "metadata": {},
   "source": [
    "##### Numpy to tensor"
   ]
  },
  {
   "cell_type": "code",
   "execution_count": 67,
   "metadata": {},
   "outputs": [
    {
     "data": {
      "text/plain": [
       "array([1., 1., 1., 1., 1.])"
      ]
     },
     "execution_count": 67,
     "metadata": {},
     "output_type": "execute_result"
    }
   ],
   "source": [
    "a = np.ones(5)\n",
    "a"
   ]
  },
  {
   "cell_type": "code",
   "execution_count": 68,
   "metadata": {},
   "outputs": [
    {
     "data": {
      "text/plain": [
       "tensor([1., 1., 1., 1., 1.], dtype=torch.float64)"
      ]
     },
     "execution_count": 68,
     "metadata": {},
     "output_type": "execute_result"
    }
   ],
   "source": [
    "b = torch.from_numpy(a)\n",
    "b"
   ]
  },
  {
   "cell_type": "code",
   "execution_count": 69,
   "metadata": {},
   "outputs": [
    {
     "name": "stdout",
     "output_type": "stream",
     "text": [
      "[2. 2. 2. 2. 2.]\n",
      "tensor([2., 2., 2., 2., 2.], dtype=torch.float64)\n"
     ]
    }
   ],
   "source": [
    "a +=1\n",
    "print(a)\n",
    "print(b) ## Since a & b both share the same memory location\n"
   ]
  },
  {
   "cell_type": "code",
   "execution_count": 2,
   "metadata": {},
   "outputs": [],
   "source": [
    "import torch"
   ]
  },
  {
   "cell_type": "markdown",
   "metadata": {},
   "source": [
    "#### Check GPU availability "
   ]
  },
  {
   "cell_type": "code",
   "execution_count": 36,
   "metadata": {},
   "outputs": [
    {
     "data": {
      "text/plain": [
       "False"
      ]
     },
     "execution_count": 36,
     "metadata": {},
     "output_type": "execute_result"
    }
   ],
   "source": [
    "torch.cuda.is_available()"
   ]
  },
  {
   "cell_type": "code",
   "execution_count": 43,
   "metadata": {},
   "outputs": [
    {
     "data": {
      "text/plain": [
       "'cpu'"
      ]
     },
     "execution_count": 43,
     "metadata": {},
     "output_type": "execute_result"
    }
   ],
   "source": [
    "device = (\"cuda\" if torch.cuda.is_available() else \"cpu\")\n",
    "device"
   ]
  },
  {
   "cell_type": "code",
   "execution_count": 40,
   "metadata": {},
   "outputs": [],
   "source": [
    "mytorch = torch.ones([2,2])"
   ]
  },
  {
   "cell_type": "code",
   "execution_count": 41,
   "metadata": {},
   "outputs": [
    {
     "data": {
      "text/plain": [
       "device(type='cpu')"
      ]
     },
     "execution_count": 41,
     "metadata": {},
     "output_type": "execute_result"
    }
   ],
   "source": [
    "mytorch.device"
   ]
  },
  {
   "cell_type": "code",
   "execution_count": 42,
   "metadata": {},
   "outputs": [
    {
     "data": {
      "text/plain": [
       "tensor([[1., 1.],\n",
       "        [1., 1.]])"
      ]
     },
     "execution_count": 42,
     "metadata": {},
     "output_type": "execute_result"
    }
   ],
   "source": [
    "mytorch.to(device)"
   ]
  },
  {
   "cell_type": "code",
   "execution_count": 2,
   "metadata": {},
   "outputs": [
    {
     "name": "stdout",
     "output_type": "stream",
     "text": [
      "GPU not available\n"
     ]
    }
   ],
   "source": [
    "if torch.cuda.is_available():\n",
    "    mydevice = torch.device(\"cuda\")\n",
    "    x = torch.ones(5, device=mydevice) ## Directly initialize tensor on GPU\n",
    "    ## or .\n",
    "    y = torch.ones(5)\n",
    "    y = y.to(mydevice) ## Allocates on CPU and then transfers to GPU\n",
    "    ## Also, you can't convert GPU tensor to numpy. Only CPU tensors can be converted.\n",
    "    z= x+ y\n",
    "    z = z.to(\"cpu\") ## to convert gpu tensor back to cpu\n",
    "else:\n",
    "    print(\"GPU not available\")"
   ]
  },
  {
   "cell_type": "markdown",
   "metadata": {},
   "source": [
    "#### Gradient and Autograd in torch"
   ]
  },
  {
   "cell_type": "code",
   "execution_count": null,
   "metadata": {},
   "outputs": [],
   "source": [
    "# y= x^2\n",
    "\n",
    "# delta(y)=dy/dx = 2x\n",
    "\n",
    "# x = 3\n",
    "\n",
    "# delta(y) = 2*3 = 6"
   ]
  },
  {
   "cell_type": "code",
   "execution_count": 44,
   "metadata": {},
   "outputs": [
    {
     "data": {
      "text/plain": [
       "tensor([1., 2., 3.], requires_grad=True)"
      ]
     },
     "execution_count": 44,
     "metadata": {},
     "output_type": "execute_result"
    }
   ],
   "source": [
    "x = torch.tensor([1.,2.,3.], requires_grad = True) ## This tells the tensor to calculate the gradient as and when required. \n",
    "x"
   ]
  },
  {
   "cell_type": "code",
   "execution_count": 63,
   "metadata": {},
   "outputs": [],
   "source": [
    "y = 5*x**2 + x*4 + 2 ## This is the function of x. Grad calc. will be applied on it in backpropagation"
   ]
  },
  {
   "cell_type": "code",
   "execution_count": 64,
   "metadata": {},
   "outputs": [],
   "source": [
    "# X -> X.Wt + b => Y\n",
    "\n",
    "# Wt = []\n",
    "# b =[]"
   ]
  },
  {
   "cell_type": "code",
   "execution_count": 65,
   "metadata": {},
   "outputs": [
    {
     "name": "stdout",
     "output_type": "stream",
     "text": [
      "tensor([11., 30., 59.], grad_fn=<AddBackward0>)\n"
     ]
    }
   ],
   "source": [
    "print(y) ## we can see the grad function below, Add:"
   ]
  },
  {
   "cell_type": "code",
   "execution_count": 66,
   "metadata": {},
   "outputs": [],
   "source": [
    "v = torch.tensor([1,1,1], dtype=torch.float32) ## this tensor's shape is same as y, whose grad is being calculated"
   ]
  },
  {
   "cell_type": "code",
   "execution_count": 68,
   "metadata": {},
   "outputs": [],
   "source": [
    "y.backward(v)"
   ]
  },
  {
   "cell_type": "code",
   "execution_count": 53,
   "metadata": {},
   "outputs": [
    {
     "data": {
      "text/plain": [
       "tensor([14., 24., 34.])"
      ]
     },
     "execution_count": 53,
     "metadata": {},
     "output_type": "execute_result"
    }
   ],
   "source": [
    "x.grad"
   ]
  },
  {
   "cell_type": "code",
   "execution_count": null,
   "metadata": {},
   "outputs": [],
   "source": [
    "# y = x^2 + 2\n",
    "# dy/dx = 2x\n",
    "# 2*1 =2"
   ]
  },
  {
   "cell_type": "code",
   "execution_count": 8,
   "metadata": {},
   "outputs": [
    {
     "data": {
      "text/plain": [
       "tensor([2., 4., 6.])"
      ]
     },
     "execution_count": 8,
     "metadata": {},
     "output_type": "execute_result"
    }
   ],
   "source": [
    "x.grad"
   ]
  },
  {
   "cell_type": "code",
   "execution_count": null,
   "metadata": {},
   "outputs": [],
   "source": []
  },
  {
   "cell_type": "code",
   "execution_count": 69,
   "metadata": {},
   "outputs": [
    {
     "name": "stdout",
     "output_type": "stream",
     "text": [
      "tensor(2., requires_grad=True)\n",
      "tensor(4., grad_fn=<MulBackward0>)\n"
     ]
    }
   ],
   "source": [
    "a = torch.tensor(2,dtype=torch.float, requires_grad=True)\n",
    "print(a)\n",
    "asa=a*a\n",
    "print(asa)\n",
    "# asa.backward(torch.tensor(1, dtype=torch.float32))\n",
    "# or\n",
    "asa.backward()"
   ]
  },
  {
   "cell_type": "code",
   "execution_count": 55,
   "metadata": {},
   "outputs": [
    {
     "data": {
      "text/plain": [
       "tensor(4.)"
      ]
     },
     "execution_count": 55,
     "metadata": {},
     "output_type": "execute_result"
    }
   ],
   "source": [
    "a.grad"
   ]
  },
  {
   "cell_type": "code",
   "execution_count": 11,
   "metadata": {},
   "outputs": [],
   "source": [
    "a = torch.tensor(2,dtype=torch.float, requires_grad=True)\n",
    "asa=a*a\n",
    "v = torch.tensor(1, dtype=torch.float32)\n",
    "asa.backward(v)\n",
    "# or\n",
    "# asa.backward()"
   ]
  },
  {
   "cell_type": "code",
   "execution_count": 12,
   "metadata": {},
   "outputs": [
    {
     "data": {
      "text/plain": [
       "tensor(4.)"
      ]
     },
     "execution_count": 12,
     "metadata": {},
     "output_type": "execute_result"
    }
   ],
   "source": [
    "a.grad"
   ]
  },
  {
   "cell_type": "code",
   "execution_count": 13,
   "metadata": {},
   "outputs": [],
   "source": [
    "# Example 2 "
   ]
  },
  {
   "cell_type": "code",
   "execution_count": 70,
   "metadata": {},
   "outputs": [
    {
     "name": "stdout",
     "output_type": "stream",
     "text": [
      "tensor([[ 1.,  4.,  9.],\n",
      "        [16., 25., 36.],\n",
      "        [49., 64., 81.]], grad_fn=<MulBackward0>)\n"
     ]
    }
   ],
   "source": [
    "from torch.autograd import Variable\n",
    "a = torch.tensor([[1.,2.,3.],[4.,5.,6.], [7.,8.,9.]], requires_grad=True) \n",
    "y = a * a\n",
    "print(y)"
   ]
  },
  {
   "cell_type": "code",
   "execution_count": 17,
   "metadata": {},
   "outputs": [
    {
     "name": "stdout",
     "output_type": "stream",
     "text": [
      "tensor([[ 2.,  4.,  6.],\n",
      "        [ 8., 10., 12.],\n",
      "        [14., 16., 18.]])\n"
     ]
    }
   ],
   "source": [
    "myHelperTens=torch.tensor([[1,1, 1],[1, 1, 1],[1, 1, 1]], dtype=torch.float)\n",
    "y.backward(myHelperTens)\n",
    "print(a.grad)"
   ]
  },
  {
   "cell_type": "code",
   "execution_count": 71,
   "metadata": {},
   "outputs": [
    {
     "name": "stdout",
     "output_type": "stream",
     "text": [
      "tensor([[1., 2., 3.],\n",
      "        [4., 5., 6.],\n",
      "        [7., 8., 9.]])\n"
     ]
    }
   ],
   "source": [
    "myHelperTens=torch.tensor([[1/2,1/2, 1/2],[1/2, 1/2, 1/2],[1/2, 1/2, 1/2]], dtype=torch.float)\n",
    "y.backward(myHelperTens)\n",
    "print(a.grad)"
   ]
  },
  {
   "cell_type": "code",
   "execution_count": null,
   "metadata": {},
   "outputs": [],
   "source": [
    "## Reasoning:\n",
    "# we know that dz/da = (dz/dy)*(dy/da)\n",
    "\n",
    "# Now we have dy/da, but we need dz/dy.\n",
    "# From above example's derivation we can see that dz/da is 1/9 tensor as for a given y y1 dz/dy is (1/9)*d(y1+y2+----y9)/dy1 = 1/9 \n",
    "# SO, when we add this 1/9 tensor to backward, the dz/da equation gets completed, else by default backward adds only tensor.torch([1.0])\n",
    "# which in this case would give error due to different shape. So, when we add manually the 1/9 tensor, our code works on non-scalar data as well\n",
    "# because in the backend it is calculating the derivative on the scalar data only, which is z in this case"
   ]
  },
  {
   "cell_type": "code",
   "execution_count": 23,
   "metadata": {},
   "outputs": [],
   "source": [
    "# \"\"\"\n",
    "# Detailed Reasoning from PyTorch perspective:\n",
    "\n",
    "\n",
    "# # By default, pytorch expects backward() to be called for the last output of the network - the loss function. \n",
    "# # The loss function always outputs a scalar and therefore, the gradients of the scalar loss w.r.t all other variables/parameters is\n",
    "# # well defined (using the chain rule).\n",
    "\n",
    "# # Thus, by default, backward() is called on a scalar tensor and expects no arguments.\n",
    "\n",
    "# However, when you call backward on the 2-by-3 out tensor (no longer a scalar function) - what do you expects a.grad to be? \n",
    "# You'll actually need a 2-by-3-by-2-by-3 output: d out[i,j] / d a[k,l](!)\n",
    "\n",
    "# Pytorch does not support this non-scalar function derivatives. Instead, pytorch assumes out is only an intermediate tensor and somewhere \"upstream\" \n",
    "# there is a scalar loss function, that through chain rule provides d loss/ d out[i,j]. This \"upstream\" gradient is of size 2-by-3 and this is actually\n",
    "# the argument you provide backward in this case: out.backward(g) where g_ij = d loss/ d out_ij.\n",
    "\n",
    "# The gradients are then calculated by chain rule d loss / d a[i,j] = (d loss/d out[i,j]) * (d out[i,j] / d a[i,j])\n",
    "\n",
    "# Since you provided a as the \"upstream\" gradients you got\n",
    "\n",
    "# a.grad[i,j] = 2 * a[i,j] * a[i,j]\n",
    "\n",
    "\n",
    "# In many cases, we have a scalar loss function, and we need to compute the gradient with respect to some parameters. \n",
    "# However, there are cases when the output function is an arbitrary tensor. \n",
    "# In this case, PyTorch allows you to compute so-called Jacobian product, and not the actual gradient.\n",
    "\n",
    "\n",
    "# Also, backward() is essentially equivalent to calling backward(torch.tensor(1.0)) in case of scalar output\n",
    "\n"
   ]
  },
  {
   "cell_type": "code",
   "execution_count": 14,
   "metadata": {},
   "outputs": [
    {
     "name": "stdout",
     "output_type": "stream",
     "text": [
      "tensor([[ 1.,  4.,  9.],\n",
      "        [16., 25., 36.],\n",
      "        [49., 64., 81.]], grad_fn=<MulBackward0>)\n",
      "tensor(31.6667, grad_fn=<MeanBackward0>)\n"
     ]
    }
   ],
   "source": [
    "from torch.autograd import Variable\n",
    "a = torch.tensor([[1.,2.,3.],[4.,5.,6.], [7.,8.,9.]], requires_grad=True) \n",
    "y = a * a\n",
    "print(y)\n",
    "z= y.mean()\n",
    "print(z)"
   ]
  },
  {
   "cell_type": "code",
   "execution_count": 13,
   "metadata": {},
   "outputs": [
    {
     "name": "stdout",
     "output_type": "stream",
     "text": [
      "tensor([[0.2222, 0.4444, 0.6667],\n",
      "        [0.8889, 1.1111, 1.3333],\n",
      "        [1.5556, 1.7778, 2.0000]])\n"
     ]
    }
   ],
   "source": [
    "## Way 1\n",
    "z.backward()\n",
    "\n",
    "print(a.grad)"
   ]
  },
  {
   "cell_type": "code",
   "execution_count": 15,
   "metadata": {},
   "outputs": [
    {
     "name": "stdout",
     "output_type": "stream",
     "text": [
      "tensor([[0.2222, 0.4444, 0.6667],\n",
      "        [0.8889, 1.1111, 1.3333],\n",
      "        [1.5556, 1.7778, 2.0000]])\n"
     ]
    }
   ],
   "source": [
    "## Way 1\n",
    "z.backward(torch.tensor(1, dtype=torch.float32))\n",
    "\n",
    "print(a.grad)\n"
   ]
  },
  {
   "cell_type": "code",
   "execution_count": 18,
   "metadata": {},
   "outputs": [],
   "source": [
    "### let's see how does this work mathematically:\n",
    "\n",
    "# y = a^2\n",
    "# y = [[a11*a11  a12*a12  a13*a13],[a21*a21 a22*a22 a23*a23],[a31*a31 a32*a32 * a33*a33]]\n",
    "\n",
    "# z = mean(y)\n",
    "# z = (y1 +y2 + y3 + ... +y9)/9\n",
    "# Now, we need dz/da = (dz/dy) * (dy/da) for all the a element  as per the chain rule\n",
    "\n",
    "\n",
    "# Let's do for a11:\n",
    "# dz/dy for y1 = (1/9)*(d(y1+y2+y3+y4....y9)/dy1)  Like this we will do for all the y elemnts\n",
    "# dy1/dy1 = 1 and other values will be 0 -> dy2/dy1 , dy3/dy1, etc.\n",
    "# Therefore, dz/dy = 1/9\n",
    "\n",
    "# dy/da for y1 = d(a11*a11)/da11\n",
    "# dy/da = 2*a11\n",
    "\n",
    "# So, dz/da for a11 is (1/9)*(2a11) = a11/4.5 = 1/4.5 =.2222\n",
    "\n"
   ]
  },
  {
   "cell_type": "code",
   "execution_count": null,
   "metadata": {},
   "outputs": [],
   "source": []
  },
  {
   "cell_type": "code",
   "execution_count": 19,
   "metadata": {},
   "outputs": [
    {
     "name": "stdout",
     "output_type": "stream",
     "text": [
      "tensor([[ 1.,  4.,  9.],\n",
      "        [16., 25., 36.],\n",
      "        [49., 64., 81.]], grad_fn=<MulBackward0>)\n",
      "tensor(31.6667, grad_fn=<MeanBackward0>)\n"
     ]
    }
   ],
   "source": [
    "from torch.autograd import Variable\n",
    "a = torch.tensor([[1.,2.,3.],[4.,5.,6.], [7.,8.,9.]], requires_grad=True) \n",
    "y = a * a\n",
    "print(y)\n",
    "z= y.mean()\n",
    "print(z)"
   ]
  },
  {
   "cell_type": "code",
   "execution_count": 17,
   "metadata": {},
   "outputs": [
    {
     "name": "stdout",
     "output_type": "stream",
     "text": [
      "(tensor([[0.2222, 0.4444, 0.6667],\n",
      "        [0.8889, 1.1111, 1.3333],\n",
      "        [1.5556, 1.7778, 2.0000]]),)\n"
     ]
    }
   ],
   "source": [
    "## Way 2\n",
    "print(torch.autograd.grad(outputs=z, inputs=a))"
   ]
  },
  {
   "cell_type": "code",
   "execution_count": null,
   "metadata": {},
   "outputs": [],
   "source": []
  },
  {
   "cell_type": "code",
   "execution_count": 21,
   "metadata": {},
   "outputs": [
    {
     "name": "stdout",
     "output_type": "stream",
     "text": [
      "tensor(1., grad_fn=<MulBackward0>)\n",
      "tensor(4., grad_fn=<MulBackward0>)\n",
      "tensor(9., grad_fn=<MulBackward0>)\n",
      "tensor(16., grad_fn=<MulBackward0>)\n",
      "tensor(25., grad_fn=<MulBackward0>)\n",
      "tensor(36., grad_fn=<MulBackward0>)\n",
      "tensor([[ 2.,  4.,  6.],\n",
      "        [ 8., 10., 12.]])\n"
     ]
    }
   ],
   "source": [
    "a = torch.tensor([[1,2,3],[4,5,6]], dtype=torch.float, requires_grad=True)\n",
    "for i in range(2):\n",
    "  for j in range(3):\n",
    "    out = a[i,j] * a[i,j]\n",
    "    print(out)\n",
    "    out.backward() ## This means d(x^2)/dx = 2x\n",
    "print(a.grad) ## 2*1 = 2 ; 2*2 =4 ; 2*3 = 6 ; 2*4 = 8, etc."
   ]
  },
  {
   "cell_type": "code",
   "execution_count": null,
   "metadata": {},
   "outputs": [],
   "source": []
  },
  {
   "cell_type": "code",
   "execution_count": 24,
   "metadata": {},
   "outputs": [],
   "source": [
    "\"\"\"\n",
    "x.requires_grad_(False)\n",
    "x.detach()\n",
    "x.grad.zero_()\n",
    "with torch.no_grad():\n",
    "\n",
    "\"\"\"\n",
    "## in Multiple epochs, we need to reset the gradient so that it doesn't backtrack previous calc. \n",
    "## For that, we have these options\n",
    "\n",
    "## Manual\n",
    "weights = torch.ones(4,requires_grad=True)\n",
    "for epoch in range(3):\n",
    "    model_output = (weights*3).sum()\n",
    "    model_output.backward() ## we don't use the vector v here since our model_output value is scalar\n",
    "    \n",
    "    weights.grad.zero_() \n",
    "    ## before going to the next epoch, we make the gradients as 0 so that gradients here doesn't \n",
    "    # affect the future gradient values\n",
    "    \n",
    "    ## NOTE: Here, we are not updating the weights based on their gradient and learning rate\n",
    "    ##       hence we get same results.\n",
    "    ##       However, in the real model, we have optimizer.step() function which does this for us \n",
    "    ##       and the weights and bias get automatically updated based on the gradient\n",
    "    \n"
   ]
  },
  {
   "cell_type": "markdown",
   "metadata": {},
   "source": [
    "##### How to use loss and Optimizers from torch directly:"
   ]
  },
  {
   "cell_type": "code",
   "execution_count": 103,
   "metadata": {},
   "outputs": [],
   "source": [
    "weights = torch.rand(4,requires_grad=True)\n",
    "x = torch.tensor([1.,2.,3.,4.])\n",
    "b = torch.zeros(4)\n",
    "# b = torch.rand(4, requires_grad=True)\n",
    "y = torch.tensor([2.,4.,6.,8.])"
   ]
  },
  {
   "cell_type": "code",
   "execution_count": 94,
   "metadata": {},
   "outputs": [
    {
     "data": {
      "text/plain": [
       "tensor([0.8494, 0.4763, 0.2418, 0.9873], requires_grad=True)"
      ]
     },
     "execution_count": 94,
     "metadata": {},
     "output_type": "execute_result"
    }
   ],
   "source": [
    "weights"
   ]
  },
  {
   "cell_type": "code",
   "execution_count": 95,
   "metadata": {},
   "outputs": [],
   "source": [
    "# y = Weight*x + b  # Neural Network relation\n",
    "\n",
    "# y = 2x  # This is the real mathematical relation"
   ]
  },
  {
   "cell_type": "code",
   "execution_count": 96,
   "metadata": {},
   "outputs": [
    {
     "name": "stdout",
     "output_type": "stream",
     "text": [
      "tensor([0.8494, 0.4763, 0.2418, 0.9873], requires_grad=True)\n"
     ]
    }
   ],
   "source": [
    "print(weights)"
   ]
  },
  {
   "cell_type": "code",
   "execution_count": 97,
   "metadata": {},
   "outputs": [
    {
     "data": {
      "text/plain": [
       "tensor([1.3258, 1.7489, 1.3756, 4.2230], grad_fn=<AddBackward0>)"
      ]
     },
     "execution_count": 97,
     "metadata": {},
     "output_type": "execute_result"
    }
   ],
   "source": [
    "weights*x + b"
   ]
  },
  {
   "cell_type": "code",
   "execution_count": 35,
   "metadata": {},
   "outputs": [
    {
     "data": {
      "text/plain": [
       "tensor([2., 4., 6., 8.])"
      ]
     },
     "execution_count": 35,
     "metadata": {},
     "output_type": "execute_result"
    }
   ],
   "source": [
    "y"
   ]
  },
  {
   "cell_type": "code",
   "execution_count": 104,
   "metadata": {},
   "outputs": [],
   "source": [
    "myloss = torch.nn.MSELoss() # Mean Square Error\n",
    "optimizer = torch.optim.SGD([weights], lr=0.07)  ## optimiser here is SGD -> Stochastic Gradient Descent"
   ]
  },
  {
   "cell_type": "code",
   "execution_count": 105,
   "metadata": {},
   "outputs": [],
   "source": [
    "# weight_after_epoch1 = weight_initial - learning_rate*change_in_weight\n",
    "\n",
    "# weight_after_epoch2 = weight_after_epoch_1 - learning_rate*change_in_weight\n",
    "\n",
    "# weight_after_epoch3 = weight_after_epoch_2 - learning_rate*change_in_weight\n",
    "\n",
    "\n",
    "# if we see above, the \"change_in_weight\" is new everytime. We are not remembering it from previous epochs"
   ]
  },
  {
   "cell_type": "code",
   "execution_count": 106,
   "metadata": {},
   "outputs": [
    {
     "name": "stdout",
     "output_type": "stream",
     "text": [
      "Model output tensor([0.9035, 0.1718, 0.5950, 1.2168], grad_fn=<AddBackward0>)\n",
      "loss is 22.77058219909668\n",
      "Updated Weights Grad tensor([0.9418, 0.3539, 0.7659, 1.2539], requires_grad=True)\n",
      "\n",
      "Model output tensor([0.9418, 0.7077, 2.2976, 5.0154], grad_fn=<AddBackward0>)\n",
      "loss is 8.643536567687988\n",
      "Updated Weights Grad tensor([0.9789, 0.5843, 1.1546, 1.6717], requires_grad=True)\n",
      "\n",
      "Model output tensor([0.9789, 1.1687, 3.4639, 6.6868], grad_fn=<AddBackward0>)\n",
      "loss is 4.303932189941406\n",
      "Updated Weights Grad tensor([1.0146, 0.7825, 1.4209, 1.8555], requires_grad=True)\n",
      "\n",
      "Model output tensor([1.0146, 1.5650, 4.2627, 7.4222], grad_fn=<AddBackward0>)\n",
      "loss is 2.5629754066467285\n",
      "Updated Weights Grad tensor([1.0491, 0.9530, 1.6033, 1.9364], requires_grad=True)\n",
      "\n",
      "Model output tensor([1.0491, 1.9059, 4.8100, 7.7458], grad_fn=<AddBackward0>)\n",
      "loss is 1.6925164461135864\n",
      "Updated Weights Grad tensor([1.0824, 1.0996, 1.7283, 1.9720], requires_grad=True)\n",
      "\n",
      "Model output tensor([1.0824, 2.1991, 5.1848, 7.8881], grad_fn=<AddBackward0>)\n",
      "loss is 1.1905558109283447\n",
      "Updated Weights Grad tensor([1.1145, 1.2256, 1.8139, 1.9877], requires_grad=True)\n",
      "\n",
      "Model output tensor([1.1145, 2.4512, 5.4416, 7.9508], grad_fn=<AddBackward0>)\n",
      "loss is 0.8742488622665405\n",
      "Updated Weights Grad tensor([1.1455, 1.3340, 1.8725, 1.9946], requires_grad=True)\n",
      "\n",
      "Model output tensor([1.1455, 2.6681, 5.6175, 7.9783], grad_fn=<AddBackward0>)\n",
      "loss is 0.6627513766288757\n",
      "Updated Weights Grad tensor([1.1754, 1.4273, 1.9127, 1.9976], requires_grad=True)\n",
      "\n",
      "Model output tensor([1.1754, 2.8545, 5.7380, 7.9905], grad_fn=<AddBackward0>)\n",
      "loss is 0.5151975750923157\n",
      "Updated Weights Grad tensor([1.2043, 1.5074, 1.9402, 1.9990], requires_grad=True)\n",
      "\n",
      "Model output tensor([1.2043, 3.0149, 5.8205, 7.9958], grad_fn=<AddBackward0>)\n",
      "loss is 0.4089615046977997\n",
      "Updated Weights Grad tensor([1.2321, 1.5764, 1.9590, 1.9995], requires_grad=True)\n",
      "\n",
      "Model output tensor([1.2321, 3.1528, 5.8771, 7.9982], grad_fn=<AddBackward0>)\n",
      "loss is 0.3306220769882202\n",
      "Updated Weights Grad tensor([1.2590, 1.6357, 1.9719, 1.9998], requires_grad=True)\n",
      "\n",
      "Model output tensor([1.2590, 3.2714, 5.9158, 7.9992], grad_fn=<AddBackward0>)\n",
      "loss is 0.27175354957580566\n",
      "Updated Weights Grad tensor([1.2849, 1.6867, 1.9808, 1.9999], requires_grad=True)\n",
      "\n",
      "Model output tensor([1.2849, 3.3734, 5.9423, 7.9996], grad_fn=<AddBackward0>)\n",
      "loss is 0.22681431472301483\n",
      "Updated Weights Grad tensor([1.3100, 1.7306, 1.9868, 2.0000], requires_grad=True)\n",
      "\n",
      "Model output tensor([1.3100, 3.4611, 5.9605, 7.9998], grad_fn=<AddBackward0>)\n",
      "loss is 0.19202257692813873\n",
      "Updated Weights Grad tensor([1.3341, 1.7683, 1.9910, 2.0000], requires_grad=True)\n",
      "\n",
      "Model output tensor([1.3341, 3.5366, 5.9729, 7.9999], grad_fn=<AddBackward0>)\n",
      "loss is 0.1647254079580307\n",
      "Updated Weights Grad tensor([1.3574, 1.8007, 1.9938, 2.0000], requires_grad=True)\n",
      "\n",
      "Model output tensor([1.3574, 3.6015, 5.9815, 8.0000], grad_fn=<AddBackward0>)\n",
      "loss is 0.1430235654115677\n",
      "Updated Weights Grad tensor([1.3799, 1.8286, 1.9958, 2.0000], requires_grad=True)\n",
      "\n",
      "Model output tensor([1.3799, 3.6573, 5.9873, 8.0000], grad_fn=<AddBackward0>)\n",
      "loss is 0.12553822994232178\n",
      "Updated Weights Grad tensor([1.4016, 1.8526, 1.9971, 2.0000], requires_grad=True)\n",
      "\n",
      "Model output tensor([1.4016, 3.7052, 5.9913, 8.0000], grad_fn=<AddBackward0>)\n",
      "loss is 0.11125800013542175\n",
      "Updated Weights Grad tensor([1.4226, 1.8733, 1.9980, 2.0000], requires_grad=True)\n",
      "\n",
      "Model output tensor([1.4226, 3.7465, 5.9940, 8.0000], grad_fn=<AddBackward0>)\n",
      "loss is 0.09943521022796631\n",
      "Updated Weights Grad tensor([1.4428, 1.8910, 1.9986, 2.0000], requires_grad=True)\n",
      "\n",
      "Model output tensor([1.4428, 3.7820, 5.9959, 8.0000], grad_fn=<AddBackward0>)\n",
      "loss is 0.08951405435800552\n",
      "Updated Weights Grad tensor([1.4623, 1.9063, 1.9991, 2.0000], requires_grad=True)\n",
      "\n",
      "Model output tensor([1.4623, 3.8125, 5.9972, 8.0000], grad_fn=<AddBackward0>)\n",
      "loss is 0.08107899129390717\n",
      "Updated Weights Grad tensor([1.4811, 1.9194, 1.9994, 2.0000], requires_grad=True)\n",
      "\n",
      "Model output tensor([1.4811, 3.8388, 5.9981, 8.0000], grad_fn=<AddBackward0>)\n",
      "loss is 0.07381797581911087\n",
      "Updated Weights Grad tensor([1.4992, 1.9307, 1.9996, 2.0000], requires_grad=True)\n",
      "\n",
      "Model output tensor([1.4992, 3.8613, 5.9987, 8.0000], grad_fn=<AddBackward0>)\n",
      "loss is 0.06749529391527176\n",
      "Updated Weights Grad tensor([1.5168, 1.9404, 1.9997, 2.0000], requires_grad=True)\n",
      "\n",
      "Model output tensor([1.5168, 3.8807, 5.9991, 8.0000], grad_fn=<AddBackward0>)\n",
      "loss is 0.061931997537612915\n",
      "Updated Weights Grad tensor([1.5337, 1.9487, 1.9998, 2.0000], requires_grad=True)\n",
      "\n",
      "Model output tensor([1.5337, 3.8974, 5.9994, 8.0000], grad_fn=<AddBackward0>)\n",
      "loss is 0.05699126049876213\n",
      "Updated Weights Grad tensor([1.5500, 1.9559, 1.9999, 2.0000], requires_grad=True)\n",
      "\n",
      "Model output tensor([1.5500, 3.9118, 5.9996, 8.0000], grad_fn=<AddBackward0>)\n",
      "loss is 0.05256778001785278\n",
      "Updated Weights Grad tensor([1.5658, 1.9621, 1.9999, 2.0000], requires_grad=True)\n",
      "\n",
      "Model output tensor([1.5658, 3.9241, 5.9997, 8.0000], grad_fn=<AddBackward0>)\n",
      "loss is 0.048579756170511246\n",
      "Updated Weights Grad tensor([1.5810, 1.9674, 1.9999, 2.0000], requires_grad=True)\n",
      "\n",
      "Model output tensor([1.5810, 3.9348, 5.9998, 8.0000], grad_fn=<AddBackward0>)\n",
      "loss is 0.044963058084249496\n",
      "Updated Weights Grad tensor([1.5956, 1.9720, 2.0000, 2.0000], requires_grad=True)\n",
      "\n",
      "Model output tensor([1.5956, 3.9439, 5.9999, 8.0000], grad_fn=<AddBackward0>)\n",
      "loss is 0.04166686162352562\n",
      "Updated Weights Grad tensor([1.6098, 1.9759, 2.0000, 2.0000], requires_grad=True)\n",
      "\n",
      "Model output tensor([1.6098, 3.9518, 5.9999, 8.0000], grad_fn=<AddBackward0>)\n",
      "loss is 0.03865047171711922\n",
      "Updated Weights Grad tensor([1.6234, 1.9793, 2.0000, 2.0000], requires_grad=True)\n",
      "\n",
      "Model output tensor([1.6234, 3.9585, 5.9999, 8.0000], grad_fn=<AddBackward0>)\n",
      "loss is 0.03588077425956726\n",
      "Updated Weights Grad tensor([1.6366, 1.9822, 2.0000, 2.0000], requires_grad=True)\n",
      "\n",
      "Model output tensor([1.6366, 3.9643, 6.0000, 8.0000], grad_fn=<AddBackward0>)\n",
      "loss is 0.033330608159303665\n",
      "Updated Weights Grad tensor([1.6493, 1.9847, 2.0000, 2.0000], requires_grad=True)\n",
      "\n",
      "Model output tensor([1.6493, 3.9693, 6.0000, 8.0000], grad_fn=<AddBackward0>)\n",
      "loss is 0.030977291986346245\n",
      "Updated Weights Grad tensor([1.6616, 1.9868, 2.0000, 2.0000], requires_grad=True)\n",
      "\n",
      "Model output tensor([1.6616, 3.9736, 6.0000, 8.0000], grad_fn=<AddBackward0>)\n",
      "loss is 0.028801724314689636\n",
      "Updated Weights Grad tensor([1.6734, 1.9887, 2.0000, 2.0000], requires_grad=True)\n",
      "\n",
      "Model output tensor([1.6734, 3.9773, 6.0000, 8.0000], grad_fn=<AddBackward0>)\n",
      "loss is 0.026787519454956055\n",
      "Updated Weights Grad tensor([1.6849, 1.9902, 2.0000, 2.0000], requires_grad=True)\n",
      "\n",
      "Model output tensor([1.6849, 3.9805, 6.0000, 8.0000], grad_fn=<AddBackward0>)\n",
      "loss is 0.024920525029301643\n",
      "Updated Weights Grad tensor([1.6959, 1.9916, 2.0000, 2.0000], requires_grad=True)\n",
      "\n",
      "Model output tensor([1.6959, 3.9832, 6.0000, 8.0000], grad_fn=<AddBackward0>)\n",
      "loss is 0.023188361898064613\n",
      "Updated Weights Grad tensor([1.7066, 1.9928, 2.0000, 2.0000], requires_grad=True)\n",
      "\n",
      "Model output tensor([1.7066, 3.9856, 6.0000, 8.0000], grad_fn=<AddBackward0>)\n",
      "loss is 0.021580077707767487\n",
      "Updated Weights Grad tensor([1.7168, 1.9938, 2.0000, 2.0000], requires_grad=True)\n",
      "\n",
      "Model output tensor([1.7168, 3.9876, 6.0000, 8.0000], grad_fn=<AddBackward0>)\n",
      "loss is 0.02008592151105404\n",
      "Updated Weights Grad tensor([1.7267, 1.9947, 2.0000, 2.0000], requires_grad=True)\n",
      "\n",
      "Model output tensor([1.7267, 3.9893, 6.0000, 8.0000], grad_fn=<AddBackward0>)\n",
      "loss is 0.018697135150432587\n",
      "Updated Weights Grad tensor([1.7363, 1.9954, 2.0000, 2.0000], requires_grad=True)\n",
      "\n",
      "Model output tensor([1.7363, 3.9908, 6.0000, 8.0000], grad_fn=<AddBackward0>)\n",
      "loss is 0.017405783757567406\n",
      "Updated Weights Grad tensor([1.7455, 1.9961, 2.0000, 2.0000], requires_grad=True)\n",
      "\n",
      "Model output tensor([1.7455, 3.9921, 6.0000, 8.0000], grad_fn=<AddBackward0>)\n",
      "loss is 0.01620466634631157\n",
      "Updated Weights Grad tensor([1.7544, 1.9966, 2.0000, 2.0000], requires_grad=True)\n",
      "\n",
      "Model output tensor([1.7544, 3.9932, 6.0000, 8.0000], grad_fn=<AddBackward0>)\n",
      "loss is 0.015087209641933441\n",
      "Updated Weights Grad tensor([1.7630, 1.9971, 2.0000, 2.0000], requires_grad=True)\n",
      "\n",
      "Model output tensor([1.7630, 3.9942, 6.0000, 8.0000], grad_fn=<AddBackward0>)\n",
      "loss is 0.014047370292246342\n",
      "Updated Weights Grad tensor([1.7713, 1.9975, 2.0000, 2.0000], requires_grad=True)\n",
      "\n",
      "Model output tensor([1.7713, 3.9950, 6.0000, 8.0000], grad_fn=<AddBackward0>)\n",
      "loss is 0.013079630210995674\n",
      "Updated Weights Grad tensor([1.7793, 1.9978, 2.0000, 2.0000], requires_grad=True)\n",
      "\n",
      "Model output tensor([1.7793, 3.9957, 6.0000, 8.0000], grad_fn=<AddBackward0>)\n",
      "loss is 0.012178868986666203\n",
      "Updated Weights Grad tensor([1.7871, 1.9981, 2.0000, 2.0000], requires_grad=True)\n",
      "\n",
      "Model output tensor([1.7871, 3.9963, 6.0000, 8.0000], grad_fn=<AddBackward0>)\n",
      "loss is 0.011340374127030373\n",
      "Updated Weights Grad tensor([1.7945, 1.9984, 2.0000, 2.0000], requires_grad=True)\n",
      "\n",
      "Model output tensor([1.7945, 3.9968, 6.0000, 8.0000], grad_fn=<AddBackward0>)\n",
      "loss is 0.01055978424847126\n",
      "Updated Weights Grad tensor([1.8017, 1.9986, 2.0000, 2.0000], requires_grad=True)\n",
      "\n",
      "Model output tensor([1.8017, 3.9973, 6.0000, 8.0000], grad_fn=<AddBackward0>)\n",
      "loss is 0.009833047166466713\n",
      "Updated Weights Grad tensor([1.8086, 1.9988, 2.0000, 2.0000], requires_grad=True)\n",
      "\n",
      "Model output tensor([1.8086, 3.9976, 6.0000, 8.0000], grad_fn=<AddBackward0>)\n",
      "loss is 0.009156422689557076\n",
      "Updated Weights Grad tensor([1.8153, 1.9990, 2.0000, 2.0000], requires_grad=True)\n",
      "\n",
      "Model output tensor([1.8153, 3.9980, 6.0000, 8.0000], grad_fn=<AddBackward0>)\n",
      "loss is 0.00852641835808754\n",
      "Updated Weights Grad tensor([1.8218, 1.9991, 2.0000, 2.0000], requires_grad=True)\n",
      "\n",
      "Model output tensor([1.8218, 3.9983, 6.0000, 8.0000], grad_fn=<AddBackward0>)\n",
      "loss is 0.007939818315207958\n",
      "Updated Weights Grad tensor([1.8280, 1.9992, 2.0000, 2.0000], requires_grad=True)\n",
      "\n",
      "Model output tensor([1.8280, 3.9985, 6.0000, 8.0000], grad_fn=<AddBackward0>)\n",
      "loss is 0.007393606472760439\n",
      "Updated Weights Grad tensor([1.8341, 1.9994, 2.0000, 2.0000], requires_grad=True)\n",
      "\n",
      "Model output tensor([1.8341, 3.9987, 6.0000, 8.0000], grad_fn=<AddBackward0>)\n",
      "loss is 0.006885006092488766\n",
      "Updated Weights Grad tensor([1.8399, 1.9994, 2.0000, 2.0000], requires_grad=True)\n",
      "\n",
      "Model output tensor([1.8399, 3.9989, 6.0000, 8.0000], grad_fn=<AddBackward0>)\n",
      "loss is 0.006411411799490452\n",
      "Updated Weights Grad tensor([1.8455, 1.9995, 2.0000, 2.0000], requires_grad=True)\n",
      "\n",
      "Model output tensor([1.8455, 3.9990, 6.0000, 8.0000], grad_fn=<AddBackward0>)\n",
      "loss is 0.00597040681168437\n",
      "Updated Weights Grad tensor([1.8509, 1.9996, 2.0000, 2.0000], requires_grad=True)\n",
      "\n",
      "Model output tensor([1.8509, 3.9992, 6.0000, 8.0000], grad_fn=<AddBackward0>)\n",
      "loss is 0.0055597517639398575\n",
      "Updated Weights Grad tensor([1.8561, 1.9996, 2.0000, 2.0000], requires_grad=True)\n",
      "\n",
      "Model output tensor([1.8561, 3.9993, 6.0000, 8.0000], grad_fn=<AddBackward0>)\n",
      "loss is 0.005177350249141455\n",
      "Updated Weights Grad tensor([1.8611, 1.9997, 2.0000, 2.0000], requires_grad=True)\n",
      "\n",
      "Model output tensor([1.8611, 3.9994, 6.0000, 8.0000], grad_fn=<AddBackward0>)\n",
      "loss is 0.004821253474801779\n",
      "Updated Weights Grad tensor([1.8660, 1.9997, 2.0000, 2.0000], requires_grad=True)\n",
      "\n",
      "Model output tensor([1.8660, 3.9995, 6.0000, 8.0000], grad_fn=<AddBackward0>)\n",
      "loss is 0.00448965560644865\n",
      "Updated Weights Grad tensor([1.8707, 1.9998, 2.0000, 2.0000], requires_grad=True)\n",
      "\n",
      "Model output tensor([1.8707, 3.9996, 6.0000, 8.0000], grad_fn=<AddBackward0>)\n",
      "loss is 0.004180867690593004\n",
      "Updated Weights Grad tensor([1.8752, 1.9998, 2.0000, 2.0000], requires_grad=True)\n",
      "\n",
      "Model output tensor([1.8752, 3.9996, 6.0000, 8.0000], grad_fn=<AddBackward0>)\n",
      "loss is 0.003893319284543395\n",
      "Updated Weights Grad tensor([1.8796, 1.9998, 2.0000, 2.0000], requires_grad=True)\n",
      "\n",
      "Model output tensor([1.8796, 3.9997, 6.0000, 8.0000], grad_fn=<AddBackward0>)\n",
      "loss is 0.003625550540164113\n",
      "Updated Weights Grad tensor([1.8838, 1.9999, 2.0000, 2.0000], requires_grad=True)\n",
      "\n",
      "Model output tensor([1.8838, 3.9997, 6.0000, 8.0000], grad_fn=<AddBackward0>)\n",
      "loss is 0.003376196837052703\n",
      "Updated Weights Grad tensor([1.8879, 1.9999, 2.0000, 2.0000], requires_grad=True)\n",
      "\n",
      "Model output tensor([1.8879, 3.9998, 6.0000, 8.0000], grad_fn=<AddBackward0>)\n",
      "loss is 0.0031439971644431353\n",
      "Updated Weights Grad tensor([1.8918, 1.9999, 2.0000, 2.0000], requires_grad=True)\n",
      "\n",
      "Model output tensor([1.8918, 3.9998, 6.0000, 8.0000], grad_fn=<AddBackward0>)\n",
      "loss is 0.0029277668800204992\n",
      "Updated Weights Grad tensor([1.8956, 1.9999, 2.0000, 2.0000], requires_grad=True)\n",
      "\n",
      "Model output tensor([1.8956, 3.9998, 6.0000, 8.0000], grad_fn=<AddBackward0>)\n",
      "loss is 0.0027264063246548176\n",
      "Updated Weights Grad tensor([1.8992, 1.9999, 2.0000, 2.0000], requires_grad=True)\n",
      "\n",
      "Model output tensor([1.8992, 3.9998, 6.0000, 8.0000], grad_fn=<AddBackward0>)\n",
      "loss is 0.0025388943031430244\n",
      "Updated Weights Grad tensor([1.9028, 1.9999, 2.0000, 2.0000], requires_grad=True)\n",
      "\n",
      "Model output tensor([1.9028, 3.9999, 6.0000, 8.0000], grad_fn=<AddBackward0>)\n",
      "loss is 0.002364278305321932\n",
      "Updated Weights Grad tensor([1.9062, 1.9999, 2.0000, 2.0000], requires_grad=True)\n",
      "\n",
      "Model output tensor([1.9062, 3.9999, 6.0000, 8.0000], grad_fn=<AddBackward0>)\n",
      "loss is 0.002201674273237586\n",
      "Updated Weights Grad tensor([1.9094, 2.0000, 2.0000, 2.0000], requires_grad=True)\n",
      "\n",
      "Model output tensor([1.9094, 3.9999, 6.0000, 8.0000], grad_fn=<AddBackward0>)\n",
      "loss is 0.002050252165645361\n",
      "Updated Weights Grad tensor([1.9126, 2.0000, 2.0000, 2.0000], requires_grad=True)\n",
      "\n",
      "Model output tensor([1.9126, 3.9999, 6.0000, 8.0000], grad_fn=<AddBackward0>)\n",
      "loss is 0.0019092473667114973\n",
      "Updated Weights Grad tensor([1.9157, 2.0000, 2.0000, 2.0000], requires_grad=True)\n",
      "\n",
      "Model output tensor([1.9157, 3.9999, 6.0000, 8.0000], grad_fn=<AddBackward0>)\n",
      "loss is 0.0017779372865334153\n",
      "Updated Weights Grad tensor([1.9186, 2.0000, 2.0000, 2.0000], requires_grad=True)\n",
      "\n",
      "Model output tensor([1.9186, 3.9999, 6.0000, 8.0000], grad_fn=<AddBackward0>)\n",
      "loss is 0.0016556581249460578\n",
      "Updated Weights Grad tensor([1.9215, 2.0000, 2.0000, 2.0000], requires_grad=True)\n",
      "\n",
      "Model output tensor([1.9215, 3.9999, 6.0000, 8.0000], grad_fn=<AddBackward0>)\n",
      "loss is 0.0015417905524373055\n",
      "Updated Weights Grad tensor([1.9242, 2.0000, 2.0000, 2.0000], requires_grad=True)\n",
      "\n",
      "Model output tensor([1.9242, 4.0000, 6.0000, 8.0000], grad_fn=<AddBackward0>)\n",
      "loss is 0.0014357533073052764\n",
      "Updated Weights Grad tensor([1.9269, 2.0000, 2.0000, 2.0000], requires_grad=True)\n",
      "\n",
      "Model output tensor([1.9269, 4.0000, 6.0000, 8.0000], grad_fn=<AddBackward0>)\n",
      "loss is 0.001337008667178452\n",
      "Updated Weights Grad tensor([1.9294, 2.0000, 2.0000, 2.0000], requires_grad=True)\n",
      "\n",
      "Model output tensor([1.9294, 4.0000, 6.0000, 8.0000], grad_fn=<AddBackward0>)\n",
      "loss is 0.0012450565118342638\n",
      "Updated Weights Grad tensor([1.9319, 2.0000, 2.0000, 2.0000], requires_grad=True)\n",
      "\n",
      "Model output tensor([1.9319, 4.0000, 6.0000, 8.0000], grad_fn=<AddBackward0>)\n",
      "loss is 0.0011594262905418873\n",
      "Updated Weights Grad tensor([1.9343, 2.0000, 2.0000, 2.0000], requires_grad=True)\n",
      "\n",
      "Model output tensor([1.9343, 4.0000, 6.0000, 8.0000], grad_fn=<AddBackward0>)\n",
      "loss is 0.001079688430763781\n",
      "Updated Weights Grad tensor([1.9366, 2.0000, 2.0000, 2.0000], requires_grad=True)\n",
      "\n",
      "Model output tensor([1.9366, 4.0000, 6.0000, 8.0000], grad_fn=<AddBackward0>)\n",
      "loss is 0.0010054315207526088\n",
      "Updated Weights Grad tensor([1.9388, 2.0000, 2.0000, 2.0000], requires_grad=True)\n",
      "\n",
      "Model output tensor([1.9388, 4.0000, 6.0000, 8.0000], grad_fn=<AddBackward0>)\n",
      "loss is 0.0009362841956317425\n",
      "Updated Weights Grad tensor([1.9409, 2.0000, 2.0000, 2.0000], requires_grad=True)\n",
      "\n",
      "Model output tensor([1.9409, 4.0000, 6.0000, 8.0000], grad_fn=<AddBackward0>)\n",
      "loss is 0.000871890049893409\n",
      "Updated Weights Grad tensor([1.9430, 2.0000, 2.0000, 2.0000], requires_grad=True)\n",
      "\n",
      "Model output tensor([1.9430, 4.0000, 6.0000, 8.0000], grad_fn=<AddBackward0>)\n",
      "loss is 0.000811925099696964\n",
      "Updated Weights Grad tensor([1.9450, 2.0000, 2.0000, 2.0000], requires_grad=True)\n",
      "\n",
      "Model output tensor([1.9450, 4.0000, 6.0000, 8.0000], grad_fn=<AddBackward0>)\n",
      "loss is 0.0007560846861451864\n",
      "Updated Weights Grad tensor([1.9469, 2.0000, 2.0000, 2.0000], requires_grad=True)\n",
      "\n",
      "Model output tensor([1.9469, 4.0000, 6.0000, 8.0000], grad_fn=<AddBackward0>)\n",
      "loss is 0.0007040859200060368\n",
      "Updated Weights Grad tensor([1.9488, 2.0000, 2.0000, 2.0000], requires_grad=True)\n",
      "\n",
      "Model output tensor([1.9488, 4.0000, 6.0000, 8.0000], grad_fn=<AddBackward0>)\n",
      "loss is 0.0006556629668921232\n",
      "Updated Weights Grad tensor([1.9506, 2.0000, 2.0000, 2.0000], requires_grad=True)\n",
      "\n",
      "Model output tensor([1.9506, 4.0000, 6.0000, 8.0000], grad_fn=<AddBackward0>)\n",
      "loss is 0.0006105693755671382\n",
      "Updated Weights Grad tensor([1.9523, 2.0000, 2.0000, 2.0000], requires_grad=True)\n",
      "\n",
      "Model output tensor([1.9523, 4.0000, 6.0000, 8.0000], grad_fn=<AddBackward0>)\n",
      "loss is 0.0005685763317160308\n",
      "Updated Weights Grad tensor([1.9540, 2.0000, 2.0000, 2.0000], requires_grad=True)\n",
      "\n",
      "Model output tensor([1.9540, 4.0000, 6.0000, 8.0000], grad_fn=<AddBackward0>)\n",
      "loss is 0.0005294717848300934\n",
      "Updated Weights Grad tensor([1.9556, 2.0000, 2.0000, 2.0000], requires_grad=True)\n",
      "\n",
      "Model output tensor([1.9556, 4.0000, 6.0000, 8.0000], grad_fn=<AddBackward0>)\n",
      "loss is 0.000493056490086019\n",
      "Updated Weights Grad tensor([1.9571, 2.0000, 2.0000, 2.0000], requires_grad=True)\n",
      "\n",
      "Model output tensor([1.9571, 4.0000, 6.0000, 8.0000], grad_fn=<AddBackward0>)\n",
      "loss is 0.0004591459291987121\n",
      "Updated Weights Grad tensor([1.9586, 2.0000, 2.0000, 2.0000], requires_grad=True)\n",
      "\n",
      "Model output tensor([1.9586, 4.0000, 6.0000, 8.0000], grad_fn=<AddBackward0>)\n",
      "loss is 0.00042756914626806974\n",
      "Updated Weights Grad tensor([1.9601, 2.0000, 2.0000, 2.0000], requires_grad=True)\n",
      "\n",
      "Model output tensor([1.9601, 4.0000, 6.0000, 8.0000], grad_fn=<AddBackward0>)\n",
      "loss is 0.0003981631307397038\n",
      "Updated Weights Grad tensor([1.9615, 2.0000, 2.0000, 2.0000], requires_grad=True)\n",
      "\n",
      "Model output tensor([1.9615, 4.0000, 6.0000, 8.0000], grad_fn=<AddBackward0>)\n",
      "loss is 0.00037077959859743714\n",
      "Updated Weights Grad tensor([1.9628, 2.0000, 2.0000, 2.0000], requires_grad=True)\n",
      "\n",
      "Model output tensor([1.9628, 4.0000, 6.0000, 8.0000], grad_fn=<AddBackward0>)\n",
      "loss is 0.0003452791424933821\n",
      "Updated Weights Grad tensor([1.9641, 2.0000, 2.0000, 2.0000], requires_grad=True)\n",
      "\n",
      "Model output tensor([1.9641, 4.0000, 6.0000, 8.0000], grad_fn=<AddBackward0>)\n",
      "loss is 0.0003215330361854285\n",
      "Updated Weights Grad tensor([1.9654, 2.0000, 2.0000, 2.0000], requires_grad=True)\n",
      "\n",
      "Model output tensor([1.9654, 4.0000, 6.0000, 8.0000], grad_fn=<AddBackward0>)\n",
      "loss is 0.00029942026594653726\n",
      "Updated Weights Grad tensor([1.9666, 2.0000, 2.0000, 2.0000], requires_grad=True)\n",
      "\n",
      "Model output tensor([1.9666, 4.0000, 6.0000, 8.0000], grad_fn=<AddBackward0>)\n",
      "loss is 0.0002788272686302662\n",
      "Updated Weights Grad tensor([1.9678, 2.0000, 2.0000, 2.0000], requires_grad=True)\n",
      "\n",
      "Model output tensor([1.9678, 4.0000, 6.0000, 8.0000], grad_fn=<AddBackward0>)\n",
      "loss is 0.0002596512786112726\n",
      "Updated Weights Grad tensor([1.9689, 2.0000, 2.0000, 2.0000], requires_grad=True)\n",
      "\n"
     ]
    }
   ],
   "source": [
    "## using Optimizer for a single epoch\n",
    "for epoch in range(0,100):\n",
    "\n",
    "    # Forward propagatoin\n",
    "    y_pred = (weights*x + b) ## This process can be automated in torch by defining the architecture of the model and a forward function inside a class\n",
    "    print(f\"Model output {y_pred}\")\n",
    "    \n",
    "\n",
    "    # Loss Calcualtion\n",
    "    l = myloss(y, y_pred)\n",
    "    print(f\"loss is {l}\")\n",
    "    \n",
    "    # backward propagation\n",
    "    l.backward()   \n",
    "    optimizer.step() ## This is the step that updates the weights based on the gradient and learning rate\n",
    "    #w -= learning_rate * w.grad\n",
    "    \n",
    "    print(f\"Updated Weights Grad {weights}\\n\")\n",
    "    \n",
    "    optimizer.zero_grad()  \n",
    "    # After each epoch, we want the gradient to be 0, so, that in the new epoch backward propagation,\n",
    "    # we calculate the change in weights again without remembring the oprevious change in weights"
   ]
  },
  {
   "cell_type": "code",
   "execution_count": 107,
   "metadata": {},
   "outputs": [
    {
     "data": {
      "text/plain": [
       "tensor([1.9689, 2.0000, 2.0000, 2.0000], requires_grad=True)"
      ]
     },
     "execution_count": 107,
     "metadata": {},
     "output_type": "execute_result"
    }
   ],
   "source": [
    "weights"
   ]
  },
  {
   "cell_type": "code",
   "execution_count": 108,
   "metadata": {},
   "outputs": [
    {
     "data": {
      "text/plain": [
       "tensor([0., 0., 0., 0.])"
      ]
     },
     "execution_count": 108,
     "metadata": {},
     "output_type": "execute_result"
    }
   ],
   "source": [
    "b"
   ]
  },
  {
   "cell_type": "code",
   "execution_count": 109,
   "metadata": {},
   "outputs": [
    {
     "data": {
      "text/plain": [
       "tensor([1.9689, 4.0000, 6.0000, 8.0000], grad_fn=<AddBackward0>)"
      ]
     },
     "execution_count": 109,
     "metadata": {},
     "output_type": "execute_result"
    }
   ],
   "source": [
    "(weights*x + b)"
   ]
  },
  {
   "cell_type": "code",
   "execution_count": 110,
   "metadata": {},
   "outputs": [
    {
     "data": {
      "text/plain": [
       "tensor([2., 4., 6., 8.])"
      ]
     },
     "execution_count": 110,
     "metadata": {},
     "output_type": "execute_result"
    }
   ],
   "source": [
    "y"
   ]
  },
  {
   "cell_type": "markdown",
   "metadata": {},
   "source": [
    "###  IMPORTANT: How this works in the backend ? "
   ]
  },
  {
   "cell_type": "code",
   "execution_count": 26,
   "metadata": {},
   "outputs": [
    {
     "name": "stdout",
     "output_type": "stream",
     "text": [
      "tensor([0.4758, 0.9423, 0.3693, 0.4019], requires_grad=True)\n",
      "tensor([0., 0., 0., 0.])\n"
     ]
    }
   ],
   "source": [
    "\n",
    "# Why do we say:\n",
    "# Wnew = Wold - Learning_rate*(delta_weight) and not Wnew = Wold + Learning_rate*(delta_weight) ?\n",
    "# Answer:\n",
    "# 1. The gradient of the loss with respect to the weights points in the direction of steepest ascent (where the loss increases).\n",
    "# 2. To minimize the loss, we move in the opposite direction (steepest descent) by subtracting the gradient. \n",
    "\n",
    "# let's see practically:\n",
    "\n",
    "\n",
    "import torch\n",
    "import numpy as np\n",
    "\n",
    "weights = torch.rand(4,requires_grad=True)\n",
    "x = torch.tensor([1.,2.,3.,4.])\n",
    "b = torch.zeros(4)\n",
    "# b = torch.rand(4, requires_grad=True)\n",
    "y = torch.tensor([1.,1.,0.,1.])\n",
    "\n",
    "print(weights)\n",
    "print(b)\n",
    "\n",
    "\n",
    "\n",
    "\n",
    "myloss = torch.nn.BCELoss(weight=None) # BCELoss doesn't add sigmoid so we add it manually. We can use BCEWithLogitLoss if we want sigmoid answer\n",
    "optimizer = torch.optim.SGD([weights], lr=0.07)  ## optimiser here is SGD -> Stochastic Gradient Descent"
   ]
  },
  {
   "cell_type": "markdown",
   "metadata": {},
   "source": [
    "#### First using torch inbuilt functions"
   ]
  },
  {
   "cell_type": "code",
   "execution_count": 27,
   "metadata": {},
   "outputs": [
    {
     "name": "stdout",
     "output_type": "stream",
     "text": [
      "tensor([0.4758, 1.8846, 1.1078, 1.6075], grad_fn=<AddBackward0>)\n"
     ]
    }
   ],
   "source": [
    "y_pred = (weights*x + b)\n",
    "print(y_pred)"
   ]
  },
  {
   "cell_type": "code",
   "execution_count": 28,
   "metadata": {},
   "outputs": [
    {
     "data": {
      "text/plain": [
       "(tensor([0.6168, 0.8681, 0.7517, 0.8331], grad_fn=<SigmoidBackward0>),\n",
       " tensor([1., 1., 0., 1.]))"
      ]
     },
     "execution_count": 28,
     "metadata": {},
     "output_type": "execute_result"
    }
   ],
   "source": [
    "torch.sigmoid(y_pred), y"
   ]
  },
  {
   "cell_type": "code",
   "execution_count": 29,
   "metadata": {},
   "outputs": [
    {
     "data": {
      "text/plain": [
       "tensor(0.5501, grad_fn=<BinaryCrossEntropyBackward0>)"
      ]
     },
     "execution_count": 29,
     "metadata": {},
     "output_type": "execute_result"
    }
   ],
   "source": [
    "loss_from_torch = myloss(torch.nn.Sigmoid()(y_pred),y)\n",
    "loss_from_torch"
   ]
  },
  {
   "cell_type": "code",
   "execution_count": 30,
   "metadata": {},
   "outputs": [],
   "source": [
    "loss_from_torch.backward()\n",
    "# backward propagation"
   ]
  },
  {
   "cell_type": "code",
   "execution_count": 31,
   "metadata": {},
   "outputs": [],
   "source": [
    "optimizer.step()  \n",
    "# weight update step"
   ]
  },
  {
   "cell_type": "code",
   "execution_count": 32,
   "metadata": {},
   "outputs": [
    {
     "name": "stdout",
     "output_type": "stream",
     "text": [
      "tensor([-0.0958, -0.0659,  0.5638, -0.1669])\n"
     ]
    }
   ],
   "source": [
    "# dellta_weight\n",
    "delta_weight = weights.grad\n",
    "print(delta_weight)"
   ]
  },
  {
   "cell_type": "code",
   "execution_count": 33,
   "metadata": {},
   "outputs": [
    {
     "data": {
      "text/plain": [
       "tensor([0.4825, 0.9469, 0.3298, 0.4136], requires_grad=True)"
      ]
     },
     "execution_count": 33,
     "metadata": {},
     "output_type": "execute_result"
    }
   ],
   "source": [
    "weights\n",
    "# weights_new"
   ]
  },
  {
   "cell_type": "markdown",
   "metadata": {},
   "source": [
    "#### Now, let's get these values: weight_new, weight_grad and loss manually"
   ]
  },
  {
   "cell_type": "code",
   "execution_count": 34,
   "metadata": {},
   "outputs": [],
   "source": [
    "weights= torch.tensor([0.4758, 0.9423, 0.3693, 0.4019], requires_grad=True)\n",
    "# Initialiazing weight with same value"
   ]
  },
  {
   "cell_type": "code",
   "execution_count": 35,
   "metadata": {},
   "outputs": [],
   "source": [
    "x = torch.tensor([1.,2.,3.,4.])\n",
    "b = torch.zeros(4)\n",
    "# b = torch.rand(4, requires_grad=True)\n",
    "y = torch.tensor([1.,1.,0.,1.])"
   ]
  },
  {
   "cell_type": "code",
   "execution_count": 36,
   "metadata": {},
   "outputs": [
    {
     "data": {
      "text/plain": [
       "tensor([0.4758, 1.8846, 1.1079, 1.6076], grad_fn=<AddBackward0>)"
      ]
     },
     "execution_count": 36,
     "metadata": {},
     "output_type": "execute_result"
    }
   ],
   "source": [
    "y_pred = (weights*x + b)\n",
    "y_pred"
   ]
  },
  {
   "cell_type": "code",
   "execution_count": 37,
   "metadata": {},
   "outputs": [
    {
     "name": "stdout",
     "output_type": "stream",
     "text": [
      "tensor([0.4833, 0.1414, 1.3933, 0.1826], grad_fn=<MulBackward0>)\n",
      "tensor(0.5501, grad_fn=<MeanBackward0>)\n"
     ]
    }
   ],
   "source": [
    "y_pred_sigmoid = torch.sigmoid(y_pred)\n",
    "\n",
    "loss_manually = -1*(y*torch.log(y_pred_sigmoid) + (1-y)*(torch.log(1-y_pred_sigmoid))) \n",
    "print(loss_manually)\n",
    "\n",
    "print(torch.mean(loss_manually))"
   ]
  },
  {
   "cell_type": "code",
   "execution_count": 38,
   "metadata": {},
   "outputs": [
    {
     "data": {
      "text/plain": [
       "tensor([0.6168, 0.8681, 0.7517, 0.8331], grad_fn=<SigmoidBackward0>)"
      ]
     },
     "execution_count": 38,
     "metadata": {},
     "output_type": "execute_result"
    }
   ],
   "source": [
    "y_pred_sigmoid"
   ]
  },
  {
   "cell_type": "code",
   "execution_count": 39,
   "metadata": {},
   "outputs": [
    {
     "data": {
      "text/plain": [
       "tensor([-0.0958, -0.0659,  0.5638, -0.1669], grad_fn=<DivBackward0>)"
      ]
     },
     "execution_count": 39,
     "metadata": {},
     "output_type": "execute_result"
    }
   ],
   "source": [
    "# Let's see our equation of delta_weight for final hidden layer / last hidden layer:\n",
    "\n",
    "# dw[3]= (dz[3].A[2])/m  \n",
    "# m is number of records\n",
    "# A[2] here will be input as we only have 1 hidden layer and previous layer of hidden layer is input layer\n",
    "# dz[3] = A[3] - Y\n",
    "# A[3] is nothing but y_pred_sigmoid\n",
    "# so,\n",
    "# dw[3]= ((A[3]-Y).X/m)\n",
    "\n",
    "\n",
    "delta_weight_manually = (y_pred_sigmoid-y)*(x)/4\n",
    "delta_weight_manually\n"
   ]
  },
  {
   "cell_type": "code",
   "execution_count": 40,
   "metadata": {},
   "outputs": [
    {
     "data": {
      "text/plain": [
       "tensor([-0.0958, -0.0659,  0.5638, -0.1669])"
      ]
     },
     "execution_count": 40,
     "metadata": {},
     "output_type": "execute_result"
    }
   ],
   "source": [
    "delta_weight"
   ]
  },
  {
   "cell_type": "code",
   "execution_count": 41,
   "metadata": {},
   "outputs": [],
   "source": [
    "weight_new = weights - .07*delta_weight_manually"
   ]
  },
  {
   "cell_type": "code",
   "execution_count": 42,
   "metadata": {},
   "outputs": [
    {
     "data": {
      "text/plain": [
       "tensor([0.4825, 0.9469, 0.3298, 0.4136], grad_fn=<SubBackward0>)"
      ]
     },
     "execution_count": 42,
     "metadata": {},
     "output_type": "execute_result"
    }
   ],
   "source": [
    "weight_new"
   ]
  },
  {
   "cell_type": "code",
   "execution_count": null,
   "metadata": {},
   "outputs": [],
   "source": []
  },
  {
   "cell_type": "markdown",
   "metadata": {},
   "source": [
    "#### Backpropagation in PyTorch"
   ]
  },
  {
   "cell_type": "code",
   "execution_count": 19,
   "metadata": {},
   "outputs": [
    {
     "data": {
      "text/plain": [
       "'\\nScenario 1. \\nPrediction: Manually\\nGradient Computation: Manually\\nLoss Computation: Manually\\nParameter updates: Manually\\n\\nScenario 2.\\nPrediction: Manually\\nGradient Computation: Autograd\\nLoss Computation: Manually\\nParameter updates: Manually\\n\\nScenario 3.\\nPrediction: Manually\\nGradient Computation: Autograd\\nLoss Computation: PyTorch Loss\\nParameter updates: PyTorch Optimizer\\n\\nScenario 4.\\nPrediction: PyTorch Model\\nGradient Computation: Autograd\\nLoss Computation: PyTorch Loss\\nParameter updates: PyTorch Optimizer\\n'"
      ]
     },
     "execution_count": 19,
     "metadata": {},
     "output_type": "execute_result"
    }
   ],
   "source": [
    "\n",
    "\"\"\"\n",
    "Scenario 1. \n",
    "Prediction: Manually\n",
    "Gradient Computation: Manually\n",
    "Loss Computation: Manually\n",
    "Parameter updates: Manually\n",
    "\n",
    "Scenario 2.\n",
    "Prediction: Manually\n",
    "Gradient Computation: Autograd\n",
    "Loss Computation: Manually\n",
    "Parameter updates: Manually\n",
    "\n",
    "Scenario 3.\n",
    "Prediction: Manually\n",
    "Gradient Computation: Autograd\n",
    "Loss Computation: PyTorch Loss\n",
    "Parameter updates: PyTorch Optimizer\n",
    "\n",
    "Scenario 4.\n",
    "Prediction: PyTorch Model\n",
    "Gradient Computation: Autograd\n",
    "Loss Computation: PyTorch Loss\n",
    "Parameter updates: PyTorch Optimizer\n",
    "\"\"\"\n"
   ]
  },
  {
   "attachments": {
    "image.png": {
     "image/png": "[encoded data removed]"
    }
   },
   "cell_type": "markdown",
   "metadata": {},
   "source": [
    "![image.png](attachment:image.png)"
   ]
  },
  {
   "cell_type": "markdown",
   "metadata": {},
   "source": [
    "##### Scenario 1"
   ]
  },
  {
   "cell_type": "code",
   "execution_count": 28,
   "metadata": {},
   "outputs": [],
   "source": [
    "# \"\"\"\n",
    "# 1. Forward Pass: Compute Loss\n",
    "# 2. Compute Local Gradients\n",
    "# 3. Backward pass: Compute dLoss/dWeights using the Chain Rule\n",
    "# \"\"\""
   ]
  },
  {
   "cell_type": "code",
   "execution_count": 23,
   "metadata": {},
   "outputs": [
    {
     "name": "stdout",
     "output_type": "stream",
     "text": [
      "tensor(1., grad_fn=<PowBackward0>)\n"
     ]
    }
   ],
   "source": [
    "\n",
    "\n",
    "x = torch.tensor(1.0)\n",
    "y = torch.tensor(2.0)\n",
    "\n",
    "weight = torch.tensor(1.0, requires_grad = True)\n",
    "\n",
    "\n",
    "#forward pass:\n",
    "\n",
    "y_hat = weight*x\n",
    "loss = (y_hat - y)**2\n",
    "\n",
    "print(loss)\n"
   ]
  },
  {
   "cell_type": "code",
   "execution_count": 24,
   "metadata": {},
   "outputs": [
    {
     "name": "stdout",
     "output_type": "stream",
     "text": [
      "tensor(-2.)\n"
     ]
    }
   ],
   "source": [
    "## backward pass and gradient using backward function and grad\n",
    "\n",
    "loss.backward()\n",
    "print(weight.grad)"
   ]
  },
  {
   "cell_type": "code",
   "execution_count": 25,
   "metadata": {},
   "outputs": [],
   "source": [
    "## update the weights\n",
    "## then again next forward and backward pass:"
   ]
  },
  {
   "cell_type": "markdown",
   "metadata": {},
   "source": [
    "##### Scenario 2"
   ]
  },
  {
   "cell_type": "code",
   "execution_count": 27,
   "metadata": {},
   "outputs": [],
   "source": [
    "# \"\"\"\n",
    "# Prediction: Manually\n",
    "# Gradient Computation: Autograd\n",
    "# Loss Computation: Manually\n",
    "# Parameter updates: Manually\n",
    "# # Gradient Descent using Autograd"
   ]
  },
  {
   "cell_type": "code",
   "execution_count": 29,
   "metadata": {},
   "outputs": [],
   "source": [
    "x = torch.tensor([1,2,4,8],dtype=torch.float32)\n",
    "y = torch.tensor([1.5,3.5,6,12], dtype=torch.float32)  \n",
    "\n",
    "w = torch.tensor(1.0, requires_grad=True)"
   ]
  },
  {
   "cell_type": "code",
   "execution_count": 30,
   "metadata": {},
   "outputs": [],
   "source": [
    "def forward(x):\n",
    "    return w*x"
   ]
  },
  {
   "cell_type": "code",
   "execution_count": 31,
   "metadata": {},
   "outputs": [],
   "source": [
    "def loss(y,y_hat):\n",
    "      return ((y_hat - y)**2).mean()"
   ]
  },
  {
   "cell_type": "code",
   "execution_count": 32,
   "metadata": {},
   "outputs": [],
   "source": [
    "learning_rate = .01\n",
    "n_iters = 20"
   ]
  },
  {
   "cell_type": "code",
   "execution_count": 33,
   "metadata": {},
   "outputs": [
    {
     "name": "stdout",
     "output_type": "stream",
     "text": [
      "Prediction before training: 5.0\n"
     ]
    }
   ],
   "source": [
    "print(f\"Prediction before training: {forward(5)}\")"
   ]
  },
  {
   "cell_type": "code",
   "execution_count": 34,
   "metadata": {},
   "outputs": [
    {
     "name": "stdout",
     "output_type": "stream",
     "text": [
      "epoch 1: w = 1.217, loss = 5.625000000\n",
      "epoch 3: w = 1.414, loss = 0.667933702\n",
      "epoch 5: w = 1.480, loss = 0.126061976\n",
      "epoch 7: w = 1.501, loss = 0.066828474\n",
      "epoch 9: w = 1.508, loss = 0.060353495\n",
      "epoch 11: w = 1.511, loss = 0.059645690\n",
      "epoch 13: w = 1.511, loss = 0.059568319\n",
      "epoch 15: w = 1.512, loss = 0.059559863\n",
      "epoch 17: w = 1.512, loss = 0.059558935\n",
      "epoch 19: w = 1.512, loss = 0.059558835\n",
      "Prediction after training: 7.558784008026123\n"
     ]
    }
   ],
   "source": [
    "for epoch in range(n_iters):\n",
    "    y_pred = forward(x)\n",
    "    \n",
    "    \n",
    "    l = loss(y,y_pred) ## loss\n",
    "    \n",
    "    l.backward()\n",
    "    \n",
    "    with torch.no_grad(): ## This is to tell that wherever required_grad=True, make it False. \n",
    "                          ## It will reduce memory consumption for computations that would otherwise have requires_grad=True.\n",
    "                          ##  In this mode, the result of every computation will have requires_grad=False, even when the inputs have requires_grad=True\n",
    "        w -= learning_rate * w.grad ## optimizer work\n",
    "    \n",
    "    w.grad.zero_() ## cleaning the weight gradients for next epoch\n",
    "    \n",
    "    \n",
    "    if epoch %2 ==0:\n",
    "        print(f\"epoch {epoch+1}: w = {w:.3f}, loss = {l:.9f}\")\n",
    "\n",
    "print(f\"Prediction after training: {forward(5)}\")        "
   ]
  },
  {
   "cell_type": "code",
   "execution_count": null,
   "metadata": {},
   "outputs": [],
   "source": []
  },
  {
   "cell_type": "markdown",
   "metadata": {},
   "source": [
    "##### Scenario 3"
   ]
  },
  {
   "cell_type": "code",
   "execution_count": 35,
   "metadata": {},
   "outputs": [],
   "source": [
    "# \"\"\"\n",
    "# Prediction: Manually\n",
    "# Gradient Computation: Autograd\n",
    "# Loss Computation: PyTorch Loss\n",
    "# Parameter updates: PyTorch Optimizer"
   ]
  },
  {
   "cell_type": "code",
   "execution_count": 36,
   "metadata": {},
   "outputs": [],
   "source": [
    "x = torch.tensor([1,2,3,4], dtype=torch.float32)\n",
    "y = torch.tensor([2,4,6,8], dtype=torch.float32)\n",
    "\n",
    "w = torch.tensor(0.0,dtype=torch.float32, requires_grad=True)"
   ]
  },
  {
   "cell_type": "code",
   "execution_count": 37,
   "metadata": {},
   "outputs": [],
   "source": [
    "def forward(x):\n",
    "    return w*x"
   ]
  },
  {
   "cell_type": "code",
   "execution_count": 38,
   "metadata": {},
   "outputs": [],
   "source": [
    "learning_rate = 0.01\n",
    "n_iters = 20\n"
   ]
  },
  {
   "cell_type": "code",
   "execution_count": 39,
   "metadata": {},
   "outputs": [],
   "source": [
    "myloss = torch.nn.MSELoss() # Mean Square Error\n",
    "myoptimizer = torch.optim.SGD([w], lr=learning_rate)"
   ]
  },
  {
   "cell_type": "code",
   "execution_count": 40,
   "metadata": {},
   "outputs": [
    {
     "name": "stdout",
     "output_type": "stream",
     "text": [
      "epoch 1: w = 0.300, loss = 30.000000000\n",
      "epoch 3: w = 0.772, loss = 15.660187721\n",
      "epoch 5: w = 1.113, loss = 8.174716949\n",
      "epoch 7: w = 1.359, loss = 4.267252922\n",
      "epoch 9: w = 1.537, loss = 2.227532148\n",
      "epoch 11: w = 1.665, loss = 1.162785649\n",
      "epoch 13: w = 1.758, loss = 0.606981158\n",
      "epoch 15: w = 1.825, loss = 0.316847801\n",
      "epoch 17: w = 1.874, loss = 0.165396526\n",
      "epoch 19: w = 1.909, loss = 0.086338058\n",
      "Prediction after training: 9.612405776977539\n"
     ]
    }
   ],
   "source": [
    "for epoch in range(n_iters):\n",
    "    \n",
    "    y_pred = forward(x)\n",
    "    \n",
    "    l = myloss(y, y_pred)\n",
    "    \n",
    "    l.backward()\n",
    "    \n",
    "    myoptimizer.step() # update weights based on the gradients calculated in the backward() step above\n",
    "    \n",
    "    myoptimizer.zero_grad() # zero gradients\n",
    "    \n",
    "    \n",
    "    if epoch %2 ==0:\n",
    "        print(f\"epoch {epoch+1}: w = {w:.3f}, loss = {l:.9f}\")\n",
    "        \n",
    "print(f\"Prediction after training: {forward(5)}\")          "
   ]
  },
  {
   "cell_type": "markdown",
   "metadata": {},
   "source": [
    "##### Scenario 4"
   ]
  },
  {
   "cell_type": "code",
   "execution_count": 41,
   "metadata": {},
   "outputs": [],
   "source": [
    "# \"\"\"\n",
    "# Prediction: PyTorch Model\n",
    "# Gradient Computation: Autograd\n",
    "# Loss Computation: PyTorch Loss\n",
    "# Parameter updates: PyTorch Optimizer"
   ]
  },
  {
   "cell_type": "code",
   "execution_count": 40,
   "metadata": {},
   "outputs": [],
   "source": [
    "x = torch.tensor([[1],[2],[3],[4]], dtype=torch.float32)\n",
    "y = torch.tensor([[2],[4],[6],[8]], dtype=torch.float32)\n",
    "\n",
    "x_test = torch.tensor([5], dtype=torch.float32)"
   ]
  },
  {
   "cell_type": "code",
   "execution_count": 41,
   "metadata": {},
   "outputs": [],
   "source": [
    "n_samples, n_features = x.shape"
   ]
  },
  {
   "cell_type": "code",
   "execution_count": 42,
   "metadata": {},
   "outputs": [
    {
     "name": "stdout",
     "output_type": "stream",
     "text": [
      "4\n",
      "1\n"
     ]
    },
    {
     "data": {
      "text/plain": [
       "(None, None)"
      ]
     },
     "execution_count": 42,
     "metadata": {},
     "output_type": "execute_result"
    }
   ],
   "source": [
    "print(n_samples) , print(n_features)"
   ]
  },
  {
   "cell_type": "code",
   "execution_count": 43,
   "metadata": {},
   "outputs": [],
   "source": [
    "input_size = n_features\n",
    "output_size = n_features\n",
    "## It is same in this case. Generally input and output size will depend on the independent variables and target variable respectively. "
   ]
  },
  {
   "cell_type": "code",
   "execution_count": 44,
   "metadata": {},
   "outputs": [],
   "source": [
    "## Style 1: Simply adding the layers\n",
    "\n",
    "## This is similar to keras. We are adding a linear layer here\n",
    "model = torch.nn.Linear(input_size, output_size) ## weights get initialized automatically"
   ]
  },
  {
   "cell_type": "code",
   "execution_count": 45,
   "metadata": {},
   "outputs": [
    {
     "data": {
      "text/plain": [
       "Linear(in_features=1, out_features=1, bias=True)"
      ]
     },
     "execution_count": 45,
     "metadata": {},
     "output_type": "execute_result"
    }
   ],
   "source": [
    "torch.nn.Linear(input_size, output_size)"
   ]
  },
  {
   "cell_type": "code",
   "execution_count": 76,
   "metadata": {},
   "outputs": [],
   "source": [
    "########### OR ##############"
   ]
  },
  {
   "cell_type": "code",
   "execution_count": 47,
   "metadata": {},
   "outputs": [
    {
     "data": {
      "text/plain": [
       "tensor([[1.8297],\n",
       "        [2.7433],\n",
       "        [3.6569],\n",
       "        [4.5705]], grad_fn=<AddmmBackward0>)"
      ]
     },
     "execution_count": 47,
     "metadata": {},
     "output_type": "execute_result"
    }
   ],
   "source": [
    "model(x)  # In the backend, this operation is equivalent to w*x"
   ]
  },
  {
   "cell_type": "code",
   "execution_count": 48,
   "metadata": {},
   "outputs": [],
   "source": [
    "## Style 2: Creating a class \n",
    "\n",
    "class CustomLinearRegression(torch.nn.Module):\n",
    "    \n",
    "    def __init__(self, input_dim, output_dim):\n",
    "        super(CustomLinearRegression,self).__init__()\n",
    "        self.lin = torch.nn.Linear(input_dim, output_dim)\n",
    "        \n",
    "    def forward(self,x):\n",
    "        return self.lin(x)\n",
    "\n",
    "model = CustomLinearRegression(input_size, output_size)    "
   ]
  },
  {
   "cell_type": "code",
   "execution_count": 49,
   "metadata": {},
   "outputs": [
    {
     "data": {
      "text/plain": [
       "CustomLinearRegression(\n",
       "  (lin): Linear(in_features=1, out_features=1, bias=True)\n",
       ")"
      ]
     },
     "execution_count": 49,
     "metadata": {},
     "output_type": "execute_result"
    }
   ],
   "source": [
    "model"
   ]
  },
  {
   "cell_type": "code",
   "execution_count": 56,
   "metadata": {},
   "outputs": [
    {
     "name": "stdout",
     "output_type": "stream",
     "text": [
      "Prediction before training: f(5)= -1.382\n"
     ]
    }
   ],
   "source": [
    "print(f\"Prediction before training: f(5)= {model(x_test).item():.3f}\")"
   ]
  },
  {
   "cell_type": "code",
   "execution_count": 57,
   "metadata": {},
   "outputs": [],
   "source": [
    "learning_rate = 0.01\n",
    "n_iters = 50"
   ]
  },
  {
   "cell_type": "code",
   "execution_count": 58,
   "metadata": {},
   "outputs": [],
   "source": [
    "myloss = torch.nn.MSELoss() # Mean Square Error\n",
    "myoptimizer = torch.optim.SGD(model.parameters(), lr=learning_rate)"
   ]
  },
  {
   "cell_type": "code",
   "execution_count": 59,
   "metadata": {},
   "outputs": [
    {
     "data": {
      "text/plain": [
       "<generator object Module.parameters at 0x0000028860517990>"
      ]
     },
     "execution_count": 59,
     "metadata": {},
     "output_type": "execute_result"
    }
   ],
   "source": [
    "model.parameters()\n",
    "# Weights + bias"
   ]
  },
  {
   "cell_type": "code",
   "execution_count": 60,
   "metadata": {},
   "outputs": [
    {
     "name": "stdout",
     "output_type": "stream",
     "text": [
      "epoch 0: w = -0.145, b = 1.0575708150863647, loss = 34.795989990\n",
      "epoch 5: w = 0.822, b = 1.359645962715149, loss = 5.945878029\n",
      "epoch 10: w = 1.214, b = 1.4668757915496826, loss = 1.295058727\n",
      "epoch 15: w = 1.376, b = 1.4961681365966797, loss = 0.536975622\n",
      "epoch 20: w = 1.446, b = 1.4944069385528564, loss = 0.405330092\n",
      "epoch 25: w = 1.478, b = 1.4803924560546875, loss = 0.374733657\n",
      "epoch 30: w = 1.495, b = 1.461661696434021, loss = 0.360668600\n",
      "epoch 35: w = 1.507, b = 1.4412345886230469, loss = 0.349533111\n",
      "epoch 40: w = 1.516, b = 1.4203190803527832, loss = 0.339130700\n",
      "epoch 45: w = 1.524, b = 1.3993971347808838, loss = 0.329100609\n",
      "epoch 50: w = 1.531, b = 1.3786593675613403, loss = 0.319377452\n",
      "Prediction after training: f(5)= 9.033\n",
      "CPU times: total: 109 ms\n",
      "Wall time: 463 ms\n"
     ]
    }
   ],
   "source": [
    "%%time\n",
    "for epoch in range(n_iters+1):\n",
    "    \n",
    "    y_pred = model(x) ## This is forward propagation\n",
    "    \n",
    "    l = myloss(y, y_pred) ## Calculating the loss\n",
    "    \n",
    "    l.backward() ## backward propagation\n",
    "    \n",
    "    myoptimizer.step() # update weights & bias\n",
    "    \n",
    "    myoptimizer.zero_grad() # zero gradients\n",
    "    \n",
    "    \n",
    "    if epoch %5 ==0:\n",
    "        [w,b] = model.parameters()\n",
    "        print(f\"epoch {epoch}: w = {w[0][0].item():.3f}, b = {b[0].item()}, loss = {l:.9f}\")\n",
    "        \n",
    "print(f\"Prediction after training: f(5)= {model(x_test).item():.3f}\")        "
   ]
  },
  {
   "cell_type": "code",
   "execution_count": 61,
   "metadata": {},
   "outputs": [
    {
     "data": {
      "text/plain": [
       "[Parameter containing:\n",
       " tensor([[1.5309]], requires_grad=True),\n",
       " Parameter containing:\n",
       " tensor([1.3787], requires_grad=True)]"
      ]
     },
     "execution_count": 61,
     "metadata": {},
     "output_type": "execute_result"
    }
   ],
   "source": [
    "list(model.parameters())\n",
    "# Weights and bias"
   ]
  },
  {
   "cell_type": "code",
   "execution_count": 62,
   "metadata": {},
   "outputs": [
    {
     "data": {
      "text/plain": [
       "tensor([5.])"
      ]
     },
     "execution_count": 62,
     "metadata": {},
     "output_type": "execute_result"
    }
   ],
   "source": [
    "x_test"
   ]
  },
  {
   "cell_type": "code",
   "execution_count": 63,
   "metadata": {},
   "outputs": [
    {
     "data": {
      "text/plain": [
       "9.033199999999999"
      ]
     },
     "execution_count": 63,
     "metadata": {},
     "output_type": "execute_result"
    }
   ],
   "source": [
    "5*1.5309 + 1.3787"
   ]
  },
  {
   "cell_type": "code",
   "execution_count": null,
   "metadata": {},
   "outputs": [],
   "source": []
  },
  {
   "cell_type": "markdown",
   "metadata": {},
   "source": [
    "### Linear Regression in PyTorch"
   ]
  },
  {
   "cell_type": "code",
   "execution_count": 86,
   "metadata": {},
   "outputs": [],
   "source": [
    "# !pip install scikit-learn"
   ]
  },
  {
   "cell_type": "code",
   "execution_count": 64,
   "metadata": {},
   "outputs": [],
   "source": [
    "import torch\n",
    "import torch.nn as nn\n",
    "import numpy as np\n",
    "from sklearn import datasets\n",
    "import matplotlib.pyplot as plt"
   ]
  },
  {
   "cell_type": "code",
   "execution_count": 65,
   "metadata": {},
   "outputs": [],
   "source": [
    "X_numpy, Y_numpy = datasets.make_regression(n_samples=100, n_features=1, noise = 20, random_state=1)"
   ]
  },
  {
   "cell_type": "code",
   "execution_count": 66,
   "metadata": {},
   "outputs": [],
   "source": [
    "## 0. Prepare the dataset\n",
    "X = torch.from_numpy(X_numpy.astype(np.float32))\n",
    "Y = torch.from_numpy(Y_numpy.astype(np.float32))\n"
   ]
  },
  {
   "cell_type": "code",
   "execution_count": 67,
   "metadata": {},
   "outputs": [
    {
     "data": {
      "text/plain": [
       "tensor([[-0.6118],\n",
       "        [-0.2494],\n",
       "        [ 0.4885],\n",
       "        [ 0.7620],\n",
       "        [ 1.5198],\n",
       "        [ 0.3776],\n",
       "        [ 0.5129],\n",
       "        [-0.6712],\n",
       "        [-1.3965],\n",
       "        [ 0.3156]])"
      ]
     },
     "execution_count": 67,
     "metadata": {},
     "output_type": "execute_result"
    }
   ],
   "source": [
    "X[0:10]"
   ]
  },
  {
   "cell_type": "code",
   "execution_count": 68,
   "metadata": {},
   "outputs": [
    {
     "data": {
      "text/plain": [
       "tensor([[-55.5386],\n",
       "        [-10.6620],\n",
       "        [ 22.7574],\n",
       "        [101.0961],\n",
       "        [144.3376],\n",
       "        [ 33.2888],\n",
       "        [ 33.0153],\n",
       "        [-25.8870],\n",
       "        [-99.6391],\n",
       "        [ 23.8031]])"
      ]
     },
     "execution_count": 68,
     "metadata": {},
     "output_type": "execute_result"
    }
   ],
   "source": [
    "Y = Y.view(Y.shape[0],1) ## view is an inbuilt pyTorch method to reshape the tensors \n",
    "Y[0:10]"
   ]
  },
  {
   "cell_type": "code",
   "execution_count": 69,
   "metadata": {},
   "outputs": [],
   "source": [
    "n_samples, n_features = X.shape"
   ]
  },
  {
   "cell_type": "code",
   "execution_count": 70,
   "metadata": {},
   "outputs": [
    {
     "data": {
      "text/plain": [
       "(100, 1)"
      ]
     },
     "execution_count": 70,
     "metadata": {},
     "output_type": "execute_result"
    }
   ],
   "source": [
    "n_samples, n_features"
   ]
  },
  {
   "cell_type": "code",
   "execution_count": 71,
   "metadata": {},
   "outputs": [],
   "source": [
    "input_size = n_features\n",
    "output_size = 1"
   ]
  },
  {
   "cell_type": "code",
   "execution_count": 90,
   "metadata": {},
   "outputs": [],
   "source": [
    "model = nn.Linear(input_size, output_size)"
   ]
  },
  {
   "cell_type": "code",
   "execution_count": 91,
   "metadata": {},
   "outputs": [],
   "source": [
    "learning_rate=.01\n",
    "myloss = nn.MSELoss()\n",
    "optimizer = torch.optim.SGD(model.parameters(), lr=learning_rate)"
   ]
  },
  {
   "cell_type": "code",
   "execution_count": 92,
   "metadata": {},
   "outputs": [],
   "source": [
    "num_epochs = 150"
   ]
  },
  {
   "cell_type": "code",
   "execution_count": 93,
   "metadata": {},
   "outputs": [
    {
     "name": "stdout",
     "output_type": "stream",
     "text": [
      "Prediction before training: f(5)= 0.754\n"
     ]
    }
   ],
   "source": [
    "print(f\"Prediction before training: f(5)= {model(x_test).item():.3f}\")"
   ]
  },
  {
   "cell_type": "code",
   "execution_count": 94,
   "metadata": {},
   "outputs": [
    {
     "name": "stdout",
     "output_type": "stream",
     "text": [
      "epoch 0: w = 1.395, b = 0.46408605575561523, loss = 5727.928222656\n",
      "epoch 20: w = 23.492, b = 3.052126407623291, loss = 3169.682861328\n",
      "epoch 40: w = 39.539, b = 4.400169372558594, loss = 1829.629638672\n",
      "epoch 60: w = 51.203, b = 5.024233341217041, loss = 1124.851684570\n",
      "epoch 80: w = 59.687, b = 5.240262508392334, loss = 752.907897949\n",
      "epoch 100: w = 65.861, b = 5.238533020019531, loss = 556.041076660\n",
      "epoch 120: w = 70.358, b = 5.131119251251221, loss = 451.584411621\n",
      "epoch 140: w = 73.635, b = 4.982003211975098, loss = 396.045166016\n",
      "Prediction after training: f(5)= 379.520\n"
     ]
    },
    {
     "data": {
      "image/png": "[encoded data removed]",
      "text/plain": [
       "<Figure size 640x480 with 1 Axes>"
      ]
     },
     "metadata": {},
     "output_type": "display_data"
    }
   ],
   "source": [
    "## 3. Training Loop\n",
    "for epoch in range(num_epochs+1):\n",
    "    \n",
    "    ## 3.1 Forward Pass\n",
    "    y_predicted = model(X)\n",
    "    loss = myloss(Y,y_predicted)\n",
    "    \n",
    "    ## 3.2 Backward Pass\n",
    "    loss.backward()\n",
    "    \n",
    "    ## 3.3 Update Weights\n",
    "    optimizer.step()\n",
    "    optimizer.zero_grad()\n",
    "    \n",
    "    if epoch %20 ==0:\n",
    "        [w,b] = model.parameters()\n",
    "        print(f\"epoch {epoch}: w = {w[0][0].item():.3f}, b = {b[0].item()}, loss = {loss:.9f}\")\n",
    "        \n",
    "print(f\"Prediction after training: f(5)= {model(x_test).item():.3f}\")   \n",
    "\n",
    "predicted = model(X).detach().numpy()\n",
    "plt.plot(X_numpy,Y_numpy,'ro')\n",
    "plt.plot(X_numpy, predicted,'b')\n",
    "plt.show()\n",
    "\n"
   ]
  },
  {
   "cell_type": "code",
   "execution_count": null,
   "metadata": {},
   "outputs": [],
   "source": []
  },
  {
   "cell_type": "markdown",
   "metadata": {},
   "source": [
    "### Logistic Regression in PyTorch"
   ]
  },
  {
   "cell_type": "code",
   "execution_count": 95,
   "metadata": {},
   "outputs": [],
   "source": [
    "import torch\n",
    "import torch.nn as nn\n",
    "import numpy as np\n",
    "from sklearn import datasets\n",
    "from sklearn.preprocessing import StandardScaler\n",
    "from sklearn.model_selection import train_test_split\n",
    "import matplotlib.pyplot as plt\n"
   ]
  },
  {
   "cell_type": "code",
   "execution_count": 96,
   "metadata": {},
   "outputs": [],
   "source": [
    "bc = datasets.load_breast_cancer()"
   ]
  },
  {
   "cell_type": "code",
   "execution_count": 97,
   "metadata": {},
   "outputs": [
    {
     "data": {
      "text/plain": [
       "sklearn.utils._bunch.Bunch"
      ]
     },
     "execution_count": 97,
     "metadata": {},
     "output_type": "execute_result"
    }
   ],
   "source": [
    "type(bc)"
   ]
  },
  {
   "cell_type": "code",
   "execution_count": 98,
   "metadata": {},
   "outputs": [],
   "source": [
    "X,y = bc.data, bc.target"
   ]
  },
  {
   "cell_type": "code",
   "execution_count": 102,
   "metadata": {},
   "outputs": [
    {
     "data": {
      "text/plain": [
       "array([1.799e+01, 1.038e+01, 1.228e+02, 1.001e+03, 1.184e-01, 2.776e-01,\n",
       "       3.001e-01, 1.471e-01, 2.419e-01, 7.871e-02, 1.095e+00, 9.053e-01,\n",
       "       8.589e+00, 1.534e+02, 6.399e-03, 4.904e-02, 5.373e-02, 1.587e-02,\n",
       "       3.003e-02, 6.193e-03, 2.538e+01, 1.733e+01, 1.846e+02, 2.019e+03,\n",
       "       1.622e-01, 6.656e-01, 7.119e-01, 2.654e-01, 4.601e-01, 1.189e-01])"
      ]
     },
     "execution_count": 102,
     "metadata": {},
     "output_type": "execute_result"
    }
   ],
   "source": [
    "X[0]"
   ]
  },
  {
   "cell_type": "code",
   "execution_count": 103,
   "metadata": {},
   "outputs": [
    {
     "data": {
      "text/plain": [
       "(569, 30)"
      ]
     },
     "execution_count": 103,
     "metadata": {},
     "output_type": "execute_result"
    }
   ],
   "source": [
    "X.shape"
   ]
  },
  {
   "cell_type": "code",
   "execution_count": 104,
   "metadata": {},
   "outputs": [
    {
     "data": {
      "text/plain": [
       "array([0, 0, 0, 0])"
      ]
     },
     "execution_count": 104,
     "metadata": {},
     "output_type": "execute_result"
    }
   ],
   "source": [
    "y[0:4]"
   ]
  },
  {
   "cell_type": "code",
   "execution_count": 105,
   "metadata": {},
   "outputs": [
    {
     "data": {
      "text/plain": [
       "(numpy.ndarray, numpy.ndarray)"
      ]
     },
     "execution_count": 105,
     "metadata": {},
     "output_type": "execute_result"
    }
   ],
   "source": [
    "type(X), type(y)"
   ]
  },
  {
   "cell_type": "code",
   "execution_count": 106,
   "metadata": {},
   "outputs": [],
   "source": [
    "n_samples, n_features = X.shape"
   ]
  },
  {
   "cell_type": "code",
   "execution_count": 107,
   "metadata": {},
   "outputs": [
    {
     "name": "stdout",
     "output_type": "stream",
     "text": [
      "569   30\n"
     ]
    }
   ],
   "source": [
    "print(n_samples,\" \", n_features)"
   ]
  },
  {
   "cell_type": "code",
   "execution_count": 108,
   "metadata": {},
   "outputs": [],
   "source": [
    "X_train, X_test, y_train,y_test = train_test_split(X,y, test_size=.2, random_state=12, stratify=y)"
   ]
  },
  {
   "cell_type": "code",
   "execution_count": 109,
   "metadata": {},
   "outputs": [],
   "source": [
    "sc = StandardScaler()\n",
    "X_train = sc.fit_transform(X_train)\n",
    "X_test = sc.transform(X_test)"
   ]
  },
  {
   "cell_type": "code",
   "execution_count": 110,
   "metadata": {},
   "outputs": [
    {
     "data": {
      "text/plain": [
       "array([-0.28178177,  0.28073835, -0.33129643, -0.33809949, -1.64867054,\n",
       "       -0.96862118, -0.8837958 , -0.9288498 , -0.37283739, -0.56503492,\n",
       "       -0.32149741,  0.40653759, -0.29788166, -0.34114151,  0.25560971,\n",
       "       -0.28040758, -0.62682946, -1.0109965 ,  0.05584497, -0.42150206,\n",
       "       -0.37328046,  0.43258351, -0.36336755, -0.41474832, -0.8971269 ,\n",
       "       -0.5633773 , -0.93655557, -1.09018109, -0.34666778, -0.54808164])"
      ]
     },
     "execution_count": 110,
     "metadata": {},
     "output_type": "execute_result"
    }
   ],
   "source": [
    "X_train[0]"
   ]
  },
  {
   "cell_type": "code",
   "execution_count": 111,
   "metadata": {},
   "outputs": [
    {
     "data": {
      "text/plain": [
       "1"
      ]
     },
     "execution_count": 111,
     "metadata": {},
     "output_type": "execute_result"
    }
   ],
   "source": [
    "y_train[0]"
   ]
  },
  {
   "cell_type": "code",
   "execution_count": 112,
   "metadata": {},
   "outputs": [],
   "source": [
    "## numpy to tensor"
   ]
  },
  {
   "cell_type": "code",
   "execution_count": 113,
   "metadata": {},
   "outputs": [],
   "source": [
    "X_train = torch.from_numpy(X_train.astype(np.float32))\n",
    "X_test = torch.from_numpy(X_test.astype(np.float32))"
   ]
  },
  {
   "cell_type": "code",
   "execution_count": 114,
   "metadata": {},
   "outputs": [
    {
     "data": {
      "text/plain": [
       "tensor([[-0.2818,  0.2807, -0.3313, -0.3381, -1.6487, -0.9686, -0.8838, -0.9288,\n",
       "         -0.3728, -0.5650, -0.3215,  0.4065, -0.2979, -0.3411,  0.2556, -0.2804,\n",
       "         -0.6268, -1.0110,  0.0558, -0.4215, -0.3733,  0.4326, -0.3634, -0.4147,\n",
       "         -0.8971, -0.5634, -0.9366, -1.0902, -0.3467, -0.5481],\n",
       "        [-1.2320,  0.1436, -1.2256, -1.0289,  0.4348, -0.9638, -1.0225, -1.0463,\n",
       "         -1.7236,  0.8684, -0.2785,  1.3947, -0.3992, -0.4838,  1.3306, -0.6032,\n",
       "         -0.9003, -1.0616, -0.2987,  0.7070, -1.0986,  0.0860, -1.1340, -0.8981,\n",
       "         -0.0191, -0.9938, -1.2050, -1.3621, -1.5840,  0.3189]])"
      ]
     },
     "execution_count": 114,
     "metadata": {},
     "output_type": "execute_result"
    }
   ],
   "source": [
    "X_train[0:2]"
   ]
  },
  {
   "cell_type": "code",
   "execution_count": 115,
   "metadata": {},
   "outputs": [],
   "source": [
    "y_train = torch.from_numpy(y_train.astype(np.float32))\n",
    "y_test = torch.from_numpy(y_test.astype(np.float32))"
   ]
  },
  {
   "cell_type": "code",
   "execution_count": 116,
   "metadata": {},
   "outputs": [],
   "source": [
    "## reshape y to make it align the independent variables\n",
    "y_train = y_train.view(y_train.shape[0],1)"
   ]
  },
  {
   "cell_type": "code",
   "execution_count": 123,
   "metadata": {},
   "outputs": [
    {
     "data": {
      "text/plain": [
       "tensor([[1.],\n",
       "        [1.]])"
      ]
     },
     "execution_count": 123,
     "metadata": {},
     "output_type": "execute_result"
    }
   ],
   "source": [
    "y_train[0:2]"
   ]
  },
  {
   "cell_type": "code",
   "execution_count": 117,
   "metadata": {},
   "outputs": [],
   "source": [
    "y_test = y_test.view(y_test.shape[0],1)"
   ]
  },
  {
   "cell_type": "code",
   "execution_count": 119,
   "metadata": {},
   "outputs": [
    {
     "data": {
      "text/plain": [
       "torch.Size([455, 30])"
      ]
     },
     "execution_count": 119,
     "metadata": {},
     "output_type": "execute_result"
    }
   ],
   "source": [
    "X_train.shape"
   ]
  },
  {
   "cell_type": "code",
   "execution_count": 182,
   "metadata": {},
   "outputs": [],
   "source": [
    "class customLogReg(nn.Module):\n",
    "    \n",
    "    def __init__(self, n_input_features):\n",
    "        super(customLogReg,self).__init__()\n",
    "        self.linear1 = nn.Linear(n_input_features,60)  ## Hidden layer 1 \n",
    "        self.linear2 = nn.Linear(60,1) ## hidden Layer 2\n",
    "        self.relu = nn.ReLU()  ### HOMEWORK\n",
    "        \n",
    "    def forward(self,x):\n",
    "        lin = self.linear1(x) ## Input getting multiplied by weights of hidden layer 1\n",
    "        lin_relu = self.relu(lin) ## Passing the output from hidden layer1 to activation function  ### HOMEWORK\n",
    "        lin = self.linear2(lin) ## output activation function from hidden layer getting multiplied by weights of layer 1\n",
    "        y_predicted = torch.sigmoid(lin_relu) ## Output of layer 2 getting passed through sigmoid function to get the final answer\n",
    "        return y_predicted"
   ]
  },
  {
   "cell_type": "code",
   "execution_count": 183,
   "metadata": {},
   "outputs": [],
   "source": [
    "model = customLogReg(n_features)"
   ]
  },
  {
   "cell_type": "code",
   "execution_count": 184,
   "metadata": {},
   "outputs": [
    {
     "data": {
      "text/plain": [
       "<bound method Module.parameters of customLogReg(\n",
       "  (linear1): Linear(in_features=30, out_features=60, bias=True)\n",
       "  (linear2): Linear(in_features=60, out_features=1, bias=True)\n",
       ")>"
      ]
     },
     "execution_count": 184,
     "metadata": {},
     "output_type": "execute_result"
    }
   ],
   "source": [
    "model.parameters"
   ]
  },
  {
   "cell_type": "code",
   "execution_count": 185,
   "metadata": {},
   "outputs": [
    {
     "data": {
      "text/plain": [
       "[Parameter containing:\n",
       " tensor([[ 0.0933,  0.1515,  0.1035,  ...,  0.0534,  0.1176, -0.0248],\n",
       "         [ 0.1329, -0.1393, -0.0008,  ..., -0.0821,  0.0002, -0.0429],\n",
       "         [ 0.1673,  0.0042, -0.0179,  ..., -0.1374,  0.0783, -0.1221],\n",
       "         ...,\n",
       "         [ 0.0852,  0.1250, -0.0896,  ...,  0.1539, -0.0737, -0.1132],\n",
       "         [ 0.0202, -0.0063,  0.1555,  ...,  0.1251, -0.0377,  0.0968],\n",
       "         [-0.0182, -0.1533, -0.0724,  ...,  0.1285,  0.1508,  0.0521]],\n",
       "        requires_grad=True),\n",
       " Parameter containing:\n",
       " tensor([ 0.1005, -0.0300, -0.1491,  0.1285,  0.0023,  0.0444,  0.1287, -0.0401,\n",
       "         -0.1664, -0.0453,  0.0697,  0.1115,  0.1721, -0.0767,  0.0575, -0.0594,\n",
       "          0.0900,  0.0962, -0.0409,  0.0616, -0.0438, -0.0046, -0.0671, -0.0570,\n",
       "         -0.0876,  0.1399, -0.1196, -0.1088,  0.0428, -0.1461,  0.0653,  0.1336,\n",
       "         -0.0992,  0.0783, -0.0664,  0.1776, -0.0993, -0.0699,  0.0032,  0.1705,\n",
       "         -0.1448,  0.1459, -0.1129,  0.0473, -0.1643, -0.0453, -0.0409,  0.0589,\n",
       "          0.0346,  0.1640,  0.0218, -0.1466, -0.0608,  0.0950,  0.0062,  0.0895,\n",
       "         -0.0241,  0.1152,  0.1260,  0.0232], requires_grad=True),\n",
       " Parameter containing:\n",
       " tensor([[-0.0238, -0.0263, -0.1068,  0.0030, -0.1191,  0.0409, -0.0903, -0.0250,\n",
       "           0.0438, -0.0792,  0.0055,  0.0034, -0.0786, -0.0382,  0.0547, -0.0216,\n",
       "           0.1078,  0.0572, -0.1248,  0.0747, -0.0658, -0.0418,  0.0132, -0.0764,\n",
       "           0.0497,  0.0595, -0.1171,  0.0481,  0.0967, -0.0398,  0.0007, -0.1136,\n",
       "          -0.1203, -0.0716,  0.1217, -0.1149, -0.0008, -0.0084, -0.0642, -0.1253,\n",
       "          -0.0657, -0.0498, -0.1245,  0.0103,  0.1272, -0.0228,  0.0827, -0.0175,\n",
       "           0.0780,  0.0474,  0.0899,  0.0120,  0.0707,  0.0638, -0.1010, -0.0996,\n",
       "          -0.0356, -0.1152, -0.0265,  0.0421]], requires_grad=True),\n",
       " Parameter containing:\n",
       " tensor([0.0316], requires_grad=True)]"
      ]
     },
     "execution_count": 185,
     "metadata": {},
     "output_type": "execute_result"
    }
   ],
   "source": [
    "list(model.parameters())"
   ]
  },
  {
   "cell_type": "code",
   "execution_count": 186,
   "metadata": {},
   "outputs": [],
   "source": [
    "learning_rate = .01\n",
    "criterion = nn.BCELoss() ## BinaryCrossEntropyLoss (BCELoss)\n",
    "optimizer = torch.optim.Adam(model.parameters(), lr= learning_rate)"
   ]
  },
  {
   "cell_type": "code",
   "execution_count": 187,
   "metadata": {},
   "outputs": [],
   "source": [
    "num_epochs = 100"
   ]
  },
  {
   "cell_type": "code",
   "execution_count": 188,
   "metadata": {},
   "outputs": [
    {
     "name": "stdout",
     "output_type": "stream",
     "text": [
      "Loss is 0.6959785223007202\n",
      "Loss is 0.06469721347093582\n",
      "Loss is 0.05938998609781265\n",
      "Loss is 0.054524015635252\n",
      "Loss is 0.05084449425339699\n",
      "Loss is 0.04752447083592415\n"
     ]
    }
   ],
   "source": [
    "for epoch in range(num_epochs+1):\n",
    "    y_predicted = model(X_train) ## forward propagation\n",
    "    loss = criterion(y_predicted,y_train) ## loss calculation\n",
    "    \n",
    "    loss.backward() ## backward propagation\n",
    "    \n",
    "    optimizer.step() ## update the weights\n",
    "    optimizer.zero_grad() ## Empty the gradients\n",
    "  \n",
    "    if epoch %20 ==0:\n",
    "        # [w,b] = model.parameters()\n",
    "        # print(f\"epoch {epoch}: w = {w[0][0].item():.3f}, b = {b[0].item()}, loss = {loss:.9f}\")\n",
    "        print(f\"Loss is {loss}\")\n",
    "        "
   ]
  },
  {
   "cell_type": "code",
   "execution_count": 189,
   "metadata": {},
   "outputs": [
    {
     "data": {
      "text/plain": [
       "(tensor([[3.4089e-06],\n",
       "         [9.6407e-07],\n",
       "         [9.9857e-01],\n",
       "         [1.0000e+00]], grad_fn=<SliceBackward0>),\n",
       " tensor([[0.],\n",
       "         [0.],\n",
       "         [1.],\n",
       "         [1.]]))"
      ]
     },
     "execution_count": 189,
     "metadata": {},
     "output_type": "execute_result"
    }
   ],
   "source": [
    "model(X_test)[0:4], y_test[0:4]"
   ]
  },
  {
   "cell_type": "code",
   "execution_count": 190,
   "metadata": {},
   "outputs": [],
   "source": [
    "from sklearn.metrics import roc_auc_score"
   ]
  },
  {
   "cell_type": "code",
   "execution_count": 191,
   "metadata": {},
   "outputs": [],
   "source": [
    "y_true= y_test.flatten().numpy()\n",
    "y_pred = model(X_test).flatten().detach().numpy()"
   ]
  },
  {
   "cell_type": "code",
   "execution_count": 192,
   "metadata": {},
   "outputs": [
    {
     "data": {
      "text/plain": [
       "0.9957010582010581"
      ]
     },
     "execution_count": 192,
     "metadata": {},
     "output_type": "execute_result"
    }
   ],
   "source": [
    "roc_auc_score(y_true, y_pred )"
   ]
  },
  {
   "cell_type": "code",
   "execution_count": 193,
   "metadata": {},
   "outputs": [
    {
     "name": "stdout",
     "output_type": "stream",
     "text": [
      "Accuracy = 0.9824561476707458\n"
     ]
    }
   ],
   "source": [
    "with torch.no_grad():\n",
    "    y_predicted = model(X_test)\n",
    "    y_pred_class = y_predicted.round()\n",
    "    acc = y_pred_class.eq(y_test).sum() / float(y_test.shape[0])\n",
    "    print(f\"Accuracy = {acc.item()}\")"
   ]
  },
  {
   "cell_type": "code",
   "execution_count": null,
   "metadata": {},
   "outputs": [],
   "source": []
  },
  {
   "cell_type": "markdown",
   "metadata": {},
   "source": [
    "### Dataset and Dataloader"
   ]
  },
  {
   "cell_type": "code",
   "execution_count": 152,
   "metadata": {},
   "outputs": [],
   "source": [
    "\n",
    "# ## A Dataset stores all your data (x and y).\n",
    "# ## A Dataloader can be used to iterate through that data, manage batches, transform the data, and much more\n",
    "\n",
    "# \"\"\"\n",
    "# For batch iteration and batch calculations\n",
    "\n",
    "# epoch: 1 forward and backward pass of All training samples\n",
    "# batch_size: number of samples in one forward and backward pass\n",
    "# number of iterations: number of passes on batches to complete 1 epoch\n",
    "\n",
    "# e.g., 100 samples and batch_size = 20, then 100/20 = 5 iterations for 1 epoch"
   ]
  },
  {
   "cell_type": "code",
   "execution_count": 3,
   "metadata": {},
   "outputs": [],
   "source": [
    "import torch\n",
    "# import torchvision\n",
    "import torch.nn as nn\n",
    "from torch.utils.data import DataLoader, Dataset\n",
    "import numpy as np\n",
    "import math"
   ]
  },
  {
   "cell_type": "code",
   "execution_count": 8,
   "metadata": {},
   "outputs": [],
   "source": [
    "class WineDataset(Dataset):\n",
    "    \n",
    "    def __init__(self):\n",
    "        ## data loading\n",
    "        xy = np.loadtxt('https://raw.githubusercontent.com/python-engineer/pytorchTutorial/master/data/wine/wine.csv', \n",
    "                delimiter=\",\",dtype=np.float32, skiprows=1)\n",
    "        self.x = torch.from_numpy(xy[:,1:])\n",
    "        self.y = torch.from_numpy(xy[:,[0]]) ## dimnesion is : n_samples,1\n",
    "        self.n_samples = xy.shape[0]\n",
    "        \n",
    "    def __getitem__(self, index):\n",
    "        ## dataset[0]\n",
    "        return self.x[index], self.y[index]\n",
    "    \n",
    "    def __len__(self):\n",
    "        ## len(dataset)\n",
    "        return self.n_samples  "
   ]
  },
  {
   "cell_type": "code",
   "execution_count": 9,
   "metadata": {},
   "outputs": [
    {
     "name": "stdout",
     "output_type": "stream",
     "text": [
      "tensor([1.4230e+01, 1.7100e+00, 2.4300e+00, 1.5600e+01, 1.2700e+02, 2.8000e+00,\n",
      "        3.0600e+00, 2.8000e-01, 2.2900e+00, 5.6400e+00, 1.0400e+00, 3.9200e+00,\n",
      "        1.0650e+03]) \n",
      " tensor([1.])\n"
     ]
    }
   ],
   "source": [
    "## Dataset\n",
    "dataset = WineDataset()\n",
    "\n",
    "# This is going to invoke __getitem__ function\n",
    "first_data = dataset[0]\n",
    "\n",
    "features, labels = first_data\n",
    "print(features, \"\\n\", labels)\n"
   ]
  },
  {
   "cell_type": "code",
   "execution_count": 10,
   "metadata": {},
   "outputs": [
    {
     "data": {
      "text/plain": [
       "<torch.utils.data.dataloader.DataLoader at 0x220fe968b50>"
      ]
     },
     "execution_count": 10,
     "metadata": {},
     "output_type": "execute_result"
    }
   ],
   "source": [
    "## Dataloader\n",
    "dataloader = DataLoader(dataset=dataset, batch_size=4, shuffle=True)\n",
    "dataloader"
   ]
  },
  {
   "cell_type": "code",
   "execution_count": 11,
   "metadata": {},
   "outputs": [],
   "source": [
    "# 1 to 100\n",
    "# 20 batches\n",
    "# 1 to 5 in batch 1 \n",
    "# 6 to 10 in batch 2 \n",
    "\n",
    "# but if we do shuffle = true\n",
    "# Then every batch will have data randomly"
   ]
  },
  {
   "cell_type": "code",
   "execution_count": 12,
   "metadata": {},
   "outputs": [
    {
     "name": "stdout",
     "output_type": "stream",
     "text": [
      "tensor([[1.3710e+01, 1.8600e+00, 2.3600e+00, 1.6600e+01, 1.0100e+02, 2.6100e+00,\n",
      "         2.8800e+00, 2.7000e-01, 1.6900e+00, 3.8000e+00, 1.1100e+00, 4.0000e+00,\n",
      "         1.0350e+03],\n",
      "        [1.3290e+01, 1.9700e+00, 2.6800e+00, 1.6800e+01, 1.0200e+02, 3.0000e+00,\n",
      "         3.2300e+00, 3.1000e-01, 1.6600e+00, 6.0000e+00, 1.0700e+00, 2.8400e+00,\n",
      "         1.2700e+03],\n",
      "        [1.2080e+01, 1.8300e+00, 2.3200e+00, 1.8500e+01, 8.1000e+01, 1.6000e+00,\n",
      "         1.5000e+00, 5.2000e-01, 1.6400e+00, 2.4000e+00, 1.0800e+00, 2.2700e+00,\n",
      "         4.8000e+02],\n",
      "        [1.3580e+01, 2.5800e+00, 2.6900e+00, 2.4500e+01, 1.0500e+02, 1.5500e+00,\n",
      "         8.4000e-01, 3.9000e-01, 1.5400e+00, 8.6600e+00, 7.4000e-01, 1.8000e+00,\n",
      "         7.5000e+02]]) \n",
      " tensor([[1.],\n",
      "        [1.],\n",
      "        [2.],\n",
      "        [3.]])\n"
     ]
    }
   ],
   "source": [
    "## iterate on a dataloader\n",
    "dataiter = iter(dataloader)\n",
    "\n",
    "data = dataiter.__next__()\n",
    "features, labels = data\n",
    "print(features, \"\\n\", labels)"
   ]
  },
  {
   "cell_type": "code",
   "execution_count": null,
   "metadata": {},
   "outputs": [],
   "source": [
    "## how to use this dataloader batches on training it on the NN "
   ]
  },
  {
   "cell_type": "code",
   "execution_count": 13,
   "metadata": {},
   "outputs": [
    {
     "name": "stdout",
     "output_type": "stream",
     "text": [
      "178 45\n"
     ]
    }
   ],
   "source": [
    "num_epochs = 2\n",
    "total_num_samples = len(dataset)\n",
    "n_iterations = math.ceil(total_num_samples/4) # 4 here is batch_size\n",
    "print(total_num_samples, n_iterations)"
   ]
  },
  {
   "cell_type": "code",
   "execution_count": null,
   "metadata": {},
   "outputs": [],
   "source": [
    "# All the data points \n",
    "# for epoch in range(num_epochs):\n",
    "#     model(x)\n",
    "\n",
    "\n",
    "# When I have batches\n",
    "# for epoch in range(num_epochs):\n",
    "    # Now, the bwlow for loop is for each batch:\n",
    "    # for i, (x,y) in enumerate(dataloader)\n",
    "    # So,now the loss, backward prop, weight updation will happen for each batch under each epoch"
   ]
  },
  {
   "cell_type": "code",
   "execution_count": 163,
   "metadata": {},
   "outputs": [
    {
     "name": "stdout",
     "output_type": "stream",
     "text": [
      "epoch is 1/2, step 25/45, inputs torch.Size([4, 13])\n",
      "[tensor([[1.1640e+01, 2.0600e+00, 2.4600e+00, 2.1600e+01, 8.4000e+01, 1.9500e+00,\n",
      "         1.6900e+00, 4.8000e-01, 1.3500e+00, 2.8000e+00, 1.0000e+00, 2.7500e+00,\n",
      "         6.8000e+02],\n",
      "        [1.1810e+01, 2.1200e+00, 2.7400e+00, 2.1500e+01, 1.3400e+02, 1.6000e+00,\n",
      "         9.9000e-01, 1.4000e-01, 1.5600e+00, 2.5000e+00, 9.5000e-01, 2.2600e+00,\n",
      "         6.2500e+02],\n",
      "        [1.4230e+01, 1.7100e+00, 2.4300e+00, 1.5600e+01, 1.2700e+02, 2.8000e+00,\n",
      "         3.0600e+00, 2.8000e-01, 2.2900e+00, 5.6400e+00, 1.0400e+00, 3.9200e+00,\n",
      "         1.0650e+03],\n",
      "        [1.3340e+01, 9.4000e-01, 2.3600e+00, 1.7000e+01, 1.1000e+02, 2.5300e+00,\n",
      "         1.3000e+00, 5.5000e-01, 4.2000e-01, 3.1700e+00, 1.0200e+00, 1.9300e+00,\n",
      "         7.5000e+02]]), tensor([[2.],\n",
      "        [2.],\n",
      "        [1.],\n",
      "        [2.]])]\n",
      "epoch is 2/2, step 25/45, inputs torch.Size([4, 13])\n",
      "[tensor([[1.2840e+01, 2.9600e+00, 2.6100e+00, 2.4000e+01, 1.0100e+02, 2.3200e+00,\n",
      "         6.0000e-01, 5.3000e-01, 8.1000e-01, 4.9200e+00, 8.9000e-01, 2.1500e+00,\n",
      "         5.9000e+02],\n",
      "        [1.3050e+01, 1.7300e+00, 2.0400e+00, 1.2400e+01, 9.2000e+01, 2.7200e+00,\n",
      "         3.2700e+00, 1.7000e-01, 2.9100e+00, 7.2000e+00, 1.1200e+00, 2.9100e+00,\n",
      "         1.1500e+03],\n",
      "        [1.3580e+01, 1.6600e+00, 2.3600e+00, 1.9100e+01, 1.0600e+02, 2.8600e+00,\n",
      "         3.1900e+00, 2.2000e-01, 1.9500e+00, 6.9000e+00, 1.0900e+00, 2.8800e+00,\n",
      "         1.5150e+03],\n",
      "        [1.1610e+01, 1.3500e+00, 2.7000e+00, 2.0000e+01, 9.4000e+01, 2.7400e+00,\n",
      "         2.9200e+00, 2.9000e-01, 2.4900e+00, 2.6500e+00, 9.6000e-01, 3.2600e+00,\n",
      "         6.8000e+02]]), tensor([[3.],\n",
      "        [1.],\n",
      "        [1.],\n",
      "        [2.]])]\n"
     ]
    }
   ],
   "source": [
    "dataiter = iter(dataloader)\n",
    "for epoch in range(num_epochs):\n",
    "    for i, (x, y) in enumerate(dataloader):\n",
    "         if (i+1)%25==0: ## printing only few batches. \n",
    "                print(f'epoch is {epoch+1}/{num_epochs}, step {i+1}/{n_iterations}, inputs {x.shape}')\n",
    "                print(dataiter.__next__())"
   ]
  },
  {
   "cell_type": "code",
   "execution_count": null,
   "metadata": {},
   "outputs": [],
   "source": []
  },
  {
   "cell_type": "code",
   "execution_count": null,
   "metadata": {},
   "outputs": [],
   "source": [
    "## Dataset Transforms"
   ]
  },
  {
   "cell_type": "code",
   "execution_count": 16,
   "metadata": {},
   "outputs": [],
   "source": [
    "class WineDataset(Dataset):\n",
    "        \n",
    "    def __init__(self, transform=None):\n",
    "        ## data loading\n",
    "        xy = np.loadtxt('https://raw.githubusercontent.com/python-engineer/pytorchTutorial/master/data/wine/wine.csv', \n",
    "                delimiter=\",\",dtype=np.float32, skiprows=1)\n",
    "        self.n_samples = xy.shape[0]\n",
    "        \n",
    "        self.x = xy[:,1:]\n",
    "        self.y = xy[:,[0]] ## dimnesion is : n_samples,1\n",
    "        \n",
    "        self.transform = transform\n",
    "        \n",
    "        \n",
    "    def __getitem__(self, index):\n",
    "        ## dataset[0]\n",
    "        sample =  self.x[index], self.y[index]\n",
    "        if self.transform:\n",
    "            sample = self.transform(sample)\n",
    "            \n",
    "        return sample    \n",
    "    \n",
    "    def __len__(self):\n",
    "        ## len(dataset)\n",
    "        return self.n_samples  "
   ]
  },
  {
   "cell_type": "code",
   "execution_count": 17,
   "metadata": {},
   "outputs": [],
   "source": [
    "class MyTransform:\n",
    "    def __call__(self, sample):\n",
    "        inputs, labels = sample\n",
    "        return torch.from_numpy(inputs), torch.from_numpy(labels)\n",
    "    \n",
    "        "
   ]
  },
  {
   "cell_type": "code",
   "execution_count": 18,
   "metadata": {},
   "outputs": [],
   "source": [
    "dataset = WineDataset(transform = MyTransform())"
   ]
  },
  {
   "cell_type": "code",
   "execution_count": 19,
   "metadata": {},
   "outputs": [
    {
     "data": {
      "text/plain": [
       "(tensor([1.3200e+01, 1.7800e+00, 2.1400e+00, 1.1200e+01, 1.0000e+02, 2.6500e+00,\n",
       "         2.7600e+00, 2.6000e-01, 1.2800e+00, 4.3800e+00, 1.0500e+00, 3.4000e+00,\n",
       "         1.0500e+03]),\n",
       " tensor([1.]))"
      ]
     },
     "execution_count": 19,
     "metadata": {},
     "output_type": "execute_result"
    }
   ],
   "source": [
    "dataset[1]"
   ]
  },
  {
   "cell_type": "code",
   "execution_count": 167,
   "metadata": {},
   "outputs": [
    {
     "data": {
      "text/plain": [
       "178"
      ]
     },
     "execution_count": 167,
     "metadata": {},
     "output_type": "execute_result"
    }
   ],
   "source": [
    "len(dataset)\n",
    "# len() class __len__ function of the class"
   ]
  },
  {
   "cell_type": "code",
   "execution_count": 170,
   "metadata": {},
   "outputs": [
    {
     "data": {
      "text/plain": [
       "(tensor([1.3160e+01, 2.3600e+00, 2.6700e+00, 1.8600e+01, 1.0100e+02, 2.8000e+00,\n",
       "         3.2400e+00, 3.0000e-01, 2.8100e+00, 5.6800e+00, 1.0300e+00, 3.1700e+00,\n",
       "         1.1850e+03]),\n",
       " tensor([1.]))"
      ]
     },
     "execution_count": 170,
     "metadata": {},
     "output_type": "execute_result"
    }
   ],
   "source": [
    "dataset[2]\n",
    "# [] class __getitem__ function of the class"
   ]
  },
  {
   "cell_type": "code",
   "execution_count": 172,
   "metadata": {},
   "outputs": [
    {
     "data": {
      "text/plain": [
       "(tensor([1.4230e+01, 1.7100e+00, 2.4300e+00, 1.5600e+01, 1.2700e+02, 2.8000e+00,\n",
       "         3.0600e+00, 2.8000e-01, 2.2900e+00, 5.6400e+00, 1.0400e+00, 3.9200e+00,\n",
       "         1.0650e+03]),\n",
       " tensor([1.]))"
      ]
     },
     "execution_count": 172,
     "metadata": {},
     "output_type": "execute_result"
    }
   ],
   "source": [
    "first_data = dataset[0]\n",
    "features, labels = first_data\n",
    "\n",
    "features, labels"
   ]
  },
  {
   "cell_type": "code",
   "execution_count": 173,
   "metadata": {},
   "outputs": [],
   "source": [
    "class MyMulTransform:\n",
    "    def __init__(self, factor):\n",
    "        self.factor=factor\n",
    "        \n",
    "    def __call__(self, sample):\n",
    "        inputs, labels = sample\n",
    "        inputs *=self.factor\n",
    "        return inputs, labels"
   ]
  },
  {
   "cell_type": "code",
   "execution_count": 174,
   "metadata": {},
   "outputs": [],
   "source": [
    "composed = torchvision.transforms.Compose([MyTransform(), MyMulTransform(2)])\n",
    "# Here MyMulTransform multiplies the input feature with 2"
   ]
  },
  {
   "cell_type": "code",
   "execution_count": 175,
   "metadata": {},
   "outputs": [],
   "source": [
    "dataset = WineDataset(transform=composed)"
   ]
  },
  {
   "cell_type": "code",
   "execution_count": 176,
   "metadata": {},
   "outputs": [
    {
     "data": {
      "text/plain": [
       "(tensor([2.8460e+01, 3.4200e+00, 4.8600e+00, 3.1200e+01, 2.5400e+02, 5.6000e+00,\n",
       "         6.1200e+00, 5.6000e-01, 4.5800e+00, 1.1280e+01, 2.0800e+00, 7.8400e+00,\n",
       "         2.1300e+03]),\n",
       " tensor([1.]))"
      ]
     },
     "execution_count": 176,
     "metadata": {},
     "output_type": "execute_result"
    }
   ],
   "source": [
    "first_data = dataset[0]\n",
    "features, labels = first_data\n",
    "\n",
    "features, labels\n",
    "# We can see feature is return after multiplying by 2"
   ]
  },
  {
   "cell_type": "markdown",
   "metadata": {},
   "source": [
    "### Homework"
   ]
  },
  {
   "cell_type": "markdown",
   "metadata": {},
   "source": [
    "#### DNN using MNIST data in PyTorch"
   ]
  },
  {
   "cell_type": "code",
   "execution_count": 204,
   "metadata": {},
   "outputs": [],
   "source": [
    "import torch\n",
    "import torchvision\n",
    "import torch.nn as nn\n",
    "import torch.nn.functional as f\n",
    "import torchvision.transforms as transforms\n",
    "import matplotlib.pyplot as plt\n"
   ]
  },
  {
   "cell_type": "code",
   "execution_count": 205,
   "metadata": {},
   "outputs": [],
   "source": [
    "device = torch.device('cuda' if torch.cuda.is_available() else 'cpu')"
   ]
  },
  {
   "cell_type": "code",
   "execution_count": 206,
   "metadata": {},
   "outputs": [
    {
     "data": {
      "text/plain": [
       "device(type='cpu')"
      ]
     },
     "execution_count": 206,
     "metadata": {},
     "output_type": "execute_result"
    }
   ],
   "source": [
    "device"
   ]
  },
  {
   "cell_type": "code",
   "execution_count": 207,
   "metadata": {},
   "outputs": [],
   "source": [
    "input_size = 784 ## 28*28 image size\n",
    "hidden_size = 100\n",
    "num_classes = 10 ## 0 to 9 digits\n",
    "num_epochs = 2\n",
    "batch_size = 100\n",
    "learning_rate = .001\n"
   ]
  },
  {
   "cell_type": "code",
   "execution_count": 208,
   "metadata": {},
   "outputs": [],
   "source": [
    "#MNIST\n",
    "train_dataset = torchvision.datasets.MNIST(root='./data_MNIST', train=True, \n",
    "                                              transform=transforms.ToTensor(),download=True)\n"
   ]
  },
  {
   "cell_type": "code",
   "execution_count": 209,
   "metadata": {},
   "outputs": [
    {
     "data": {
      "text/plain": [
       "torchvision.datasets.mnist.MNIST"
      ]
     },
     "execution_count": 209,
     "metadata": {},
     "output_type": "execute_result"
    }
   ],
   "source": [
    "type(train_dataset)"
   ]
  },
  {
   "cell_type": "code",
   "execution_count": 210,
   "metadata": {},
   "outputs": [
    {
     "data": {
      "text/plain": [
       "60000"
      ]
     },
     "execution_count": 210,
     "metadata": {},
     "output_type": "execute_result"
    }
   ],
   "source": [
    "len(train_dataset)"
   ]
  },
  {
   "cell_type": "code",
   "execution_count": 211,
   "metadata": {},
   "outputs": [],
   "source": [
    "test_dataset = torchvision.datasets.MNIST(root='./data_MNIST', train=False, \n",
    "                                              transform=transforms.ToTensor())\n"
   ]
  },
  {
   "cell_type": "code",
   "execution_count": null,
   "metadata": {},
   "outputs": [],
   "source": []
  },
  {
   "cell_type": "code",
   "execution_count": 212,
   "metadata": {},
   "outputs": [],
   "source": [
    "train_loader = torch.utils.data.DataLoader(dataset=train_dataset, batch_size = batch_size,\n",
    "                                          shuffle=True)"
   ]
  },
  {
   "cell_type": "code",
   "execution_count": 213,
   "metadata": {},
   "outputs": [
    {
     "data": {
      "text/plain": [
       "600"
      ]
     },
     "execution_count": 213,
     "metadata": {},
     "output_type": "execute_result"
    }
   ],
   "source": [
    "len(train_loader) ## 600 batches of 100 in each batch = 60,000"
   ]
  },
  {
   "cell_type": "code",
   "execution_count": 20,
   "metadata": {},
   "outputs": [],
   "source": [
    "# from torch.utils.data imprt DataLoader\n",
    "# or \n",
    "# torch.utils.data.DataLoader"
   ]
  },
  {
   "cell_type": "code",
   "execution_count": 214,
   "metadata": {},
   "outputs": [],
   "source": [
    "test_loader = torch.utils.data.DataLoader(dataset=test_dataset, batch_size = batch_size,\n",
    "                                          shuffle=False)"
   ]
  },
  {
   "cell_type": "code",
   "execution_count": 215,
   "metadata": {},
   "outputs": [],
   "source": [
    "examples = iter(train_loader)"
   ]
  },
  {
   "cell_type": "code",
   "execution_count": 216,
   "metadata": {},
   "outputs": [],
   "source": [
    "samples, labels = examples.__next__()"
   ]
  },
  {
   "cell_type": "code",
   "execution_count": 217,
   "metadata": {},
   "outputs": [
    {
     "data": {
      "text/plain": [
       "(torch.Size([100, 1, 28, 28]), torch.Size([100]))"
      ]
     },
     "execution_count": 217,
     "metadata": {},
     "output_type": "execute_result"
    }
   ],
   "source": [
    "samples.shape, labels.shape\n",
    "## 100 black&white images of size 28*28\n",
    "## Here 1 in (1*28*28) depicts there is only 1 color and not 3(in case of RGB).Hence, it is a black and white image"
   ]
  },
  {
   "cell_type": "code",
   "execution_count": 218,
   "metadata": {},
   "outputs": [
    {
     "data": {
      "text/plain": [
       "tensor(1)"
      ]
     },
     "execution_count": 218,
     "metadata": {},
     "output_type": "execute_result"
    }
   ],
   "source": [
    "labels[0]\n"
   ]
  },
  {
   "cell_type": "code",
   "execution_count": 219,
   "metadata": {},
   "outputs": [
    {
     "data": {
      "text/plain": [
       "(torch.Size([28, 28]),\n",
       " tensor([[0.0000, 0.0000, 0.0000, 0.0000, 0.0000, 0.0000, 0.0000, 0.0000, 0.0000,\n",
       "          0.0000, 0.0000, 0.0000, 0.0000, 0.0000, 0.0000, 0.0000, 0.0000, 0.0000,\n",
       "          0.0000, 0.0000, 0.0000, 0.0000, 0.0000, 0.0000, 0.0000, 0.0000, 0.0000,\n",
       "          0.0000],\n",
       "         [0.0000, 0.0000, 0.0000, 0.0000, 0.0000, 0.0000, 0.0000, 0.0000, 0.0000,\n",
       "          0.0000, 0.0000, 0.0000, 0.0000, 0.0000, 0.0000, 0.0000, 0.0000, 0.0000,\n",
       "          0.0000, 0.0000, 0.0000, 0.0000, 0.0000, 0.0000, 0.0000, 0.0000, 0.0000,\n",
       "          0.0000],\n",
       "         [0.0000, 0.0000, 0.0000, 0.0000, 0.0000, 0.0000, 0.0000, 0.0000, 0.0000,\n",
       "          0.0000, 0.0000, 0.0000, 0.0000, 0.0000, 0.0000, 0.0000, 0.0000, 0.0000,\n",
       "          0.0000, 0.0000, 0.0000, 0.0000, 0.0000, 0.0000, 0.0000, 0.0000, 0.0000,\n",
       "          0.0000],\n",
       "         [0.0000, 0.0000, 0.0000, 0.0000, 0.0000, 0.0000, 0.0000, 0.0000, 0.0000,\n",
       "          0.0000, 0.0000, 0.0000, 0.0000, 0.0000, 0.0000, 0.0000, 0.0000, 0.0000,\n",
       "          0.0000, 0.0000, 0.0000, 0.0000, 0.0000, 0.0000, 0.0000, 0.0000, 0.0000,\n",
       "          0.0000],\n",
       "         [0.0000, 0.0000, 0.0000, 0.0000, 0.0000, 0.0000, 0.0000, 0.0000, 0.0000,\n",
       "          0.0000, 0.0000, 0.0000, 0.0000, 0.0000, 0.0000, 0.0000, 0.0000, 0.0000,\n",
       "          0.0000, 0.0000, 0.0000, 0.0000, 0.0000, 0.0000, 0.0000, 0.0000, 0.0000,\n",
       "          0.0000],\n",
       "         [0.0000, 0.0000, 0.0000, 0.0000, 0.0000, 0.0000, 0.0000, 0.0000, 0.0000,\n",
       "          0.0000, 0.0000, 0.0000, 0.0000, 0.0000, 0.0000, 0.4784, 0.9961, 0.1020,\n",
       "          0.0000, 0.0000, 0.0000, 0.0000, 0.0000, 0.0000, 0.0000, 0.0000, 0.0000,\n",
       "          0.0000],\n",
       "         [0.0000, 0.0000, 0.0000, 0.0000, 0.0000, 0.0000, 0.0000, 0.0000, 0.0000,\n",
       "          0.0000, 0.0000, 0.0000, 0.0000, 0.0000, 0.0000, 0.6941, 0.9922, 0.1020,\n",
       "          0.0000, 0.0000, 0.0000, 0.0000, 0.0000, 0.0000, 0.0000, 0.0000, 0.0000,\n",
       "          0.0000],\n",
       "         [0.0000, 0.0000, 0.0000, 0.0000, 0.0000, 0.0000, 0.0000, 0.0000, 0.0000,\n",
       "          0.0000, 0.0000, 0.0000, 0.0000, 0.0000, 0.0000, 0.9961, 0.8353, 0.0667,\n",
       "          0.0000, 0.0000, 0.0000, 0.0000, 0.0000, 0.0000, 0.0000, 0.0000, 0.0000,\n",
       "          0.0000],\n",
       "         [0.0000, 0.0000, 0.0000, 0.0000, 0.0000, 0.0000, 0.0000, 0.0000, 0.0000,\n",
       "          0.0000, 0.0000, 0.0000, 0.0000, 0.0000, 0.4471, 0.9961, 0.7961, 0.0549,\n",
       "          0.0000, 0.0000, 0.0000, 0.0000, 0.0000, 0.0000, 0.0000, 0.0000, 0.0000,\n",
       "          0.0000],\n",
       "         [0.0000, 0.0000, 0.0000, 0.0000, 0.0000, 0.0000, 0.0000, 0.0000, 0.0000,\n",
       "          0.0000, 0.0000, 0.0000, 0.0000, 0.0431, 0.8980, 0.9961, 0.5725, 0.0000,\n",
       "          0.0000, 0.0000, 0.0000, 0.0000, 0.0000, 0.0000, 0.0000, 0.0000, 0.0000,\n",
       "          0.0000],\n",
       "         [0.0000, 0.0000, 0.0000, 0.0000, 0.0000, 0.0000, 0.0000, 0.0000, 0.0000,\n",
       "          0.0000, 0.0000, 0.0000, 0.0000, 0.0549, 0.9922, 1.0000, 0.4627, 0.0000,\n",
       "          0.0000, 0.0000, 0.0000, 0.0000, 0.0000, 0.0000, 0.0000, 0.0000, 0.0000,\n",
       "          0.0000],\n",
       "         [0.0000, 0.0000, 0.0000, 0.0000, 0.0000, 0.0000, 0.0000, 0.0000, 0.0000,\n",
       "          0.0000, 0.0000, 0.0000, 0.0000, 0.0549, 0.9922, 1.0000, 0.0510, 0.0000,\n",
       "          0.0000, 0.0000, 0.0000, 0.0000, 0.0000, 0.0000, 0.0000, 0.0000, 0.0000,\n",
       "          0.0000],\n",
       "         [0.0000, 0.0000, 0.0000, 0.0000, 0.0000, 0.0000, 0.0000, 0.0000, 0.0000,\n",
       "          0.0000, 0.0000, 0.0000, 0.0000, 0.0549, 0.9922, 0.9961, 0.0510, 0.0000,\n",
       "          0.0000, 0.0000, 0.0000, 0.0000, 0.0000, 0.0000, 0.0000, 0.0000, 0.0000,\n",
       "          0.0000],\n",
       "         [0.0000, 0.0000, 0.0000, 0.0000, 0.0000, 0.0000, 0.0000, 0.0000, 0.0000,\n",
       "          0.0000, 0.0000, 0.0000, 0.0000, 0.3608, 0.9922, 0.7216, 0.0235, 0.0000,\n",
       "          0.0000, 0.0000, 0.0000, 0.0000, 0.0000, 0.0000, 0.0000, 0.0000, 0.0000,\n",
       "          0.0000],\n",
       "         [0.0000, 0.0000, 0.0000, 0.0000, 0.0000, 0.0000, 0.0000, 0.0000, 0.0000,\n",
       "          0.0000, 0.0000, 0.0000, 0.0000, 0.5765, 0.9922, 0.5255, 0.0000, 0.0000,\n",
       "          0.0000, 0.0000, 0.0000, 0.0000, 0.0000, 0.0000, 0.0000, 0.0000, 0.0000,\n",
       "          0.0000],\n",
       "         [0.0000, 0.0000, 0.0000, 0.0000, 0.0000, 0.0000, 0.0000, 0.0000, 0.0000,\n",
       "          0.0000, 0.0000, 0.0000, 0.0510, 0.7765, 0.9961, 0.5255, 0.0000, 0.0000,\n",
       "          0.0000, 0.0000, 0.0000, 0.0000, 0.0000, 0.0000, 0.0000, 0.0000, 0.0000,\n",
       "          0.0000],\n",
       "         [0.0000, 0.0000, 0.0000, 0.0000, 0.0000, 0.0000, 0.0000, 0.0000, 0.0000,\n",
       "          0.0000, 0.0000, 0.0000, 0.1059, 0.9922, 0.9922, 0.5255, 0.0000, 0.0000,\n",
       "          0.0000, 0.0000, 0.0000, 0.0000, 0.0000, 0.0000, 0.0000, 0.0000, 0.0000,\n",
       "          0.0000],\n",
       "         [0.0000, 0.0000, 0.0000, 0.0000, 0.0000, 0.0000, 0.0000, 0.0000, 0.0000,\n",
       "          0.0000, 0.0000, 0.0000, 0.0118, 0.6196, 0.9922, 0.5255, 0.0000, 0.0000,\n",
       "          0.0000, 0.0000, 0.0000, 0.0000, 0.0000, 0.0000, 0.0000, 0.0000, 0.0000,\n",
       "          0.0000],\n",
       "         [0.0000, 0.0000, 0.0000, 0.0000, 0.0000, 0.0000, 0.0000, 0.0000, 0.0000,\n",
       "          0.0000, 0.0000, 0.0000, 0.0588, 0.7961, 0.9922, 0.5255, 0.0000, 0.0000,\n",
       "          0.0000, 0.0000, 0.0000, 0.0000, 0.0000, 0.0000, 0.0000, 0.0000, 0.0000,\n",
       "          0.0000],\n",
       "         [0.0000, 0.0000, 0.0000, 0.0000, 0.0000, 0.0000, 0.0000, 0.0000, 0.0000,\n",
       "          0.0000, 0.0000, 0.0000, 0.0000, 0.5765, 0.9922, 0.5255, 0.0000, 0.0000,\n",
       "          0.0000, 0.0000, 0.0000, 0.0000, 0.0000, 0.0000, 0.0000, 0.0000, 0.0000,\n",
       "          0.0000],\n",
       "         [0.0000, 0.0000, 0.0000, 0.0000, 0.0000, 0.0000, 0.0000, 0.0000, 0.0000,\n",
       "          0.0000, 0.0000, 0.0000, 0.0000, 0.5765, 0.9922, 0.5255, 0.0000, 0.0000,\n",
       "          0.0000, 0.0000, 0.0000, 0.0000, 0.0000, 0.0000, 0.0000, 0.0000, 0.0000,\n",
       "          0.0000],\n",
       "         [0.0000, 0.0000, 0.0000, 0.0000, 0.0000, 0.0000, 0.0000, 0.0000, 0.0000,\n",
       "          0.0000, 0.0000, 0.0000, 0.0000, 0.5765, 0.9922, 0.5255, 0.0000, 0.0000,\n",
       "          0.0000, 0.0000, 0.0000, 0.0000, 0.0000, 0.0000, 0.0000, 0.0000, 0.0000,\n",
       "          0.0000],\n",
       "         [0.0000, 0.0000, 0.0000, 0.0000, 0.0000, 0.0000, 0.0000, 0.0000, 0.0000,\n",
       "          0.0000, 0.0000, 0.0000, 0.0000, 0.5765, 0.9922, 0.5255, 0.0000, 0.0000,\n",
       "          0.0000, 0.0000, 0.0000, 0.0000, 0.0000, 0.0000, 0.0000, 0.0000, 0.0000,\n",
       "          0.0000],\n",
       "         [0.0000, 0.0000, 0.0000, 0.0000, 0.0000, 0.0000, 0.0000, 0.0000, 0.0000,\n",
       "          0.0000, 0.0000, 0.0000, 0.0000, 0.5765, 0.9922, 0.5020, 0.0000, 0.0000,\n",
       "          0.0000, 0.0000, 0.0000, 0.0000, 0.0000, 0.0000, 0.0000, 0.0000, 0.0000,\n",
       "          0.0000],\n",
       "         [0.0000, 0.0000, 0.0000, 0.0000, 0.0000, 0.0000, 0.0000, 0.0000, 0.0000,\n",
       "          0.0000, 0.0000, 0.0000, 0.0000, 0.3020, 0.7137, 0.0000, 0.0000, 0.0000,\n",
       "          0.0000, 0.0000, 0.0000, 0.0000, 0.0000, 0.0000, 0.0000, 0.0000, 0.0000,\n",
       "          0.0000],\n",
       "         [0.0000, 0.0000, 0.0000, 0.0000, 0.0000, 0.0000, 0.0000, 0.0000, 0.0000,\n",
       "          0.0000, 0.0000, 0.0000, 0.0000, 0.0000, 0.0000, 0.0000, 0.0000, 0.0000,\n",
       "          0.0000, 0.0000, 0.0000, 0.0000, 0.0000, 0.0000, 0.0000, 0.0000, 0.0000,\n",
       "          0.0000],\n",
       "         [0.0000, 0.0000, 0.0000, 0.0000, 0.0000, 0.0000, 0.0000, 0.0000, 0.0000,\n",
       "          0.0000, 0.0000, 0.0000, 0.0000, 0.0000, 0.0000, 0.0000, 0.0000, 0.0000,\n",
       "          0.0000, 0.0000, 0.0000, 0.0000, 0.0000, 0.0000, 0.0000, 0.0000, 0.0000,\n",
       "          0.0000],\n",
       "         [0.0000, 0.0000, 0.0000, 0.0000, 0.0000, 0.0000, 0.0000, 0.0000, 0.0000,\n",
       "          0.0000, 0.0000, 0.0000, 0.0000, 0.0000, 0.0000, 0.0000, 0.0000, 0.0000,\n",
       "          0.0000, 0.0000, 0.0000, 0.0000, 0.0000, 0.0000, 0.0000, 0.0000, 0.0000,\n",
       "          0.0000]]))"
      ]
     },
     "execution_count": 219,
     "metadata": {},
     "output_type": "execute_result"
    }
   ],
   "source": [
    "samples[0][0].shape, samples[0][0]"
   ]
  },
  {
   "cell_type": "code",
   "execution_count": 220,
   "metadata": {},
   "outputs": [
    {
     "data": {
      "text/plain": [
       "torch.Size([1, 28, 28])"
      ]
     },
     "execution_count": 220,
     "metadata": {},
     "output_type": "execute_result"
    }
   ],
   "source": [
    "samples[0].shape"
   ]
  },
  {
   "cell_type": "code",
   "execution_count": 221,
   "metadata": {},
   "outputs": [
    {
     "data": {
      "image/png": "[encoded data removed]",
      "text/plain": [
       "<Figure size 640x480 with 2 Axes>"
      ]
     },
     "metadata": {},
     "output_type": "display_data"
    }
   ],
   "source": [
    "plt.subplot(3,3,1) ## here the 3rd argument is the index of plot i.e. plot number in plot grid.See below image\n",
    "plt.imshow(samples[0][0],cmap='gray')\n",
    "plt.subplot(3,3,9)\n",
    "plt.imshow(samples[14][0],cmap='gray')\n",
    "\n",
    "plt.show()"
   ]
  },
  {
   "cell_type": "code",
   "execution_count": 222,
   "metadata": {},
   "outputs": [],
   "source": [
    "class NeuralNet(nn.Module):\n",
    "    def __init__(self, input_size, hidden_size, num_classes):\n",
    "        super(NeuralNet,self).__init__()\n",
    "        self.l1 = nn.Linear(input_size, hidden_size)\n",
    "        self.relu = nn.ReLU()\n",
    "        self.l2 = nn.Linear(hidden_size, num_classes)\n",
    "        ## In mulitclas with pyTorch, we don't define the softmax layer since it is taken care by the loss function, which is cross-entropy\n",
    " \n",
    "    def forward(self, x):\n",
    "        out = self.l1(x)\n",
    "        out = self.relu(out)\n",
    "        out = self.l2(out)\n",
    "        return out"
   ]
  },
  {
   "cell_type": "code",
   "execution_count": 223,
   "metadata": {},
   "outputs": [],
   "source": [
    "model = NeuralNet(input_size, hidden_size, num_classes)"
   ]
  },
  {
   "cell_type": "code",
   "execution_count": 224,
   "metadata": {},
   "outputs": [],
   "source": [
    "criterion = nn.CrossEntropyLoss() ## This will apply softmax for us\n",
    "optimizer = torch.optim.Adam(model.parameters(),lr = learning_rate)"
   ]
  },
  {
   "cell_type": "code",
   "execution_count": 225,
   "metadata": {},
   "outputs": [
    {
     "name": "stdout",
     "output_type": "stream",
     "text": [
      "1 of 2 ; step: 100 of 600 ; loss = 0.4692\n"
     ]
    },
    {
     "name": "stdout",
     "output_type": "stream",
     "text": [
      "1 of 2 ; step: 200 of 600 ; loss = 0.2849\n",
      "1 of 2 ; step: 300 of 600 ; loss = 0.2622\n",
      "1 of 2 ; step: 400 of 600 ; loss = 0.3929\n",
      "1 of 2 ; step: 500 of 600 ; loss = 0.1952\n",
      "1 of 2 ; step: 600 of 600 ; loss = 0.3607\n",
      "2 of 2 ; step: 100 of 600 ; loss = 0.2564\n",
      "2 of 2 ; step: 200 of 600 ; loss = 0.1309\n",
      "2 of 2 ; step: 300 of 600 ; loss = 0.1666\n",
      "2 of 2 ; step: 400 of 600 ; loss = 0.1872\n",
      "2 of 2 ; step: 500 of 600 ; loss = 0.2160\n",
      "2 of 2 ; step: 600 of 600 ; loss = 0.1490\n"
     ]
    }
   ],
   "source": [
    "## trainong loop:\n",
    "\n",
    "n_total_steps = len(train_loader)\n",
    "\n",
    "for epoch in range(num_epochs):\n",
    "        for i,(images, labels) in enumerate(train_loader):\n",
    "            ## reshape the images to 1d i.e, from 100*1*28*28 to 100*784\n",
    "            images = images.reshape(-1,28*28).to(device)\n",
    "            labels = labels.to(device)\n",
    "            \n",
    "            ## forward pass\n",
    "            outputs = model(images)\n",
    "            loss = criterion(outputs,labels)\n",
    "            \n",
    "            ## backward pass\n",
    "            optimizer.zero_grad()\n",
    "            loss.backward()\n",
    "            optimizer.step()\n",
    "            \n",
    "            if (i+1)%100 == 0:\n",
    "                print(f'{epoch+1} of {num_epochs} ; step: {i+1} of {n_total_steps} ; loss = {loss.item():.4f}')"
   ]
  },
  {
   "cell_type": "code",
   "execution_count": 226,
   "metadata": {},
   "outputs": [
    {
     "name": "stdout",
     "output_type": "stream",
     "text": [
      "Accuracy is 95.49\n"
     ]
    }
   ],
   "source": [
    "## test\n",
    "\n",
    "with torch.no_grad():\n",
    "    n_correct = 0\n",
    "    n_samples = 0\n",
    "    for images,labels in test_loader:\n",
    "        images = images.reshape(-1, 28*28).to(device)\n",
    "        labels = labels.to(device)\n",
    "        outputs = model(images)\n",
    "        \n",
    "        _,predictions = torch.max(outputs,1)\n",
    "        n_samples += labels.shape[0]\n",
    "        n_correct += (predictions==labels).sum().item()\n",
    "        \n",
    "        \n",
    "acc = 100*n_correct/n_samples\n",
    "print(f'Accuracy is {acc}')"
   ]
  },
  {
   "cell_type": "code",
   "execution_count": null,
   "metadata": {},
   "outputs": [],
   "source": []
  }
 ],
 "metadata": {
  "kernelspec": {
   "display_name": "python38",
   "language": "python",
   "name": "python3"
  },
  "language_info": {
   "codemirror_mode": {
    "name": "ipython",
    "version": 3
   },
   "file_extension": ".py",
   "mimetype": "text/x-python",
   "name": "python",
   "nbconvert_exporter": "python",
   "pygments_lexer": "ipython3",
   "version": "3.8.19"
  }
 },
 "nbformat": 4,
 "nbformat_minor": 2
}

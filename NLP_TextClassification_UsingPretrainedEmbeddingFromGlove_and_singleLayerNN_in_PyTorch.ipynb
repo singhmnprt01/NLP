{
  "nbformat": 4,
  "nbformat_minor": 0,
  "metadata": {
    "colab": {
      "provenance": []
    },
    "kernelspec": {
      "name": "python3",
      "display_name": "Python 3"
    },
    "language_info": {
      "name": "python"
    }
  },
  "cells": [
    {
      "cell_type": "code",
      "execution_count": 2,
      "metadata": {
        "id": "ktcM-STw3nCl"
      },
      "outputs": [],
      "source": [
        "import pandas as pd\n",
        "import numpy as np\n",
        "import seaborn as sn\n",
        "\n",
        "import torch, torch.nn as nn\n",
        "from torch.nn.utils.rnn import pad_sequence\n",
        "from torch.utils.tensorboard import SummaryWriter\n",
        "from torch.utils.data import DataLoader, Dataset\n",
        "\n",
        "import torchtext\n",
        "from torchtext import vocab\n",
        "from torchtext.vocab import build_vocab_from_iterator\n",
        "\n",
        "import itertools\n",
        "\n",
        "from sklearn.model_selection import train_test_split\n",
        "from sklearn.preprocessing import LabelEncoder\n",
        "from sklearn.metrics import roc_auc_score\n",
        "\n",
        "from gensim.models import Word2Vec\n",
        "import gensim\n",
        "\n",
        "import warnings\n",
        "warnings.filterwarnings(\"ignore\")\n",
        "\n",
        "pd.options.display.max_rows=100\n",
        "pd.options.display.max_columns=100\n"
      ]
    },
    {
      "cell_type": "code",
      "source": [
        "SEED = 100\n",
        "\n",
        "torch.manual_seed(SEED)"
      ],
      "metadata": {
        "id": "y0v2vWYW3_gA"
      },
      "execution_count": null,
      "outputs": []
    },
    {
      "cell_type": "code",
      "source": [
        "data = pd.read_csv('spam.csv',delimiter=',',encoding='latin-1')"
      ],
      "metadata": {
        "id": "WVXDnhDl4s3J"
      },
      "execution_count": 3,
      "outputs": []
    },
    {
      "cell_type": "code",
      "source": [
        "data.head()"
      ],
      "metadata": {
        "colab": {
          "base_uri": "https://localhost:8080/",
          "height": 206
        },
        "id": "ImJD0pOz4s04",
        "outputId": "bd859bdb-068e-4e64-8063-d374efddae0f"
      },
      "execution_count": 4,
      "outputs": [
        {
          "output_type": "execute_result",
          "data": {
            "text/plain": [
              "     v1                                                 v2 Unnamed: 2  \\\n",
              "0   ham  Go until jurong point, crazy.. Available only ...        NaN   \n",
              "1   ham                      Ok lar... Joking wif u oni...        NaN   \n",
              "2  spam  Free entry in 2 a wkly comp to win FA Cup fina...        NaN   \n",
              "3   ham  U dun say so early hor... U c already then say...        NaN   \n",
              "4   ham  Nah I don't think he goes to usf, he lives aro...        NaN   \n",
              "\n",
              "  Unnamed: 3 Unnamed: 4  \n",
              "0        NaN        NaN  \n",
              "1        NaN        NaN  \n",
              "2        NaN        NaN  \n",
              "3        NaN        NaN  \n",
              "4        NaN        NaN  "
            ],
            "text/html": [
              "\n",
              "  <div id=\"df-665764fa-f1a3-434c-817f-ab05124af70b\" class=\"colab-df-container\">\n",
              "    <div>\n",
              "<style scoped>\n",
              "    .dataframe tbody tr th:only-of-type {\n",
              "        vertical-align: middle;\n",
              "    }\n",
              "\n",
              "    .dataframe tbody tr th {\n",
              "        vertical-align: top;\n",
              "    }\n",
              "\n",
              "    .dataframe thead th {\n",
              "        text-align: right;\n",
              "    }\n",
              "</style>\n",
              "<table border=\"1\" class=\"dataframe\">\n",
              "  <thead>\n",
              "    <tr style=\"text-align: right;\">\n",
              "      <th></th>\n",
              "      <th>v1</th>\n",
              "      <th>v2</th>\n",
              "      <th>Unnamed: 2</th>\n",
              "      <th>Unnamed: 3</th>\n",
              "      <th>Unnamed: 4</th>\n",
              "    </tr>\n",
              "  </thead>\n",
              "  <tbody>\n",
              "    <tr>\n",
              "      <th>0</th>\n",
              "      <td>ham</td>\n",
              "      <td>Go until jurong point, crazy.. Available only ...</td>\n",
              "      <td>NaN</td>\n",
              "      <td>NaN</td>\n",
              "      <td>NaN</td>\n",
              "    </tr>\n",
              "    <tr>\n",
              "      <th>1</th>\n",
              "      <td>ham</td>\n",
              "      <td>Ok lar... Joking wif u oni...</td>\n",
              "      <td>NaN</td>\n",
              "      <td>NaN</td>\n",
              "      <td>NaN</td>\n",
              "    </tr>\n",
              "    <tr>\n",
              "      <th>2</th>\n",
              "      <td>spam</td>\n",
              "      <td>Free entry in 2 a wkly comp to win FA Cup fina...</td>\n",
              "      <td>NaN</td>\n",
              "      <td>NaN</td>\n",
              "      <td>NaN</td>\n",
              "    </tr>\n",
              "    <tr>\n",
              "      <th>3</th>\n",
              "      <td>ham</td>\n",
              "      <td>U dun say so early hor... U c already then say...</td>\n",
              "      <td>NaN</td>\n",
              "      <td>NaN</td>\n",
              "      <td>NaN</td>\n",
              "    </tr>\n",
              "    <tr>\n",
              "      <th>4</th>\n",
              "      <td>ham</td>\n",
              "      <td>Nah I don't think he goes to usf, he lives aro...</td>\n",
              "      <td>NaN</td>\n",
              "      <td>NaN</td>\n",
              "      <td>NaN</td>\n",
              "    </tr>\n",
              "  </tbody>\n",
              "</table>\n",
              "</div>\n",
              "    <div class=\"colab-df-buttons\">\n",
              "\n",
              "  <div class=\"colab-df-container\">\n",
              "    <button class=\"colab-df-convert\" onclick=\"convertToInteractive('df-665764fa-f1a3-434c-817f-ab05124af70b')\"\n",
              "            title=\"Convert this dataframe to an interactive table.\"\n",
              "            style=\"display:none;\">\n",
              "\n",
              "  <svg xmlns=\"http://www.w3.org/2000/svg\" height=\"24px\" viewBox=\"0 -960 960 960\">\n",
              "    <path d=\"M120-120v-720h720v720H120Zm60-500h600v-160H180v160Zm220 220h160v-160H400v160Zm0 220h160v-160H400v160ZM180-400h160v-160H180v160Zm440 0h160v-160H620v160ZM180-180h160v-160H180v160Zm440 0h160v-160H620v160Z\"/>\n",
              "  </svg>\n",
              "    </button>\n",
              "\n",
              "  <style>\n",
              "    .colab-df-container {\n",
              "      display:flex;\n",
              "      gap: 12px;\n",
              "    }\n",
              "\n",
              "    .colab-df-convert {\n",
              "      background-color: #E8F0FE;\n",
              "      border: none;\n",
              "      border-radius: 50%;\n",
              "      cursor: pointer;\n",
              "      display: none;\n",
              "      fill: #1967D2;\n",
              "      height: 32px;\n",
              "      padding: 0 0 0 0;\n",
              "      width: 32px;\n",
              "    }\n",
              "\n",
              "    .colab-df-convert:hover {\n",
              "      background-color: #E2EBFA;\n",
              "      box-shadow: 0px 1px 2px rgba(60, 64, 67, 0.3), 0px 1px 3px 1px rgba(60, 64, 67, 0.15);\n",
              "      fill: #174EA6;\n",
              "    }\n",
              "\n",
              "    .colab-df-buttons div {\n",
              "      margin-bottom: 4px;\n",
              "    }\n",
              "\n",
              "    [theme=dark] .colab-df-convert {\n",
              "      background-color: #3B4455;\n",
              "      fill: #D2E3FC;\n",
              "    }\n",
              "\n",
              "    [theme=dark] .colab-df-convert:hover {\n",
              "      background-color: #434B5C;\n",
              "      box-shadow: 0px 1px 3px 1px rgba(0, 0, 0, 0.15);\n",
              "      filter: drop-shadow(0px 1px 2px rgba(0, 0, 0, 0.3));\n",
              "      fill: #FFFFFF;\n",
              "    }\n",
              "  </style>\n",
              "\n",
              "    <script>\n",
              "      const buttonEl =\n",
              "        document.querySelector('#df-665764fa-f1a3-434c-817f-ab05124af70b button.colab-df-convert');\n",
              "      buttonEl.style.display =\n",
              "        google.colab.kernel.accessAllowed ? 'block' : 'none';\n",
              "\n",
              "      async function convertToInteractive(key) {\n",
              "        const element = document.querySelector('#df-665764fa-f1a3-434c-817f-ab05124af70b');\n",
              "        const dataTable =\n",
              "          await google.colab.kernel.invokeFunction('convertToInteractive',\n",
              "                                                    [key], {});\n",
              "        if (!dataTable) return;\n",
              "\n",
              "        const docLinkHtml = 'Like what you see? Visit the ' +\n",
              "          '<a target=\"_blank\" href=https://colab.research.google.com/notebooks/data_table.ipynb>data table notebook</a>'\n",
              "          + ' to learn more about interactive tables.';\n",
              "        element.innerHTML = '';\n",
              "        dataTable['output_type'] = 'display_data';\n",
              "        await google.colab.output.renderOutput(dataTable, element);\n",
              "        const docLink = document.createElement('div');\n",
              "        docLink.innerHTML = docLinkHtml;\n",
              "        element.appendChild(docLink);\n",
              "      }\n",
              "    </script>\n",
              "  </div>\n",
              "\n",
              "\n",
              "<div id=\"df-28ab7736-e6ad-4f0d-aab2-dde59a4b9cf1\">\n",
              "  <button class=\"colab-df-quickchart\" onclick=\"quickchart('df-28ab7736-e6ad-4f0d-aab2-dde59a4b9cf1')\"\n",
              "            title=\"Suggest charts\"\n",
              "            style=\"display:none;\">\n",
              "\n",
              "<svg xmlns=\"http://www.w3.org/2000/svg\" height=\"24px\"viewBox=\"0 0 24 24\"\n",
              "     width=\"24px\">\n",
              "    <g>\n",
              "        <path d=\"M19 3H5c-1.1 0-2 .9-2 2v14c0 1.1.9 2 2 2h14c1.1 0 2-.9 2-2V5c0-1.1-.9-2-2-2zM9 17H7v-7h2v7zm4 0h-2V7h2v10zm4 0h-2v-4h2v4z\"/>\n",
              "    </g>\n",
              "</svg>\n",
              "  </button>\n",
              "\n",
              "<style>\n",
              "  .colab-df-quickchart {\n",
              "      --bg-color: #E8F0FE;\n",
              "      --fill-color: #1967D2;\n",
              "      --hover-bg-color: #E2EBFA;\n",
              "      --hover-fill-color: #174EA6;\n",
              "      --disabled-fill-color: #AAA;\n",
              "      --disabled-bg-color: #DDD;\n",
              "  }\n",
              "\n",
              "  [theme=dark] .colab-df-quickchart {\n",
              "      --bg-color: #3B4455;\n",
              "      --fill-color: #D2E3FC;\n",
              "      --hover-bg-color: #434B5C;\n",
              "      --hover-fill-color: #FFFFFF;\n",
              "      --disabled-bg-color: #3B4455;\n",
              "      --disabled-fill-color: #666;\n",
              "  }\n",
              "\n",
              "  .colab-df-quickchart {\n",
              "    background-color: var(--bg-color);\n",
              "    border: none;\n",
              "    border-radius: 50%;\n",
              "    cursor: pointer;\n",
              "    display: none;\n",
              "    fill: var(--fill-color);\n",
              "    height: 32px;\n",
              "    padding: 0;\n",
              "    width: 32px;\n",
              "  }\n",
              "\n",
              "  .colab-df-quickchart:hover {\n",
              "    background-color: var(--hover-bg-color);\n",
              "    box-shadow: 0 1px 2px rgba(60, 64, 67, 0.3), 0 1px 3px 1px rgba(60, 64, 67, 0.15);\n",
              "    fill: var(--button-hover-fill-color);\n",
              "  }\n",
              "\n",
              "  .colab-df-quickchart-complete:disabled,\n",
              "  .colab-df-quickchart-complete:disabled:hover {\n",
              "    background-color: var(--disabled-bg-color);\n",
              "    fill: var(--disabled-fill-color);\n",
              "    box-shadow: none;\n",
              "  }\n",
              "\n",
              "  .colab-df-spinner {\n",
              "    border: 2px solid var(--fill-color);\n",
              "    border-color: transparent;\n",
              "    border-bottom-color: var(--fill-color);\n",
              "    animation:\n",
              "      spin 1s steps(1) infinite;\n",
              "  }\n",
              "\n",
              "  @keyframes spin {\n",
              "    0% {\n",
              "      border-color: transparent;\n",
              "      border-bottom-color: var(--fill-color);\n",
              "      border-left-color: var(--fill-color);\n",
              "    }\n",
              "    20% {\n",
              "      border-color: transparent;\n",
              "      border-left-color: var(--fill-color);\n",
              "      border-top-color: var(--fill-color);\n",
              "    }\n",
              "    30% {\n",
              "      border-color: transparent;\n",
              "      border-left-color: var(--fill-color);\n",
              "      border-top-color: var(--fill-color);\n",
              "      border-right-color: var(--fill-color);\n",
              "    }\n",
              "    40% {\n",
              "      border-color: transparent;\n",
              "      border-right-color: var(--fill-color);\n",
              "      border-top-color: var(--fill-color);\n",
              "    }\n",
              "    60% {\n",
              "      border-color: transparent;\n",
              "      border-right-color: var(--fill-color);\n",
              "    }\n",
              "    80% {\n",
              "      border-color: transparent;\n",
              "      border-right-color: var(--fill-color);\n",
              "      border-bottom-color: var(--fill-color);\n",
              "    }\n",
              "    90% {\n",
              "      border-color: transparent;\n",
              "      border-bottom-color: var(--fill-color);\n",
              "    }\n",
              "  }\n",
              "</style>\n",
              "\n",
              "  <script>\n",
              "    async function quickchart(key) {\n",
              "      const quickchartButtonEl =\n",
              "        document.querySelector('#' + key + ' button');\n",
              "      quickchartButtonEl.disabled = true;  // To prevent multiple clicks.\n",
              "      quickchartButtonEl.classList.add('colab-df-spinner');\n",
              "      try {\n",
              "        const charts = await google.colab.kernel.invokeFunction(\n",
              "            'suggestCharts', [key], {});\n",
              "      } catch (error) {\n",
              "        console.error('Error during call to suggestCharts:', error);\n",
              "      }\n",
              "      quickchartButtonEl.classList.remove('colab-df-spinner');\n",
              "      quickchartButtonEl.classList.add('colab-df-quickchart-complete');\n",
              "    }\n",
              "    (() => {\n",
              "      let quickchartButtonEl =\n",
              "        document.querySelector('#df-28ab7736-e6ad-4f0d-aab2-dde59a4b9cf1 button');\n",
              "      quickchartButtonEl.style.display =\n",
              "        google.colab.kernel.accessAllowed ? 'block' : 'none';\n",
              "    })();\n",
              "  </script>\n",
              "</div>\n",
              "\n",
              "    </div>\n",
              "  </div>\n"
            ],
            "application/vnd.google.colaboratory.intrinsic+json": {
              "type": "dataframe",
              "variable_name": "data",
              "summary": "{\n  \"name\": \"data\",\n  \"rows\": 5572,\n  \"fields\": [\n    {\n      \"column\": \"v1\",\n      \"properties\": {\n        \"dtype\": \"category\",\n        \"num_unique_values\": 2,\n        \"samples\": [\n          \"spam\",\n          \"ham\"\n        ],\n        \"semantic_type\": \"\",\n        \"description\": \"\"\n      }\n    },\n    {\n      \"column\": \"v2\",\n      \"properties\": {\n        \"dtype\": \"string\",\n        \"num_unique_values\": 5169,\n        \"samples\": [\n          \"Did u download the fring app?\",\n          \"Pass dis to all ur contacts n see wat u get! Red;i'm in luv wid u. Blue;u put a smile on my face. Purple;u r realy hot. Pink;u r so swt. Orange;i thnk i lyk u. Green;i realy wana go out wid u. Yelow;i wnt u bck. Black;i'm jealous of u. Brown;i miss you Nw plz giv me one color\"\n        ],\n        \"semantic_type\": \"\",\n        \"description\": \"\"\n      }\n    },\n    {\n      \"column\": \"Unnamed: 2\",\n      \"properties\": {\n        \"dtype\": \"category\",\n        \"num_unique_values\": 43,\n        \"samples\": [\n          \" GOD said\",\n          \" SHE SHUDVETOLD U. DID URGRAN KNOW?NEWAY\"\n        ],\n        \"semantic_type\": \"\",\n        \"description\": \"\"\n      }\n    },\n    {\n      \"column\": \"Unnamed: 3\",\n      \"properties\": {\n        \"dtype\": \"category\",\n        \"num_unique_values\": 10,\n        \"samples\": [\n          \" \\\\\\\"OH No! COMPETITION\\\\\\\". Who knew\",\n          \" why to miss them\"\n        ],\n        \"semantic_type\": \"\",\n        \"description\": \"\"\n      }\n    },\n    {\n      \"column\": \"Unnamed: 4\",\n      \"properties\": {\n        \"dtype\": \"category\",\n        \"num_unique_values\": 5,\n        \"samples\": [\n          \"GNT:-)\\\"\",\n          \" one day these two will become FREINDS FOREVER!\\\"\"\n        ],\n        \"semantic_type\": \"\",\n        \"description\": \"\"\n      }\n    }\n  ]\n}"
            }
          },
          "metadata": {},
          "execution_count": 4
        }
      ]
    },
    {
      "cell_type": "code",
      "source": [],
      "metadata": {
        "id": "URffukrr4xvh"
      },
      "execution_count": null,
      "outputs": []
    },
    {
      "cell_type": "code",
      "source": [
        "data.drop(columns=['Unnamed: 2', 'Unnamed: 3', 'Unnamed: 4'], inplace=True)"
      ],
      "metadata": {
        "id": "K5xvZX4q4syO"
      },
      "execution_count": 5,
      "outputs": []
    },
    {
      "cell_type": "code",
      "source": [
        "data.head()"
      ],
      "metadata": {
        "colab": {
          "base_uri": "https://localhost:8080/",
          "height": 247
        },
        "id": "hOU3ikb24swB",
        "outputId": "86094975-34b0-4438-b857-3fdaae28c236"
      },
      "execution_count": 6,
      "outputs": [
        {
          "output_type": "execute_result",
          "data": {
            "text/plain": [
              "     v1                                                 v2\n",
              "0   ham  Go until jurong point, crazy.. Available only ...\n",
              "1   ham                      Ok lar... Joking wif u oni...\n",
              "2  spam  Free entry in 2 a wkly comp to win FA Cup fina...\n",
              "3   ham  U dun say so early hor... U c already then say...\n",
              "4   ham  Nah I don't think he goes to usf, he lives aro..."
            ],
            "text/html": [
              "\n",
              "  <div id=\"df-52ccc4f5-63a3-4088-b313-c95e7005e16e\" class=\"colab-df-container\">\n",
              "    <div>\n",
              "<style scoped>\n",
              "    .dataframe tbody tr th:only-of-type {\n",
              "        vertical-align: middle;\n",
              "    }\n",
              "\n",
              "    .dataframe tbody tr th {\n",
              "        vertical-align: top;\n",
              "    }\n",
              "\n",
              "    .dataframe thead th {\n",
              "        text-align: right;\n",
              "    }\n",
              "</style>\n",
              "<table border=\"1\" class=\"dataframe\">\n",
              "  <thead>\n",
              "    <tr style=\"text-align: right;\">\n",
              "      <th></th>\n",
              "      <th>v1</th>\n",
              "      <th>v2</th>\n",
              "    </tr>\n",
              "  </thead>\n",
              "  <tbody>\n",
              "    <tr>\n",
              "      <th>0</th>\n",
              "      <td>ham</td>\n",
              "      <td>Go until jurong point, crazy.. Available only ...</td>\n",
              "    </tr>\n",
              "    <tr>\n",
              "      <th>1</th>\n",
              "      <td>ham</td>\n",
              "      <td>Ok lar... Joking wif u oni...</td>\n",
              "    </tr>\n",
              "    <tr>\n",
              "      <th>2</th>\n",
              "      <td>spam</td>\n",
              "      <td>Free entry in 2 a wkly comp to win FA Cup fina...</td>\n",
              "    </tr>\n",
              "    <tr>\n",
              "      <th>3</th>\n",
              "      <td>ham</td>\n",
              "      <td>U dun say so early hor... U c already then say...</td>\n",
              "    </tr>\n",
              "    <tr>\n",
              "      <th>4</th>\n",
              "      <td>ham</td>\n",
              "      <td>Nah I don't think he goes to usf, he lives aro...</td>\n",
              "    </tr>\n",
              "  </tbody>\n",
              "</table>\n",
              "</div>\n",
              "    <div class=\"colab-df-buttons\">\n",
              "\n",
              "  <div class=\"colab-df-container\">\n",
              "    <button class=\"colab-df-convert\" onclick=\"convertToInteractive('df-52ccc4f5-63a3-4088-b313-c95e7005e16e')\"\n",
              "            title=\"Convert this dataframe to an interactive table.\"\n",
              "            style=\"display:none;\">\n",
              "\n",
              "  <svg xmlns=\"http://www.w3.org/2000/svg\" height=\"24px\" viewBox=\"0 -960 960 960\">\n",
              "    <path d=\"M120-120v-720h720v720H120Zm60-500h600v-160H180v160Zm220 220h160v-160H400v160Zm0 220h160v-160H400v160ZM180-400h160v-160H180v160Zm440 0h160v-160H620v160ZM180-180h160v-160H180v160Zm440 0h160v-160H620v160Z\"/>\n",
              "  </svg>\n",
              "    </button>\n",
              "\n",
              "  <style>\n",
              "    .colab-df-container {\n",
              "      display:flex;\n",
              "      gap: 12px;\n",
              "    }\n",
              "\n",
              "    .colab-df-convert {\n",
              "      background-color: #E8F0FE;\n",
              "      border: none;\n",
              "      border-radius: 50%;\n",
              "      cursor: pointer;\n",
              "      display: none;\n",
              "      fill: #1967D2;\n",
              "      height: 32px;\n",
              "      padding: 0 0 0 0;\n",
              "      width: 32px;\n",
              "    }\n",
              "\n",
              "    .colab-df-convert:hover {\n",
              "      background-color: #E2EBFA;\n",
              "      box-shadow: 0px 1px 2px rgba(60, 64, 67, 0.3), 0px 1px 3px 1px rgba(60, 64, 67, 0.15);\n",
              "      fill: #174EA6;\n",
              "    }\n",
              "\n",
              "    .colab-df-buttons div {\n",
              "      margin-bottom: 4px;\n",
              "    }\n",
              "\n",
              "    [theme=dark] .colab-df-convert {\n",
              "      background-color: #3B4455;\n",
              "      fill: #D2E3FC;\n",
              "    }\n",
              "\n",
              "    [theme=dark] .colab-df-convert:hover {\n",
              "      background-color: #434B5C;\n",
              "      box-shadow: 0px 1px 3px 1px rgba(0, 0, 0, 0.15);\n",
              "      filter: drop-shadow(0px 1px 2px rgba(0, 0, 0, 0.3));\n",
              "      fill: #FFFFFF;\n",
              "    }\n",
              "  </style>\n",
              "\n",
              "    <script>\n",
              "      const buttonEl =\n",
              "        document.querySelector('#df-52ccc4f5-63a3-4088-b313-c95e7005e16e button.colab-df-convert');\n",
              "      buttonEl.style.display =\n",
              "        google.colab.kernel.accessAllowed ? 'block' : 'none';\n",
              "\n",
              "      async function convertToInteractive(key) {\n",
              "        const element = document.querySelector('#df-52ccc4f5-63a3-4088-b313-c95e7005e16e');\n",
              "        const dataTable =\n",
              "          await google.colab.kernel.invokeFunction('convertToInteractive',\n",
              "                                                    [key], {});\n",
              "        if (!dataTable) return;\n",
              "\n",
              "        const docLinkHtml = 'Like what you see? Visit the ' +\n",
              "          '<a target=\"_blank\" href=https://colab.research.google.com/notebooks/data_table.ipynb>data table notebook</a>'\n",
              "          + ' to learn more about interactive tables.';\n",
              "        element.innerHTML = '';\n",
              "        dataTable['output_type'] = 'display_data';\n",
              "        await google.colab.output.renderOutput(dataTable, element);\n",
              "        const docLink = document.createElement('div');\n",
              "        docLink.innerHTML = docLinkHtml;\n",
              "        element.appendChild(docLink);\n",
              "      }\n",
              "    </script>\n",
              "  </div>\n",
              "\n",
              "\n",
              "<div id=\"df-e77e405f-d5a8-43d8-9398-fa72a0756df1\">\n",
              "  <button class=\"colab-df-quickchart\" onclick=\"quickchart('df-e77e405f-d5a8-43d8-9398-fa72a0756df1')\"\n",
              "            title=\"Suggest charts\"\n",
              "            style=\"display:none;\">\n",
              "\n",
              "<svg xmlns=\"http://www.w3.org/2000/svg\" height=\"24px\"viewBox=\"0 0 24 24\"\n",
              "     width=\"24px\">\n",
              "    <g>\n",
              "        <path d=\"M19 3H5c-1.1 0-2 .9-2 2v14c0 1.1.9 2 2 2h14c1.1 0 2-.9 2-2V5c0-1.1-.9-2-2-2zM9 17H7v-7h2v7zm4 0h-2V7h2v10zm4 0h-2v-4h2v4z\"/>\n",
              "    </g>\n",
              "</svg>\n",
              "  </button>\n",
              "\n",
              "<style>\n",
              "  .colab-df-quickchart {\n",
              "      --bg-color: #E8F0FE;\n",
              "      --fill-color: #1967D2;\n",
              "      --hover-bg-color: #E2EBFA;\n",
              "      --hover-fill-color: #174EA6;\n",
              "      --disabled-fill-color: #AAA;\n",
              "      --disabled-bg-color: #DDD;\n",
              "  }\n",
              "\n",
              "  [theme=dark] .colab-df-quickchart {\n",
              "      --bg-color: #3B4455;\n",
              "      --fill-color: #D2E3FC;\n",
              "      --hover-bg-color: #434B5C;\n",
              "      --hover-fill-color: #FFFFFF;\n",
              "      --disabled-bg-color: #3B4455;\n",
              "      --disabled-fill-color: #666;\n",
              "  }\n",
              "\n",
              "  .colab-df-quickchart {\n",
              "    background-color: var(--bg-color);\n",
              "    border: none;\n",
              "    border-radius: 50%;\n",
              "    cursor: pointer;\n",
              "    display: none;\n",
              "    fill: var(--fill-color);\n",
              "    height: 32px;\n",
              "    padding: 0;\n",
              "    width: 32px;\n",
              "  }\n",
              "\n",
              "  .colab-df-quickchart:hover {\n",
              "    background-color: var(--hover-bg-color);\n",
              "    box-shadow: 0 1px 2px rgba(60, 64, 67, 0.3), 0 1px 3px 1px rgba(60, 64, 67, 0.15);\n",
              "    fill: var(--button-hover-fill-color);\n",
              "  }\n",
              "\n",
              "  .colab-df-quickchart-complete:disabled,\n",
              "  .colab-df-quickchart-complete:disabled:hover {\n",
              "    background-color: var(--disabled-bg-color);\n",
              "    fill: var(--disabled-fill-color);\n",
              "    box-shadow: none;\n",
              "  }\n",
              "\n",
              "  .colab-df-spinner {\n",
              "    border: 2px solid var(--fill-color);\n",
              "    border-color: transparent;\n",
              "    border-bottom-color: var(--fill-color);\n",
              "    animation:\n",
              "      spin 1s steps(1) infinite;\n",
              "  }\n",
              "\n",
              "  @keyframes spin {\n",
              "    0% {\n",
              "      border-color: transparent;\n",
              "      border-bottom-color: var(--fill-color);\n",
              "      border-left-color: var(--fill-color);\n",
              "    }\n",
              "    20% {\n",
              "      border-color: transparent;\n",
              "      border-left-color: var(--fill-color);\n",
              "      border-top-color: var(--fill-color);\n",
              "    }\n",
              "    30% {\n",
              "      border-color: transparent;\n",
              "      border-left-color: var(--fill-color);\n",
              "      border-top-color: var(--fill-color);\n",
              "      border-right-color: var(--fill-color);\n",
              "    }\n",
              "    40% {\n",
              "      border-color: transparent;\n",
              "      border-right-color: var(--fill-color);\n",
              "      border-top-color: var(--fill-color);\n",
              "    }\n",
              "    60% {\n",
              "      border-color: transparent;\n",
              "      border-right-color: var(--fill-color);\n",
              "    }\n",
              "    80% {\n",
              "      border-color: transparent;\n",
              "      border-right-color: var(--fill-color);\n",
              "      border-bottom-color: var(--fill-color);\n",
              "    }\n",
              "    90% {\n",
              "      border-color: transparent;\n",
              "      border-bottom-color: var(--fill-color);\n",
              "    }\n",
              "  }\n",
              "</style>\n",
              "\n",
              "  <script>\n",
              "    async function quickchart(key) {\n",
              "      const quickchartButtonEl =\n",
              "        document.querySelector('#' + key + ' button');\n",
              "      quickchartButtonEl.disabled = true;  // To prevent multiple clicks.\n",
              "      quickchartButtonEl.classList.add('colab-df-spinner');\n",
              "      try {\n",
              "        const charts = await google.colab.kernel.invokeFunction(\n",
              "            'suggestCharts', [key], {});\n",
              "      } catch (error) {\n",
              "        console.error('Error during call to suggestCharts:', error);\n",
              "      }\n",
              "      quickchartButtonEl.classList.remove('colab-df-spinner');\n",
              "      quickchartButtonEl.classList.add('colab-df-quickchart-complete');\n",
              "    }\n",
              "    (() => {\n",
              "      let quickchartButtonEl =\n",
              "        document.querySelector('#df-e77e405f-d5a8-43d8-9398-fa72a0756df1 button');\n",
              "      quickchartButtonEl.style.display =\n",
              "        google.colab.kernel.accessAllowed ? 'block' : 'none';\n",
              "    })();\n",
              "  </script>\n",
              "</div>\n",
              "\n",
              "    </div>\n",
              "  </div>\n"
            ],
            "application/vnd.google.colaboratory.intrinsic+json": {
              "type": "dataframe",
              "variable_name": "data",
              "summary": "{\n  \"name\": \"data\",\n  \"rows\": 5572,\n  \"fields\": [\n    {\n      \"column\": \"v1\",\n      \"properties\": {\n        \"dtype\": \"category\",\n        \"num_unique_values\": 2,\n        \"samples\": [\n          \"spam\",\n          \"ham\"\n        ],\n        \"semantic_type\": \"\",\n        \"description\": \"\"\n      }\n    },\n    {\n      \"column\": \"v2\",\n      \"properties\": {\n        \"dtype\": \"string\",\n        \"num_unique_values\": 5169,\n        \"samples\": [\n          \"Did u download the fring app?\",\n          \"Pass dis to all ur contacts n see wat u get! Red;i'm in luv wid u. Blue;u put a smile on my face. Purple;u r realy hot. Pink;u r so swt. Orange;i thnk i lyk u. Green;i realy wana go out wid u. Yelow;i wnt u bck. Black;i'm jealous of u. Brown;i miss you Nw plz giv me one color\"\n        ],\n        \"semantic_type\": \"\",\n        \"description\": \"\"\n      }\n    }\n  ]\n}"
            }
          },
          "metadata": {},
          "execution_count": 6
        }
      ]
    },
    {
      "cell_type": "code",
      "source": [
        "data['v1'].value_counts()"
      ],
      "metadata": {
        "colab": {
          "base_uri": "https://localhost:8080/"
        },
        "id": "EPR8944t42OO",
        "outputId": "8a07cff8-76c8-4bf0-8fef-d02fe553779b"
      },
      "execution_count": 7,
      "outputs": [
        {
          "output_type": "execute_result",
          "data": {
            "text/plain": [
              "ham     4825\n",
              "spam     747\n",
              "Name: v1, dtype: int64"
            ]
          },
          "metadata": {},
          "execution_count": 7
        }
      ]
    },
    {
      "cell_type": "code",
      "source": [
        "X = data.v2\n",
        "Y = data.v1\n",
        "#Y = np.where(Y=='spam',1,0)\n",
        "le = LabelEncoder()\n",
        "Y = le.fit_transform(Y)\n",
        "Y = Y.reshape(-1,1)"
      ],
      "metadata": {
        "id": "0jU0tn3Y43WG"
      },
      "execution_count": 8,
      "outputs": []
    },
    {
      "cell_type": "code",
      "source": [
        "Y"
      ],
      "metadata": {
        "colab": {
          "base_uri": "https://localhost:8080/"
        },
        "id": "txyHp5uB44Sq",
        "outputId": "0eeb0ee7-8b0c-4fe4-c920-65c0565dd311"
      },
      "execution_count": 10,
      "outputs": [
        {
          "output_type": "execute_result",
          "data": {
            "text/plain": [
              "array([[0],\n",
              "       [0],\n",
              "       [1],\n",
              "       ...,\n",
              "       [0],\n",
              "       [0],\n",
              "       [0]])"
            ]
          },
          "metadata": {},
          "execution_count": 10
        }
      ]
    },
    {
      "cell_type": "code",
      "source": [
        "X_train, X_test, Y_train, Y_test = train_test_split(X,Y,stratify=Y, test_size=.15)"
      ],
      "metadata": {
        "id": "OpBSEzCh47rI"
      },
      "execution_count": 11,
      "outputs": []
    },
    {
      "cell_type": "code",
      "source": [
        "X_train.reset_index(drop=True,inplace=True)\n",
        "X_test.reset_index(drop=True,inplace=True)"
      ],
      "metadata": {
        "id": "KJyjYk1U47pN"
      },
      "execution_count": 12,
      "outputs": []
    },
    {
      "cell_type": "code",
      "source": [
        "X_train.shape, X_test.shape, Y_train.shape, Y_test.shape"
      ],
      "metadata": {
        "colab": {
          "base_uri": "https://localhost:8080/"
        },
        "id": "iE-tHnqB47nI",
        "outputId": "09823361-6398-4a51-c185-f6189f89d3d5"
      },
      "execution_count": 13,
      "outputs": [
        {
          "output_type": "execute_result",
          "data": {
            "text/plain": [
              "((4736,), (836,), (4736, 1), (836, 1))"
            ]
          },
          "metadata": {},
          "execution_count": 13
        }
      ]
    },
    {
      "cell_type": "markdown",
      "source": [
        "## Torch DataLoader"
      ],
      "metadata": {
        "id": "2aXZfZ4V5AqU"
      }
    },
    {
      "cell_type": "code",
      "source": [
        "X_train_np= X_train.to_numpy()\n",
        "X_test_np = X_test.to_numpy()"
      ],
      "metadata": {
        "id": "n-anePlq47k9"
      },
      "execution_count": 14,
      "outputs": []
    },
    {
      "cell_type": "code",
      "source": [
        "type(X_train_np), type(X_test_np)"
      ],
      "metadata": {
        "colab": {
          "base_uri": "https://localhost:8080/"
        },
        "id": "bDLRHHNm47i4",
        "outputId": "6a5b4142-478d-4bb7-c55d-053a8dcbb933"
      },
      "execution_count": 15,
      "outputs": [
        {
          "output_type": "execute_result",
          "data": {
            "text/plain": [
              "(numpy.ndarray, numpy.ndarray)"
            ]
          },
          "metadata": {},
          "execution_count": 15
        }
      ]
    },
    {
      "cell_type": "code",
      "source": [],
      "metadata": {
        "id": "CINY4-zB47gl"
      },
      "execution_count": null,
      "outputs": []
    },
    {
      "cell_type": "code",
      "source": [
        "train_dataset = list(zip(X_train_np,Y_train))\n",
        "test_dataset = list(zip(X_test_np,Y_test))"
      ],
      "metadata": {
        "id": "L97bAAzK47eU"
      },
      "execution_count": 16,
      "outputs": []
    },
    {
      "cell_type": "code",
      "source": [
        "train_dataset[0:1]"
      ],
      "metadata": {
        "colab": {
          "base_uri": "https://localhost:8080/"
        },
        "id": "eTq2vJLf5JGG",
        "outputId": "4bd884be-c7f0-4241-e371-a0baab9dbfce"
      },
      "execution_count": 17,
      "outputs": [
        {
          "output_type": "execute_result",
          "data": {
            "text/plain": [
              "[('I wan but too early lei... Me outside now wun b home so early... Neva mind then...',\n",
              "  array([0]))]"
            ]
          },
          "metadata": {},
          "execution_count": 17
        }
      ]
    },
    {
      "cell_type": "code",
      "source": [
        "embed_dim=300"
      ],
      "metadata": {
        "id": "6zcDM5jq5KR2"
      },
      "execution_count": 19,
      "outputs": []
    },
    {
      "cell_type": "code",
      "source": [
        "## you can load vocab from existing models like Glove,etc.\n",
        "glove_vocab = torchtext.vocab.GloVe(name='6B', dim=embed_dim) ## source: https://pytorch.org/text/stable/_modules/torchtext/vocab/vectors.html#GloVe\n",
        "\n",
        "# and the rest is same"
      ],
      "metadata": {
        "colab": {
          "base_uri": "https://localhost:8080/"
        },
        "id": "uHdjZb1E5aOi",
        "outputId": "260d751e-3993-4ff9-ef1d-4dce31bb4e0e"
      },
      "execution_count": 20,
      "outputs": [
        {
          "output_type": "stream",
          "name": "stderr",
          "text": [
            ".vector_cache/glove.6B.zip: 862MB [03:08, 4.57MB/s]                           \n",
            "100%|█████████▉| 399999/400000 [01:00<00:00, 6641.59it/s]\n"
          ]
        }
      ]
    },
    {
      "cell_type": "code",
      "source": [
        "glove_vocab"
      ],
      "metadata": {
        "colab": {
          "base_uri": "https://localhost:8080/"
        },
        "id": "K9RZIpS35cq-",
        "outputId": "67003ed8-693f-42f9-fb44-5d5e3321749f"
      },
      "execution_count": 21,
      "outputs": [
        {
          "output_type": "execute_result",
          "data": {
            "text/plain": [
              "<torchtext.vocab.vectors.GloVe at 0x7fb8cefd5d20>"
            ]
          },
          "metadata": {},
          "execution_count": 21
        }
      ]
    },
    {
      "cell_type": "code",
      "source": [],
      "metadata": {
        "id": "X2okieku7Vhx"
      },
      "execution_count": null,
      "outputs": []
    },
    {
      "cell_type": "code",
      "source": [
        "glove_vocab.get_vecs_by_tokens('the')"
      ],
      "metadata": {
        "colab": {
          "base_uri": "https://localhost:8080/"
        },
        "id": "lBOuaZGn5f0G",
        "outputId": "377fc349-77fe-4007-b99b-34e823cba011"
      },
      "execution_count": 22,
      "outputs": [
        {
          "output_type": "execute_result",
          "data": {
            "text/plain": [
              "tensor([ 4.6560e-02,  2.1318e-01, -7.4364e-03, -4.5854e-01, -3.5639e-02,\n",
              "         2.3643e-01, -2.8836e-01,  2.1521e-01, -1.3486e-01, -1.6413e+00,\n",
              "        -2.6091e-01,  3.2434e-02,  5.6621e-02, -4.3296e-02, -2.1672e-02,\n",
              "         2.2476e-01, -7.5129e-02, -6.7018e-02, -1.4247e-01,  3.8825e-02,\n",
              "        -1.8951e-01,  2.9977e-01,  3.9305e-01,  1.7887e-01, -1.7343e-01,\n",
              "        -2.1178e-01,  2.3617e-01, -6.3681e-02, -4.2318e-01, -1.1661e-01,\n",
              "         9.3754e-02,  1.7296e-01, -3.3073e-01,  4.9112e-01, -6.8995e-01,\n",
              "        -9.2462e-02,  2.4742e-01, -1.7991e-01,  9.7908e-02,  8.3118e-02,\n",
              "         1.5299e-01, -2.7276e-01, -3.8934e-02,  5.4453e-01,  5.3737e-01,\n",
              "         2.9105e-01, -7.3514e-03,  4.7880e-02, -4.0760e-01, -2.6759e-02,\n",
              "         1.7919e-01,  1.0977e-02, -1.0963e-01, -2.6395e-01,  7.3990e-02,\n",
              "         2.6236e-01, -1.5080e-01,  3.4623e-01,  2.5758e-01,  1.1971e-01,\n",
              "        -3.7135e-02, -7.1593e-02,  4.3898e-01, -4.0764e-02,  1.6425e-02,\n",
              "        -4.4640e-01,  1.7197e-01,  4.6246e-02,  5.8639e-02,  4.1499e-02,\n",
              "         5.3948e-01,  5.2495e-01,  1.1361e-01, -4.8315e-02, -3.6385e-01,\n",
              "         1.8704e-01,  9.2761e-02, -1.1129e-01, -4.2085e-01,  1.3992e-01,\n",
              "        -3.9338e-01, -6.7945e-02,  1.2188e-01,  1.6707e-01,  7.5169e-02,\n",
              "        -1.5529e-02, -1.9499e-01,  1.9638e-01,  5.3194e-02,  2.5170e-01,\n",
              "        -3.4845e-01, -1.0638e-01, -3.4692e-01, -1.9024e-01, -2.0040e-01,\n",
              "         1.2154e-01, -2.9208e-01,  2.3353e-02, -1.1618e-01, -3.5768e-01,\n",
              "         6.2304e-02,  3.5884e-01,  2.9060e-02,  7.3005e-03,  4.9482e-03,\n",
              "        -1.5048e-01, -1.2313e-01,  1.9337e-01,  1.2173e-01,  4.4503e-01,\n",
              "         2.5147e-01,  1.0781e-01, -1.7716e-01,  3.8691e-02,  8.1530e-02,\n",
              "         1.4667e-01,  6.3666e-02,  6.1332e-02, -7.5569e-02, -3.7724e-01,\n",
              "         1.5850e-02, -3.0342e-01,  2.8374e-01, -4.2013e-02, -4.0715e-02,\n",
              "        -1.5269e-01,  7.4980e-02,  1.5577e-01,  1.0433e-01,  3.1393e-01,\n",
              "         1.9309e-01,  1.9429e-01,  1.5185e-01, -1.0192e-01, -1.8785e-02,\n",
              "         2.0791e-01,  1.3366e-01,  1.9038e-01, -2.5558e-01,  3.0400e-01,\n",
              "        -1.8960e-02,  2.0147e-01, -4.2110e-01, -7.5156e-03, -2.7977e-01,\n",
              "        -1.9314e-01,  4.6204e-02,  1.9971e-01, -3.0207e-01,  2.5735e-01,\n",
              "         6.8107e-01, -1.9409e-01,  2.3984e-01,  2.2493e-01,  6.5224e-01,\n",
              "        -1.3561e-01, -1.7383e-01, -4.8209e-02, -1.1860e-01,  2.1588e-03,\n",
              "        -1.9525e-02,  1.1948e-01,  1.9346e-01, -4.0820e-01, -8.2966e-02,\n",
              "         1.6626e-01, -1.0601e-01,  3.5861e-01,  1.6922e-01,  7.2590e-02,\n",
              "        -2.4803e-01, -1.0024e-01, -5.2491e-01, -1.7745e-01, -3.6647e-01,\n",
              "         2.6180e-01, -1.2077e-02,  8.3190e-02, -2.1528e-01,  4.1045e-01,\n",
              "         2.9136e-01,  3.0869e-01,  7.8864e-02,  3.2207e-01, -4.1023e-02,\n",
              "        -1.0970e-01, -9.2041e-02, -1.2339e-01, -1.6416e-01,  3.5382e-01,\n",
              "        -8.2774e-02,  3.3171e-01, -2.4738e-01, -4.8928e-02,  1.5746e-01,\n",
              "         1.8988e-01, -2.6642e-02,  6.3315e-02, -1.0673e-02,  3.4089e-01,\n",
              "         1.4106e+00,  1.3417e-01,  2.8191e-01, -2.5940e-01,  5.5267e-02,\n",
              "        -5.2425e-02, -2.5789e-01,  1.9127e-02, -2.2084e-02,  3.2113e-01,\n",
              "         6.8818e-02,  5.1207e-01,  1.6478e-01, -2.0194e-01,  2.9232e-01,\n",
              "         9.8575e-02,  1.3145e-02, -1.0652e-01,  1.3510e-01, -4.5332e-02,\n",
              "         2.0697e-01, -4.8425e-01, -4.4706e-01,  3.3305e-03,  2.9264e-03,\n",
              "        -1.0975e-01, -2.3325e-01,  2.2442e-01, -1.0503e-01,  1.2339e-01,\n",
              "         1.0978e-01,  4.8994e-02, -2.5157e-01,  4.0319e-01,  3.5318e-01,\n",
              "         1.8651e-01, -2.3622e-02, -1.2734e-01,  1.1475e-01,  2.7359e-01,\n",
              "        -2.1866e-01,  1.5794e-02,  8.1754e-01, -2.3792e-02, -8.5469e-01,\n",
              "        -1.6203e-01,  1.8076e-01,  2.8014e-02, -1.4340e-01,  1.3139e-03,\n",
              "        -9.1735e-02, -8.9704e-02,  1.1105e-01, -1.6703e-01,  6.8377e-02,\n",
              "        -8.7388e-02, -3.9789e-02,  1.4184e-02,  2.1187e-01,  2.8579e-01,\n",
              "        -2.8797e-01, -5.8996e-02, -3.2436e-02, -4.7009e-03, -1.7052e-01,\n",
              "        -3.4741e-02, -1.1489e-01,  7.5093e-02,  9.9526e-02,  4.8183e-02,\n",
              "        -7.3775e-02, -4.1817e-01,  4.1268e-03,  4.4414e-01, -1.6062e-01,\n",
              "         1.4294e-01, -2.2628e+00, -2.7347e-02,  8.1311e-01,  7.7417e-01,\n",
              "        -2.5639e-01, -1.1576e-01, -1.1982e-01, -2.1363e-01,  2.8429e-02,\n",
              "         2.7261e-01,  3.1026e-02,  9.6782e-02,  6.7769e-03,  1.4082e-01,\n",
              "        -1.3064e-02, -2.9686e-01, -7.9913e-02,  1.9500e-01,  3.1549e-02,\n",
              "         2.8506e-01, -8.7461e-02,  9.0611e-03, -2.0989e-01,  5.3913e-02])"
            ]
          },
          "metadata": {},
          "execution_count": 22
        }
      ]
    },
    {
      "cell_type": "code",
      "source": [
        "\n",
        "\n",
        "def simple_prep_process( data): ## lowercases, tokenizes, and de-accents the text\n",
        "        return data.apply(lambda x:  gensim.utils.simple_preprocess(x, deacc=True)) ## deacc is true to de-accent\n"
      ],
      "metadata": {
        "id": "T0hUszif5hQC"
      },
      "execution_count": 23,
      "outputs": []
    },
    {
      "cell_type": "code",
      "source": [
        "X_train_processed = simple_prep_process(X_train)"
      ],
      "metadata": {
        "id": "HcF9WlOX5mKj"
      },
      "execution_count": 296,
      "outputs": []
    },
    {
      "cell_type": "code",
      "source": [
        "\n",
        "model = Word2Vec(sentences=X_train_processed, window=5, min_count=1, sg=0, vector_size =300)"
      ],
      "metadata": {
        "id": "VBuxwxYb5pqx"
      },
      "execution_count": 25,
      "outputs": []
    },
    {
      "cell_type": "code",
      "source": [
        "len(model.wv.key_to_index) ##"
      ],
      "metadata": {
        "colab": {
          "base_uri": "https://localhost:8080/"
        },
        "id": "rRB8IaZ55-RY",
        "outputId": "c48b9a98-bd15-46f6-94be-0901103b381f"
      },
      "execution_count": 26,
      "outputs": [
        {
          "output_type": "execute_result",
          "data": {
            "text/plain": [
              "7085"
            ]
          },
          "metadata": {},
          "execution_count": 26
        }
      ]
    },
    {
      "cell_type": "code",
      "source": [
        "model.wv.key_to_index"
      ],
      "metadata": {
        "colab": {
          "base_uri": "https://localhost:8080/"
        },
        "id": "lBYMOtFUD-iF",
        "outputId": "2787c18b-2904-4862-e577-a2f53fe7f71a"
      },
      "execution_count": 136,
      "outputs": [
        {
          "output_type": "execute_result",
          "data": {
            "text/plain": [
              "{'to': 0,\n",
              " 'you': 1,\n",
              " 'the': 2,\n",
              " 'and': 3,\n",
              " 'in': 4,\n",
              " 'is': 5,\n",
              " 'me': 6,\n",
              " 'my': 7,\n",
              " 'it': 8,\n",
              " 'for': 9,\n",
              " 'your': 10,\n",
              " 'call': 11,\n",
              " 'of': 12,\n",
              " 'have': 13,\n",
              " 'that': 14,\n",
              " 'on': 15,\n",
              " 'are': 16,\n",
              " 'now': 17,\n",
              " 'can': 18,\n",
              " 'so': 19,\n",
              " 'but': 20,\n",
              " 'not': 21,\n",
              " 'or': 22,\n",
              " 'we': 23,\n",
              " 'do': 24,\n",
              " 'get': 25,\n",
              " 'at': 26,\n",
              " 'be': 27,\n",
              " 'will': 28,\n",
              " 'ur': 29,\n",
              " 'no': 30,\n",
              " 'if': 31,\n",
              " 'just': 32,\n",
              " 'with': 33,\n",
              " 'this': 34,\n",
              " 'gt': 35,\n",
              " 'lt': 36,\n",
              " 'how': 37,\n",
              " 'up': 38,\n",
              " 'what': 39,\n",
              " 'when': 40,\n",
              " 'free': 41,\n",
              " 'ok': 42,\n",
              " 'from': 43,\n",
              " 'go': 44,\n",
              " 'out': 45,\n",
              " 'all': 46,\n",
              " 'll': 47,\n",
              " 'know': 48,\n",
              " 'then': 49,\n",
              " 'good': 50,\n",
              " 'am': 51,\n",
              " 'got': 52,\n",
              " 'like': 53,\n",
              " 'he': 54,\n",
              " 'come': 55,\n",
              " 'day': 56,\n",
              " 'time': 57,\n",
              " 'was': 58,\n",
              " 'only': 59,\n",
              " 'its': 60,\n",
              " 'love': 61,\n",
              " 'send': 62,\n",
              " 'there': 63,\n",
              " 'text': 64,\n",
              " 'want': 65,\n",
              " 'as': 66,\n",
              " 'txt': 67,\n",
              " 'going': 68,\n",
              " 'need': 69,\n",
              " 'sorry': 70,\n",
              " 'see': 71,\n",
              " 'by': 72,\n",
              " 'stop': 73,\n",
              " 'about': 74,\n",
              " 'lor': 75,\n",
              " 'one': 76,\n",
              " 'home': 77,\n",
              " 'today': 78,\n",
              " 'da': 79,\n",
              " 'don': 80,\n",
              " 'back': 81,\n",
              " 'she': 82,\n",
              " 'still': 83,\n",
              " 'hi': 84,\n",
              " 'our': 85,\n",
              " 'reply': 86,\n",
              " 'mobile': 87,\n",
              " 'dont': 88,\n",
              " 'tell': 89,\n",
              " 'any': 90,\n",
              " 'take': 91,\n",
              " 'pls': 92,\n",
              " 'her': 93,\n",
              " 'think': 94,\n",
              " 'new': 95,\n",
              " 'please': 96,\n",
              " 'later': 97,\n",
              " 'week': 98,\n",
              " 'dear': 99,\n",
              " 'i_': 100,\n",
              " 'they': 101,\n",
              " 'been': 102,\n",
              " 'phone': 103,\n",
              " 'some': 104,\n",
              " 'who': 105,\n",
              " 're': 106,\n",
              " 'night': 107,\n",
              " 'an': 108,\n",
              " 'oh': 109,\n",
              " 'where': 110,\n",
              " 'here': 111,\n",
              " 'hey': 112,\n",
              " 'did': 113,\n",
              " 'well': 114,\n",
              " 'great': 115,\n",
              " 'him': 116,\n",
              " 'much': 117,\n",
              " 'too': 118,\n",
              " 'wat': 119,\n",
              " 'claim': 120,\n",
              " 'msg': 121,\n",
              " 'hope': 122,\n",
              " 'more': 123,\n",
              " 'had': 124,\n",
              " 'has': 125,\n",
              " 'yes': 126,\n",
              " 'make': 127,\n",
              " 'way': 128,\n",
              " 'give': 129,\n",
              " 'message': 130,\n",
              " 'work': 131,\n",
              " 'should': 132,\n",
              " 'say': 133,\n",
              " 'www': 134,\n",
              " 'number': 135,\n",
              " 'doing': 136,\n",
              " 'prize': 137,\n",
              " 'really': 138,\n",
              " 've': 139,\n",
              " 'won': 140,\n",
              " 'already': 141,\n",
              " 'tomorrow': 142,\n",
              " 'them': 143,\n",
              " 'said': 144,\n",
              " 'yeah': 145,\n",
              " 'life': 146,\n",
              " 'happy': 147,\n",
              " 'cash': 148,\n",
              " 'after': 149,\n",
              " 'ask': 150,\n",
              " 'right': 151,\n",
              " 'amp': 152,\n",
              " 'im': 153,\n",
              " 'find': 154,\n",
              " 'babe': 155,\n",
              " 'win': 156,\n",
              " 'meet': 157,\n",
              " 'thanks': 158,\n",
              " 'very': 159,\n",
              " 'morning': 160,\n",
              " 'why': 161,\n",
              " 'com': 162,\n",
              " 'let': 163,\n",
              " 'care': 164,\n",
              " 'would': 165,\n",
              " 'last': 166,\n",
              " 'over': 167,\n",
              " 'min': 168,\n",
              " 'uk': 169,\n",
              " 'sure': 170,\n",
              " 'anything': 171,\n",
              " 'contact': 172,\n",
              " 'pick': 173,\n",
              " 'every': 174,\n",
              " 'sent': 175,\n",
              " 'cos': 176,\n",
              " 'miss': 177,\n",
              " 'again': 178,\n",
              " 'lol': 179,\n",
              " 'soon': 180,\n",
              " 'keep': 181,\n",
              " 'many': 182,\n",
              " 'urgent': 183,\n",
              " 'also': 184,\n",
              " 'buy': 185,\n",
              " 'nokia': 186,\n",
              " 'nice': 187,\n",
              " 'feel': 188,\n",
              " 'were': 189,\n",
              " 'around': 190,\n",
              " 'next': 191,\n",
              " 'which': 192,\n",
              " 'thing': 193,\n",
              " 'something': 194,\n",
              " 'per': 195,\n",
              " 'us': 196,\n",
              " 'ya': 197,\n",
              " 'could': 198,\n",
              " 'first': 199,\n",
              " 'box': 200,\n",
              " 'wait': 201,\n",
              " 'customer': 202,\n",
              " 'before': 203,\n",
              " 'wan': 204,\n",
              " 'help': 205,\n",
              " 'even': 206,\n",
              " 'his': 207,\n",
              " 'sms': 208,\n",
              " 'money': 209,\n",
              " 'cant': 210,\n",
              " 'service': 211,\n",
              " 'gud': 212,\n",
              " 'tone': 213,\n",
              " 'someone': 214,\n",
              " 'other': 215,\n",
              " 'mins': 216,\n",
              " 'tonight': 217,\n",
              " 'st': 218,\n",
              " 'sleep': 219,\n",
              " 'off': 220,\n",
              " 'fine': 221,\n",
              " 'friends': 222,\n",
              " 'late': 223,\n",
              " 'co': 224,\n",
              " 'people': 225,\n",
              " 'down': 226,\n",
              " 'leave': 227,\n",
              " 'best': 228,\n",
              " 'same': 229,\n",
              " 'done': 230,\n",
              " 'chat': 231,\n",
              " 'dun': 232,\n",
              " 'name': 233,\n",
              " 'special': 234,\n",
              " 'pm': 235,\n",
              " 'went': 236,\n",
              " 'always': 237,\n",
              " 'told': 238,\n",
              " 'place': 239,\n",
              " 'guaranteed': 240,\n",
              " 'use': 241,\n",
              " 'heart': 242,\n",
              " 'gonna': 243,\n",
              " 'haha': 244,\n",
              " 'getting': 245,\n",
              " 'smile': 246,\n",
              " 'yet': 247,\n",
              " 'wish': 248,\n",
              " 'year': 249,\n",
              " 'coming': 250,\n",
              " 'ppm': 251,\n",
              " 'days': 252,\n",
              " 'friend': 253,\n",
              " 'may': 254,\n",
              " 'ii': 255,\n",
              " 'meeting': 256,\n",
              " 'hello': 257,\n",
              " 'waiting': 258,\n",
              " 'thk': 259,\n",
              " 'class': 260,\n",
              " 'better': 261,\n",
              " 'didn': 262,\n",
              " 'god': 263,\n",
              " 'trying': 264,\n",
              " 'th': 265,\n",
              " 'live': 266,\n",
              " 'talk': 267,\n",
              " 'holiday': 268,\n",
              " 'thought': 269,\n",
              " 'things': 270,\n",
              " 'person': 271,\n",
              " 'cool': 272,\n",
              " 'draw': 273,\n",
              " 'line': 274,\n",
              " 'enjoy': 275,\n",
              " 'lunch': 276,\n",
              " 'dat': 277,\n",
              " 'long': 278,\n",
              " 'latest': 279,\n",
              " 'man': 280,\n",
              " 'half': 281,\n",
              " 'real': 282,\n",
              " 'finish': 283,\n",
              " 'ready': 284,\n",
              " 'awarded': 285,\n",
              " 'never': 286,\n",
              " 'camera': 287,\n",
              " 'few': 288,\n",
              " 'bit': 289,\n",
              " 'cs': 290,\n",
              " 'eat': 291,\n",
              " 'yo': 292,\n",
              " 'end': 293,\n",
              " 'wk': 294,\n",
              " 'thats': 295,\n",
              " 'chance': 296,\n",
              " 'job': 297,\n",
              " 'having': 298,\n",
              " 'try': 299,\n",
              " 'play': 300,\n",
              " 'lot': 301,\n",
              " 'stuff': 302,\n",
              " 'ill': 303,\n",
              " 'because': 304,\n",
              " 'being': 305,\n",
              " 'yup': 306,\n",
              " 'girl': 307,\n",
              " 'sweet': 308,\n",
              " 'world': 309,\n",
              " 'than': 310,\n",
              " 'jus': 311,\n",
              " 'guess': 312,\n",
              " 'sir': 313,\n",
              " 'birthday': 314,\n",
              " 'start': 315,\n",
              " 'wanna': 316,\n",
              " 'car': 317,\n",
              " 'lar': 318,\n",
              " 'month': 319,\n",
              " 'shit': 320,\n",
              " 'check': 321,\n",
              " 'account': 322,\n",
              " 'pobox': 323,\n",
              " 'two': 324,\n",
              " 'luv': 325,\n",
              " 'guys': 326,\n",
              " 'house': 327,\n",
              " 'nite': 328,\n",
              " 'face': 329,\n",
              " 'landline': 330,\n",
              " 'princess': 331,\n",
              " 'hear': 332,\n",
              " 'big': 333,\n",
              " 'aight': 334,\n",
              " 'video': 335,\n",
              " 'thanx': 336,\n",
              " 'into': 337,\n",
              " 'forgot': 338,\n",
              " 'probably': 339,\n",
              " 'pa': 340,\n",
              " 'watching': 341,\n",
              " 'might': 342,\n",
              " 'nothing': 343,\n",
              " 'bt': 344,\n",
              " 'quite': 345,\n",
              " 'word': 346,\n",
              " 'xxx': 347,\n",
              " 'liao': 348,\n",
              " 'maybe': 349,\n",
              " 'shall': 350,\n",
              " 'tones': 351,\n",
              " 'shopping': 352,\n",
              " 'shows': 353,\n",
              " 'mind': 354,\n",
              " 'problem': 355,\n",
              " 'another': 356,\n",
              " 'ever': 357,\n",
              " 'hrs': 358,\n",
              " 'po': 359,\n",
              " 'early': 360,\n",
              " 'once': 361,\n",
              " 'enough': 362,\n",
              " 'boy': 363,\n",
              " 'left': 364,\n",
              " 'minutes': 365,\n",
              " 'leh': 366,\n",
              " 'dinner': 367,\n",
              " 'ringtone': 368,\n",
              " 'tv': 369,\n",
              " 'those': 370,\n",
              " 'cost': 371,\n",
              " 'receive': 372,\n",
              " 'actually': 373,\n",
              " 'wont': 374,\n",
              " 'kiss': 375,\n",
              " 'weekend': 376,\n",
              " 'look': 377,\n",
              " 'easy': 378,\n",
              " 'bad': 379,\n",
              " 'entry': 380,\n",
              " 'watch': 381,\n",
              " 'ah': 382,\n",
              " 'dis': 383,\n",
              " 'looking': 384,\n",
              " 'between': 385,\n",
              " 'calls': 386,\n",
              " 'dunno': 387,\n",
              " 'age': 388,\n",
              " 'rate': 389,\n",
              " 'orange': 390,\n",
              " 'code': 391,\n",
              " 'does': 392,\n",
              " 'fuck': 393,\n",
              " 'didnt': 394,\n",
              " 'room': 395,\n",
              " 'dad': 396,\n",
              " 'true': 397,\n",
              " 'called': 398,\n",
              " 'offer': 399,\n",
              " 'tmr': 400,\n",
              " 'office': 401,\n",
              " 'hour': 402,\n",
              " 'fun': 403,\n",
              " 'network': 404,\n",
              " 'speak': 405,\n",
              " 'little': 406,\n",
              " 'bus': 407,\n",
              " 'sat': 408,\n",
              " 'nd': 409,\n",
              " 'baby': 410,\n",
              " 'part': 411,\n",
              " 'reach': 412,\n",
              " 'pay': 413,\n",
              " 'den': 414,\n",
              " 'apply': 415,\n",
              " 'collect': 416,\n",
              " 'missed': 417,\n",
              " 'while': 418,\n",
              " 'anyway': 419,\n",
              " 'wot': 420,\n",
              " 'guy': 421,\n",
              " 'wake': 422,\n",
              " 'abt': 423,\n",
              " 'though': 424,\n",
              " 'years': 425,\n",
              " 'asked': 426,\n",
              " 'award': 427,\n",
              " 'town': 428,\n",
              " 'wif': 429,\n",
              " 'gift': 430,\n",
              " 'messages': 431,\n",
              " 'okay': 432,\n",
              " 'until': 433,\n",
              " 'everything': 434,\n",
              " 'texts': 435,\n",
              " 'price': 436,\n",
              " 'says': 437,\n",
              " 'without': 438,\n",
              " 'xx': 439,\n",
              " 'working': 440,\n",
              " 'afternoon': 441,\n",
              " 'put': 442,\n",
              " 'bed': 443,\n",
              " 'made': 444,\n",
              " 'pain': 445,\n",
              " 'join': 446,\n",
              " 'came': 447,\n",
              " 'school': 448,\n",
              " 'plan': 449,\n",
              " 'evening': 450,\n",
              " 'update': 451,\n",
              " 'bring': 452,\n",
              " 'delivery': 453,\n",
              " 'family': 454,\n",
              " 'times': 455,\n",
              " 'mail': 456,\n",
              " 'hav': 457,\n",
              " 'sexy': 458,\n",
              " 'thank': 459,\n",
              " 'haven': 460,\n",
              " 'remember': 461,\n",
              " 'show': 462,\n",
              " 'since': 463,\n",
              " 'valid': 464,\n",
              " 'hot': 465,\n",
              " 'lei': 466,\n",
              " 'goes': 467,\n",
              " 'selected': 468,\n",
              " 'de': 469,\n",
              " 'away': 470,\n",
              " 'havent': 471,\n",
              " 'weekly': 472,\n",
              " 'these': 473,\n",
              " 'details': 474,\n",
              " 'xmas': 475,\n",
              " 'online': 476,\n",
              " 'calling': 477,\n",
              " 'driving': 478,\n",
              " 'decimal': 479,\n",
              " 'most': 480,\n",
              " 'attempt': 481,\n",
              " 'juz': 482,\n",
              " 'must': 483,\n",
              " 'change': 484,\n",
              " 'alright': 485,\n",
              " 'else': 486,\n",
              " 'important': 487,\n",
              " 'plz': 488,\n",
              " 'til': 489,\n",
              " 'till': 490,\n",
              " 'worry': 491,\n",
              " 'set': 492,\n",
              " 'mob': 493,\n",
              " 'colour': 494,\n",
              " 'means': 495,\n",
              " 'game': 496,\n",
              " 'leaving': 497,\n",
              " 'double': 498,\n",
              " 'either': 499,\n",
              " 'feeling': 500,\n",
              " 'words': 501,\n",
              " 'missing': 502,\n",
              " 'coz': 503,\n",
              " 'friendship': 504,\n",
              " 'wanted': 505,\n",
              " 'smiling': 506,\n",
              " 'tried': 507,\n",
              " 'shop': 508,\n",
              " 'answer': 509,\n",
              " 'yourself': 510,\n",
              " 'book': 511,\n",
              " 'collection': 512,\n",
              " 'yours': 513,\n",
              " 'date': 514,\n",
              " 'saw': 515,\n",
              " 'oso': 516,\n",
              " 'ard': 517,\n",
              " 'haf': 518,\n",
              " 'run': 519,\n",
              " 'plus': 520,\n",
              " 'wen': 521,\n",
              " 'goin': 522,\n",
              " 'stay': 523,\n",
              " 'test': 524,\n",
              " 'poly': 525,\n",
              " 'games': 526,\n",
              " 'tot': 527,\n",
              " 'makes': 528,\n",
              " 'address': 529,\n",
              " 'top': 530,\n",
              " 'sad': 531,\n",
              " 'making': 532,\n",
              " 'hair': 533,\n",
              " 'busy': 534,\n",
              " 'bored': 535,\n",
              " 'nt': 536,\n",
              " 'question': 537,\n",
              " 'gr': 538,\n",
              " 'national': 539,\n",
              " 'mean': 540,\n",
              " 'able': 541,\n",
              " 'yesterday': 542,\n",
              " 'simple': 543,\n",
              " 'hurt': 544,\n",
              " 'wid': 545,\n",
              " 'comes': 546,\n",
              " 'hours': 547,\n",
              " 'food': 548,\n",
              " 'mths': 549,\n",
              " 'angry': 550,\n",
              " 'mine': 551,\n",
              " 'dude': 552,\n",
              " 'news': 553,\n",
              " 'aft': 554,\n",
              " 'final': 555,\n",
              " 'points': 556,\n",
              " 'ring': 557,\n",
              " 'optout': 558,\n",
              " 'net': 559,\n",
              " 'msgs': 560,\n",
              " 'id': 561,\n",
              " 'together': 562,\n",
              " 'eve': 563,\n",
              " 'started': 564,\n",
              " 'forget': 565,\n",
              " 'okie': 566,\n",
              " 'club': 567,\n",
              " 'chikku': 568,\n",
              " 'vouchers': 569,\n",
              " 'gd': 570,\n",
              " 'thinking': 571,\n",
              " 'smoke': 572,\n",
              " 'believe': 573,\n",
              " 'music': 574,\n",
              " 'saying': 575,\n",
              " 'todays': 576,\n",
              " 'bonus': 577,\n",
              " 'sleeping': 578,\n",
              " 'trip': 579,\n",
              " 'ltd': 580,\n",
              " 'sae': 581,\n",
              " 'happen': 582,\n",
              " 'walk': 583,\n",
              " 'auction': 584,\n",
              " 'taking': 585,\n",
              " 'sis': 586,\n",
              " 'lose': 587,\n",
              " 'lets': 588,\n",
              " 'congrats': 589,\n",
              " 'both': 590,\n",
              " 'full': 591,\n",
              " 'sun': 592,\n",
              " 'huh': 593,\n",
              " 'alone': 594,\n",
              " 'movie': 595,\n",
              " 'neva': 596,\n",
              " 'info': 597,\n",
              " 'tho': 598,\n",
              " 'pounds': 599,\n",
              " 'everyone': 600,\n",
              " 'private': 601,\n",
              " 'old': 602,\n",
              " 'minute': 603,\n",
              " 'wants': 604,\n",
              " 'break': 605,\n",
              " 'dreams': 606,\n",
              " 'smth': 607,\n",
              " 'beautiful': 608,\n",
              " 'finished': 609,\n",
              " 'carlos': 610,\n",
              " 'http': 611,\n",
              " 'rite': 612,\n",
              " 'pics': 613,\n",
              " 'unsubscribe': 614,\n",
              " 'drink': 615,\n",
              " 'took': 616,\n",
              " 'anytime': 617,\n",
              " 'expires': 618,\n",
              " 'opt': 619,\n",
              " 'each': 620,\n",
              " 'treat': 621,\n",
              " 'rs': 622,\n",
              " 'takes': 623,\n",
              " 'wil': 624,\n",
              " 'touch': 625,\n",
              " 'mum': 626,\n",
              " 'wife': 627,\n",
              " 'decided': 628,\n",
              " 'pub': 629,\n",
              " 'secret': 630,\n",
              " 'wrong': 631,\n",
              " 'email': 632,\n",
              " 'awesome': 633,\n",
              " 'frnd': 634,\n",
              " 'cause': 635,\n",
              " 'choose': 636,\n",
              " 'needs': 637,\n",
              " 'doesn': 638,\n",
              " 'yr': 639,\n",
              " 'knw': 640,\n",
              " 'await': 641,\n",
              " 'oredi': 642,\n",
              " 'wit': 643,\n",
              " 'drop': 644,\n",
              " 'visit': 645,\n",
              " 'second': 646,\n",
              " 'noe': 647,\n",
              " 'company': 648,\n",
              " 'sea': 649,\n",
              " 'whats': 650,\n",
              " 'fucking': 651,\n",
              " 'goodmorning': 652,\n",
              " 'found': 653,\n",
              " 'close': 654,\n",
              " 'fri': 655,\n",
              " 'credit': 656,\n",
              " 'fast': 657,\n",
              " 'tomo': 658,\n",
              " 'card': 659,\n",
              " 'pretty': 660,\n",
              " 'land': 661,\n",
              " 'voucher': 662,\n",
              " 'hard': 663,\n",
              " 'services': 664,\n",
              " 'congratulations': 665,\n",
              " 'drive': 666,\n",
              " 'available': 667,\n",
              " 'crazy': 668,\n",
              " 'open': 669,\n",
              " 'mom': 670,\n",
              " 'u_': 671,\n",
              " 'head': 672,\n",
              " 'sch': 673,\n",
              " 'gbp': 674,\n",
              " 'jay': 675,\n",
              " 'anyone': 676,\n",
              " 'mates': 677,\n",
              " 'hmm': 678,\n",
              " 'project': 679,\n",
              " 'wkly': 680,\n",
              " 'whatever': 681,\n",
              " 'sister': 682,\n",
              " 'tel': 683,\n",
              " 'mu': 684,\n",
              " 'charge': 685,\n",
              " 'bout': 686,\n",
              " 'identifier': 687,\n",
              " 'post': 688,\n",
              " 'gone': 689,\n",
              " 'statement': 690,\n",
              " 'college': 691,\n",
              " 'ten': 692,\n",
              " 'type': 693,\n",
              " 'friday': 694,\n",
              " 'worth': 695,\n",
              " 'welcome': 696,\n",
              " 'happiness': 697,\n",
              " 'telling': 698,\n",
              " 'brother': 699,\n",
              " 'freemsg': 700,\n",
              " 'thinks': 701,\n",
              " 'party': 702,\n",
              " 'hold': 703,\n",
              " 'quiz': 704,\n",
              " 'whole': 705,\n",
              " 'mobileupd': 706,\n",
              " 'winner': 707,\n",
              " 'chennai': 708,\n",
              " 'sounds': 709,\n",
              " 'operator': 710,\n",
              " 'content': 711,\n",
              " 'earlier': 712,\n",
              " 'order': 713,\n",
              " 'outside': 714,\n",
              " 'ago': 715,\n",
              " 'frm': 716,\n",
              " 'hmmm': 717,\n",
              " 'sunday': 718,\n",
              " 'frnds': 719,\n",
              " 'bslvyl': 720,\n",
              " 'hit': 721,\n",
              " 'lesson': 722,\n",
              " 'lots': 723,\n",
              " 'cum': 724,\n",
              " 'suite': 725,\n",
              " 'loving': 726,\n",
              " 'lucky': 727,\n",
              " 'light': 728,\n",
              " 'happened': 729,\n",
              " 'bank': 730,\n",
              " 'used': 731,\n",
              " 'hl': 732,\n",
              " 'mrng': 733,\n",
              " 'ni': 734,\n",
              " 'confirm': 735,\n",
              " 'reveal': 736,\n",
              " 'girls': 737,\n",
              " 'mah': 738,\n",
              " 'currently': 739,\n",
              " 'far': 740,\n",
              " 'camcorder': 741,\n",
              " 'story': 742,\n",
              " 'luck': 743,\n",
              " 'mr': 744,\n",
              " 'prob': 745,\n",
              " 'comp': 746,\n",
              " 'fancy': 747,\n",
              " 'pic': 748,\n",
              " 'listen': 749,\n",
              " 'player': 750,\n",
              " 'stupid': 751,\n",
              " 'hows': 752,\n",
              " 'within': 753,\n",
              " 'sex': 754,\n",
              " 'finally': 755,\n",
              " 'hungry': 756,\n",
              " 'yrs': 757,\n",
              " 'boytoy': 758,\n",
              " 'complimentary': 759,\n",
              " 'dating': 760,\n",
              " 'joy': 761,\n",
              " 'father': 762,\n",
              " 'unlimited': 763,\n",
              " 'read': 764,\n",
              " 'search': 765,\n",
              " 'couple': 766,\n",
              " 'eh': 767,\n",
              " 'na': 768,\n",
              " 'weeks': 769,\n",
              " 'valued': 770,\n",
              " 'kind': 771,\n",
              " 'mobiles': 772,\n",
              " 'row': 773,\n",
              " 'offers': 774,\n",
              " 'computer': 775,\n",
              " 'lost': 776,\n",
              " 'understand': 777,\n",
              " 'march': 778,\n",
              " 'seen': 779,\n",
              " 'sort': 780,\n",
              " 'gotta': 781,\n",
              " 'wow': 782,\n",
              " 'questions': 783,\n",
              " 'ugh': 784,\n",
              " 'blue': 785,\n",
              " 'correct': 786,\n",
              " 'xy': 787,\n",
              " 'song': 788,\n",
              " 'reason': 789,\n",
              " 'small': 790,\n",
              " 'snow': 791,\n",
              " 'un': 792,\n",
              " 'uncle': 793,\n",
              " 'log': 794,\n",
              " 'ipod': 795,\n",
              " 'via': 796,\n",
              " 'phones': 797,\n",
              " 'rental': 798,\n",
              " 'india': 799,\n",
              " 'meant': 800,\n",
              " 'gas': 801,\n",
              " 'seeing': 802,\n",
              " 'paper': 803,\n",
              " 'etc': 804,\n",
              " 'course': 805,\n",
              " 'nope': 806,\n",
              " 'their': 807,\n",
              " 'fr': 808,\n",
              " 'numbers': 809,\n",
              " 'usf': 810,\n",
              " 'muz': 811,\n",
              " 'sending': 812,\n",
              " 'die': 813,\n",
              " 'savamob': 814,\n",
              " 'fone': 815,\n",
              " 'download': 816,\n",
              " 'parents': 817,\n",
              " 'talking': 818,\n",
              " 'dnt': 819,\n",
              " 'case': 820,\n",
              " 'gym': 821,\n",
              " 'mayb': 822,\n",
              " 'hmv': 823,\n",
              " 'txting': 824,\n",
              " 'darren': 825,\n",
              " 'cut': 826,\n",
              " 'ha': 827,\n",
              " 'red': 828,\n",
              " 'sound': 829,\n",
              " 'ans': 830,\n",
              " 'almost': 831,\n",
              " 'comin': 832,\n",
              " 'john': 833,\n",
              " 'lovely': 834,\n",
              " 'darlin': 835,\n",
              " 'bath': 836,\n",
              " 'balance': 837,\n",
              " 'reading': 838,\n",
              " 'side': 839,\n",
              " 'sell': 840,\n",
              " 'enter': 841,\n",
              " 'truth': 842,\n",
              " 'loved': 843,\n",
              " 'ass': 844,\n",
              " 'rply': 845,\n",
              " 'nyt': 846,\n",
              " 'lovable': 847,\n",
              " 'direct': 848,\n",
              " 'rock': 849,\n",
              " 'hw': 850,\n",
              " 'tired': 851,\n",
              " 'motorola': 852,\n",
              " 'wq': 853,\n",
              " 'redeemed': 854,\n",
              " 'grins': 855,\n",
              " 'spend': 856,\n",
              " 'wc': 857,\n",
              " 'drugs': 858,\n",
              " 'admirer': 859,\n",
              " 'slow': 860,\n",
              " 'somewhere': 861,\n",
              " 'extra': 862,\n",
              " 'wasn': 863,\n",
              " 'ac': 864,\n",
              " 'link': 865,\n",
              " 'knows': 866,\n",
              " 'cr': 867,\n",
              " 'bcoz': 868,\n",
              " 'ntt': 869,\n",
              " 'wonder': 870,\n",
              " 'point': 871,\n",
              " 'wonderful': 872,\n",
              " 'figure': 873,\n",
              " 'saturday': 874,\n",
              " 'semester': 875,\n",
              " 'poor': 876,\n",
              " 'custcare': 877,\n",
              " 'support': 878,\n",
              " 'gets': 879,\n",
              " 'own': 880,\n",
              " 'isn': 881,\n",
              " 'tc': 882,\n",
              " 'safe': 883,\n",
              " 'reward': 884,\n",
              " 'whenever': 885,\n",
              " 'wap': 886,\n",
              " 'std': 887,\n",
              " 'sk': 888,\n",
              " 'heard': 889,\n",
              " 'move': 890,\n",
              " 'slowly': 891,\n",
              " 'save': 892,\n",
              " 'press': 893,\n",
              " 'callertune': 894,\n",
              " 'ringtones': 895,\n",
              " 'swing': 896,\n",
              " 'gettin': 897,\n",
              " 'invited': 898,\n",
              " 'laptop': 899,\n",
              " 'charged': 900,\n",
              " 'lands': 901,\n",
              " 'loan': 902,\n",
              " 'months': 903,\n",
              " 'forwarded': 904,\n",
              " 'mate': 905,\n",
              " 'caller': 906,\n",
              " 'area': 907,\n",
              " 'met': 908,\n",
              " 'doesnt': 909,\n",
              " 'cheap': 910,\n",
              " 'plans': 911,\n",
              " 'reaching': 912,\n",
              " 'checking': 913,\n",
              " 'film': 914,\n",
              " 'usual': 915,\n",
              " 'ones': 916,\n",
              " 'dogging': 917,\n",
              " 'ends': 918,\n",
              " 'forever': 919,\n",
              " 'la': 920,\n",
              " 'glad': 921,\n",
              " 'store': 922,\n",
              " 'rain': 923,\n",
              " 'cup': 924,\n",
              " 'rakhesh': 925,\n",
              " 'across': 926,\n",
              " 'voice': 927,\n",
              " 'copy': 928,\n",
              " 'silent': 929,\n",
              " 'excellent': 930,\n",
              " 'discount': 931,\n",
              " 'shower': 932,\n",
              " 'match': 933,\n",
              " 'pass': 934,\n",
              " 'bill': 935,\n",
              " 'sick': 936,\n",
              " 'study': 937,\n",
              " 'cd': 938,\n",
              " 'sony': 939,\n",
              " 'through': 940,\n",
              " 'txts': 941,\n",
              " 'ive': 942,\n",
              " 'accept': 943,\n",
              " 'wondering': 944,\n",
              " 'dead': 945,\n",
              " 'picking': 946,\n",
              " 'least': 947,\n",
              " 'different': 948,\n",
              " 'hospital': 949,\n",
              " 'ish': 950,\n",
              " 'woke': 951,\n",
              " 'energy': 952,\n",
              " 'bb': 953,\n",
              " 'rates': 954,\n",
              " 'flag': 955,\n",
              " 'buying': 956,\n",
              " 'wana': 957,\n",
              " 'blood': 958,\n",
              " 'convey': 959,\n",
              " 'decide': 960,\n",
              " 'noon': 961,\n",
              " 'train': 962,\n",
              " 'somebody': 963,\n",
              " 'getzed': 964,\n",
              " 'using': 965,\n",
              " 'ge': 966,\n",
              " 'charity': 967,\n",
              " 'rest': 968,\n",
              " 'representative': 969,\n",
              " 'crave': 970,\n",
              " 'difficult': 971,\n",
              " 'norm': 972,\n",
              " 'abiola': 973,\n",
              " 'less': 974,\n",
              " 'warm': 975,\n",
              " 'ho': 976,\n",
              " 'terms': 977,\n",
              " 'mm': 978,\n",
              " 'information': 979,\n",
              " 'hee': 980,\n",
              " 'kinda': 981,\n",
              " 'ice': 982,\n",
              " 'moral': 983,\n",
              " 'sometimes': 984,\n",
              " 'monday': 985,\n",
              " 'bak': 986,\n",
              " 'pound': 987,\n",
              " 'short': 988,\n",
              " 'slave': 989,\n",
              " 'quick': 990,\n",
              " 'urself': 991,\n",
              " 'yar': 992,\n",
              " 'clean': 993,\n",
              " 'entitled': 994,\n",
              " 'nah': 995,\n",
              " 'moment': 996,\n",
              " 'library': 997,\n",
              " 'wishing': 998,\n",
              " 'oops': 999,\n",
              " ...}"
            ]
          },
          "metadata": {},
          "execution_count": 136
        }
      ]
    },
    {
      "cell_type": "code",
      "source": [
        "tok = torchtext.data.utils.get_tokenizer(\"basic_english\")"
      ],
      "metadata": {
        "id": "832Gmvg-6ymS"
      },
      "execution_count": 27,
      "outputs": []
    },
    {
      "cell_type": "code",
      "source": [
        "tok(X_train[0])"
      ],
      "metadata": {
        "colab": {
          "base_uri": "https://localhost:8080/"
        },
        "id": "VJu0WZOn6CIw",
        "outputId": "a71dfeb3-f590-40f3-b2ae-c1274d21ecc1"
      },
      "execution_count": 28,
      "outputs": [
        {
          "output_type": "execute_result",
          "data": {
            "text/plain": [
              "['i',\n",
              " 'wan',\n",
              " 'but',\n",
              " 'too',\n",
              " 'early',\n",
              " 'lei',\n",
              " '.',\n",
              " '.',\n",
              " '.',\n",
              " 'me',\n",
              " 'outside',\n",
              " 'now',\n",
              " 'wun',\n",
              " 'b',\n",
              " 'home',\n",
              " 'so',\n",
              " 'early',\n",
              " '.',\n",
              " '.',\n",
              " '.',\n",
              " 'neva',\n",
              " 'mind',\n",
              " 'then',\n",
              " '.',\n",
              " '.',\n",
              " '.']"
            ]
          },
          "metadata": {},
          "execution_count": 28
        }
      ]
    },
    {
      "cell_type": "code",
      "source": [
        "train_vocab = model.wv.key_to_index"
      ],
      "metadata": {
        "id": "An1IWgOU7Bmf"
      },
      "execution_count": 238,
      "outputs": []
    },
    {
      "cell_type": "code",
      "source": [
        "train_vocab"
      ],
      "metadata": {
        "colab": {
          "base_uri": "https://localhost:8080/"
        },
        "id": "rHSbV8k27F9T",
        "outputId": "e58e2f00-1576-4465-8055-9207642ce68b"
      },
      "execution_count": 239,
      "outputs": [
        {
          "output_type": "execute_result",
          "data": {
            "text/plain": [
              "{'to': 0,\n",
              " 'you': 1,\n",
              " 'the': 2,\n",
              " 'and': 3,\n",
              " 'in': 4,\n",
              " 'is': 5,\n",
              " 'me': 6,\n",
              " 'my': 7,\n",
              " 'it': 8,\n",
              " 'for': 9,\n",
              " 'your': 10,\n",
              " 'call': 11,\n",
              " 'of': 12,\n",
              " 'have': 13,\n",
              " 'that': 14,\n",
              " 'on': 15,\n",
              " 'are': 16,\n",
              " 'now': 17,\n",
              " 'can': 18,\n",
              " 'so': 19,\n",
              " 'but': 20,\n",
              " 'not': 21,\n",
              " 'or': 22,\n",
              " 'we': 23,\n",
              " 'do': 24,\n",
              " 'get': 25,\n",
              " 'at': 26,\n",
              " 'be': 27,\n",
              " 'will': 28,\n",
              " 'ur': 29,\n",
              " 'no': 30,\n",
              " 'if': 31,\n",
              " 'just': 32,\n",
              " 'with': 33,\n",
              " 'this': 34,\n",
              " 'gt': 35,\n",
              " 'lt': 36,\n",
              " 'how': 37,\n",
              " 'up': 38,\n",
              " 'what': 39,\n",
              " 'when': 40,\n",
              " 'free': 41,\n",
              " 'ok': 42,\n",
              " 'from': 43,\n",
              " 'go': 44,\n",
              " 'out': 45,\n",
              " 'all': 46,\n",
              " 'll': 47,\n",
              " 'know': 48,\n",
              " 'then': 49,\n",
              " 'good': 50,\n",
              " 'am': 51,\n",
              " 'got': 52,\n",
              " 'like': 53,\n",
              " 'he': 54,\n",
              " 'come': 55,\n",
              " 'day': 56,\n",
              " 'time': 57,\n",
              " 'was': 58,\n",
              " 'only': 59,\n",
              " 'its': 60,\n",
              " 'love': 61,\n",
              " 'send': 62,\n",
              " 'there': 63,\n",
              " 'text': 64,\n",
              " 'want': 65,\n",
              " 'as': 66,\n",
              " 'txt': 67,\n",
              " 'going': 68,\n",
              " 'need': 69,\n",
              " 'sorry': 70,\n",
              " 'see': 71,\n",
              " 'by': 72,\n",
              " 'stop': 73,\n",
              " 'about': 74,\n",
              " 'lor': 75,\n",
              " 'one': 76,\n",
              " 'home': 77,\n",
              " 'today': 78,\n",
              " 'da': 79,\n",
              " 'don': 80,\n",
              " 'back': 81,\n",
              " 'she': 82,\n",
              " 'still': 83,\n",
              " 'hi': 84,\n",
              " 'our': 85,\n",
              " 'reply': 86,\n",
              " 'mobile': 87,\n",
              " 'dont': 88,\n",
              " 'tell': 89,\n",
              " 'any': 90,\n",
              " 'take': 91,\n",
              " 'pls': 92,\n",
              " 'her': 93,\n",
              " 'think': 94,\n",
              " 'new': 95,\n",
              " 'please': 96,\n",
              " 'later': 97,\n",
              " 'week': 98,\n",
              " 'dear': 99,\n",
              " 'i_': 100,\n",
              " 'they': 101,\n",
              " 'been': 102,\n",
              " 'phone': 103,\n",
              " 'some': 104,\n",
              " 'who': 105,\n",
              " 're': 106,\n",
              " 'night': 107,\n",
              " 'an': 108,\n",
              " 'oh': 109,\n",
              " 'where': 110,\n",
              " 'here': 111,\n",
              " 'hey': 112,\n",
              " 'did': 113,\n",
              " 'well': 114,\n",
              " 'great': 115,\n",
              " 'him': 116,\n",
              " 'much': 117,\n",
              " 'too': 118,\n",
              " 'wat': 119,\n",
              " 'claim': 120,\n",
              " 'msg': 121,\n",
              " 'hope': 122,\n",
              " 'more': 123,\n",
              " 'had': 124,\n",
              " 'has': 125,\n",
              " 'yes': 126,\n",
              " 'make': 127,\n",
              " 'way': 128,\n",
              " 'give': 129,\n",
              " 'message': 130,\n",
              " 'work': 131,\n",
              " 'should': 132,\n",
              " 'say': 133,\n",
              " 'www': 134,\n",
              " 'number': 135,\n",
              " 'doing': 136,\n",
              " 'prize': 137,\n",
              " 'really': 138,\n",
              " 've': 139,\n",
              " 'won': 140,\n",
              " 'already': 141,\n",
              " 'tomorrow': 142,\n",
              " 'them': 143,\n",
              " 'said': 144,\n",
              " 'yeah': 145,\n",
              " 'life': 146,\n",
              " 'happy': 147,\n",
              " 'cash': 148,\n",
              " 'after': 149,\n",
              " 'ask': 150,\n",
              " 'right': 151,\n",
              " 'amp': 152,\n",
              " 'im': 153,\n",
              " 'find': 154,\n",
              " 'babe': 155,\n",
              " 'win': 156,\n",
              " 'meet': 157,\n",
              " 'thanks': 158,\n",
              " 'very': 159,\n",
              " 'morning': 160,\n",
              " 'why': 161,\n",
              " 'com': 162,\n",
              " 'let': 163,\n",
              " 'care': 164,\n",
              " 'would': 165,\n",
              " 'last': 166,\n",
              " 'over': 167,\n",
              " 'min': 168,\n",
              " 'uk': 169,\n",
              " 'sure': 170,\n",
              " 'anything': 171,\n",
              " 'contact': 172,\n",
              " 'pick': 173,\n",
              " 'every': 174,\n",
              " 'sent': 175,\n",
              " 'cos': 176,\n",
              " 'miss': 177,\n",
              " 'again': 178,\n",
              " 'lol': 179,\n",
              " 'soon': 180,\n",
              " 'keep': 181,\n",
              " 'many': 182,\n",
              " 'urgent': 183,\n",
              " 'also': 184,\n",
              " 'buy': 185,\n",
              " 'nokia': 186,\n",
              " 'nice': 187,\n",
              " 'feel': 188,\n",
              " 'were': 189,\n",
              " 'around': 190,\n",
              " 'next': 191,\n",
              " 'which': 192,\n",
              " 'thing': 193,\n",
              " 'something': 194,\n",
              " 'per': 195,\n",
              " 'us': 196,\n",
              " 'ya': 197,\n",
              " 'could': 198,\n",
              " 'first': 199,\n",
              " 'box': 200,\n",
              " 'wait': 201,\n",
              " 'customer': 202,\n",
              " 'before': 203,\n",
              " 'wan': 204,\n",
              " 'help': 205,\n",
              " 'even': 206,\n",
              " 'his': 207,\n",
              " 'sms': 208,\n",
              " 'money': 209,\n",
              " 'cant': 210,\n",
              " 'service': 211,\n",
              " 'gud': 212,\n",
              " 'tone': 213,\n",
              " 'someone': 214,\n",
              " 'other': 215,\n",
              " 'mins': 216,\n",
              " 'tonight': 217,\n",
              " 'st': 218,\n",
              " 'sleep': 219,\n",
              " 'off': 220,\n",
              " 'fine': 221,\n",
              " 'friends': 222,\n",
              " 'late': 223,\n",
              " 'co': 224,\n",
              " 'people': 225,\n",
              " 'down': 226,\n",
              " 'leave': 227,\n",
              " 'best': 228,\n",
              " 'same': 229,\n",
              " 'done': 230,\n",
              " 'chat': 231,\n",
              " 'dun': 232,\n",
              " 'name': 233,\n",
              " 'special': 234,\n",
              " 'pm': 235,\n",
              " 'went': 236,\n",
              " 'always': 237,\n",
              " 'told': 238,\n",
              " 'place': 239,\n",
              " 'guaranteed': 240,\n",
              " 'use': 241,\n",
              " 'heart': 242,\n",
              " 'gonna': 243,\n",
              " 'haha': 244,\n",
              " 'getting': 245,\n",
              " 'smile': 246,\n",
              " 'yet': 247,\n",
              " 'wish': 248,\n",
              " 'year': 249,\n",
              " 'coming': 250,\n",
              " 'ppm': 251,\n",
              " 'days': 252,\n",
              " 'friend': 253,\n",
              " 'may': 254,\n",
              " 'ii': 255,\n",
              " 'meeting': 256,\n",
              " 'hello': 257,\n",
              " 'waiting': 258,\n",
              " 'thk': 259,\n",
              " 'class': 260,\n",
              " 'better': 261,\n",
              " 'didn': 262,\n",
              " 'god': 263,\n",
              " 'trying': 264,\n",
              " 'th': 265,\n",
              " 'live': 266,\n",
              " 'talk': 267,\n",
              " 'holiday': 268,\n",
              " 'thought': 269,\n",
              " 'things': 270,\n",
              " 'person': 271,\n",
              " 'cool': 272,\n",
              " 'draw': 273,\n",
              " 'line': 274,\n",
              " 'enjoy': 275,\n",
              " 'lunch': 276,\n",
              " 'dat': 277,\n",
              " 'long': 278,\n",
              " 'latest': 279,\n",
              " 'man': 280,\n",
              " 'half': 281,\n",
              " 'real': 282,\n",
              " 'finish': 283,\n",
              " 'ready': 284,\n",
              " 'awarded': 285,\n",
              " 'never': 286,\n",
              " 'camera': 287,\n",
              " 'few': 288,\n",
              " 'bit': 289,\n",
              " 'cs': 290,\n",
              " 'eat': 291,\n",
              " 'yo': 292,\n",
              " 'end': 293,\n",
              " 'wk': 294,\n",
              " 'thats': 295,\n",
              " 'chance': 296,\n",
              " 'job': 297,\n",
              " 'having': 298,\n",
              " 'try': 299,\n",
              " 'play': 300,\n",
              " 'lot': 301,\n",
              " 'stuff': 302,\n",
              " 'ill': 303,\n",
              " 'because': 304,\n",
              " 'being': 305,\n",
              " 'yup': 306,\n",
              " 'girl': 307,\n",
              " 'sweet': 308,\n",
              " 'world': 309,\n",
              " 'than': 310,\n",
              " 'jus': 311,\n",
              " 'guess': 312,\n",
              " 'sir': 313,\n",
              " 'birthday': 314,\n",
              " 'start': 315,\n",
              " 'wanna': 316,\n",
              " 'car': 317,\n",
              " 'lar': 318,\n",
              " 'month': 319,\n",
              " 'shit': 320,\n",
              " 'check': 321,\n",
              " 'account': 322,\n",
              " 'pobox': 323,\n",
              " 'two': 324,\n",
              " 'luv': 325,\n",
              " 'guys': 326,\n",
              " 'house': 327,\n",
              " 'nite': 328,\n",
              " 'face': 329,\n",
              " 'landline': 330,\n",
              " 'princess': 331,\n",
              " 'hear': 332,\n",
              " 'big': 333,\n",
              " 'aight': 334,\n",
              " 'video': 335,\n",
              " 'thanx': 336,\n",
              " 'into': 337,\n",
              " 'forgot': 338,\n",
              " 'probably': 339,\n",
              " 'pa': 340,\n",
              " 'watching': 341,\n",
              " 'might': 342,\n",
              " 'nothing': 343,\n",
              " 'bt': 344,\n",
              " 'quite': 345,\n",
              " 'word': 346,\n",
              " 'xxx': 347,\n",
              " 'liao': 348,\n",
              " 'maybe': 349,\n",
              " 'shall': 350,\n",
              " 'tones': 351,\n",
              " 'shopping': 352,\n",
              " 'shows': 353,\n",
              " 'mind': 354,\n",
              " 'problem': 355,\n",
              " 'another': 356,\n",
              " 'ever': 357,\n",
              " 'hrs': 358,\n",
              " 'po': 359,\n",
              " 'early': 360,\n",
              " 'once': 361,\n",
              " 'enough': 362,\n",
              " 'boy': 363,\n",
              " 'left': 364,\n",
              " 'minutes': 365,\n",
              " 'leh': 366,\n",
              " 'dinner': 367,\n",
              " 'ringtone': 368,\n",
              " 'tv': 369,\n",
              " 'those': 370,\n",
              " 'cost': 371,\n",
              " 'receive': 372,\n",
              " 'actually': 373,\n",
              " 'wont': 374,\n",
              " 'kiss': 375,\n",
              " 'weekend': 376,\n",
              " 'look': 377,\n",
              " 'easy': 378,\n",
              " 'bad': 379,\n",
              " 'entry': 380,\n",
              " 'watch': 381,\n",
              " 'ah': 382,\n",
              " 'dis': 383,\n",
              " 'looking': 384,\n",
              " 'between': 385,\n",
              " 'calls': 386,\n",
              " 'dunno': 387,\n",
              " 'age': 388,\n",
              " 'rate': 389,\n",
              " 'orange': 390,\n",
              " 'code': 391,\n",
              " 'does': 392,\n",
              " 'fuck': 393,\n",
              " 'didnt': 394,\n",
              " 'room': 395,\n",
              " 'dad': 396,\n",
              " 'true': 397,\n",
              " 'called': 398,\n",
              " 'offer': 399,\n",
              " 'tmr': 400,\n",
              " 'office': 401,\n",
              " 'hour': 402,\n",
              " 'fun': 403,\n",
              " 'network': 404,\n",
              " 'speak': 405,\n",
              " 'little': 406,\n",
              " 'bus': 407,\n",
              " 'sat': 408,\n",
              " 'nd': 409,\n",
              " 'baby': 410,\n",
              " 'part': 411,\n",
              " 'reach': 412,\n",
              " 'pay': 413,\n",
              " 'den': 414,\n",
              " 'apply': 415,\n",
              " 'collect': 416,\n",
              " 'missed': 417,\n",
              " 'while': 418,\n",
              " 'anyway': 419,\n",
              " 'wot': 420,\n",
              " 'guy': 421,\n",
              " 'wake': 422,\n",
              " 'abt': 423,\n",
              " 'though': 424,\n",
              " 'years': 425,\n",
              " 'asked': 426,\n",
              " 'award': 427,\n",
              " 'town': 428,\n",
              " 'wif': 429,\n",
              " 'gift': 430,\n",
              " 'messages': 431,\n",
              " 'okay': 432,\n",
              " 'until': 433,\n",
              " 'everything': 434,\n",
              " 'texts': 435,\n",
              " 'price': 436,\n",
              " 'says': 437,\n",
              " 'without': 438,\n",
              " 'xx': 439,\n",
              " 'working': 440,\n",
              " 'afternoon': 441,\n",
              " 'put': 442,\n",
              " 'bed': 443,\n",
              " 'made': 444,\n",
              " 'pain': 445,\n",
              " 'join': 446,\n",
              " 'came': 447,\n",
              " 'school': 448,\n",
              " 'plan': 449,\n",
              " 'evening': 450,\n",
              " 'update': 451,\n",
              " 'bring': 452,\n",
              " 'delivery': 453,\n",
              " 'family': 454,\n",
              " 'times': 455,\n",
              " 'mail': 456,\n",
              " 'hav': 457,\n",
              " 'sexy': 458,\n",
              " 'thank': 459,\n",
              " 'haven': 460,\n",
              " 'remember': 461,\n",
              " 'show': 462,\n",
              " 'since': 463,\n",
              " 'valid': 464,\n",
              " 'hot': 465,\n",
              " 'lei': 466,\n",
              " 'goes': 467,\n",
              " 'selected': 468,\n",
              " 'de': 469,\n",
              " 'away': 470,\n",
              " 'havent': 471,\n",
              " 'weekly': 472,\n",
              " 'these': 473,\n",
              " 'details': 474,\n",
              " 'xmas': 475,\n",
              " 'online': 476,\n",
              " 'calling': 477,\n",
              " 'driving': 478,\n",
              " 'decimal': 479,\n",
              " 'most': 480,\n",
              " 'attempt': 481,\n",
              " 'juz': 482,\n",
              " 'must': 483,\n",
              " 'change': 484,\n",
              " 'alright': 485,\n",
              " 'else': 486,\n",
              " 'important': 487,\n",
              " 'plz': 488,\n",
              " 'til': 489,\n",
              " 'till': 490,\n",
              " 'worry': 491,\n",
              " 'set': 492,\n",
              " 'mob': 493,\n",
              " 'colour': 494,\n",
              " 'means': 495,\n",
              " 'game': 496,\n",
              " 'leaving': 497,\n",
              " 'double': 498,\n",
              " 'either': 499,\n",
              " 'feeling': 500,\n",
              " 'words': 501,\n",
              " 'missing': 502,\n",
              " 'coz': 503,\n",
              " 'friendship': 504,\n",
              " 'wanted': 505,\n",
              " 'smiling': 506,\n",
              " 'tried': 507,\n",
              " 'shop': 508,\n",
              " 'answer': 509,\n",
              " 'yourself': 510,\n",
              " 'book': 511,\n",
              " 'collection': 512,\n",
              " 'yours': 513,\n",
              " 'date': 514,\n",
              " 'saw': 515,\n",
              " 'oso': 516,\n",
              " 'ard': 517,\n",
              " 'haf': 518,\n",
              " 'run': 519,\n",
              " 'plus': 520,\n",
              " 'wen': 521,\n",
              " 'goin': 522,\n",
              " 'stay': 523,\n",
              " 'test': 524,\n",
              " 'poly': 525,\n",
              " 'games': 526,\n",
              " 'tot': 527,\n",
              " 'makes': 528,\n",
              " 'address': 529,\n",
              " 'top': 530,\n",
              " 'sad': 531,\n",
              " 'making': 532,\n",
              " 'hair': 533,\n",
              " 'busy': 534,\n",
              " 'bored': 535,\n",
              " 'nt': 536,\n",
              " 'question': 537,\n",
              " 'gr': 538,\n",
              " 'national': 539,\n",
              " 'mean': 540,\n",
              " 'able': 541,\n",
              " 'yesterday': 542,\n",
              " 'simple': 543,\n",
              " 'hurt': 544,\n",
              " 'wid': 545,\n",
              " 'comes': 546,\n",
              " 'hours': 547,\n",
              " 'food': 548,\n",
              " 'mths': 549,\n",
              " 'angry': 550,\n",
              " 'mine': 551,\n",
              " 'dude': 552,\n",
              " 'news': 553,\n",
              " 'aft': 554,\n",
              " 'final': 555,\n",
              " 'points': 556,\n",
              " 'ring': 557,\n",
              " 'optout': 558,\n",
              " 'net': 559,\n",
              " 'msgs': 560,\n",
              " 'id': 561,\n",
              " 'together': 562,\n",
              " 'eve': 563,\n",
              " 'started': 564,\n",
              " 'forget': 565,\n",
              " 'okie': 566,\n",
              " 'club': 567,\n",
              " 'chikku': 568,\n",
              " 'vouchers': 569,\n",
              " 'gd': 570,\n",
              " 'thinking': 571,\n",
              " 'smoke': 572,\n",
              " 'believe': 573,\n",
              " 'music': 574,\n",
              " 'saying': 575,\n",
              " 'todays': 576,\n",
              " 'bonus': 577,\n",
              " 'sleeping': 578,\n",
              " 'trip': 579,\n",
              " 'ltd': 580,\n",
              " 'sae': 581,\n",
              " 'happen': 582,\n",
              " 'walk': 583,\n",
              " 'auction': 584,\n",
              " 'taking': 585,\n",
              " 'sis': 586,\n",
              " 'lose': 587,\n",
              " 'lets': 588,\n",
              " 'congrats': 589,\n",
              " 'both': 590,\n",
              " 'full': 591,\n",
              " 'sun': 592,\n",
              " 'huh': 593,\n",
              " 'alone': 594,\n",
              " 'movie': 595,\n",
              " 'neva': 596,\n",
              " 'info': 597,\n",
              " 'tho': 598,\n",
              " 'pounds': 599,\n",
              " 'everyone': 600,\n",
              " 'private': 601,\n",
              " 'old': 602,\n",
              " 'minute': 603,\n",
              " 'wants': 604,\n",
              " 'break': 605,\n",
              " 'dreams': 606,\n",
              " 'smth': 607,\n",
              " 'beautiful': 608,\n",
              " 'finished': 609,\n",
              " 'carlos': 610,\n",
              " 'http': 611,\n",
              " 'rite': 612,\n",
              " 'pics': 613,\n",
              " 'unsubscribe': 614,\n",
              " 'drink': 615,\n",
              " 'took': 616,\n",
              " 'anytime': 617,\n",
              " 'expires': 618,\n",
              " 'opt': 619,\n",
              " 'each': 620,\n",
              " 'treat': 621,\n",
              " 'rs': 622,\n",
              " 'takes': 623,\n",
              " 'wil': 624,\n",
              " 'touch': 625,\n",
              " 'mum': 626,\n",
              " 'wife': 627,\n",
              " 'decided': 628,\n",
              " 'pub': 629,\n",
              " 'secret': 630,\n",
              " 'wrong': 631,\n",
              " 'email': 632,\n",
              " 'awesome': 633,\n",
              " 'frnd': 634,\n",
              " 'cause': 635,\n",
              " 'choose': 636,\n",
              " 'needs': 637,\n",
              " 'doesn': 638,\n",
              " 'yr': 639,\n",
              " 'knw': 640,\n",
              " 'await': 641,\n",
              " 'oredi': 642,\n",
              " 'wit': 643,\n",
              " 'drop': 644,\n",
              " 'visit': 645,\n",
              " 'second': 646,\n",
              " 'noe': 647,\n",
              " 'company': 648,\n",
              " 'sea': 649,\n",
              " 'whats': 650,\n",
              " 'fucking': 651,\n",
              " 'goodmorning': 652,\n",
              " 'found': 653,\n",
              " 'close': 654,\n",
              " 'fri': 655,\n",
              " 'credit': 656,\n",
              " 'fast': 657,\n",
              " 'tomo': 658,\n",
              " 'card': 659,\n",
              " 'pretty': 660,\n",
              " 'land': 661,\n",
              " 'voucher': 662,\n",
              " 'hard': 663,\n",
              " 'services': 664,\n",
              " 'congratulations': 665,\n",
              " 'drive': 666,\n",
              " 'available': 667,\n",
              " 'crazy': 668,\n",
              " 'open': 669,\n",
              " 'mom': 670,\n",
              " 'u_': 671,\n",
              " 'head': 672,\n",
              " 'sch': 673,\n",
              " 'gbp': 674,\n",
              " 'jay': 675,\n",
              " 'anyone': 676,\n",
              " 'mates': 677,\n",
              " 'hmm': 678,\n",
              " 'project': 679,\n",
              " 'wkly': 680,\n",
              " 'whatever': 681,\n",
              " 'sister': 682,\n",
              " 'tel': 683,\n",
              " 'mu': 684,\n",
              " 'charge': 685,\n",
              " 'bout': 686,\n",
              " 'identifier': 687,\n",
              " 'post': 688,\n",
              " 'gone': 689,\n",
              " 'statement': 690,\n",
              " 'college': 691,\n",
              " 'ten': 692,\n",
              " 'type': 693,\n",
              " 'friday': 694,\n",
              " 'worth': 695,\n",
              " 'welcome': 696,\n",
              " 'happiness': 697,\n",
              " 'telling': 698,\n",
              " 'brother': 699,\n",
              " 'freemsg': 700,\n",
              " 'thinks': 701,\n",
              " 'party': 702,\n",
              " 'hold': 703,\n",
              " 'quiz': 704,\n",
              " 'whole': 705,\n",
              " 'mobileupd': 706,\n",
              " 'winner': 707,\n",
              " 'chennai': 708,\n",
              " 'sounds': 709,\n",
              " 'operator': 710,\n",
              " 'content': 711,\n",
              " 'earlier': 712,\n",
              " 'order': 713,\n",
              " 'outside': 714,\n",
              " 'ago': 715,\n",
              " 'frm': 716,\n",
              " 'hmmm': 717,\n",
              " 'sunday': 718,\n",
              " 'frnds': 719,\n",
              " 'bslvyl': 720,\n",
              " 'hit': 721,\n",
              " 'lesson': 722,\n",
              " 'lots': 723,\n",
              " 'cum': 724,\n",
              " 'suite': 725,\n",
              " 'loving': 726,\n",
              " 'lucky': 727,\n",
              " 'light': 728,\n",
              " 'happened': 729,\n",
              " 'bank': 730,\n",
              " 'used': 731,\n",
              " 'hl': 732,\n",
              " 'mrng': 733,\n",
              " 'ni': 734,\n",
              " 'confirm': 735,\n",
              " 'reveal': 736,\n",
              " 'girls': 737,\n",
              " 'mah': 738,\n",
              " 'currently': 739,\n",
              " 'far': 740,\n",
              " 'camcorder': 741,\n",
              " 'story': 742,\n",
              " 'luck': 743,\n",
              " 'mr': 744,\n",
              " 'prob': 745,\n",
              " 'comp': 746,\n",
              " 'fancy': 747,\n",
              " 'pic': 748,\n",
              " 'listen': 749,\n",
              " 'player': 750,\n",
              " 'stupid': 751,\n",
              " 'hows': 752,\n",
              " 'within': 753,\n",
              " 'sex': 754,\n",
              " 'finally': 755,\n",
              " 'hungry': 756,\n",
              " 'yrs': 757,\n",
              " 'boytoy': 758,\n",
              " 'complimentary': 759,\n",
              " 'dating': 760,\n",
              " 'joy': 761,\n",
              " 'father': 762,\n",
              " 'unlimited': 763,\n",
              " 'read': 764,\n",
              " 'search': 765,\n",
              " 'couple': 766,\n",
              " 'eh': 767,\n",
              " 'na': 768,\n",
              " 'weeks': 769,\n",
              " 'valued': 770,\n",
              " 'kind': 771,\n",
              " 'mobiles': 772,\n",
              " 'row': 773,\n",
              " 'offers': 774,\n",
              " 'computer': 775,\n",
              " 'lost': 776,\n",
              " 'understand': 777,\n",
              " 'march': 778,\n",
              " 'seen': 779,\n",
              " 'sort': 780,\n",
              " 'gotta': 781,\n",
              " 'wow': 782,\n",
              " 'questions': 783,\n",
              " 'ugh': 784,\n",
              " 'blue': 785,\n",
              " 'correct': 786,\n",
              " 'xy': 787,\n",
              " 'song': 788,\n",
              " 'reason': 789,\n",
              " 'small': 790,\n",
              " 'snow': 791,\n",
              " 'un': 792,\n",
              " 'uncle': 793,\n",
              " 'log': 794,\n",
              " 'ipod': 795,\n",
              " 'via': 796,\n",
              " 'phones': 797,\n",
              " 'rental': 798,\n",
              " 'india': 799,\n",
              " 'meant': 800,\n",
              " 'gas': 801,\n",
              " 'seeing': 802,\n",
              " 'paper': 803,\n",
              " 'etc': 804,\n",
              " 'course': 805,\n",
              " 'nope': 806,\n",
              " 'their': 807,\n",
              " 'fr': 808,\n",
              " 'numbers': 809,\n",
              " 'usf': 810,\n",
              " 'muz': 811,\n",
              " 'sending': 812,\n",
              " 'die': 813,\n",
              " 'savamob': 814,\n",
              " 'fone': 815,\n",
              " 'download': 816,\n",
              " 'parents': 817,\n",
              " 'talking': 818,\n",
              " 'dnt': 819,\n",
              " 'case': 820,\n",
              " 'gym': 821,\n",
              " 'mayb': 822,\n",
              " 'hmv': 823,\n",
              " 'txting': 824,\n",
              " 'darren': 825,\n",
              " 'cut': 826,\n",
              " 'ha': 827,\n",
              " 'red': 828,\n",
              " 'sound': 829,\n",
              " 'ans': 830,\n",
              " 'almost': 831,\n",
              " 'comin': 832,\n",
              " 'john': 833,\n",
              " 'lovely': 834,\n",
              " 'darlin': 835,\n",
              " 'bath': 836,\n",
              " 'balance': 837,\n",
              " 'reading': 838,\n",
              " 'side': 839,\n",
              " 'sell': 840,\n",
              " 'enter': 841,\n",
              " 'truth': 842,\n",
              " 'loved': 843,\n",
              " 'ass': 844,\n",
              " 'rply': 845,\n",
              " 'nyt': 846,\n",
              " 'lovable': 847,\n",
              " 'direct': 848,\n",
              " 'rock': 849,\n",
              " 'hw': 850,\n",
              " 'tired': 851,\n",
              " 'motorola': 852,\n",
              " 'wq': 853,\n",
              " 'redeemed': 854,\n",
              " 'grins': 855,\n",
              " 'spend': 856,\n",
              " 'wc': 857,\n",
              " 'drugs': 858,\n",
              " 'admirer': 859,\n",
              " 'slow': 860,\n",
              " 'somewhere': 861,\n",
              " 'extra': 862,\n",
              " 'wasn': 863,\n",
              " 'ac': 864,\n",
              " 'link': 865,\n",
              " 'knows': 866,\n",
              " 'cr': 867,\n",
              " 'bcoz': 868,\n",
              " 'ntt': 869,\n",
              " 'wonder': 870,\n",
              " 'point': 871,\n",
              " 'wonderful': 872,\n",
              " 'figure': 873,\n",
              " 'saturday': 874,\n",
              " 'semester': 875,\n",
              " 'poor': 876,\n",
              " 'custcare': 877,\n",
              " 'support': 878,\n",
              " 'gets': 879,\n",
              " 'own': 880,\n",
              " 'isn': 881,\n",
              " 'tc': 882,\n",
              " 'safe': 883,\n",
              " 'reward': 884,\n",
              " 'whenever': 885,\n",
              " 'wap': 886,\n",
              " 'std': 887,\n",
              " 'sk': 888,\n",
              " 'heard': 889,\n",
              " 'move': 890,\n",
              " 'slowly': 891,\n",
              " 'save': 892,\n",
              " 'press': 893,\n",
              " 'callertune': 894,\n",
              " 'ringtones': 895,\n",
              " 'swing': 896,\n",
              " 'gettin': 897,\n",
              " 'invited': 898,\n",
              " 'laptop': 899,\n",
              " 'charged': 900,\n",
              " 'lands': 901,\n",
              " 'loan': 902,\n",
              " 'months': 903,\n",
              " 'forwarded': 904,\n",
              " 'mate': 905,\n",
              " 'caller': 906,\n",
              " 'area': 907,\n",
              " 'met': 908,\n",
              " 'doesnt': 909,\n",
              " 'cheap': 910,\n",
              " 'plans': 911,\n",
              " 'reaching': 912,\n",
              " 'checking': 913,\n",
              " 'film': 914,\n",
              " 'usual': 915,\n",
              " 'ones': 916,\n",
              " 'dogging': 917,\n",
              " 'ends': 918,\n",
              " 'forever': 919,\n",
              " 'la': 920,\n",
              " 'glad': 921,\n",
              " 'store': 922,\n",
              " 'rain': 923,\n",
              " 'cup': 924,\n",
              " 'rakhesh': 925,\n",
              " 'across': 926,\n",
              " 'voice': 927,\n",
              " 'copy': 928,\n",
              " 'silent': 929,\n",
              " 'excellent': 930,\n",
              " 'discount': 931,\n",
              " 'shower': 932,\n",
              " 'match': 933,\n",
              " 'pass': 934,\n",
              " 'bill': 935,\n",
              " 'sick': 936,\n",
              " 'study': 937,\n",
              " 'cd': 938,\n",
              " 'sony': 939,\n",
              " 'through': 940,\n",
              " 'txts': 941,\n",
              " 'ive': 942,\n",
              " 'accept': 943,\n",
              " 'wondering': 944,\n",
              " 'dead': 945,\n",
              " 'picking': 946,\n",
              " 'least': 947,\n",
              " 'different': 948,\n",
              " 'hospital': 949,\n",
              " 'ish': 950,\n",
              " 'woke': 951,\n",
              " 'energy': 952,\n",
              " 'bb': 953,\n",
              " 'rates': 954,\n",
              " 'flag': 955,\n",
              " 'buying': 956,\n",
              " 'wana': 957,\n",
              " 'blood': 958,\n",
              " 'convey': 959,\n",
              " 'decide': 960,\n",
              " 'noon': 961,\n",
              " 'train': 962,\n",
              " 'somebody': 963,\n",
              " 'getzed': 964,\n",
              " 'using': 965,\n",
              " 'ge': 966,\n",
              " 'charity': 967,\n",
              " 'rest': 968,\n",
              " 'representative': 969,\n",
              " 'crave': 970,\n",
              " 'difficult': 971,\n",
              " 'norm': 972,\n",
              " 'abiola': 973,\n",
              " 'less': 974,\n",
              " 'warm': 975,\n",
              " 'ho': 976,\n",
              " 'terms': 977,\n",
              " 'mm': 978,\n",
              " 'information': 979,\n",
              " 'hee': 980,\n",
              " 'kinda': 981,\n",
              " 'ice': 982,\n",
              " 'moral': 983,\n",
              " 'sometimes': 984,\n",
              " 'monday': 985,\n",
              " 'bak': 986,\n",
              " 'pound': 987,\n",
              " 'short': 988,\n",
              " 'slave': 989,\n",
              " 'quick': 990,\n",
              " 'urself': 991,\n",
              " 'yar': 992,\n",
              " 'clean': 993,\n",
              " 'entitled': 994,\n",
              " 'nah': 995,\n",
              " 'moment': 996,\n",
              " 'library': 997,\n",
              " 'wishing': 998,\n",
              " 'oops': 999,\n",
              " ...}"
            ]
          },
          "metadata": {},
          "execution_count": 239
        }
      ]
    },
    {
      "cell_type": "code",
      "source": [
        "max(train_vocab.values())"
      ],
      "metadata": {
        "colab": {
          "base_uri": "https://localhost:8080/"
        },
        "id": "ILFM5siEGXg7",
        "outputId": "6f361102-b7ba-4952-d0fa-cbd88ee11de4"
      },
      "execution_count": 240,
      "outputs": [
        {
          "output_type": "execute_result",
          "data": {
            "text/plain": [
              "7084"
            ]
          },
          "metadata": {},
          "execution_count": 240
        }
      ]
    },
    {
      "cell_type": "code",
      "source": [
        "list(train_vocab.values())[7084]"
      ],
      "metadata": {
        "colab": {
          "base_uri": "https://localhost:8080/"
        },
        "id": "OohU-9RCIgmN",
        "outputId": "d0fb83c2-d796-4399-ff3e-4d6f28917d5d"
      },
      "execution_count": 241,
      "outputs": [
        {
          "output_type": "execute_result",
          "data": {
            "text/plain": [
              "7084"
            ]
          },
          "metadata": {},
          "execution_count": 241
        }
      ]
    },
    {
      "cell_type": "code",
      "source": [
        "matching_key = next((key for key, value in train_vocab.items() if value == 7084), None)\n",
        "matching_key"
      ],
      "metadata": {
        "colab": {
          "base_uri": "https://localhost:8080/",
          "height": 35
        },
        "id": "8x0El5NzJDjN",
        "outputId": "a581e353-4c9a-4dc6-8ae6-d5017897c132"
      },
      "execution_count": 248,
      "outputs": [
        {
          "output_type": "execute_result",
          "data": {
            "text/plain": [
              "'conected'"
            ],
            "application/vnd.google.colaboratory.intrinsic+json": {
              "type": "string"
            }
          },
          "metadata": {},
          "execution_count": 248
        }
      ]
    },
    {
      "cell_type": "code",
      "source": [
        "glove_vocab.get_vecs_by_tokens(\"conected\")"
      ],
      "metadata": {
        "colab": {
          "base_uri": "https://localhost:8080/"
        },
        "id": "gewyS34uEblr",
        "outputId": "d0f8694a-c3dd-469b-cfc5-6ff073ec22b5"
      },
      "execution_count": 246,
      "outputs": [
        {
          "output_type": "execute_result",
          "data": {
            "text/plain": [
              "tensor([0., 0., 0., 0., 0., 0., 0., 0., 0., 0., 0., 0., 0., 0., 0., 0., 0., 0., 0., 0., 0., 0., 0., 0.,\n",
              "        0., 0., 0., 0., 0., 0., 0., 0., 0., 0., 0., 0., 0., 0., 0., 0., 0., 0., 0., 0., 0., 0., 0., 0.,\n",
              "        0., 0., 0., 0., 0., 0., 0., 0., 0., 0., 0., 0., 0., 0., 0., 0., 0., 0., 0., 0., 0., 0., 0., 0.,\n",
              "        0., 0., 0., 0., 0., 0., 0., 0., 0., 0., 0., 0., 0., 0., 0., 0., 0., 0., 0., 0., 0., 0., 0., 0.,\n",
              "        0., 0., 0., 0., 0., 0., 0., 0., 0., 0., 0., 0., 0., 0., 0., 0., 0., 0., 0., 0., 0., 0., 0., 0.,\n",
              "        0., 0., 0., 0., 0., 0., 0., 0., 0., 0., 0., 0., 0., 0., 0., 0., 0., 0., 0., 0., 0., 0., 0., 0.,\n",
              "        0., 0., 0., 0., 0., 0., 0., 0., 0., 0., 0., 0., 0., 0., 0., 0., 0., 0., 0., 0., 0., 0., 0., 0.,\n",
              "        0., 0., 0., 0., 0., 0., 0., 0., 0., 0., 0., 0., 0., 0., 0., 0., 0., 0., 0., 0., 0., 0., 0., 0.,\n",
              "        0., 0., 0., 0., 0., 0., 0., 0., 0., 0., 0., 0., 0., 0., 0., 0., 0., 0., 0., 0., 0., 0., 0., 0.,\n",
              "        0., 0., 0., 0., 0., 0., 0., 0., 0., 0., 0., 0., 0., 0., 0., 0., 0., 0., 0., 0., 0., 0., 0., 0.,\n",
              "        0., 0., 0., 0., 0., 0., 0., 0., 0., 0., 0., 0., 0., 0., 0., 0., 0., 0., 0., 0., 0., 0., 0., 0.,\n",
              "        0., 0., 0., 0., 0., 0., 0., 0., 0., 0., 0., 0., 0., 0., 0., 0., 0., 0., 0., 0., 0., 0., 0., 0.,\n",
              "        0., 0., 0., 0., 0., 0., 0., 0., 0., 0., 0., 0.])"
            ]
          },
          "metadata": {},
          "execution_count": 246
        }
      ]
    },
    {
      "cell_type": "code",
      "source": [
        "#### Getting the embedding of each word in the vocabulary and also taking care of unknown words and padding"
      ],
      "metadata": {
        "id": "8V8iokzy8niV"
      },
      "execution_count": 50,
      "outputs": []
    },
    {
      "cell_type": "code",
      "source": [],
      "metadata": {
        "id": "CFuH8fQxIXYu"
      },
      "execution_count": null,
      "outputs": []
    },
    {
      "cell_type": "code",
      "source": [
        "matrix_len\n",
        "# it starts from 0 to 7084"
      ],
      "metadata": {
        "colab": {
          "base_uri": "https://localhost:8080/"
        },
        "id": "1Af2pafGEmT_",
        "outputId": "47e132ec-58a1-4ed9-e11a-2aa20e18b489"
      },
      "execution_count": 138,
      "outputs": [
        {
          "output_type": "execute_result",
          "data": {
            "text/plain": [
              "7085"
            ]
          },
          "metadata": {},
          "execution_count": 138
        }
      ]
    },
    {
      "cell_type": "code",
      "source": [
        "matrix_len = len(train_vocab)\n",
        "weight_matrix = np.zeros((matrix_len+2,embed_dim))\n",
        "# Now, here I have put 2 extra tokens: 7085--> unknown and 7086----> padding\n",
        "words_found = 0\n",
        "\n",
        "for i, word in enumerate(train_vocab):\n",
        "        # print(i)\n",
        "        try:\n",
        "            weight_matrix[i]=glove_vocab.get_vecs_by_tokens(word)\n",
        "            words_found+=1\n",
        "        except KeyError:\n",
        "            weight_matrix[i]= np.random.normal(scale=0.6, size=(embed_dim,))\n",
        ""
      ],
      "metadata": {
        "id": "E7FVISZw6HCZ"
      },
      "execution_count": 250,
      "outputs": []
    },
    {
      "cell_type": "code",
      "source": [
        "weight_matrix.shape\n",
        "# 2 extra tokens are unknwn and padding"
      ],
      "metadata": {
        "colab": {
          "base_uri": "https://localhost:8080/"
        },
        "id": "mSSEFiCN7iyz",
        "outputId": "b1293d60-8404-475e-ca30-02a0a8edec99"
      },
      "execution_count": 251,
      "outputs": [
        {
          "output_type": "execute_result",
          "data": {
            "text/plain": [
              "(7087, 300)"
            ]
          },
          "metadata": {},
          "execution_count": 251
        }
      ]
    },
    {
      "cell_type": "code",
      "source": [
        "weight_matrix[7086],weight_matrix[7085]\n",
        "# Last 2 weights are 0 ---> for 7085 and 7086"
      ],
      "metadata": {
        "colab": {
          "base_uri": "https://localhost:8080/"
        },
        "id": "8pL-S-qzEuVy",
        "outputId": "2a1f47fe-1f84-4691-ce8a-fba1a28ffd0c"
      },
      "execution_count": 252,
      "outputs": [
        {
          "output_type": "execute_result",
          "data": {
            "text/plain": [
              "(array([0., 0., 0., 0., 0., 0., 0., 0., 0., 0., 0., 0., 0., 0., 0., 0., 0.,\n",
              "        0., 0., 0., 0., 0., 0., 0., 0., 0., 0., 0., 0., 0., 0., 0., 0., 0.,\n",
              "        0., 0., 0., 0., 0., 0., 0., 0., 0., 0., 0., 0., 0., 0., 0., 0., 0.,\n",
              "        0., 0., 0., 0., 0., 0., 0., 0., 0., 0., 0., 0., 0., 0., 0., 0., 0.,\n",
              "        0., 0., 0., 0., 0., 0., 0., 0., 0., 0., 0., 0., 0., 0., 0., 0., 0.,\n",
              "        0., 0., 0., 0., 0., 0., 0., 0., 0., 0., 0., 0., 0., 0., 0., 0., 0.,\n",
              "        0., 0., 0., 0., 0., 0., 0., 0., 0., 0., 0., 0., 0., 0., 0., 0., 0.,\n",
              "        0., 0., 0., 0., 0., 0., 0., 0., 0., 0., 0., 0., 0., 0., 0., 0., 0.,\n",
              "        0., 0., 0., 0., 0., 0., 0., 0., 0., 0., 0., 0., 0., 0., 0., 0., 0.,\n",
              "        0., 0., 0., 0., 0., 0., 0., 0., 0., 0., 0., 0., 0., 0., 0., 0., 0.,\n",
              "        0., 0., 0., 0., 0., 0., 0., 0., 0., 0., 0., 0., 0., 0., 0., 0., 0.,\n",
              "        0., 0., 0., 0., 0., 0., 0., 0., 0., 0., 0., 0., 0., 0., 0., 0., 0.,\n",
              "        0., 0., 0., 0., 0., 0., 0., 0., 0., 0., 0., 0., 0., 0., 0., 0., 0.,\n",
              "        0., 0., 0., 0., 0., 0., 0., 0., 0., 0., 0., 0., 0., 0., 0., 0., 0.,\n",
              "        0., 0., 0., 0., 0., 0., 0., 0., 0., 0., 0., 0., 0., 0., 0., 0., 0.,\n",
              "        0., 0., 0., 0., 0., 0., 0., 0., 0., 0., 0., 0., 0., 0., 0., 0., 0.,\n",
              "        0., 0., 0., 0., 0., 0., 0., 0., 0., 0., 0., 0., 0., 0., 0., 0., 0.,\n",
              "        0., 0., 0., 0., 0., 0., 0., 0., 0., 0., 0.]),\n",
              " array([0., 0., 0., 0., 0., 0., 0., 0., 0., 0., 0., 0., 0., 0., 0., 0., 0.,\n",
              "        0., 0., 0., 0., 0., 0., 0., 0., 0., 0., 0., 0., 0., 0., 0., 0., 0.,\n",
              "        0., 0., 0., 0., 0., 0., 0., 0., 0., 0., 0., 0., 0., 0., 0., 0., 0.,\n",
              "        0., 0., 0., 0., 0., 0., 0., 0., 0., 0., 0., 0., 0., 0., 0., 0., 0.,\n",
              "        0., 0., 0., 0., 0., 0., 0., 0., 0., 0., 0., 0., 0., 0., 0., 0., 0.,\n",
              "        0., 0., 0., 0., 0., 0., 0., 0., 0., 0., 0., 0., 0., 0., 0., 0., 0.,\n",
              "        0., 0., 0., 0., 0., 0., 0., 0., 0., 0., 0., 0., 0., 0., 0., 0., 0.,\n",
              "        0., 0., 0., 0., 0., 0., 0., 0., 0., 0., 0., 0., 0., 0., 0., 0., 0.,\n",
              "        0., 0., 0., 0., 0., 0., 0., 0., 0., 0., 0., 0., 0., 0., 0., 0., 0.,\n",
              "        0., 0., 0., 0., 0., 0., 0., 0., 0., 0., 0., 0., 0., 0., 0., 0., 0.,\n",
              "        0., 0., 0., 0., 0., 0., 0., 0., 0., 0., 0., 0., 0., 0., 0., 0., 0.,\n",
              "        0., 0., 0., 0., 0., 0., 0., 0., 0., 0., 0., 0., 0., 0., 0., 0., 0.,\n",
              "        0., 0., 0., 0., 0., 0., 0., 0., 0., 0., 0., 0., 0., 0., 0., 0., 0.,\n",
              "        0., 0., 0., 0., 0., 0., 0., 0., 0., 0., 0., 0., 0., 0., 0., 0., 0.,\n",
              "        0., 0., 0., 0., 0., 0., 0., 0., 0., 0., 0., 0., 0., 0., 0., 0., 0.,\n",
              "        0., 0., 0., 0., 0., 0., 0., 0., 0., 0., 0., 0., 0., 0., 0., 0., 0.,\n",
              "        0., 0., 0., 0., 0., 0., 0., 0., 0., 0., 0., 0., 0., 0., 0., 0., 0.,\n",
              "        0., 0., 0., 0., 0., 0., 0., 0., 0., 0., 0.]))"
            ]
          },
          "metadata": {},
          "execution_count": 252
        }
      ]
    },
    {
      "cell_type": "code",
      "source": [
        "list(train_vocab.keys())[12]"
      ],
      "metadata": {
        "colab": {
          "base_uri": "https://localhost:8080/",
          "height": 35
        },
        "id": "W47-MuqS7uYa",
        "outputId": "a67277ea-67ab-4ed9-9483-59965ed53606"
      },
      "execution_count": 253,
      "outputs": [
        {
          "output_type": "execute_result",
          "data": {
            "text/plain": [
              "'of'"
            ],
            "application/vnd.google.colaboratory.intrinsic+json": {
              "type": "string"
            }
          },
          "metadata": {},
          "execution_count": 253
        }
      ]
    },
    {
      "cell_type": "code",
      "source": [
        "glove_vocab.get_vecs_by_tokens(list(train_vocab.keys())[12]).shape,glove_vocab.get_vecs_by_tokens(list(train_vocab.keys())[12])[0:10]"
      ],
      "metadata": {
        "colab": {
          "base_uri": "https://localhost:8080/"
        },
        "id": "fErH-iAW8AZO",
        "outputId": "cba48eea-7c76-4e2d-8e64-b7c5915b2e4c"
      },
      "execution_count": 254,
      "outputs": [
        {
          "output_type": "execute_result",
          "data": {
            "text/plain": [
              "(torch.Size([300]),\n",
              " tensor([-0.0769, -0.0212,  0.2127, -0.7223, -0.1399, -0.1223, -0.1752,  0.1214,\n",
              "         -0.0709, -1.5721]))"
            ]
          },
          "metadata": {},
          "execution_count": 254
        }
      ]
    },
    {
      "cell_type": "code",
      "source": [
        "weight_matrix[12][0:10]"
      ],
      "metadata": {
        "colab": {
          "base_uri": "https://localhost:8080/"
        },
        "id": "4kntJHaa7kmS",
        "outputId": "327f34a0-fb61-4d82-a607-3a812e7cd68a"
      },
      "execution_count": 255,
      "outputs": [
        {
          "output_type": "execute_result",
          "data": {
            "text/plain": [
              "array([-0.076947  , -0.021211  ,  0.21270999, -0.72232002, -0.13988   ,\n",
              "       -0.12234   , -0.17521   ,  0.12137   , -0.070866  , -1.57210004])"
            ]
          },
          "metadata": {},
          "execution_count": 255
        }
      ]
    },
    {
      "cell_type": "code",
      "source": [
        "#### Getting token of each word in each sentence"
      ],
      "metadata": {
        "id": "KMUo1x5P8eDT"
      },
      "execution_count": 256,
      "outputs": []
    },
    {
      "cell_type": "code",
      "source": [
        "def word_tokens(sentence):\n",
        "    sent_tok=[]\n",
        "    for word in sentence:\n",
        "        try:\n",
        "            sent_tok.append(train_vocab[word])\n",
        "\n",
        "        except:\n",
        "            sent_tok.append(7085) # for Unkown words\n",
        "    return sent_tok"
      ],
      "metadata": {
        "id": "1yfRgwbK8is-"
      },
      "execution_count": 295,
      "outputs": []
    },
    {
      "cell_type": "code",
      "source": [
        "\n",
        "sentence_tok=[]\n",
        "sentence_tok=[word_tokens(sentence) for sentence in X_train_processed];"
      ],
      "metadata": {
        "id": "-uGiNFEY8oiJ"
      },
      "execution_count": 259,
      "outputs": []
    },
    {
      "cell_type": "code",
      "source": [
        "word_tokens(['dfjkdbv'])\n",
        "# Now, this return 7086, because mapped any unknown word with token number 7086"
      ],
      "metadata": {
        "colab": {
          "base_uri": "https://localhost:8080/"
        },
        "id": "5sICnR8T8rT9",
        "outputId": "fe2ef8d7-b28d-4adf-a1f7-89e11bcce4c1"
      },
      "execution_count": 260,
      "outputs": [
        {
          "output_type": "execute_result",
          "data": {
            "text/plain": [
              "[7085]"
            ]
          },
          "metadata": {},
          "execution_count": 260
        }
      ]
    },
    {
      "cell_type": "code",
      "source": [
        "sentence_tok[0], sentence_tok[2]"
      ],
      "metadata": {
        "colab": {
          "base_uri": "https://localhost:8080/"
        },
        "id": "-yF4MBqh9A72",
        "outputId": "8bc45b9c-bd3a-4277-ea35-9f36c2f5ed25"
      },
      "execution_count": 261,
      "outputs": [
        {
          "output_type": "execute_result",
          "data": {
            "text/plain": [
              "([204, 20, 118, 360, 466, 6, 714, 17, 1183, 77, 19, 360, 596, 354, 49],\n",
              " [30, 459, 1, 1, 139, 102, 872])"
            ]
          },
          "metadata": {},
          "execution_count": 261
        }
      ]
    },
    {
      "cell_type": "code",
      "source": [
        "#### Padding and converting token data to torch"
      ],
      "metadata": {
        "id": "zZQasuRV8t4p"
      },
      "execution_count": 262,
      "outputs": []
    },
    {
      "cell_type": "code",
      "source": [
        "text_list=[]\n",
        "for sent_tok in sentence_tok:\n",
        "    processed_text = torch.tensor(sent_tok, dtype=torch.int64)\n",
        "    text_list.append(processed_text)\n",
        "\n",
        "#padding\n",
        "text_list = pad_sequence(text_list, batch_first=True, padding_value=7086)"
      ],
      "metadata": {
        "id": "aZapeWKI8xBM"
      },
      "execution_count": 263,
      "outputs": []
    },
    {
      "cell_type": "code",
      "source": [
        "text_list.shape"
      ],
      "metadata": {
        "colab": {
          "base_uri": "https://localhost:8080/"
        },
        "id": "iH_J9edD80zg",
        "outputId": "f5de334d-5de0-449b-a58f-abf1bab5a916"
      },
      "execution_count": 264,
      "outputs": [
        {
          "output_type": "execute_result",
          "data": {
            "text/plain": [
              "torch.Size([4736, 176])"
            ]
          },
          "metadata": {},
          "execution_count": 264
        }
      ]
    },
    {
      "cell_type": "code",
      "source": [
        "text_list[0].shape\n",
        "# 176 is the lenght of the sentences"
      ],
      "metadata": {
        "colab": {
          "base_uri": "https://localhost:8080/"
        },
        "id": "ZtEVhSOQ-s92",
        "outputId": "2b81a468-1b95-4c49-cc66-4482c156ec69"
      },
      "execution_count": 265,
      "outputs": [
        {
          "output_type": "execute_result",
          "data": {
            "text/plain": [
              "torch.Size([176])"
            ]
          },
          "metadata": {},
          "execution_count": 265
        }
      ]
    },
    {
      "cell_type": "code",
      "source": [
        "text_list.shape"
      ],
      "metadata": {
        "colab": {
          "base_uri": "https://localhost:8080/"
        },
        "id": "yJZuMQx0BmN9",
        "outputId": "509c4aaf-9f73-4f70-fba6-7a3e03c6c9cc"
      },
      "execution_count": 266,
      "outputs": [
        {
          "output_type": "execute_result",
          "data": {
            "text/plain": [
              "torch.Size([4736, 176])"
            ]
          },
          "metadata": {},
          "execution_count": 266
        }
      ]
    },
    {
      "cell_type": "code",
      "source": [
        "#### Creating DataLoader"
      ],
      "metadata": {
        "id": "q5DOrEMh9KyV"
      },
      "execution_count": 267,
      "outputs": []
    },
    {
      "cell_type": "code",
      "source": [
        "label_list = torch.tensor(Y_train, dtype=torch.float32)"
      ],
      "metadata": {
        "id": "H0AINZw386WP"
      },
      "execution_count": 268,
      "outputs": []
    },
    {
      "cell_type": "code",
      "source": [
        "train_embedding_dataset = list(zip(text_list,label_list))"
      ],
      "metadata": {
        "id": "7UwFRy9k9Mjz"
      },
      "execution_count": 269,
      "outputs": []
    },
    {
      "cell_type": "code",
      "source": [
        "train_embedding_dataloader = DataLoader(train_embedding_dataset, batch_size=64)"
      ],
      "metadata": {
        "id": "xjPUPFT29OIU"
      },
      "execution_count": 270,
      "outputs": []
    },
    {
      "cell_type": "code",
      "source": [
        "len(train_embedding_dataloader)"
      ],
      "metadata": {
        "colab": {
          "base_uri": "https://localhost:8080/"
        },
        "id": "w3Es6MGU9P2o",
        "outputId": "580ca9c7-c002-43b2-bac9-d58b0d26f980"
      },
      "execution_count": 271,
      "outputs": [
        {
          "output_type": "execute_result",
          "data": {
            "text/plain": [
              "74"
            ]
          },
          "metadata": {},
          "execution_count": 271
        }
      ]
    },
    {
      "cell_type": "code",
      "source": [
        "weights_matrix_tensor = torch.tensor(weight_matrix, dtype=torch.float32)"
      ],
      "metadata": {
        "id": "k_wOAisJ9Rbp"
      },
      "execution_count": 272,
      "outputs": []
    },
    {
      "cell_type": "code",
      "source": [
        "weights_matrix_tensor.shape"
      ],
      "metadata": {
        "colab": {
          "base_uri": "https://localhost:8080/"
        },
        "id": "rc22ZwVsFIUS",
        "outputId": "83829dfe-f213-4941-d7e4-49aad0c6859a"
      },
      "execution_count": 273,
      "outputs": [
        {
          "output_type": "execute_result",
          "data": {
            "text/plain": [
              "torch.Size([7087, 300])"
            ]
          },
          "metadata": {},
          "execution_count": 273
        }
      ]
    },
    {
      "cell_type": "code",
      "source": [
        "# Before, we move forward, we need to understand the concept of embedding bag\n",
        "#  EmbeddingBag = Embedding + mean/mode operation to reduce the dimentionality\n",
        "# or\n",
        "# we can say to convert the embeddings of the words, in sentence, into single embedding representing the entire sentence"
      ],
      "metadata": {
        "id": "kLrwngoV9w8J"
      },
      "execution_count": 274,
      "outputs": []
    },
    {
      "cell_type": "code",
      "source": [
        "# train_vocab"
      ],
      "metadata": {
        "id": "eEmjvuih-D2e"
      },
      "execution_count": 275,
      "outputs": []
    },
    {
      "cell_type": "code",
      "source": [
        "embx = nn.EmbeddingBag(weight_matrix.shape[0], embed_dim, sparse=False, mode='mean')"
      ],
      "metadata": {
        "id": "JYV0uO6b96pR"
      },
      "execution_count": 279,
      "outputs": []
    },
    {
      "cell_type": "code",
      "source": [
        "embx"
      ],
      "metadata": {
        "colab": {
          "base_uri": "https://localhost:8080/"
        },
        "id": "OEIpIF9F96hs",
        "outputId": "b638854d-1a6e-435b-ccdc-8b96025af03f"
      },
      "execution_count": 280,
      "outputs": [
        {
          "output_type": "execute_result",
          "data": {
            "text/plain": [
              "EmbeddingBag(7087, 300, mode='mean')"
            ]
          },
          "metadata": {},
          "execution_count": 280
        }
      ]
    },
    {
      "cell_type": "code",
      "source": [
        "embx_mean = nn.EmbeddingBag.from_pretrained(embx.weight, mode='mean')"
      ],
      "metadata": {
        "id": "1v-fWea3-fh5"
      },
      "execution_count": 281,
      "outputs": []
    },
    {
      "cell_type": "code",
      "source": [
        "embx_mean(text_list)[0].shape"
      ],
      "metadata": {
        "colab": {
          "base_uri": "https://localhost:8080/"
        },
        "id": "yDYIEBY_9wzW",
        "outputId": "c0716c0a-e5e0-4f38-800a-878f55f6f56d"
      },
      "execution_count": 282,
      "outputs": [
        {
          "output_type": "execute_result",
          "data": {
            "text/plain": [
              "torch.Size([300])"
            ]
          },
          "metadata": {},
          "execution_count": 282
        }
      ]
    },
    {
      "cell_type": "code",
      "source": [
        "hidden_size = 256\n",
        "learning_rate = .01\n",
        "num_epochs=10\n",
        "n_total_steps = len(train_embedding_dataloader)"
      ],
      "metadata": {
        "id": "rsHxlWlM9TB_"
      },
      "execution_count": 283,
      "outputs": []
    },
    {
      "cell_type": "code",
      "source": [
        "class TextClassificationEmbeddingModel(nn.Module):\n",
        "\n",
        "    def __init__(self, vocab_size, embed_dim, hidden_size):\n",
        "        super(TextClassificationEmbeddingModel, self).__init__()\n",
        "        self.embedding = nn.EmbeddingBag(vocab_size, embed_dim, sparse=False, mode='mean') ## this will create random values initially and then update the weights through back propagation\n",
        "        self.embedding.from_pretrained(weights_matrix_tensor, freeze=False) # Freeze= False means these weights will be trained during the training phase\n",
        "        self.l1 = nn.Linear(embed_dim, hidden_size)\n",
        "        self.relu1 = nn.ReLU()\n",
        "        self.l2 = nn.Linear(hidden_size,1)\n",
        "\n",
        "    def forward(self,x):\n",
        "        embedded = self.embedding(x)\n",
        "        out = self.l1(embedded)\n",
        "        out = self.relu1(out)\n",
        "        out = self.l2(out)\n",
        "        y_pred = torch.sigmoid(out)\n",
        "        return y_pred"
      ],
      "metadata": {
        "id": "wv2_Ylac9VN_"
      },
      "execution_count": 284,
      "outputs": []
    },
    {
      "cell_type": "code",
      "source": [
        "mymodel_embedding = TextClassificationEmbeddingModel(weight_matrix.shape[0], embed_dim,hidden_size)"
      ],
      "metadata": {
        "id": "mqghnhIi9XYB"
      },
      "execution_count": 285,
      "outputs": []
    },
    {
      "cell_type": "code",
      "source": [
        "mymodel_embedding"
      ],
      "metadata": {
        "colab": {
          "base_uri": "https://localhost:8080/"
        },
        "id": "hYPYA1qRABD_",
        "outputId": "72a5cee4-6d3f-4a51-b41d-aa6a1ed997a8"
      },
      "execution_count": 286,
      "outputs": [
        {
          "output_type": "execute_result",
          "data": {
            "text/plain": [
              "TextClassificationEmbeddingModel(\n",
              "  (embedding): EmbeddingBag(7087, 300, mode='mean')\n",
              "  (l1): Linear(in_features=300, out_features=256, bias=True)\n",
              "  (relu1): ReLU()\n",
              "  (l2): Linear(in_features=256, out_features=1, bias=True)\n",
              ")"
            ]
          },
          "metadata": {},
          "execution_count": 286
        }
      ]
    },
    {
      "cell_type": "code",
      "source": [
        "criterion = nn.BCELoss() ## Binary Cross Entropy Loss\n",
        "optimizer = torch.optim.Adam(mymodel_embedding.parameters(),lr = learning_rate)"
      ],
      "metadata": {
        "id": "mjM93A6iAV0v"
      },
      "execution_count": 287,
      "outputs": []
    },
    {
      "cell_type": "code",
      "source": [
        "count=0\n",
        "#writer = SummaryWriter()\n",
        "for epoch in range(num_epochs):\n",
        "    myloss = []\n",
        "    for i,(x_data, labels) in enumerate(train_embedding_dataloader):\n",
        "        count+=1\n",
        "        y_predicted = mymodel_embedding(x_data) ## forward propagation\n",
        "        #print(y_predicted.shape)\n",
        "        #print(labels.shape)\n",
        "        loss = criterion(y_predicted,labels) ## loss calculation\n",
        "\n",
        "        optimizer.zero_grad() ## Empty the gradients\n",
        "\n",
        "        loss.backward() ## backward propagation\n",
        "\n",
        "        optimizer.step() ## update the weights\n",
        "\n",
        "        myloss.append(round(loss.item(),5))\n",
        "        #if (i+1)%10 == 0:\n",
        "        #    print(f'{epoch+1} of {num_epochs} ; step: {i+1} of {n_total_steps} ; loss = {loss.item():.4f}')\n",
        "    print(f'Epoch {epoch+1} of {num_epochs}; Mean_Loss =  {round(np.mean(myloss),8)}')\n",
        "    #writer.add_scalar(\"Loss/train\", np.mean(myloss), epoch)\n",
        "#writer.flush()\n",
        "#writer.close()"
      ],
      "metadata": {
        "colab": {
          "base_uri": "https://localhost:8080/"
        },
        "id": "eN1Q2VTqAXzM",
        "outputId": "764d4aca-f258-46a1-b55d-318d78e77115"
      },
      "execution_count": 288,
      "outputs": [
        {
          "output_type": "stream",
          "name": "stdout",
          "text": [
            "Epoch 1 of 10; Mean_Loss =  0.44118054\n",
            "Epoch 2 of 10; Mean_Loss =  0.23299324\n",
            "Epoch 3 of 10; Mean_Loss =  0.05224716\n",
            "Epoch 4 of 10; Mean_Loss =  0.03080811\n",
            "Epoch 5 of 10; Mean_Loss =  0.02038514\n",
            "Epoch 6 of 10; Mean_Loss =  0.01253838\n",
            "Epoch 7 of 10; Mean_Loss =  0.01275216\n",
            "Epoch 8 of 10; Mean_Loss =  0.01057135\n",
            "Epoch 9 of 10; Mean_Loss =  0.01474311\n",
            "Epoch 10 of 10; Mean_Loss =  0.02863311\n"
          ]
        }
      ]
    },
    {
      "cell_type": "code",
      "source": [
        "mymodel_embedding.embedding.weight.shape"
      ],
      "metadata": {
        "colab": {
          "base_uri": "https://localhost:8080/"
        },
        "id": "CAzoY7aAAcjS",
        "outputId": "9cd1a133-0bd6-4dd2-bbaa-00be0d8e0227"
      },
      "execution_count": 289,
      "outputs": [
        {
          "output_type": "execute_result",
          "data": {
            "text/plain": [
              "torch.Size([7087, 300])"
            ]
          },
          "metadata": {},
          "execution_count": 289
        }
      ]
    },
    {
      "cell_type": "code",
      "source": [
        "weights_matrix_tensor.shape"
      ],
      "metadata": {
        "colab": {
          "base_uri": "https://localhost:8080/"
        },
        "id": "uXqgyD6gBSEZ",
        "outputId": "2b4708c8-0c86-49a7-9c40-a6199e98ad6e"
      },
      "execution_count": 290,
      "outputs": [
        {
          "output_type": "execute_result",
          "data": {
            "text/plain": [
              "torch.Size([7087, 300])"
            ]
          },
          "metadata": {},
          "execution_count": 290
        }
      ]
    },
    {
      "cell_type": "code",
      "source": [
        "# Embedding of the word connected has been updated / trained\n",
        "mymodel_embedding.embedding.weight[7084][0:10]"
      ],
      "metadata": {
        "colab": {
          "base_uri": "https://localhost:8080/"
        },
        "id": "3gi9al0TB3yX",
        "outputId": "2dfdecc6-d4b5-41f1-a40d-8a633fa34f82"
      },
      "execution_count": 293,
      "outputs": [
        {
          "output_type": "execute_result",
          "data": {
            "text/plain": [
              "tensor([ 1.5408, -0.0513, -0.8642, -0.5764,  0.2069,  0.6759, -2.5197, -0.8774,\n",
              "        -1.0227, -1.8037], grad_fn=<SliceBackward0>)"
            ]
          },
          "metadata": {},
          "execution_count": 293
        }
      ]
    },
    {
      "cell_type": "code",
      "source": [
        "weights_matrix_tensor[7084][0:10]"
      ],
      "metadata": {
        "colab": {
          "base_uri": "https://localhost:8080/"
        },
        "id": "pE8iVs5dByrt",
        "outputId": "1c1620d3-0eb2-4250-c792-97ca89e96b49"
      },
      "execution_count": 294,
      "outputs": [
        {
          "output_type": "execute_result",
          "data": {
            "text/plain": [
              "tensor([0., 0., 0., 0., 0., 0., 0., 0., 0., 0.])"
            ]
          },
          "metadata": {},
          "execution_count": 294
        }
      ]
    },
    {
      "cell_type": "code",
      "source": [
        "# Let's see how to use for test data"
      ],
      "metadata": {
        "id": "S3-Mt7UKKxeV"
      },
      "execution_count": null,
      "outputs": []
    },
    {
      "cell_type": "code",
      "source": [
        "X_test_processed = simple_prep_process(X_test)"
      ],
      "metadata": {
        "id": "Yqci5eRpLGLb"
      },
      "execution_count": 330,
      "outputs": []
    },
    {
      "cell_type": "code",
      "source": [
        "def word_tokens(sentence):\n",
        "    sent_tok=[]\n",
        "    for word in sentence:\n",
        "        try:\n",
        "            sent_tok.append(train_vocab[word])\n",
        "\n",
        "        except:\n",
        "            sent_tok.append(7085) # for Unkown words\n",
        "    return sent_tok\n",
        "\n",
        "sentence_test_tok=[]\n",
        "sentence_test_tok=[word_tokens(sentence) for sentence in X_test_processed];"
      ],
      "metadata": {
        "id": "z5cX7INvK_F0"
      },
      "execution_count": 331,
      "outputs": []
    },
    {
      "cell_type": "code",
      "source": [
        "sentence_test_tok[0]"
      ],
      "metadata": {
        "colab": {
          "base_uri": "https://localhost:8080/"
        },
        "id": "tLzukBlALEtt",
        "outputId": "df4ca263-96b7-4c7f-a52f-ca3991a5bf3b"
      },
      "execution_count": 332,
      "outputs": [
        {
          "output_type": "execute_result",
          "data": {
            "text/plain": [
              "[1, 52, 398, 4101]"
            ]
          },
          "metadata": {},
          "execution_count": 332
        }
      ]
    },
    {
      "cell_type": "code",
      "source": [
        "text_test_list=[]\n",
        "for sent_tok in sentence_test_tok:\n",
        "    processed_text = torch.tensor(sent_tok, dtype=torch.int64)\n",
        "    text_test_list.append(processed_text)\n",
        "\n",
        "#padding\n",
        "text_test_list = pad_sequence(text_test_list, batch_first=True, padding_value=7086)"
      ],
      "metadata": {
        "id": "XGhM9NH_J6_f"
      },
      "execution_count": 333,
      "outputs": []
    },
    {
      "cell_type": "code",
      "source": [
        "text_test_list[45]"
      ],
      "metadata": {
        "colab": {
          "base_uri": "https://localhost:8080/"
        },
        "id": "xqhFAGdXLpt5",
        "outputId": "05a24f19-58de-445c-a7b2-358df5523d55"
      },
      "execution_count": 334,
      "outputs": [
        {
          "output_type": "execute_result",
          "data": {
            "text/plain": [
              "tensor([7085, 1224, 7085,  335,  567,   69,  205,  597, 5257,  224,  169,   22,\n",
              "          11,    1,  483,   27,  567, 1095, 7085,   26,  134, 5257,  224,  169,\n",
              "         275, 7086, 7086, 7086, 7086, 7086, 7086, 7086, 7086, 7086, 7086, 7086,\n",
              "        7086, 7086, 7086, 7086, 7086, 7086, 7086, 7086, 7086, 7086, 7086, 7086,\n",
              "        7086, 7086, 7086, 7086, 7086, 7086, 7086, 7086, 7086, 7086, 7086, 7086,\n",
              "        7086, 7086, 7086, 7086, 7086, 7086, 7086, 7086, 7086, 7086, 7086, 7086,\n",
              "        7086, 7086, 7086, 7086, 7086, 7086, 7086, 7086, 7086, 7086, 7086, 7086,\n",
              "        7086, 7086, 7086, 7086, 7086, 7086, 7086, 7086, 7086, 7086, 7086, 7086,\n",
              "        7086, 7086, 7086, 7086, 7086, 7086, 7086, 7086, 7086, 7086, 7086, 7086,\n",
              "        7086, 7086, 7086, 7086, 7086, 7086, 7086, 7086, 7086, 7086, 7086, 7086,\n",
              "        7086, 7086, 7086, 7086, 7086, 7086, 7086, 7086, 7086, 7086, 7086, 7086,\n",
              "        7086, 7086, 7086, 7086, 7086, 7086, 7086, 7086, 7086, 7086, 7086, 7086,\n",
              "        7086, 7086, 7086, 7086, 7086, 7086, 7086, 7086])"
            ]
          },
          "metadata": {},
          "execution_count": 334
        }
      ]
    },
    {
      "cell_type": "code",
      "source": [
        "\n",
        "mymodel_embedding(torch.unsqueeze(text_test_list[45],0))"
      ],
      "metadata": {
        "colab": {
          "base_uri": "https://localhost:8080/"
        },
        "id": "nymmG0WiLUnR",
        "outputId": "7b16bd2e-1079-42f0-b1f9-0fe445e57324"
      },
      "execution_count": 335,
      "outputs": [
        {
          "output_type": "execute_result",
          "data": {
            "text/plain": [
              "tensor([[0.9999]], grad_fn=<SigmoidBackward0>)"
            ]
          },
          "metadata": {},
          "execution_count": 335
        }
      ]
    },
    {
      "cell_type": "code",
      "source": [
        "Y_test[45]"
      ],
      "metadata": {
        "colab": {
          "base_uri": "https://localhost:8080/"
        },
        "id": "c9td6RDYN3O-",
        "outputId": "3109df72-57d2-4748-d22d-dfe911822e0b"
      },
      "execution_count": 339,
      "outputs": [
        {
          "output_type": "execute_result",
          "data": {
            "text/plain": [
              "array([1])"
            ]
          },
          "metadata": {},
          "execution_count": 339
        }
      ]
    },
    {
      "cell_type": "code",
      "source": [
        "mymodel_embedding(torch.unsqueeze(text_test_list[0],0))"
      ],
      "metadata": {
        "colab": {
          "base_uri": "https://localhost:8080/"
        },
        "id": "EhStrq1hOIj7",
        "outputId": "aca96b99-17f2-4b30-cd72-7f850ad5977e"
      },
      "execution_count": 338,
      "outputs": [
        {
          "output_type": "execute_result",
          "data": {
            "text/plain": [
              "tensor([[0.0206]], grad_fn=<SigmoidBackward0>)"
            ]
          },
          "metadata": {},
          "execution_count": 338
        }
      ]
    },
    {
      "cell_type": "code",
      "source": [
        "Y_test[0]"
      ],
      "metadata": {
        "colab": {
          "base_uri": "https://localhost:8080/"
        },
        "id": "MyP_EvU_OL4P",
        "outputId": "6dac3b5e-db22-4e4b-98cc-35db700c80e5"
      },
      "execution_count": 340,
      "outputs": [
        {
          "output_type": "execute_result",
          "data": {
            "text/plain": [
              "array([0])"
            ]
          },
          "metadata": {},
          "execution_count": 340
        }
      ]
    }
  ]
}
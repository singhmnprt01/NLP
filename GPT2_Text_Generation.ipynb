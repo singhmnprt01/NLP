{
 "cells": [
  {
   "cell_type": "code",
   "execution_count": 237,
   "id": "5bbf6137",
   "metadata": {},
   "outputs": [],
   "source": [
    "import transformers as t\n",
    "import pandas as pd\n",
    "import numpy as np\n",
    "import os\n",
    "from transformers import GPT2Tokenizer,GPT2LMHeadModel, pipeline,TFGPT2LMHeadModel\n"
   ]
  },
  {
   "cell_type": "markdown",
   "id": "dbbd0a72",
   "metadata": {},
   "source": [
    "* https://theaidigest.in/text2textgeneration-pipeline-by-huggingface-transformers/"
   ]
  },
  {
   "cell_type": "markdown",
   "id": "773d13b9",
   "metadata": {},
   "source": [
    "# Manual"
   ]
  },
  {
   "cell_type": "code",
   "execution_count": 248,
   "id": "e3e3d75b",
   "metadata": {},
   "outputs": [],
   "source": [
    "model = GPT2LMHeadModel.from_pretrained('gpt2') ##PyTorch model\n",
    "tokenizer = GPT2Tokenizer.from_pretrained('gpt2') "
   ]
  },
  {
   "cell_type": "code",
   "execution_count": 239,
   "id": "5406aa74",
   "metadata": {},
   "outputs": [],
   "source": [
    "mysent = ['Earth is the third','I love you my']"
   ]
  },
  {
   "cell_type": "code",
   "execution_count": 257,
   "id": "505e35d9",
   "metadata": {},
   "outputs": [],
   "source": [
    "encoded_input = tokenizer.encode(mysent[0], return_tensors='pt')"
   ]
  },
  {
   "cell_type": "code",
   "execution_count": 258,
   "id": "c03443d7",
   "metadata": {},
   "outputs": [
    {
     "data": {
      "text/plain": [
       "tensor([[22840,   318,   262,  2368]])"
      ]
     },
     "execution_count": 258,
     "metadata": {},
     "output_type": "execute_result"
    }
   ],
   "source": [
    "encoded_input"
   ]
  },
  {
   "cell_type": "code",
   "execution_count": 259,
   "id": "86723d93",
   "metadata": {},
   "outputs": [
    {
     "name": "stderr",
     "output_type": "stream",
     "text": [
      "Setting `pad_token_id` to `eos_token_id`:50256 for open-end generation.\n"
     ]
    }
   ],
   "source": [
    "output = model.generate(encoded_input,max_length=100,num_beans=4, no_repeat_ngram_size=1,early_stopping=True)"
   ]
  },
  {
   "cell_type": "code",
   "execution_count": 260,
   "id": "470b59c4",
   "metadata": {},
   "outputs": [
    {
     "data": {
      "text/plain": [
       "'Earth is the third'"
      ]
     },
     "execution_count": 260,
     "metadata": {},
     "output_type": "execute_result"
    }
   ],
   "source": [
    "tokenizer.decode(encoded_input[0])"
   ]
  },
  {
   "cell_type": "code",
   "execution_count": 261,
   "id": "b5658b28",
   "metadata": {},
   "outputs": [
    {
     "data": {
      "text/plain": [
       "'Earth is the third largest planet in our solar system, and it\\'s home to a large number of life forms.\\n\"We\\'re going through an enormous amount,\" said Dr John D\\'Amico from NASA Goddard Space Flight Center (GSSC). \"It has been around for thousands or millions years.\" The first known human-made moon was discovered by Galileo Galilei on July 14th 1868 with his telescope at Cernan Island off Chile; its discovery led scientists worldwide into what they'"
      ]
     },
     "execution_count": 261,
     "metadata": {},
     "output_type": "execute_result"
    }
   ],
   "source": [
    "tokenizer.decode(output[0],skip_special_tokens=True)"
   ]
  },
  {
   "cell_type": "markdown",
   "id": "9bea3479",
   "metadata": {},
   "source": [
    "## OR #"
   ]
  },
  {
   "cell_type": "markdown",
   "id": "5580e659",
   "metadata": {},
   "source": [
    "# Pipeline #"
   ]
  },
  {
   "cell_type": "code",
   "execution_count": 152,
   "id": "98f1b4aa",
   "metadata": {},
   "outputs": [],
   "source": [
    "mypipe = pipeline('text-generation',model='gpt2',tokenizer=tokenizer)"
   ]
  },
  {
   "cell_type": "code",
   "execution_count": 153,
   "id": "2ea34052",
   "metadata": {},
   "outputs": [],
   "source": [
    "mysent = ['I am from India and','I was going to Delhi last night when I saw']"
   ]
  },
  {
   "cell_type": "code",
   "execution_count": 159,
   "id": "f2e147b9",
   "metadata": {},
   "outputs": [
    {
     "name": "stderr",
     "output_type": "stream",
     "text": [
      "Setting `pad_token_id` to `eos_token_id`:50256 for open-end generation.\n",
      "Setting `pad_token_id` to `eos_token_id`:50256 for open-end generation.\n"
     ]
    },
    {
     "name": "stdout",
     "output_type": "stream",
     "text": [
      "[{'generated_text': 'I am from India and had a chance to speak to him about cricket. Today I want to congratulate him for beating the world champions. He is an absolute class. It says a lot that he is one of the best all over cricket in the world. He brings this to us from all walks of life. There is a lot of passion there. People are going to be disappointed if he does not play. He can play. What he says is a top class man, an example of why we'}]\n",
      "[{'generated_text': 'I was going to Delhi last night when I saw two bodies that were found under the bridge. The bodies were covered with blood which took over a very long time to remove. When I was getting ready to leave by 8 pm we were met with people begging who should have contacted police as police said they have no evidence and could not give names of those involved. This came as my party had been fighting for 40 days and I came up with a plan but the people decided not to join us, I'}]\n"
     ]
    }
   ],
   "source": [
    "for sent in mysent:\n",
    "    print(mypipe(sent,max_length=100,skip_special_tokens=True))"
   ]
  },
  {
   "cell_type": "code",
   "execution_count": 160,
   "id": "f778d00b",
   "metadata": {},
   "outputs": [
    {
     "data": {
      "text/plain": [
       "'Where is earth located?'"
      ]
     },
     "execution_count": 160,
     "metadata": {},
     "output_type": "execute_result"
    }
   ],
   "source": []
  },
  {
   "cell_type": "markdown",
   "id": "f9adcaef",
   "metadata": {},
   "source": [
    "## Extract feature from the model and use as feature set in another model"
   ]
  },
  {
   "cell_type": "code",
   "execution_count": 194,
   "id": "f364df7d",
   "metadata": {},
   "outputs": [],
   "source": [
    "mypipe=pipeline('feature-extraction', model=model, \n",
    "                tokenizer=tokenizer)\n",
    "mysent = 'Toronto is Canada Capital'\n",
    "features = mypipe(mysent,\n",
    "                pad_to_max_length=True)\n",
    "features = np.squeeze(features)"
   ]
  },
  {
   "cell_type": "code",
   "execution_count": 195,
   "id": "a351c092",
   "metadata": {},
   "outputs": [
    {
     "data": {
      "text/plain": [
       "array([-51.36600494, -50.83045959, -57.08375549, ..., -56.15225983,\n",
       "       -57.11901855, -52.53406906])"
      ]
     },
     "execution_count": 195,
     "metadata": {},
     "output_type": "execute_result"
    }
   ],
   "source": [
    "features[0]"
   ]
  },
  {
   "cell_type": "code",
   "execution_count": null,
   "id": "74214e49",
   "metadata": {},
   "outputs": [],
   "source": []
  },
  {
   "cell_type": "markdown",
   "id": "46f40c96",
   "metadata": {},
   "source": [
    "## for Text2TextGeneration: \n",
    "*    https://theaidigest.in/text2textgeneration-pipeline-by-huggingface-transformers/"
   ]
  },
  {
   "cell_type": "code",
   "execution_count": null,
   "id": "af41b69b",
   "metadata": {},
   "outputs": [],
   "source": []
  }
 ],
 "metadata": {
  "kernelspec": {
   "display_name": "Python 3",
   "language": "python",
   "name": "python3"
  },
  "language_info": {
   "codemirror_mode": {
    "name": "ipython",
    "version": 3
   },
   "file_extension": ".py",
   "mimetype": "text/x-python",
   "name": "python",
   "nbconvert_exporter": "python",
   "pygments_lexer": "ipython3",
   "version": "3.7.10"
  }
 },
 "nbformat": 4,
 "nbformat_minor": 5
}
